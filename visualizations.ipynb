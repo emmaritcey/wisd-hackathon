{
 "cells": [
  {
   "cell_type": "code",
   "execution_count": 1,
   "metadata": {},
   "outputs": [],
   "source": [
    "import pandas as pd\n",
    "import plotly.express as px"
   ]
  },
  {
   "cell_type": "code",
   "execution_count": 2,
   "metadata": {},
   "outputs": [
    {
     "data": {
      "text/html": [
       "<div>\n",
       "<style scoped>\n",
       "    .dataframe tbody tr th:only-of-type {\n",
       "        vertical-align: middle;\n",
       "    }\n",
       "\n",
       "    .dataframe tbody tr th {\n",
       "        vertical-align: top;\n",
       "    }\n",
       "\n",
       "    .dataframe thead th {\n",
       "        text-align: right;\n",
       "    }\n",
       "</style>\n",
       "<table border=\"1\" class=\"dataframe\">\n",
       "  <thead>\n",
       "    <tr style=\"text-align: right;\">\n",
       "      <th></th>\n",
       "      <th>Pass Index</th>\n",
       "      <th>Pass Time</th>\n",
       "      <th>Pass Distance</th>\n",
       "      <th>Ground Made Up</th>\n",
       "      <th># Defenders Passed</th>\n",
       "      <th>Passer</th>\n",
       "      <th>Transition Index</th>\n",
       "      <th>Transition Trigger</th>\n",
       "      <th>Outcome</th>\n",
       "      <th>OutcomeMSG</th>\n",
       "      <th>OutcomeMSGaction</th>\n",
       "      <th>Team Id</th>\n",
       "      <th>Game Id</th>\n",
       "    </tr>\n",
       "  </thead>\n",
       "  <tbody>\n",
       "    <tr>\n",
       "      <th>0</th>\n",
       "      <td>33</td>\n",
       "      <td>1.32</td>\n",
       "      <td>(13.96, 16.2, 21.39)</td>\n",
       "      <td>[-25.41   5.89  33.69  56.86 -42.5 ]</td>\n",
       "      <td>2.0</td>\n",
       "      <td>Jayson Tatum</td>\n",
       "      <td>1</td>\n",
       "      <td>TO</td>\n",
       "      <td>shot</td>\n",
       "      <td>6.0</td>\n",
       "      <td>2.0</td>\n",
       "      <td>feb4cb57-89ef-11e6-86b2-a45e60e298d3</td>\n",
       "      <td>31cb8a55-0ee0-4d47-aa38-4f512e54e763</td>\n",
       "    </tr>\n",
       "    <tr>\n",
       "      <th>1</th>\n",
       "      <td>85</td>\n",
       "      <td>3.40</td>\n",
       "      <td>(5.24, -9.68, 11.01)</td>\n",
       "      <td>[ 20.56  24.78 -20.14   3.38 -26.38]</td>\n",
       "      <td>1.0</td>\n",
       "      <td>Jaylen Brown</td>\n",
       "      <td>1</td>\n",
       "      <td>TO</td>\n",
       "      <td>shot</td>\n",
       "      <td>6.0</td>\n",
       "      <td>2.0</td>\n",
       "      <td>feb4cb57-89ef-11e6-86b2-a45e60e298d3</td>\n",
       "      <td>31cb8a55-0ee0-4d47-aa38-4f512e54e763</td>\n",
       "    </tr>\n",
       "    <tr>\n",
       "      <th>2</th>\n",
       "      <td>122</td>\n",
       "      <td>4.88</td>\n",
       "      <td>(0.45, 3.61, 3.64)</td>\n",
       "      <td>[-30.87   5.27  -9.13  -8.12  34.9 ]</td>\n",
       "      <td>2.0</td>\n",
       "      <td>Jayson Tatum</td>\n",
       "      <td>1</td>\n",
       "      <td>TO</td>\n",
       "      <td>shot</td>\n",
       "      <td>6.0</td>\n",
       "      <td>2.0</td>\n",
       "      <td>feb4cb57-89ef-11e6-86b2-a45e60e298d3</td>\n",
       "      <td>31cb8a55-0ee0-4d47-aa38-4f512e54e763</td>\n",
       "    </tr>\n",
       "    <tr>\n",
       "      <th>3</th>\n",
       "      <td>55</td>\n",
       "      <td>2.20</td>\n",
       "      <td>(28.88, 7.22, 29.77)</td>\n",
       "      <td>[23.71 19.17 19.2  18.31 16.64]</td>\n",
       "      <td>2.0</td>\n",
       "      <td>Derrick White</td>\n",
       "      <td>2</td>\n",
       "      <td>TO</td>\n",
       "      <td>shot</td>\n",
       "      <td>1.0</td>\n",
       "      <td>41.0</td>\n",
       "      <td>feb4cb57-89ef-11e6-86b2-a45e60e298d3</td>\n",
       "      <td>31cb8a55-0ee0-4d47-aa38-4f512e54e763</td>\n",
       "    </tr>\n",
       "    <tr>\n",
       "      <th>4</th>\n",
       "      <td>181</td>\n",
       "      <td>7.24</td>\n",
       "      <td>(10.85, -20.48, 23.18)</td>\n",
       "      <td>[11.91  8.62  7.33 12.29  5.93]</td>\n",
       "      <td>1.0</td>\n",
       "      <td>Jaylen Brown</td>\n",
       "      <td>3</td>\n",
       "      <td>TO</td>\n",
       "      <td>no shot</td>\n",
       "      <td>NaN</td>\n",
       "      <td>NaN</td>\n",
       "      <td>feb4cb57-89ef-11e6-86b2-a45e60e298d3</td>\n",
       "      <td>31cb8a55-0ee0-4d47-aa38-4f512e54e763</td>\n",
       "    </tr>\n",
       "  </tbody>\n",
       "</table>\n",
       "</div>"
      ],
      "text/plain": [
       "   Pass Index  Pass Time           Pass Distance  \\\n",
       "0          33       1.32    (13.96, 16.2, 21.39)   \n",
       "1          85       3.40    (5.24, -9.68, 11.01)   \n",
       "2         122       4.88      (0.45, 3.61, 3.64)   \n",
       "3          55       2.20    (28.88, 7.22, 29.77)   \n",
       "4         181       7.24  (10.85, -20.48, 23.18)   \n",
       "\n",
       "                         Ground Made Up  # Defenders Passed         Passer  \\\n",
       "0  [-25.41   5.89  33.69  56.86 -42.5 ]                 2.0   Jayson Tatum   \n",
       "1  [ 20.56  24.78 -20.14   3.38 -26.38]                 1.0   Jaylen Brown   \n",
       "2  [-30.87   5.27  -9.13  -8.12  34.9 ]                 2.0   Jayson Tatum   \n",
       "3       [23.71 19.17 19.2  18.31 16.64]                 2.0  Derrick White   \n",
       "4       [11.91  8.62  7.33 12.29  5.93]                 1.0   Jaylen Brown   \n",
       "\n",
       "   Transition Index Transition Trigger  Outcome  OutcomeMSG  OutcomeMSGaction  \\\n",
       "0                 1                 TO     shot         6.0               2.0   \n",
       "1                 1                 TO     shot         6.0               2.0   \n",
       "2                 1                 TO     shot         6.0               2.0   \n",
       "3                 2                 TO     shot         1.0              41.0   \n",
       "4                 3                 TO  no shot         NaN               NaN   \n",
       "\n",
       "                                Team Id                               Game Id  \n",
       "0  feb4cb57-89ef-11e6-86b2-a45e60e298d3  31cb8a55-0ee0-4d47-aa38-4f512e54e763  \n",
       "1  feb4cb57-89ef-11e6-86b2-a45e60e298d3  31cb8a55-0ee0-4d47-aa38-4f512e54e763  \n",
       "2  feb4cb57-89ef-11e6-86b2-a45e60e298d3  31cb8a55-0ee0-4d47-aa38-4f512e54e763  \n",
       "3  feb4cb57-89ef-11e6-86b2-a45e60e298d3  31cb8a55-0ee0-4d47-aa38-4f512e54e763  \n",
       "4  feb4cb57-89ef-11e6-86b2-a45e60e298d3  31cb8a55-0ee0-4d47-aa38-4f512e54e763  "
      ]
     },
     "execution_count": 2,
     "metadata": {},
     "output_type": "execute_result"
    }
   ],
   "source": [
    "df = pd.read_csv('data/transition/pass_stats.csv')\n",
    "df.head()"
   ]
  },
  {
   "cell_type": "code",
   "execution_count": 29,
   "metadata": {},
   "outputs": [],
   "source": [
    "means_player = df.groupby(['Passer'])['# Defenders Passed'].mean() #number of defenders passed per pass in transition on average\n",
    "sums_player = df.groupby(['Passer'])['# Defenders Passed'].sum() #total number of defenders passed in transition from all passes\n",
    "num_passes_player = df.groupby(['Passer'])['# Defenders Passed'].count() #total number of passess made in transition\n",
    "\n",
    "means_team = df.groupby(['Team Id'])['# Defenders Passed'].mean()\n",
    "sums_team = df.groupby(['Team Id'])['# Defenders Passed'].sum()\n",
    "num_passes_team = df.groupby(['Team Id'])['# Defenders Passed'].count()"
   ]
  },
  {
   "cell_type": "code",
   "execution_count": 7,
   "metadata": {},
   "outputs": [
    {
     "data": {
      "application/vnd.plotly.v1+json": {
       "config": {
        "plotlyServerURL": "https://plot.ly"
       },
       "data": [
        {
         "hovertemplate": "x=%{x}<br>y=%{y}<extra></extra>",
         "legendgroup": "",
         "marker": {
          "color": "#636efa",
          "symbol": "circle"
         },
         "mode": "markers",
         "name": "",
         "orientation": "v",
         "showlegend": false,
         "type": "scatter",
         "x": [
          "Aaron Nesmith",
          "Al Horford",
          "Andre Iguodala",
          "Andrew Wiggins",
          "Bam Adebayo",
          "Caleb Martin",
          "Damion Lee",
          "Daniel Theis",
          "Davis Bertans",
          "Derrick White",
          "Dewayne Dedmon",
          "Dorian Finney-Smith",
          "Draymond Green",
          "Duncan Robinson",
          "Dwight Powell",
          "Frank Ntilikina",
          "Gabe Vincent",
          "Gary Payton II",
          "Grant Williams",
          "Haywood Highsmith",
          "Jalen Brunson",
          "Jaylen Brown",
          "Jayson Tatum",
          "Jimmy Butler",
          "Jonathan Kuminga",
          "Jordan Poole",
          "Josh Green",
          "Juan Toscano-Anderson",
          "Juwan Morgan",
          "Kevon Looney",
          "Klay Thompson",
          "Kyle Lowry",
          "Luka Doncic",
          "Luke Kornet",
          "Marcus Smart",
          "Max Strus",
          "Maxi Kleber",
          "Moses Moody",
          "Nemanja Bjelica",
          "Nik Stauskas",
          "Omer Yurtseven",
          "Otto Porter Jr.",
          "P.J. Tucker",
          "Payton Pritchard",
          "Reggie Bullock",
          "Robert Williams III",
          "Sam Hauser",
          "Spencer Dinwiddie",
          "Stephen Curry",
          "Sterling Brown",
          "Trey Burke",
          "Tyler Herro",
          "Victor Oladipo"
         ],
         "xaxis": "x",
         "y": [
          0.05555555555555555,
          0.3142857142857143,
          0,
          0.24770642201834864,
          0.16883116883116883,
          0.22727272727272727,
          0,
          0.037037037037037035,
          0.1,
          0.43333333333333335,
          0.2631578947368421,
          0.0784313725490196,
          0.24882629107981222,
          0.27586206896551724,
          0.08695652173913043,
          0,
          0.7297297297297297,
          0.06060606060606061,
          0.13793103448275862,
          0,
          0.3709677419354839,
          0.33766233766233766,
          0.5434782608695652,
          0.36619718309859156,
          1,
          0.6486486486486487,
          0,
          0.3333333333333333,
          0,
          0.1271186440677966,
          0.5138888888888888,
          0.6231884057971014,
          0.3548387096774194,
          0,
          0.6012269938650306,
          0.19672131147540983,
          0.2608695652173913,
          0.09090909090909091,
          0.3055555555555556,
          0.2222222222222222,
          0.4,
          0.21739130434782608,
          0.1956521739130435,
          0.5285714285714286,
          0.19148936170212766,
          0.15447154471544716,
          0.3333333333333333,
          0.2972972972972973,
          1.1379310344827587,
          0.6,
          0,
          0.3333333333333333,
          0.24444444444444444
         ],
         "yaxis": "y"
        }
       ],
       "layout": {
        "height": 500,
        "legend": {
         "tracegroupgap": 0
        },
        "margin": {
         "t": 60
        },
        "template": {
         "data": {
          "bar": [
           {
            "error_x": {
             "color": "#2a3f5f"
            },
            "error_y": {
             "color": "#2a3f5f"
            },
            "marker": {
             "line": {
              "color": "#E5ECF6",
              "width": 0.5
             },
             "pattern": {
              "fillmode": "overlay",
              "size": 10,
              "solidity": 0.2
             }
            },
            "type": "bar"
           }
          ],
          "barpolar": [
           {
            "marker": {
             "line": {
              "color": "#E5ECF6",
              "width": 0.5
             },
             "pattern": {
              "fillmode": "overlay",
              "size": 10,
              "solidity": 0.2
             }
            },
            "type": "barpolar"
           }
          ],
          "carpet": [
           {
            "aaxis": {
             "endlinecolor": "#2a3f5f",
             "gridcolor": "white",
             "linecolor": "white",
             "minorgridcolor": "white",
             "startlinecolor": "#2a3f5f"
            },
            "baxis": {
             "endlinecolor": "#2a3f5f",
             "gridcolor": "white",
             "linecolor": "white",
             "minorgridcolor": "white",
             "startlinecolor": "#2a3f5f"
            },
            "type": "carpet"
           }
          ],
          "choropleth": [
           {
            "colorbar": {
             "outlinewidth": 0,
             "ticks": ""
            },
            "type": "choropleth"
           }
          ],
          "contour": [
           {
            "colorbar": {
             "outlinewidth": 0,
             "ticks": ""
            },
            "colorscale": [
             [
              0,
              "#0d0887"
             ],
             [
              0.1111111111111111,
              "#46039f"
             ],
             [
              0.2222222222222222,
              "#7201a8"
             ],
             [
              0.3333333333333333,
              "#9c179e"
             ],
             [
              0.4444444444444444,
              "#bd3786"
             ],
             [
              0.5555555555555556,
              "#d8576b"
             ],
             [
              0.6666666666666666,
              "#ed7953"
             ],
             [
              0.7777777777777778,
              "#fb9f3a"
             ],
             [
              0.8888888888888888,
              "#fdca26"
             ],
             [
              1,
              "#f0f921"
             ]
            ],
            "type": "contour"
           }
          ],
          "contourcarpet": [
           {
            "colorbar": {
             "outlinewidth": 0,
             "ticks": ""
            },
            "type": "contourcarpet"
           }
          ],
          "heatmap": [
           {
            "colorbar": {
             "outlinewidth": 0,
             "ticks": ""
            },
            "colorscale": [
             [
              0,
              "#0d0887"
             ],
             [
              0.1111111111111111,
              "#46039f"
             ],
             [
              0.2222222222222222,
              "#7201a8"
             ],
             [
              0.3333333333333333,
              "#9c179e"
             ],
             [
              0.4444444444444444,
              "#bd3786"
             ],
             [
              0.5555555555555556,
              "#d8576b"
             ],
             [
              0.6666666666666666,
              "#ed7953"
             ],
             [
              0.7777777777777778,
              "#fb9f3a"
             ],
             [
              0.8888888888888888,
              "#fdca26"
             ],
             [
              1,
              "#f0f921"
             ]
            ],
            "type": "heatmap"
           }
          ],
          "heatmapgl": [
           {
            "colorbar": {
             "outlinewidth": 0,
             "ticks": ""
            },
            "colorscale": [
             [
              0,
              "#0d0887"
             ],
             [
              0.1111111111111111,
              "#46039f"
             ],
             [
              0.2222222222222222,
              "#7201a8"
             ],
             [
              0.3333333333333333,
              "#9c179e"
             ],
             [
              0.4444444444444444,
              "#bd3786"
             ],
             [
              0.5555555555555556,
              "#d8576b"
             ],
             [
              0.6666666666666666,
              "#ed7953"
             ],
             [
              0.7777777777777778,
              "#fb9f3a"
             ],
             [
              0.8888888888888888,
              "#fdca26"
             ],
             [
              1,
              "#f0f921"
             ]
            ],
            "type": "heatmapgl"
           }
          ],
          "histogram": [
           {
            "marker": {
             "pattern": {
              "fillmode": "overlay",
              "size": 10,
              "solidity": 0.2
             }
            },
            "type": "histogram"
           }
          ],
          "histogram2d": [
           {
            "colorbar": {
             "outlinewidth": 0,
             "ticks": ""
            },
            "colorscale": [
             [
              0,
              "#0d0887"
             ],
             [
              0.1111111111111111,
              "#46039f"
             ],
             [
              0.2222222222222222,
              "#7201a8"
             ],
             [
              0.3333333333333333,
              "#9c179e"
             ],
             [
              0.4444444444444444,
              "#bd3786"
             ],
             [
              0.5555555555555556,
              "#d8576b"
             ],
             [
              0.6666666666666666,
              "#ed7953"
             ],
             [
              0.7777777777777778,
              "#fb9f3a"
             ],
             [
              0.8888888888888888,
              "#fdca26"
             ],
             [
              1,
              "#f0f921"
             ]
            ],
            "type": "histogram2d"
           }
          ],
          "histogram2dcontour": [
           {
            "colorbar": {
             "outlinewidth": 0,
             "ticks": ""
            },
            "colorscale": [
             [
              0,
              "#0d0887"
             ],
             [
              0.1111111111111111,
              "#46039f"
             ],
             [
              0.2222222222222222,
              "#7201a8"
             ],
             [
              0.3333333333333333,
              "#9c179e"
             ],
             [
              0.4444444444444444,
              "#bd3786"
             ],
             [
              0.5555555555555556,
              "#d8576b"
             ],
             [
              0.6666666666666666,
              "#ed7953"
             ],
             [
              0.7777777777777778,
              "#fb9f3a"
             ],
             [
              0.8888888888888888,
              "#fdca26"
             ],
             [
              1,
              "#f0f921"
             ]
            ],
            "type": "histogram2dcontour"
           }
          ],
          "mesh3d": [
           {
            "colorbar": {
             "outlinewidth": 0,
             "ticks": ""
            },
            "type": "mesh3d"
           }
          ],
          "parcoords": [
           {
            "line": {
             "colorbar": {
              "outlinewidth": 0,
              "ticks": ""
             }
            },
            "type": "parcoords"
           }
          ],
          "pie": [
           {
            "automargin": true,
            "type": "pie"
           }
          ],
          "scatter": [
           {
            "fillpattern": {
             "fillmode": "overlay",
             "size": 10,
             "solidity": 0.2
            },
            "type": "scatter"
           }
          ],
          "scatter3d": [
           {
            "line": {
             "colorbar": {
              "outlinewidth": 0,
              "ticks": ""
             }
            },
            "marker": {
             "colorbar": {
              "outlinewidth": 0,
              "ticks": ""
             }
            },
            "type": "scatter3d"
           }
          ],
          "scattercarpet": [
           {
            "marker": {
             "colorbar": {
              "outlinewidth": 0,
              "ticks": ""
             }
            },
            "type": "scattercarpet"
           }
          ],
          "scattergeo": [
           {
            "marker": {
             "colorbar": {
              "outlinewidth": 0,
              "ticks": ""
             }
            },
            "type": "scattergeo"
           }
          ],
          "scattergl": [
           {
            "marker": {
             "colorbar": {
              "outlinewidth": 0,
              "ticks": ""
             }
            },
            "type": "scattergl"
           }
          ],
          "scattermapbox": [
           {
            "marker": {
             "colorbar": {
              "outlinewidth": 0,
              "ticks": ""
             }
            },
            "type": "scattermapbox"
           }
          ],
          "scatterpolar": [
           {
            "marker": {
             "colorbar": {
              "outlinewidth": 0,
              "ticks": ""
             }
            },
            "type": "scatterpolar"
           }
          ],
          "scatterpolargl": [
           {
            "marker": {
             "colorbar": {
              "outlinewidth": 0,
              "ticks": ""
             }
            },
            "type": "scatterpolargl"
           }
          ],
          "scatterternary": [
           {
            "marker": {
             "colorbar": {
              "outlinewidth": 0,
              "ticks": ""
             }
            },
            "type": "scatterternary"
           }
          ],
          "surface": [
           {
            "colorbar": {
             "outlinewidth": 0,
             "ticks": ""
            },
            "colorscale": [
             [
              0,
              "#0d0887"
             ],
             [
              0.1111111111111111,
              "#46039f"
             ],
             [
              0.2222222222222222,
              "#7201a8"
             ],
             [
              0.3333333333333333,
              "#9c179e"
             ],
             [
              0.4444444444444444,
              "#bd3786"
             ],
             [
              0.5555555555555556,
              "#d8576b"
             ],
             [
              0.6666666666666666,
              "#ed7953"
             ],
             [
              0.7777777777777778,
              "#fb9f3a"
             ],
             [
              0.8888888888888888,
              "#fdca26"
             ],
             [
              1,
              "#f0f921"
             ]
            ],
            "type": "surface"
           }
          ],
          "table": [
           {
            "cells": {
             "fill": {
              "color": "#EBF0F8"
             },
             "line": {
              "color": "white"
             }
            },
            "header": {
             "fill": {
              "color": "#C8D4E3"
             },
             "line": {
              "color": "white"
             }
            },
            "type": "table"
           }
          ]
         },
         "layout": {
          "annotationdefaults": {
           "arrowcolor": "#2a3f5f",
           "arrowhead": 0,
           "arrowwidth": 1
          },
          "autotypenumbers": "strict",
          "coloraxis": {
           "colorbar": {
            "outlinewidth": 0,
            "ticks": ""
           }
          },
          "colorscale": {
           "diverging": [
            [
             0,
             "#8e0152"
            ],
            [
             0.1,
             "#c51b7d"
            ],
            [
             0.2,
             "#de77ae"
            ],
            [
             0.3,
             "#f1b6da"
            ],
            [
             0.4,
             "#fde0ef"
            ],
            [
             0.5,
             "#f7f7f7"
            ],
            [
             0.6,
             "#e6f5d0"
            ],
            [
             0.7,
             "#b8e186"
            ],
            [
             0.8,
             "#7fbc41"
            ],
            [
             0.9,
             "#4d9221"
            ],
            [
             1,
             "#276419"
            ]
           ],
           "sequential": [
            [
             0,
             "#0d0887"
            ],
            [
             0.1111111111111111,
             "#46039f"
            ],
            [
             0.2222222222222222,
             "#7201a8"
            ],
            [
             0.3333333333333333,
             "#9c179e"
            ],
            [
             0.4444444444444444,
             "#bd3786"
            ],
            [
             0.5555555555555556,
             "#d8576b"
            ],
            [
             0.6666666666666666,
             "#ed7953"
            ],
            [
             0.7777777777777778,
             "#fb9f3a"
            ],
            [
             0.8888888888888888,
             "#fdca26"
            ],
            [
             1,
             "#f0f921"
            ]
           ],
           "sequentialminus": [
            [
             0,
             "#0d0887"
            ],
            [
             0.1111111111111111,
             "#46039f"
            ],
            [
             0.2222222222222222,
             "#7201a8"
            ],
            [
             0.3333333333333333,
             "#9c179e"
            ],
            [
             0.4444444444444444,
             "#bd3786"
            ],
            [
             0.5555555555555556,
             "#d8576b"
            ],
            [
             0.6666666666666666,
             "#ed7953"
            ],
            [
             0.7777777777777778,
             "#fb9f3a"
            ],
            [
             0.8888888888888888,
             "#fdca26"
            ],
            [
             1,
             "#f0f921"
            ]
           ]
          },
          "colorway": [
           "#636efa",
           "#EF553B",
           "#00cc96",
           "#ab63fa",
           "#FFA15A",
           "#19d3f3",
           "#FF6692",
           "#B6E880",
           "#FF97FF",
           "#FECB52"
          ],
          "font": {
           "color": "#2a3f5f"
          },
          "geo": {
           "bgcolor": "white",
           "lakecolor": "white",
           "landcolor": "#E5ECF6",
           "showlakes": true,
           "showland": true,
           "subunitcolor": "white"
          },
          "hoverlabel": {
           "align": "left"
          },
          "hovermode": "closest",
          "mapbox": {
           "style": "light"
          },
          "paper_bgcolor": "white",
          "plot_bgcolor": "#E5ECF6",
          "polar": {
           "angularaxis": {
            "gridcolor": "white",
            "linecolor": "white",
            "ticks": ""
           },
           "bgcolor": "#E5ECF6",
           "radialaxis": {
            "gridcolor": "white",
            "linecolor": "white",
            "ticks": ""
           }
          },
          "scene": {
           "xaxis": {
            "backgroundcolor": "#E5ECF6",
            "gridcolor": "white",
            "gridwidth": 2,
            "linecolor": "white",
            "showbackground": true,
            "ticks": "",
            "zerolinecolor": "white"
           },
           "yaxis": {
            "backgroundcolor": "#E5ECF6",
            "gridcolor": "white",
            "gridwidth": 2,
            "linecolor": "white",
            "showbackground": true,
            "ticks": "",
            "zerolinecolor": "white"
           },
           "zaxis": {
            "backgroundcolor": "#E5ECF6",
            "gridcolor": "white",
            "gridwidth": 2,
            "linecolor": "white",
            "showbackground": true,
            "ticks": "",
            "zerolinecolor": "white"
           }
          },
          "shapedefaults": {
           "line": {
            "color": "#2a3f5f"
           }
          },
          "ternary": {
           "aaxis": {
            "gridcolor": "white",
            "linecolor": "white",
            "ticks": ""
           },
           "baxis": {
            "gridcolor": "white",
            "linecolor": "white",
            "ticks": ""
           },
           "bgcolor": "#E5ECF6",
           "caxis": {
            "gridcolor": "white",
            "linecolor": "white",
            "ticks": ""
           }
          },
          "title": {
           "x": 0.05
          },
          "xaxis": {
           "automargin": true,
           "gridcolor": "white",
           "linecolor": "white",
           "ticks": "",
           "title": {
            "standoff": 15
           },
           "zerolinecolor": "white",
           "zerolinewidth": 2
          },
          "yaxis": {
           "automargin": true,
           "gridcolor": "white",
           "linecolor": "white",
           "ticks": "",
           "title": {
            "standoff": 15
           },
           "zerolinecolor": "white",
           "zerolinewidth": 2
          }
         }
        },
        "title": {
         "text": "Mean Defenders Passed On the Pass",
         "x": 0.5
        },
        "width": 1200,
        "xaxis": {
         "anchor": "y",
         "domain": [
          0,
          1
         ],
         "title": {
          "text": "Player"
         }
        },
        "yaxis": {
         "anchor": "x",
         "domain": [
          0,
          1
         ],
         "title": {
          "text": "y"
         }
        }
       }
      }
     },
     "metadata": {},
     "output_type": "display_data"
    }
   ],
   "source": [
    "fig = px.scatter(x = means_player.index, y = means_player.values)\n",
    "fig.update_layout(width=1200, height=500,  \n",
    "                  title='Mean Defenders Passed On the Pass', title_x=0.5,\n",
    "                  xaxis_title=\"Player\") #template='plotly_dark',\n",
    "#fig.update_traces(textfont_size=11, marker=dict(size=10), textposition=improve_text_position(df['reb']))\n",
    "fig.show()"
   ]
  },
  {
   "cell_type": "code",
   "execution_count": 26,
   "metadata": {},
   "outputs": [
    {
     "data": {
      "application/vnd.plotly.v1+json": {
       "config": {
        "plotlyServerURL": "https://plot.ly"
       },
       "data": [
        {
         "hovertemplate": "x=%{x}<br>y=%{y}<br>text=%{text}<extra></extra>",
         "legendgroup": "",
         "marker": {
          "color": "#636efa",
          "symbol": "circle"
         },
         "mode": "markers+text",
         "name": "",
         "orientation": "v",
         "showlegend": false,
         "text": [
          "Aaron Nesmith",
          "Al Horford",
          "Andre Iguodala",
          "Andrew Wiggins",
          "Bam Adebayo",
          "Caleb Martin",
          "Damion Lee",
          "Daniel Theis",
          "Davis Bertans",
          "Derrick White",
          "Dewayne Dedmon",
          "Dorian Finney-Smith",
          "Draymond Green",
          "Duncan Robinson",
          "Dwight Powell",
          "Frank Ntilikina",
          "Gabe Vincent",
          "Gary Payton II",
          "Grant Williams",
          "Haywood Highsmith",
          "Jalen Brunson",
          "Jaylen Brown",
          "Jayson Tatum",
          "Jimmy Butler",
          "Jonathan Kuminga",
          "Jordan Poole",
          "Josh Green",
          "Juan Toscano-Anderson",
          "Juwan Morgan",
          "Kevon Looney",
          "Klay Thompson",
          "Kyle Lowry",
          "Luka Doncic",
          "Luke Kornet",
          "Marcus Smart",
          "Max Strus",
          "Maxi Kleber",
          "Moses Moody",
          "Nemanja Bjelica",
          "Nik Stauskas",
          "Omer Yurtseven",
          "Otto Porter Jr.",
          "P.J. Tucker",
          "Payton Pritchard",
          "Reggie Bullock",
          "Robert Williams III",
          "Sam Hauser",
          "Spencer Dinwiddie",
          "Stephen Curry",
          "Sterling Brown",
          "Trey Burke",
          "Tyler Herro",
          "Victor Oladipo"
         ],
         "textposition": "top center",
         "type": "scatter",
         "x": [
          0.05555555555555555,
          0.3142857142857143,
          0,
          0.24770642201834864,
          0.16883116883116883,
          0.22727272727272727,
          0,
          0.037037037037037035,
          0.1,
          0.43333333333333335,
          0.2631578947368421,
          0.0784313725490196,
          0.24882629107981222,
          0.27586206896551724,
          0.08695652173913043,
          0,
          0.7297297297297297,
          0.06060606060606061,
          0.13793103448275862,
          0,
          0.3709677419354839,
          0.33766233766233766,
          0.5434782608695652,
          0.36619718309859156,
          1,
          0.6486486486486487,
          0,
          0.3333333333333333,
          0,
          0.1271186440677966,
          0.5138888888888888,
          0.6231884057971014,
          0.3548387096774194,
          0,
          0.6012269938650306,
          0.19672131147540983,
          0.2608695652173913,
          0.09090909090909091,
          0.3055555555555556,
          0.2222222222222222,
          0.4,
          0.21739130434782608,
          0.1956521739130435,
          0.5285714285714286,
          0.19148936170212766,
          0.15447154471544716,
          0.3333333333333333,
          0.2972972972972973,
          1.1379310344827587,
          0.6,
          0,
          0.3333333333333333,
          0.24444444444444444
         ],
         "xaxis": "x",
         "y": [
          1,
          77,
          0,
          27,
          13,
          5,
          0,
          1,
          2,
          39,
          5,
          4,
          53,
          8,
          2,
          0,
          27,
          2,
          12,
          0,
          23,
          52,
          100,
          26,
          8,
          48,
          0,
          2,
          0,
          15,
          37,
          43,
          22,
          0,
          98,
          12,
          18,
          1,
          11,
          2,
          2,
          15,
          9,
          37,
          9,
          19,
          1,
          11,
          132,
          3,
          0,
          8,
          11
         ],
         "yaxis": "y"
        }
       ],
       "layout": {
        "height": 500,
        "legend": {
         "tracegroupgap": 0
        },
        "margin": {
         "t": 60
        },
        "template": {
         "data": {
          "bar": [
           {
            "error_x": {
             "color": "#2a3f5f"
            },
            "error_y": {
             "color": "#2a3f5f"
            },
            "marker": {
             "line": {
              "color": "#E5ECF6",
              "width": 0.5
             },
             "pattern": {
              "fillmode": "overlay",
              "size": 10,
              "solidity": 0.2
             }
            },
            "type": "bar"
           }
          ],
          "barpolar": [
           {
            "marker": {
             "line": {
              "color": "#E5ECF6",
              "width": 0.5
             },
             "pattern": {
              "fillmode": "overlay",
              "size": 10,
              "solidity": 0.2
             }
            },
            "type": "barpolar"
           }
          ],
          "carpet": [
           {
            "aaxis": {
             "endlinecolor": "#2a3f5f",
             "gridcolor": "white",
             "linecolor": "white",
             "minorgridcolor": "white",
             "startlinecolor": "#2a3f5f"
            },
            "baxis": {
             "endlinecolor": "#2a3f5f",
             "gridcolor": "white",
             "linecolor": "white",
             "minorgridcolor": "white",
             "startlinecolor": "#2a3f5f"
            },
            "type": "carpet"
           }
          ],
          "choropleth": [
           {
            "colorbar": {
             "outlinewidth": 0,
             "ticks": ""
            },
            "type": "choropleth"
           }
          ],
          "contour": [
           {
            "colorbar": {
             "outlinewidth": 0,
             "ticks": ""
            },
            "colorscale": [
             [
              0,
              "#0d0887"
             ],
             [
              0.1111111111111111,
              "#46039f"
             ],
             [
              0.2222222222222222,
              "#7201a8"
             ],
             [
              0.3333333333333333,
              "#9c179e"
             ],
             [
              0.4444444444444444,
              "#bd3786"
             ],
             [
              0.5555555555555556,
              "#d8576b"
             ],
             [
              0.6666666666666666,
              "#ed7953"
             ],
             [
              0.7777777777777778,
              "#fb9f3a"
             ],
             [
              0.8888888888888888,
              "#fdca26"
             ],
             [
              1,
              "#f0f921"
             ]
            ],
            "type": "contour"
           }
          ],
          "contourcarpet": [
           {
            "colorbar": {
             "outlinewidth": 0,
             "ticks": ""
            },
            "type": "contourcarpet"
           }
          ],
          "heatmap": [
           {
            "colorbar": {
             "outlinewidth": 0,
             "ticks": ""
            },
            "colorscale": [
             [
              0,
              "#0d0887"
             ],
             [
              0.1111111111111111,
              "#46039f"
             ],
             [
              0.2222222222222222,
              "#7201a8"
             ],
             [
              0.3333333333333333,
              "#9c179e"
             ],
             [
              0.4444444444444444,
              "#bd3786"
             ],
             [
              0.5555555555555556,
              "#d8576b"
             ],
             [
              0.6666666666666666,
              "#ed7953"
             ],
             [
              0.7777777777777778,
              "#fb9f3a"
             ],
             [
              0.8888888888888888,
              "#fdca26"
             ],
             [
              1,
              "#f0f921"
             ]
            ],
            "type": "heatmap"
           }
          ],
          "heatmapgl": [
           {
            "colorbar": {
             "outlinewidth": 0,
             "ticks": ""
            },
            "colorscale": [
             [
              0,
              "#0d0887"
             ],
             [
              0.1111111111111111,
              "#46039f"
             ],
             [
              0.2222222222222222,
              "#7201a8"
             ],
             [
              0.3333333333333333,
              "#9c179e"
             ],
             [
              0.4444444444444444,
              "#bd3786"
             ],
             [
              0.5555555555555556,
              "#d8576b"
             ],
             [
              0.6666666666666666,
              "#ed7953"
             ],
             [
              0.7777777777777778,
              "#fb9f3a"
             ],
             [
              0.8888888888888888,
              "#fdca26"
             ],
             [
              1,
              "#f0f921"
             ]
            ],
            "type": "heatmapgl"
           }
          ],
          "histogram": [
           {
            "marker": {
             "pattern": {
              "fillmode": "overlay",
              "size": 10,
              "solidity": 0.2
             }
            },
            "type": "histogram"
           }
          ],
          "histogram2d": [
           {
            "colorbar": {
             "outlinewidth": 0,
             "ticks": ""
            },
            "colorscale": [
             [
              0,
              "#0d0887"
             ],
             [
              0.1111111111111111,
              "#46039f"
             ],
             [
              0.2222222222222222,
              "#7201a8"
             ],
             [
              0.3333333333333333,
              "#9c179e"
             ],
             [
              0.4444444444444444,
              "#bd3786"
             ],
             [
              0.5555555555555556,
              "#d8576b"
             ],
             [
              0.6666666666666666,
              "#ed7953"
             ],
             [
              0.7777777777777778,
              "#fb9f3a"
             ],
             [
              0.8888888888888888,
              "#fdca26"
             ],
             [
              1,
              "#f0f921"
             ]
            ],
            "type": "histogram2d"
           }
          ],
          "histogram2dcontour": [
           {
            "colorbar": {
             "outlinewidth": 0,
             "ticks": ""
            },
            "colorscale": [
             [
              0,
              "#0d0887"
             ],
             [
              0.1111111111111111,
              "#46039f"
             ],
             [
              0.2222222222222222,
              "#7201a8"
             ],
             [
              0.3333333333333333,
              "#9c179e"
             ],
             [
              0.4444444444444444,
              "#bd3786"
             ],
             [
              0.5555555555555556,
              "#d8576b"
             ],
             [
              0.6666666666666666,
              "#ed7953"
             ],
             [
              0.7777777777777778,
              "#fb9f3a"
             ],
             [
              0.8888888888888888,
              "#fdca26"
             ],
             [
              1,
              "#f0f921"
             ]
            ],
            "type": "histogram2dcontour"
           }
          ],
          "mesh3d": [
           {
            "colorbar": {
             "outlinewidth": 0,
             "ticks": ""
            },
            "type": "mesh3d"
           }
          ],
          "parcoords": [
           {
            "line": {
             "colorbar": {
              "outlinewidth": 0,
              "ticks": ""
             }
            },
            "type": "parcoords"
           }
          ],
          "pie": [
           {
            "automargin": true,
            "type": "pie"
           }
          ],
          "scatter": [
           {
            "fillpattern": {
             "fillmode": "overlay",
             "size": 10,
             "solidity": 0.2
            },
            "type": "scatter"
           }
          ],
          "scatter3d": [
           {
            "line": {
             "colorbar": {
              "outlinewidth": 0,
              "ticks": ""
             }
            },
            "marker": {
             "colorbar": {
              "outlinewidth": 0,
              "ticks": ""
             }
            },
            "type": "scatter3d"
           }
          ],
          "scattercarpet": [
           {
            "marker": {
             "colorbar": {
              "outlinewidth": 0,
              "ticks": ""
             }
            },
            "type": "scattercarpet"
           }
          ],
          "scattergeo": [
           {
            "marker": {
             "colorbar": {
              "outlinewidth": 0,
              "ticks": ""
             }
            },
            "type": "scattergeo"
           }
          ],
          "scattergl": [
           {
            "marker": {
             "colorbar": {
              "outlinewidth": 0,
              "ticks": ""
             }
            },
            "type": "scattergl"
           }
          ],
          "scattermapbox": [
           {
            "marker": {
             "colorbar": {
              "outlinewidth": 0,
              "ticks": ""
             }
            },
            "type": "scattermapbox"
           }
          ],
          "scatterpolar": [
           {
            "marker": {
             "colorbar": {
              "outlinewidth": 0,
              "ticks": ""
             }
            },
            "type": "scatterpolar"
           }
          ],
          "scatterpolargl": [
           {
            "marker": {
             "colorbar": {
              "outlinewidth": 0,
              "ticks": ""
             }
            },
            "type": "scatterpolargl"
           }
          ],
          "scatterternary": [
           {
            "marker": {
             "colorbar": {
              "outlinewidth": 0,
              "ticks": ""
             }
            },
            "type": "scatterternary"
           }
          ],
          "surface": [
           {
            "colorbar": {
             "outlinewidth": 0,
             "ticks": ""
            },
            "colorscale": [
             [
              0,
              "#0d0887"
             ],
             [
              0.1111111111111111,
              "#46039f"
             ],
             [
              0.2222222222222222,
              "#7201a8"
             ],
             [
              0.3333333333333333,
              "#9c179e"
             ],
             [
              0.4444444444444444,
              "#bd3786"
             ],
             [
              0.5555555555555556,
              "#d8576b"
             ],
             [
              0.6666666666666666,
              "#ed7953"
             ],
             [
              0.7777777777777778,
              "#fb9f3a"
             ],
             [
              0.8888888888888888,
              "#fdca26"
             ],
             [
              1,
              "#f0f921"
             ]
            ],
            "type": "surface"
           }
          ],
          "table": [
           {
            "cells": {
             "fill": {
              "color": "#EBF0F8"
             },
             "line": {
              "color": "white"
             }
            },
            "header": {
             "fill": {
              "color": "#C8D4E3"
             },
             "line": {
              "color": "white"
             }
            },
            "type": "table"
           }
          ]
         },
         "layout": {
          "annotationdefaults": {
           "arrowcolor": "#2a3f5f",
           "arrowhead": 0,
           "arrowwidth": 1
          },
          "autotypenumbers": "strict",
          "coloraxis": {
           "colorbar": {
            "outlinewidth": 0,
            "ticks": ""
           }
          },
          "colorscale": {
           "diverging": [
            [
             0,
             "#8e0152"
            ],
            [
             0.1,
             "#c51b7d"
            ],
            [
             0.2,
             "#de77ae"
            ],
            [
             0.3,
             "#f1b6da"
            ],
            [
             0.4,
             "#fde0ef"
            ],
            [
             0.5,
             "#f7f7f7"
            ],
            [
             0.6,
             "#e6f5d0"
            ],
            [
             0.7,
             "#b8e186"
            ],
            [
             0.8,
             "#7fbc41"
            ],
            [
             0.9,
             "#4d9221"
            ],
            [
             1,
             "#276419"
            ]
           ],
           "sequential": [
            [
             0,
             "#0d0887"
            ],
            [
             0.1111111111111111,
             "#46039f"
            ],
            [
             0.2222222222222222,
             "#7201a8"
            ],
            [
             0.3333333333333333,
             "#9c179e"
            ],
            [
             0.4444444444444444,
             "#bd3786"
            ],
            [
             0.5555555555555556,
             "#d8576b"
            ],
            [
             0.6666666666666666,
             "#ed7953"
            ],
            [
             0.7777777777777778,
             "#fb9f3a"
            ],
            [
             0.8888888888888888,
             "#fdca26"
            ],
            [
             1,
             "#f0f921"
            ]
           ],
           "sequentialminus": [
            [
             0,
             "#0d0887"
            ],
            [
             0.1111111111111111,
             "#46039f"
            ],
            [
             0.2222222222222222,
             "#7201a8"
            ],
            [
             0.3333333333333333,
             "#9c179e"
            ],
            [
             0.4444444444444444,
             "#bd3786"
            ],
            [
             0.5555555555555556,
             "#d8576b"
            ],
            [
             0.6666666666666666,
             "#ed7953"
            ],
            [
             0.7777777777777778,
             "#fb9f3a"
            ],
            [
             0.8888888888888888,
             "#fdca26"
            ],
            [
             1,
             "#f0f921"
            ]
           ]
          },
          "colorway": [
           "#636efa",
           "#EF553B",
           "#00cc96",
           "#ab63fa",
           "#FFA15A",
           "#19d3f3",
           "#FF6692",
           "#B6E880",
           "#FF97FF",
           "#FECB52"
          ],
          "font": {
           "color": "#2a3f5f"
          },
          "geo": {
           "bgcolor": "white",
           "lakecolor": "white",
           "landcolor": "#E5ECF6",
           "showlakes": true,
           "showland": true,
           "subunitcolor": "white"
          },
          "hoverlabel": {
           "align": "left"
          },
          "hovermode": "closest",
          "mapbox": {
           "style": "light"
          },
          "paper_bgcolor": "white",
          "plot_bgcolor": "#E5ECF6",
          "polar": {
           "angularaxis": {
            "gridcolor": "white",
            "linecolor": "white",
            "ticks": ""
           },
           "bgcolor": "#E5ECF6",
           "radialaxis": {
            "gridcolor": "white",
            "linecolor": "white",
            "ticks": ""
           }
          },
          "scene": {
           "xaxis": {
            "backgroundcolor": "#E5ECF6",
            "gridcolor": "white",
            "gridwidth": 2,
            "linecolor": "white",
            "showbackground": true,
            "ticks": "",
            "zerolinecolor": "white"
           },
           "yaxis": {
            "backgroundcolor": "#E5ECF6",
            "gridcolor": "white",
            "gridwidth": 2,
            "linecolor": "white",
            "showbackground": true,
            "ticks": "",
            "zerolinecolor": "white"
           },
           "zaxis": {
            "backgroundcolor": "#E5ECF6",
            "gridcolor": "white",
            "gridwidth": 2,
            "linecolor": "white",
            "showbackground": true,
            "ticks": "",
            "zerolinecolor": "white"
           }
          },
          "shapedefaults": {
           "line": {
            "color": "#2a3f5f"
           }
          },
          "ternary": {
           "aaxis": {
            "gridcolor": "white",
            "linecolor": "white",
            "ticks": ""
           },
           "baxis": {
            "gridcolor": "white",
            "linecolor": "white",
            "ticks": ""
           },
           "bgcolor": "#E5ECF6",
           "caxis": {
            "gridcolor": "white",
            "linecolor": "white",
            "ticks": ""
           }
          },
          "title": {
           "x": 0.05
          },
          "xaxis": {
           "automargin": true,
           "gridcolor": "white",
           "linecolor": "white",
           "ticks": "",
           "title": {
            "standoff": 15
           },
           "zerolinecolor": "white",
           "zerolinewidth": 2
          },
          "yaxis": {
           "automargin": true,
           "gridcolor": "white",
           "linecolor": "white",
           "ticks": "",
           "title": {
            "standoff": 15
           },
           "zerolinecolor": "white",
           "zerolinewidth": 2
          }
         }
        },
        "title": {
         "text": "Total vs Mean Defenders Passed",
         "x": 0.5
        },
        "width": 1200,
        "xaxis": {
         "anchor": "y",
         "domain": [
          0,
          1
         ],
         "title": {
          "text": "Mean"
         }
        },
        "yaxis": {
         "anchor": "x",
         "domain": [
          0,
          1
         ],
         "title": {
          "text": "Total"
         }
        }
       }
      }
     },
     "metadata": {},
     "output_type": "display_data"
    }
   ],
   "source": [
    "fig = px.scatter(x = means_player.values, y = sums_player.values, text = sums_player.index)\n",
    "fig.update_layout(width=1200, height=500,  \n",
    "                  title='Total vs Mean Defenders Passed', title_x=0.5,\n",
    "                  xaxis_title=\"Mean\", yaxis_title='Total') #template='plotly_dark',\n",
    "fig.update_traces(textposition='top center')\n",
    "#fig.update_traces(textfont_size=11, marker=dict(size=10), textposition=improve_text_position(df['reb']))\n",
    "fig.show()"
   ]
  },
  {
   "cell_type": "code",
   "execution_count": 27,
   "metadata": {},
   "outputs": [
    {
     "data": {
      "application/vnd.plotly.v1+json": {
       "config": {
        "plotlyServerURL": "https://plot.ly"
       },
       "data": [
        {
         "hovertemplate": "x=%{x}<br>y=%{y}<br>text=%{text}<extra></extra>",
         "legendgroup": "",
         "marker": {
          "color": "#636efa",
          "symbol": "circle"
         },
         "mode": "markers+text",
         "name": "",
         "orientation": "v",
         "showlegend": false,
         "text": [
          "Aaron Nesmith",
          "Al Horford",
          "Andre Iguodala",
          "Andrew Wiggins",
          "Bam Adebayo",
          "Caleb Martin",
          "Damion Lee",
          "Daniel Theis",
          "Davis Bertans",
          "Derrick White",
          "Dewayne Dedmon",
          "Dorian Finney-Smith",
          "Draymond Green",
          "Duncan Robinson",
          "Dwight Powell",
          "Frank Ntilikina",
          "Gabe Vincent",
          "Gary Payton II",
          "Grant Williams",
          "Haywood Highsmith",
          "Jalen Brunson",
          "Jaylen Brown",
          "Jayson Tatum",
          "Jimmy Butler",
          "Jonathan Kuminga",
          "Jordan Poole",
          "Josh Green",
          "Juan Toscano-Anderson",
          "Juwan Morgan",
          "Kevon Looney",
          "Klay Thompson",
          "Kyle Lowry",
          "Luka Doncic",
          "Luke Kornet",
          "Marcus Smart",
          "Max Strus",
          "Maxi Kleber",
          "Moses Moody",
          "Nemanja Bjelica",
          "Nik Stauskas",
          "Omer Yurtseven",
          "Otto Porter Jr.",
          "P.J. Tucker",
          "Payton Pritchard",
          "Reggie Bullock",
          "Robert Williams III",
          "Sam Hauser",
          "Spencer Dinwiddie",
          "Stephen Curry",
          "Sterling Brown",
          "Trey Burke",
          "Tyler Herro",
          "Victor Oladipo"
         ],
         "textposition": "top center",
         "type": "scatter",
         "x": [
          0.05555555555555555,
          0.3142857142857143,
          0,
          0.24770642201834864,
          0.16883116883116883,
          0.22727272727272727,
          0,
          0.037037037037037035,
          0.1,
          0.43333333333333335,
          0.2631578947368421,
          0.0784313725490196,
          0.24882629107981222,
          0.27586206896551724,
          0.08695652173913043,
          0,
          0.7297297297297297,
          0.06060606060606061,
          0.13793103448275862,
          0,
          0.3709677419354839,
          0.33766233766233766,
          0.5434782608695652,
          0.36619718309859156,
          1,
          0.6486486486486487,
          0,
          0.3333333333333333,
          0,
          0.1271186440677966,
          0.5138888888888888,
          0.6231884057971014,
          0.3548387096774194,
          0,
          0.6012269938650306,
          0.19672131147540983,
          0.2608695652173913,
          0.09090909090909091,
          0.3055555555555556,
          0.2222222222222222,
          0.4,
          0.21739130434782608,
          0.1956521739130435,
          0.5285714285714286,
          0.19148936170212766,
          0.15447154471544716,
          0.3333333333333333,
          0.2972972972972973,
          1.1379310344827587,
          0.6,
          0,
          0.3333333333333333,
          0.24444444444444444
         ],
         "xaxis": "x",
         "y": [
          18,
          245,
          3,
          109,
          77,
          22,
          14,
          27,
          20,
          90,
          19,
          51,
          213,
          29,
          23,
          15,
          37,
          33,
          87,
          4,
          62,
          154,
          184,
          71,
          8,
          74,
          3,
          6,
          1,
          118,
          72,
          69,
          62,
          4,
          163,
          61,
          69,
          11,
          36,
          9,
          5,
          69,
          46,
          70,
          47,
          123,
          3,
          37,
          116,
          5,
          1,
          24,
          45
         ],
         "yaxis": "y"
        }
       ],
       "layout": {
        "height": 500,
        "legend": {
         "tracegroupgap": 0
        },
        "margin": {
         "t": 60
        },
        "template": {
         "data": {
          "bar": [
           {
            "error_x": {
             "color": "#2a3f5f"
            },
            "error_y": {
             "color": "#2a3f5f"
            },
            "marker": {
             "line": {
              "color": "#E5ECF6",
              "width": 0.5
             },
             "pattern": {
              "fillmode": "overlay",
              "size": 10,
              "solidity": 0.2
             }
            },
            "type": "bar"
           }
          ],
          "barpolar": [
           {
            "marker": {
             "line": {
              "color": "#E5ECF6",
              "width": 0.5
             },
             "pattern": {
              "fillmode": "overlay",
              "size": 10,
              "solidity": 0.2
             }
            },
            "type": "barpolar"
           }
          ],
          "carpet": [
           {
            "aaxis": {
             "endlinecolor": "#2a3f5f",
             "gridcolor": "white",
             "linecolor": "white",
             "minorgridcolor": "white",
             "startlinecolor": "#2a3f5f"
            },
            "baxis": {
             "endlinecolor": "#2a3f5f",
             "gridcolor": "white",
             "linecolor": "white",
             "minorgridcolor": "white",
             "startlinecolor": "#2a3f5f"
            },
            "type": "carpet"
           }
          ],
          "choropleth": [
           {
            "colorbar": {
             "outlinewidth": 0,
             "ticks": ""
            },
            "type": "choropleth"
           }
          ],
          "contour": [
           {
            "colorbar": {
             "outlinewidth": 0,
             "ticks": ""
            },
            "colorscale": [
             [
              0,
              "#0d0887"
             ],
             [
              0.1111111111111111,
              "#46039f"
             ],
             [
              0.2222222222222222,
              "#7201a8"
             ],
             [
              0.3333333333333333,
              "#9c179e"
             ],
             [
              0.4444444444444444,
              "#bd3786"
             ],
             [
              0.5555555555555556,
              "#d8576b"
             ],
             [
              0.6666666666666666,
              "#ed7953"
             ],
             [
              0.7777777777777778,
              "#fb9f3a"
             ],
             [
              0.8888888888888888,
              "#fdca26"
             ],
             [
              1,
              "#f0f921"
             ]
            ],
            "type": "contour"
           }
          ],
          "contourcarpet": [
           {
            "colorbar": {
             "outlinewidth": 0,
             "ticks": ""
            },
            "type": "contourcarpet"
           }
          ],
          "heatmap": [
           {
            "colorbar": {
             "outlinewidth": 0,
             "ticks": ""
            },
            "colorscale": [
             [
              0,
              "#0d0887"
             ],
             [
              0.1111111111111111,
              "#46039f"
             ],
             [
              0.2222222222222222,
              "#7201a8"
             ],
             [
              0.3333333333333333,
              "#9c179e"
             ],
             [
              0.4444444444444444,
              "#bd3786"
             ],
             [
              0.5555555555555556,
              "#d8576b"
             ],
             [
              0.6666666666666666,
              "#ed7953"
             ],
             [
              0.7777777777777778,
              "#fb9f3a"
             ],
             [
              0.8888888888888888,
              "#fdca26"
             ],
             [
              1,
              "#f0f921"
             ]
            ],
            "type": "heatmap"
           }
          ],
          "heatmapgl": [
           {
            "colorbar": {
             "outlinewidth": 0,
             "ticks": ""
            },
            "colorscale": [
             [
              0,
              "#0d0887"
             ],
             [
              0.1111111111111111,
              "#46039f"
             ],
             [
              0.2222222222222222,
              "#7201a8"
             ],
             [
              0.3333333333333333,
              "#9c179e"
             ],
             [
              0.4444444444444444,
              "#bd3786"
             ],
             [
              0.5555555555555556,
              "#d8576b"
             ],
             [
              0.6666666666666666,
              "#ed7953"
             ],
             [
              0.7777777777777778,
              "#fb9f3a"
             ],
             [
              0.8888888888888888,
              "#fdca26"
             ],
             [
              1,
              "#f0f921"
             ]
            ],
            "type": "heatmapgl"
           }
          ],
          "histogram": [
           {
            "marker": {
             "pattern": {
              "fillmode": "overlay",
              "size": 10,
              "solidity": 0.2
             }
            },
            "type": "histogram"
           }
          ],
          "histogram2d": [
           {
            "colorbar": {
             "outlinewidth": 0,
             "ticks": ""
            },
            "colorscale": [
             [
              0,
              "#0d0887"
             ],
             [
              0.1111111111111111,
              "#46039f"
             ],
             [
              0.2222222222222222,
              "#7201a8"
             ],
             [
              0.3333333333333333,
              "#9c179e"
             ],
             [
              0.4444444444444444,
              "#bd3786"
             ],
             [
              0.5555555555555556,
              "#d8576b"
             ],
             [
              0.6666666666666666,
              "#ed7953"
             ],
             [
              0.7777777777777778,
              "#fb9f3a"
             ],
             [
              0.8888888888888888,
              "#fdca26"
             ],
             [
              1,
              "#f0f921"
             ]
            ],
            "type": "histogram2d"
           }
          ],
          "histogram2dcontour": [
           {
            "colorbar": {
             "outlinewidth": 0,
             "ticks": ""
            },
            "colorscale": [
             [
              0,
              "#0d0887"
             ],
             [
              0.1111111111111111,
              "#46039f"
             ],
             [
              0.2222222222222222,
              "#7201a8"
             ],
             [
              0.3333333333333333,
              "#9c179e"
             ],
             [
              0.4444444444444444,
              "#bd3786"
             ],
             [
              0.5555555555555556,
              "#d8576b"
             ],
             [
              0.6666666666666666,
              "#ed7953"
             ],
             [
              0.7777777777777778,
              "#fb9f3a"
             ],
             [
              0.8888888888888888,
              "#fdca26"
             ],
             [
              1,
              "#f0f921"
             ]
            ],
            "type": "histogram2dcontour"
           }
          ],
          "mesh3d": [
           {
            "colorbar": {
             "outlinewidth": 0,
             "ticks": ""
            },
            "type": "mesh3d"
           }
          ],
          "parcoords": [
           {
            "line": {
             "colorbar": {
              "outlinewidth": 0,
              "ticks": ""
             }
            },
            "type": "parcoords"
           }
          ],
          "pie": [
           {
            "automargin": true,
            "type": "pie"
           }
          ],
          "scatter": [
           {
            "fillpattern": {
             "fillmode": "overlay",
             "size": 10,
             "solidity": 0.2
            },
            "type": "scatter"
           }
          ],
          "scatter3d": [
           {
            "line": {
             "colorbar": {
              "outlinewidth": 0,
              "ticks": ""
             }
            },
            "marker": {
             "colorbar": {
              "outlinewidth": 0,
              "ticks": ""
             }
            },
            "type": "scatter3d"
           }
          ],
          "scattercarpet": [
           {
            "marker": {
             "colorbar": {
              "outlinewidth": 0,
              "ticks": ""
             }
            },
            "type": "scattercarpet"
           }
          ],
          "scattergeo": [
           {
            "marker": {
             "colorbar": {
              "outlinewidth": 0,
              "ticks": ""
             }
            },
            "type": "scattergeo"
           }
          ],
          "scattergl": [
           {
            "marker": {
             "colorbar": {
              "outlinewidth": 0,
              "ticks": ""
             }
            },
            "type": "scattergl"
           }
          ],
          "scattermapbox": [
           {
            "marker": {
             "colorbar": {
              "outlinewidth": 0,
              "ticks": ""
             }
            },
            "type": "scattermapbox"
           }
          ],
          "scatterpolar": [
           {
            "marker": {
             "colorbar": {
              "outlinewidth": 0,
              "ticks": ""
             }
            },
            "type": "scatterpolar"
           }
          ],
          "scatterpolargl": [
           {
            "marker": {
             "colorbar": {
              "outlinewidth": 0,
              "ticks": ""
             }
            },
            "type": "scatterpolargl"
           }
          ],
          "scatterternary": [
           {
            "marker": {
             "colorbar": {
              "outlinewidth": 0,
              "ticks": ""
             }
            },
            "type": "scatterternary"
           }
          ],
          "surface": [
           {
            "colorbar": {
             "outlinewidth": 0,
             "ticks": ""
            },
            "colorscale": [
             [
              0,
              "#0d0887"
             ],
             [
              0.1111111111111111,
              "#46039f"
             ],
             [
              0.2222222222222222,
              "#7201a8"
             ],
             [
              0.3333333333333333,
              "#9c179e"
             ],
             [
              0.4444444444444444,
              "#bd3786"
             ],
             [
              0.5555555555555556,
              "#d8576b"
             ],
             [
              0.6666666666666666,
              "#ed7953"
             ],
             [
              0.7777777777777778,
              "#fb9f3a"
             ],
             [
              0.8888888888888888,
              "#fdca26"
             ],
             [
              1,
              "#f0f921"
             ]
            ],
            "type": "surface"
           }
          ],
          "table": [
           {
            "cells": {
             "fill": {
              "color": "#EBF0F8"
             },
             "line": {
              "color": "white"
             }
            },
            "header": {
             "fill": {
              "color": "#C8D4E3"
             },
             "line": {
              "color": "white"
             }
            },
            "type": "table"
           }
          ]
         },
         "layout": {
          "annotationdefaults": {
           "arrowcolor": "#2a3f5f",
           "arrowhead": 0,
           "arrowwidth": 1
          },
          "autotypenumbers": "strict",
          "coloraxis": {
           "colorbar": {
            "outlinewidth": 0,
            "ticks": ""
           }
          },
          "colorscale": {
           "diverging": [
            [
             0,
             "#8e0152"
            ],
            [
             0.1,
             "#c51b7d"
            ],
            [
             0.2,
             "#de77ae"
            ],
            [
             0.3,
             "#f1b6da"
            ],
            [
             0.4,
             "#fde0ef"
            ],
            [
             0.5,
             "#f7f7f7"
            ],
            [
             0.6,
             "#e6f5d0"
            ],
            [
             0.7,
             "#b8e186"
            ],
            [
             0.8,
             "#7fbc41"
            ],
            [
             0.9,
             "#4d9221"
            ],
            [
             1,
             "#276419"
            ]
           ],
           "sequential": [
            [
             0,
             "#0d0887"
            ],
            [
             0.1111111111111111,
             "#46039f"
            ],
            [
             0.2222222222222222,
             "#7201a8"
            ],
            [
             0.3333333333333333,
             "#9c179e"
            ],
            [
             0.4444444444444444,
             "#bd3786"
            ],
            [
             0.5555555555555556,
             "#d8576b"
            ],
            [
             0.6666666666666666,
             "#ed7953"
            ],
            [
             0.7777777777777778,
             "#fb9f3a"
            ],
            [
             0.8888888888888888,
             "#fdca26"
            ],
            [
             1,
             "#f0f921"
            ]
           ],
           "sequentialminus": [
            [
             0,
             "#0d0887"
            ],
            [
             0.1111111111111111,
             "#46039f"
            ],
            [
             0.2222222222222222,
             "#7201a8"
            ],
            [
             0.3333333333333333,
             "#9c179e"
            ],
            [
             0.4444444444444444,
             "#bd3786"
            ],
            [
             0.5555555555555556,
             "#d8576b"
            ],
            [
             0.6666666666666666,
             "#ed7953"
            ],
            [
             0.7777777777777778,
             "#fb9f3a"
            ],
            [
             0.8888888888888888,
             "#fdca26"
            ],
            [
             1,
             "#f0f921"
            ]
           ]
          },
          "colorway": [
           "#636efa",
           "#EF553B",
           "#00cc96",
           "#ab63fa",
           "#FFA15A",
           "#19d3f3",
           "#FF6692",
           "#B6E880",
           "#FF97FF",
           "#FECB52"
          ],
          "font": {
           "color": "#2a3f5f"
          },
          "geo": {
           "bgcolor": "white",
           "lakecolor": "white",
           "landcolor": "#E5ECF6",
           "showlakes": true,
           "showland": true,
           "subunitcolor": "white"
          },
          "hoverlabel": {
           "align": "left"
          },
          "hovermode": "closest",
          "mapbox": {
           "style": "light"
          },
          "paper_bgcolor": "white",
          "plot_bgcolor": "#E5ECF6",
          "polar": {
           "angularaxis": {
            "gridcolor": "white",
            "linecolor": "white",
            "ticks": ""
           },
           "bgcolor": "#E5ECF6",
           "radialaxis": {
            "gridcolor": "white",
            "linecolor": "white",
            "ticks": ""
           }
          },
          "scene": {
           "xaxis": {
            "backgroundcolor": "#E5ECF6",
            "gridcolor": "white",
            "gridwidth": 2,
            "linecolor": "white",
            "showbackground": true,
            "ticks": "",
            "zerolinecolor": "white"
           },
           "yaxis": {
            "backgroundcolor": "#E5ECF6",
            "gridcolor": "white",
            "gridwidth": 2,
            "linecolor": "white",
            "showbackground": true,
            "ticks": "",
            "zerolinecolor": "white"
           },
           "zaxis": {
            "backgroundcolor": "#E5ECF6",
            "gridcolor": "white",
            "gridwidth": 2,
            "linecolor": "white",
            "showbackground": true,
            "ticks": "",
            "zerolinecolor": "white"
           }
          },
          "shapedefaults": {
           "line": {
            "color": "#2a3f5f"
           }
          },
          "ternary": {
           "aaxis": {
            "gridcolor": "white",
            "linecolor": "white",
            "ticks": ""
           },
           "baxis": {
            "gridcolor": "white",
            "linecolor": "white",
            "ticks": ""
           },
           "bgcolor": "#E5ECF6",
           "caxis": {
            "gridcolor": "white",
            "linecolor": "white",
            "ticks": ""
           }
          },
          "title": {
           "x": 0.05
          },
          "xaxis": {
           "automargin": true,
           "gridcolor": "white",
           "linecolor": "white",
           "ticks": "",
           "title": {
            "standoff": 15
           },
           "zerolinecolor": "white",
           "zerolinewidth": 2
          },
          "yaxis": {
           "automargin": true,
           "gridcolor": "white",
           "linecolor": "white",
           "ticks": "",
           "title": {
            "standoff": 15
           },
           "zerolinecolor": "white",
           "zerolinewidth": 2
          }
         }
        },
        "title": {
         "text": "Number of Passes vs Mean Defenders Passed",
         "x": 0.5
        },
        "width": 1200,
        "xaxis": {
         "anchor": "y",
         "domain": [
          0,
          1
         ],
         "title": {
          "text": "Mean Defenders Passed"
         }
        },
        "yaxis": {
         "anchor": "x",
         "domain": [
          0,
          1
         ],
         "title": {
          "text": "Total Number of Passes"
         }
        }
       }
      }
     },
     "metadata": {},
     "output_type": "display_data"
    }
   ],
   "source": [
    "fig = px.scatter(x = means_player.values, y = num_passes_player.values, text = sums_player.index)\n",
    "fig.update_layout(width=1200, height=500,  \n",
    "                  title='Number of Passes vs Mean Defenders Passed', title_x=0.5,\n",
    "                  xaxis_title=\"Mean Defenders Passed\", yaxis_title='Total Number of Passes') #template='plotly_dark',\n",
    "fig.update_traces(textposition='top center')\n",
    "#fig.update_traces(textfont_size=11, marker=dict(size=10), textposition=improve_text_position(df['reb']))\n",
    "fig.show()"
   ]
  },
  {
   "cell_type": "code",
   "execution_count": 33,
   "metadata": {},
   "outputs": [
    {
     "data": {
      "application/vnd.plotly.v1+json": {
       "config": {
        "plotlyServerURL": "https://plot.ly"
       },
       "data": [
        {
         "hovertemplate": "x=%{x}<br>y=%{y}<extra></extra>",
         "legendgroup": "",
         "marker": {
          "color": "#636efa",
          "symbol": "circle"
         },
         "mode": "markers",
         "name": "",
         "orientation": "v",
         "showlegend": false,
         "type": "scatter",
         "x": [
          "feb4cb57-89ef-11e6-86b2-a45e60e298d3",
          "feb4cf33-89ef-11e6-9be9-a45e60e298d3",
          "feb4d0a6-89ef-11e6-82c6-a45e60e298d3",
          "feb4d380-89ef-11e6-9eb6-a45e60e298d3"
         ],
         "xaxis": "x",
         "y": [
          0.37266553480475384,
          0.2379746835443038,
          0.3979591836734694,
          0.3320235756385069
         ],
         "yaxis": "y"
        }
       ],
       "layout": {
        "height": 600,
        "legend": {
         "tracegroupgap": 0
        },
        "margin": {
         "t": 60
        },
        "template": {
         "data": {
          "bar": [
           {
            "error_x": {
             "color": "#2a3f5f"
            },
            "error_y": {
             "color": "#2a3f5f"
            },
            "marker": {
             "line": {
              "color": "#E5ECF6",
              "width": 0.5
             },
             "pattern": {
              "fillmode": "overlay",
              "size": 10,
              "solidity": 0.2
             }
            },
            "type": "bar"
           }
          ],
          "barpolar": [
           {
            "marker": {
             "line": {
              "color": "#E5ECF6",
              "width": 0.5
             },
             "pattern": {
              "fillmode": "overlay",
              "size": 10,
              "solidity": 0.2
             }
            },
            "type": "barpolar"
           }
          ],
          "carpet": [
           {
            "aaxis": {
             "endlinecolor": "#2a3f5f",
             "gridcolor": "white",
             "linecolor": "white",
             "minorgridcolor": "white",
             "startlinecolor": "#2a3f5f"
            },
            "baxis": {
             "endlinecolor": "#2a3f5f",
             "gridcolor": "white",
             "linecolor": "white",
             "minorgridcolor": "white",
             "startlinecolor": "#2a3f5f"
            },
            "type": "carpet"
           }
          ],
          "choropleth": [
           {
            "colorbar": {
             "outlinewidth": 0,
             "ticks": ""
            },
            "type": "choropleth"
           }
          ],
          "contour": [
           {
            "colorbar": {
             "outlinewidth": 0,
             "ticks": ""
            },
            "colorscale": [
             [
              0,
              "#0d0887"
             ],
             [
              0.1111111111111111,
              "#46039f"
             ],
             [
              0.2222222222222222,
              "#7201a8"
             ],
             [
              0.3333333333333333,
              "#9c179e"
             ],
             [
              0.4444444444444444,
              "#bd3786"
             ],
             [
              0.5555555555555556,
              "#d8576b"
             ],
             [
              0.6666666666666666,
              "#ed7953"
             ],
             [
              0.7777777777777778,
              "#fb9f3a"
             ],
             [
              0.8888888888888888,
              "#fdca26"
             ],
             [
              1,
              "#f0f921"
             ]
            ],
            "type": "contour"
           }
          ],
          "contourcarpet": [
           {
            "colorbar": {
             "outlinewidth": 0,
             "ticks": ""
            },
            "type": "contourcarpet"
           }
          ],
          "heatmap": [
           {
            "colorbar": {
             "outlinewidth": 0,
             "ticks": ""
            },
            "colorscale": [
             [
              0,
              "#0d0887"
             ],
             [
              0.1111111111111111,
              "#46039f"
             ],
             [
              0.2222222222222222,
              "#7201a8"
             ],
             [
              0.3333333333333333,
              "#9c179e"
             ],
             [
              0.4444444444444444,
              "#bd3786"
             ],
             [
              0.5555555555555556,
              "#d8576b"
             ],
             [
              0.6666666666666666,
              "#ed7953"
             ],
             [
              0.7777777777777778,
              "#fb9f3a"
             ],
             [
              0.8888888888888888,
              "#fdca26"
             ],
             [
              1,
              "#f0f921"
             ]
            ],
            "type": "heatmap"
           }
          ],
          "heatmapgl": [
           {
            "colorbar": {
             "outlinewidth": 0,
             "ticks": ""
            },
            "colorscale": [
             [
              0,
              "#0d0887"
             ],
             [
              0.1111111111111111,
              "#46039f"
             ],
             [
              0.2222222222222222,
              "#7201a8"
             ],
             [
              0.3333333333333333,
              "#9c179e"
             ],
             [
              0.4444444444444444,
              "#bd3786"
             ],
             [
              0.5555555555555556,
              "#d8576b"
             ],
             [
              0.6666666666666666,
              "#ed7953"
             ],
             [
              0.7777777777777778,
              "#fb9f3a"
             ],
             [
              0.8888888888888888,
              "#fdca26"
             ],
             [
              1,
              "#f0f921"
             ]
            ],
            "type": "heatmapgl"
           }
          ],
          "histogram": [
           {
            "marker": {
             "pattern": {
              "fillmode": "overlay",
              "size": 10,
              "solidity": 0.2
             }
            },
            "type": "histogram"
           }
          ],
          "histogram2d": [
           {
            "colorbar": {
             "outlinewidth": 0,
             "ticks": ""
            },
            "colorscale": [
             [
              0,
              "#0d0887"
             ],
             [
              0.1111111111111111,
              "#46039f"
             ],
             [
              0.2222222222222222,
              "#7201a8"
             ],
             [
              0.3333333333333333,
              "#9c179e"
             ],
             [
              0.4444444444444444,
              "#bd3786"
             ],
             [
              0.5555555555555556,
              "#d8576b"
             ],
             [
              0.6666666666666666,
              "#ed7953"
             ],
             [
              0.7777777777777778,
              "#fb9f3a"
             ],
             [
              0.8888888888888888,
              "#fdca26"
             ],
             [
              1,
              "#f0f921"
             ]
            ],
            "type": "histogram2d"
           }
          ],
          "histogram2dcontour": [
           {
            "colorbar": {
             "outlinewidth": 0,
             "ticks": ""
            },
            "colorscale": [
             [
              0,
              "#0d0887"
             ],
             [
              0.1111111111111111,
              "#46039f"
             ],
             [
              0.2222222222222222,
              "#7201a8"
             ],
             [
              0.3333333333333333,
              "#9c179e"
             ],
             [
              0.4444444444444444,
              "#bd3786"
             ],
             [
              0.5555555555555556,
              "#d8576b"
             ],
             [
              0.6666666666666666,
              "#ed7953"
             ],
             [
              0.7777777777777778,
              "#fb9f3a"
             ],
             [
              0.8888888888888888,
              "#fdca26"
             ],
             [
              1,
              "#f0f921"
             ]
            ],
            "type": "histogram2dcontour"
           }
          ],
          "mesh3d": [
           {
            "colorbar": {
             "outlinewidth": 0,
             "ticks": ""
            },
            "type": "mesh3d"
           }
          ],
          "parcoords": [
           {
            "line": {
             "colorbar": {
              "outlinewidth": 0,
              "ticks": ""
             }
            },
            "type": "parcoords"
           }
          ],
          "pie": [
           {
            "automargin": true,
            "type": "pie"
           }
          ],
          "scatter": [
           {
            "fillpattern": {
             "fillmode": "overlay",
             "size": 10,
             "solidity": 0.2
            },
            "type": "scatter"
           }
          ],
          "scatter3d": [
           {
            "line": {
             "colorbar": {
              "outlinewidth": 0,
              "ticks": ""
             }
            },
            "marker": {
             "colorbar": {
              "outlinewidth": 0,
              "ticks": ""
             }
            },
            "type": "scatter3d"
           }
          ],
          "scattercarpet": [
           {
            "marker": {
             "colorbar": {
              "outlinewidth": 0,
              "ticks": ""
             }
            },
            "type": "scattercarpet"
           }
          ],
          "scattergeo": [
           {
            "marker": {
             "colorbar": {
              "outlinewidth": 0,
              "ticks": ""
             }
            },
            "type": "scattergeo"
           }
          ],
          "scattergl": [
           {
            "marker": {
             "colorbar": {
              "outlinewidth": 0,
              "ticks": ""
             }
            },
            "type": "scattergl"
           }
          ],
          "scattermapbox": [
           {
            "marker": {
             "colorbar": {
              "outlinewidth": 0,
              "ticks": ""
             }
            },
            "type": "scattermapbox"
           }
          ],
          "scatterpolar": [
           {
            "marker": {
             "colorbar": {
              "outlinewidth": 0,
              "ticks": ""
             }
            },
            "type": "scatterpolar"
           }
          ],
          "scatterpolargl": [
           {
            "marker": {
             "colorbar": {
              "outlinewidth": 0,
              "ticks": ""
             }
            },
            "type": "scatterpolargl"
           }
          ],
          "scatterternary": [
           {
            "marker": {
             "colorbar": {
              "outlinewidth": 0,
              "ticks": ""
             }
            },
            "type": "scatterternary"
           }
          ],
          "surface": [
           {
            "colorbar": {
             "outlinewidth": 0,
             "ticks": ""
            },
            "colorscale": [
             [
              0,
              "#0d0887"
             ],
             [
              0.1111111111111111,
              "#46039f"
             ],
             [
              0.2222222222222222,
              "#7201a8"
             ],
             [
              0.3333333333333333,
              "#9c179e"
             ],
             [
              0.4444444444444444,
              "#bd3786"
             ],
             [
              0.5555555555555556,
              "#d8576b"
             ],
             [
              0.6666666666666666,
              "#ed7953"
             ],
             [
              0.7777777777777778,
              "#fb9f3a"
             ],
             [
              0.8888888888888888,
              "#fdca26"
             ],
             [
              1,
              "#f0f921"
             ]
            ],
            "type": "surface"
           }
          ],
          "table": [
           {
            "cells": {
             "fill": {
              "color": "#EBF0F8"
             },
             "line": {
              "color": "white"
             }
            },
            "header": {
             "fill": {
              "color": "#C8D4E3"
             },
             "line": {
              "color": "white"
             }
            },
            "type": "table"
           }
          ]
         },
         "layout": {
          "annotationdefaults": {
           "arrowcolor": "#2a3f5f",
           "arrowhead": 0,
           "arrowwidth": 1
          },
          "autotypenumbers": "strict",
          "coloraxis": {
           "colorbar": {
            "outlinewidth": 0,
            "ticks": ""
           }
          },
          "colorscale": {
           "diverging": [
            [
             0,
             "#8e0152"
            ],
            [
             0.1,
             "#c51b7d"
            ],
            [
             0.2,
             "#de77ae"
            ],
            [
             0.3,
             "#f1b6da"
            ],
            [
             0.4,
             "#fde0ef"
            ],
            [
             0.5,
             "#f7f7f7"
            ],
            [
             0.6,
             "#e6f5d0"
            ],
            [
             0.7,
             "#b8e186"
            ],
            [
             0.8,
             "#7fbc41"
            ],
            [
             0.9,
             "#4d9221"
            ],
            [
             1,
             "#276419"
            ]
           ],
           "sequential": [
            [
             0,
             "#0d0887"
            ],
            [
             0.1111111111111111,
             "#46039f"
            ],
            [
             0.2222222222222222,
             "#7201a8"
            ],
            [
             0.3333333333333333,
             "#9c179e"
            ],
            [
             0.4444444444444444,
             "#bd3786"
            ],
            [
             0.5555555555555556,
             "#d8576b"
            ],
            [
             0.6666666666666666,
             "#ed7953"
            ],
            [
             0.7777777777777778,
             "#fb9f3a"
            ],
            [
             0.8888888888888888,
             "#fdca26"
            ],
            [
             1,
             "#f0f921"
            ]
           ],
           "sequentialminus": [
            [
             0,
             "#0d0887"
            ],
            [
             0.1111111111111111,
             "#46039f"
            ],
            [
             0.2222222222222222,
             "#7201a8"
            ],
            [
             0.3333333333333333,
             "#9c179e"
            ],
            [
             0.4444444444444444,
             "#bd3786"
            ],
            [
             0.5555555555555556,
             "#d8576b"
            ],
            [
             0.6666666666666666,
             "#ed7953"
            ],
            [
             0.7777777777777778,
             "#fb9f3a"
            ],
            [
             0.8888888888888888,
             "#fdca26"
            ],
            [
             1,
             "#f0f921"
            ]
           ]
          },
          "colorway": [
           "#636efa",
           "#EF553B",
           "#00cc96",
           "#ab63fa",
           "#FFA15A",
           "#19d3f3",
           "#FF6692",
           "#B6E880",
           "#FF97FF",
           "#FECB52"
          ],
          "font": {
           "color": "#2a3f5f"
          },
          "geo": {
           "bgcolor": "white",
           "lakecolor": "white",
           "landcolor": "#E5ECF6",
           "showlakes": true,
           "showland": true,
           "subunitcolor": "white"
          },
          "hoverlabel": {
           "align": "left"
          },
          "hovermode": "closest",
          "mapbox": {
           "style": "light"
          },
          "paper_bgcolor": "white",
          "plot_bgcolor": "#E5ECF6",
          "polar": {
           "angularaxis": {
            "gridcolor": "white",
            "linecolor": "white",
            "ticks": ""
           },
           "bgcolor": "#E5ECF6",
           "radialaxis": {
            "gridcolor": "white",
            "linecolor": "white",
            "ticks": ""
           }
          },
          "scene": {
           "xaxis": {
            "backgroundcolor": "#E5ECF6",
            "gridcolor": "white",
            "gridwidth": 2,
            "linecolor": "white",
            "showbackground": true,
            "ticks": "",
            "zerolinecolor": "white"
           },
           "yaxis": {
            "backgroundcolor": "#E5ECF6",
            "gridcolor": "white",
            "gridwidth": 2,
            "linecolor": "white",
            "showbackground": true,
            "ticks": "",
            "zerolinecolor": "white"
           },
           "zaxis": {
            "backgroundcolor": "#E5ECF6",
            "gridcolor": "white",
            "gridwidth": 2,
            "linecolor": "white",
            "showbackground": true,
            "ticks": "",
            "zerolinecolor": "white"
           }
          },
          "shapedefaults": {
           "line": {
            "color": "#2a3f5f"
           }
          },
          "ternary": {
           "aaxis": {
            "gridcolor": "white",
            "linecolor": "white",
            "ticks": ""
           },
           "baxis": {
            "gridcolor": "white",
            "linecolor": "white",
            "ticks": ""
           },
           "bgcolor": "#E5ECF6",
           "caxis": {
            "gridcolor": "white",
            "linecolor": "white",
            "ticks": ""
           }
          },
          "title": {
           "x": 0.05
          },
          "xaxis": {
           "automargin": true,
           "gridcolor": "white",
           "linecolor": "white",
           "ticks": "",
           "title": {
            "standoff": 15
           },
           "zerolinecolor": "white",
           "zerolinewidth": 2
          },
          "yaxis": {
           "automargin": true,
           "gridcolor": "white",
           "linecolor": "white",
           "ticks": "",
           "title": {
            "standoff": 15
           },
           "zerolinecolor": "white",
           "zerolinewidth": 2
          }
         }
        },
        "title": {
         "text": "Mean Defenders Passed On the Pass by Team",
         "x": 0.5
        },
        "width": 800,
        "xaxis": {
         "anchor": "y",
         "domain": [
          0,
          1
         ],
         "title": {
          "text": "Team"
         }
        },
        "yaxis": {
         "anchor": "x",
         "domain": [
          0,
          1
         ],
         "title": {
          "text": "y"
         }
        }
       }
      }
     },
     "metadata": {},
     "output_type": "display_data"
    }
   ],
   "source": [
    "fig = px.scatter(x = means_team.index, y = means_team.values)\n",
    "fig.update_layout(width=800, height=600,  \n",
    "                  title='Mean Defenders Passed On the Pass by Team', title_x=0.5,\n",
    "                  xaxis_title=\"Team\") #template='plotly_dark',\n",
    "#fig.update_traces(textfont_size=11, marker=dict(size=10), textposition=improve_text_position(df['reb']))\n",
    "fig.show()"
   ]
  },
  {
   "cell_type": "code",
   "execution_count": 34,
   "metadata": {},
   "outputs": [
    {
     "data": {
      "application/vnd.plotly.v1+json": {
       "config": {
        "plotlyServerURL": "https://plot.ly"
       },
       "data": [
        {
         "hovertemplate": "x=%{x}<br>y=%{y}<br>text=%{text}<extra></extra>",
         "legendgroup": "",
         "marker": {
          "color": "#636efa",
          "symbol": "circle"
         },
         "mode": "markers+text",
         "name": "",
         "orientation": "v",
         "showlegend": false,
         "text": [
          "feb4cb57-89ef-11e6-86b2-a45e60e298d3",
          "feb4cf33-89ef-11e6-9be9-a45e60e298d3",
          "feb4d0a6-89ef-11e6-82c6-a45e60e298d3",
          "feb4d380-89ef-11e6-9eb6-a45e60e298d3"
         ],
         "textposition": "top center",
         "type": "scatter",
         "x": [
          0.37266553480475384,
          0.2379746835443038,
          0.3979591836734694,
          0.3320235756385069
         ],
         "xaxis": "x",
         "y": [
          439,
          94,
          351,
          169
         ],
         "yaxis": "y"
        }
       ],
       "layout": {
        "height": 500,
        "legend": {
         "tracegroupgap": 0
        },
        "margin": {
         "t": 60
        },
        "template": {
         "data": {
          "bar": [
           {
            "error_x": {
             "color": "#2a3f5f"
            },
            "error_y": {
             "color": "#2a3f5f"
            },
            "marker": {
             "line": {
              "color": "#E5ECF6",
              "width": 0.5
             },
             "pattern": {
              "fillmode": "overlay",
              "size": 10,
              "solidity": 0.2
             }
            },
            "type": "bar"
           }
          ],
          "barpolar": [
           {
            "marker": {
             "line": {
              "color": "#E5ECF6",
              "width": 0.5
             },
             "pattern": {
              "fillmode": "overlay",
              "size": 10,
              "solidity": 0.2
             }
            },
            "type": "barpolar"
           }
          ],
          "carpet": [
           {
            "aaxis": {
             "endlinecolor": "#2a3f5f",
             "gridcolor": "white",
             "linecolor": "white",
             "minorgridcolor": "white",
             "startlinecolor": "#2a3f5f"
            },
            "baxis": {
             "endlinecolor": "#2a3f5f",
             "gridcolor": "white",
             "linecolor": "white",
             "minorgridcolor": "white",
             "startlinecolor": "#2a3f5f"
            },
            "type": "carpet"
           }
          ],
          "choropleth": [
           {
            "colorbar": {
             "outlinewidth": 0,
             "ticks": ""
            },
            "type": "choropleth"
           }
          ],
          "contour": [
           {
            "colorbar": {
             "outlinewidth": 0,
             "ticks": ""
            },
            "colorscale": [
             [
              0,
              "#0d0887"
             ],
             [
              0.1111111111111111,
              "#46039f"
             ],
             [
              0.2222222222222222,
              "#7201a8"
             ],
             [
              0.3333333333333333,
              "#9c179e"
             ],
             [
              0.4444444444444444,
              "#bd3786"
             ],
             [
              0.5555555555555556,
              "#d8576b"
             ],
             [
              0.6666666666666666,
              "#ed7953"
             ],
             [
              0.7777777777777778,
              "#fb9f3a"
             ],
             [
              0.8888888888888888,
              "#fdca26"
             ],
             [
              1,
              "#f0f921"
             ]
            ],
            "type": "contour"
           }
          ],
          "contourcarpet": [
           {
            "colorbar": {
             "outlinewidth": 0,
             "ticks": ""
            },
            "type": "contourcarpet"
           }
          ],
          "heatmap": [
           {
            "colorbar": {
             "outlinewidth": 0,
             "ticks": ""
            },
            "colorscale": [
             [
              0,
              "#0d0887"
             ],
             [
              0.1111111111111111,
              "#46039f"
             ],
             [
              0.2222222222222222,
              "#7201a8"
             ],
             [
              0.3333333333333333,
              "#9c179e"
             ],
             [
              0.4444444444444444,
              "#bd3786"
             ],
             [
              0.5555555555555556,
              "#d8576b"
             ],
             [
              0.6666666666666666,
              "#ed7953"
             ],
             [
              0.7777777777777778,
              "#fb9f3a"
             ],
             [
              0.8888888888888888,
              "#fdca26"
             ],
             [
              1,
              "#f0f921"
             ]
            ],
            "type": "heatmap"
           }
          ],
          "heatmapgl": [
           {
            "colorbar": {
             "outlinewidth": 0,
             "ticks": ""
            },
            "colorscale": [
             [
              0,
              "#0d0887"
             ],
             [
              0.1111111111111111,
              "#46039f"
             ],
             [
              0.2222222222222222,
              "#7201a8"
             ],
             [
              0.3333333333333333,
              "#9c179e"
             ],
             [
              0.4444444444444444,
              "#bd3786"
             ],
             [
              0.5555555555555556,
              "#d8576b"
             ],
             [
              0.6666666666666666,
              "#ed7953"
             ],
             [
              0.7777777777777778,
              "#fb9f3a"
             ],
             [
              0.8888888888888888,
              "#fdca26"
             ],
             [
              1,
              "#f0f921"
             ]
            ],
            "type": "heatmapgl"
           }
          ],
          "histogram": [
           {
            "marker": {
             "pattern": {
              "fillmode": "overlay",
              "size": 10,
              "solidity": 0.2
             }
            },
            "type": "histogram"
           }
          ],
          "histogram2d": [
           {
            "colorbar": {
             "outlinewidth": 0,
             "ticks": ""
            },
            "colorscale": [
             [
              0,
              "#0d0887"
             ],
             [
              0.1111111111111111,
              "#46039f"
             ],
             [
              0.2222222222222222,
              "#7201a8"
             ],
             [
              0.3333333333333333,
              "#9c179e"
             ],
             [
              0.4444444444444444,
              "#bd3786"
             ],
             [
              0.5555555555555556,
              "#d8576b"
             ],
             [
              0.6666666666666666,
              "#ed7953"
             ],
             [
              0.7777777777777778,
              "#fb9f3a"
             ],
             [
              0.8888888888888888,
              "#fdca26"
             ],
             [
              1,
              "#f0f921"
             ]
            ],
            "type": "histogram2d"
           }
          ],
          "histogram2dcontour": [
           {
            "colorbar": {
             "outlinewidth": 0,
             "ticks": ""
            },
            "colorscale": [
             [
              0,
              "#0d0887"
             ],
             [
              0.1111111111111111,
              "#46039f"
             ],
             [
              0.2222222222222222,
              "#7201a8"
             ],
             [
              0.3333333333333333,
              "#9c179e"
             ],
             [
              0.4444444444444444,
              "#bd3786"
             ],
             [
              0.5555555555555556,
              "#d8576b"
             ],
             [
              0.6666666666666666,
              "#ed7953"
             ],
             [
              0.7777777777777778,
              "#fb9f3a"
             ],
             [
              0.8888888888888888,
              "#fdca26"
             ],
             [
              1,
              "#f0f921"
             ]
            ],
            "type": "histogram2dcontour"
           }
          ],
          "mesh3d": [
           {
            "colorbar": {
             "outlinewidth": 0,
             "ticks": ""
            },
            "type": "mesh3d"
           }
          ],
          "parcoords": [
           {
            "line": {
             "colorbar": {
              "outlinewidth": 0,
              "ticks": ""
             }
            },
            "type": "parcoords"
           }
          ],
          "pie": [
           {
            "automargin": true,
            "type": "pie"
           }
          ],
          "scatter": [
           {
            "fillpattern": {
             "fillmode": "overlay",
             "size": 10,
             "solidity": 0.2
            },
            "type": "scatter"
           }
          ],
          "scatter3d": [
           {
            "line": {
             "colorbar": {
              "outlinewidth": 0,
              "ticks": ""
             }
            },
            "marker": {
             "colorbar": {
              "outlinewidth": 0,
              "ticks": ""
             }
            },
            "type": "scatter3d"
           }
          ],
          "scattercarpet": [
           {
            "marker": {
             "colorbar": {
              "outlinewidth": 0,
              "ticks": ""
             }
            },
            "type": "scattercarpet"
           }
          ],
          "scattergeo": [
           {
            "marker": {
             "colorbar": {
              "outlinewidth": 0,
              "ticks": ""
             }
            },
            "type": "scattergeo"
           }
          ],
          "scattergl": [
           {
            "marker": {
             "colorbar": {
              "outlinewidth": 0,
              "ticks": ""
             }
            },
            "type": "scattergl"
           }
          ],
          "scattermapbox": [
           {
            "marker": {
             "colorbar": {
              "outlinewidth": 0,
              "ticks": ""
             }
            },
            "type": "scattermapbox"
           }
          ],
          "scatterpolar": [
           {
            "marker": {
             "colorbar": {
              "outlinewidth": 0,
              "ticks": ""
             }
            },
            "type": "scatterpolar"
           }
          ],
          "scatterpolargl": [
           {
            "marker": {
             "colorbar": {
              "outlinewidth": 0,
              "ticks": ""
             }
            },
            "type": "scatterpolargl"
           }
          ],
          "scatterternary": [
           {
            "marker": {
             "colorbar": {
              "outlinewidth": 0,
              "ticks": ""
             }
            },
            "type": "scatterternary"
           }
          ],
          "surface": [
           {
            "colorbar": {
             "outlinewidth": 0,
             "ticks": ""
            },
            "colorscale": [
             [
              0,
              "#0d0887"
             ],
             [
              0.1111111111111111,
              "#46039f"
             ],
             [
              0.2222222222222222,
              "#7201a8"
             ],
             [
              0.3333333333333333,
              "#9c179e"
             ],
             [
              0.4444444444444444,
              "#bd3786"
             ],
             [
              0.5555555555555556,
              "#d8576b"
             ],
             [
              0.6666666666666666,
              "#ed7953"
             ],
             [
              0.7777777777777778,
              "#fb9f3a"
             ],
             [
              0.8888888888888888,
              "#fdca26"
             ],
             [
              1,
              "#f0f921"
             ]
            ],
            "type": "surface"
           }
          ],
          "table": [
           {
            "cells": {
             "fill": {
              "color": "#EBF0F8"
             },
             "line": {
              "color": "white"
             }
            },
            "header": {
             "fill": {
              "color": "#C8D4E3"
             },
             "line": {
              "color": "white"
             }
            },
            "type": "table"
           }
          ]
         },
         "layout": {
          "annotationdefaults": {
           "arrowcolor": "#2a3f5f",
           "arrowhead": 0,
           "arrowwidth": 1
          },
          "autotypenumbers": "strict",
          "coloraxis": {
           "colorbar": {
            "outlinewidth": 0,
            "ticks": ""
           }
          },
          "colorscale": {
           "diverging": [
            [
             0,
             "#8e0152"
            ],
            [
             0.1,
             "#c51b7d"
            ],
            [
             0.2,
             "#de77ae"
            ],
            [
             0.3,
             "#f1b6da"
            ],
            [
             0.4,
             "#fde0ef"
            ],
            [
             0.5,
             "#f7f7f7"
            ],
            [
             0.6,
             "#e6f5d0"
            ],
            [
             0.7,
             "#b8e186"
            ],
            [
             0.8,
             "#7fbc41"
            ],
            [
             0.9,
             "#4d9221"
            ],
            [
             1,
             "#276419"
            ]
           ],
           "sequential": [
            [
             0,
             "#0d0887"
            ],
            [
             0.1111111111111111,
             "#46039f"
            ],
            [
             0.2222222222222222,
             "#7201a8"
            ],
            [
             0.3333333333333333,
             "#9c179e"
            ],
            [
             0.4444444444444444,
             "#bd3786"
            ],
            [
             0.5555555555555556,
             "#d8576b"
            ],
            [
             0.6666666666666666,
             "#ed7953"
            ],
            [
             0.7777777777777778,
             "#fb9f3a"
            ],
            [
             0.8888888888888888,
             "#fdca26"
            ],
            [
             1,
             "#f0f921"
            ]
           ],
           "sequentialminus": [
            [
             0,
             "#0d0887"
            ],
            [
             0.1111111111111111,
             "#46039f"
            ],
            [
             0.2222222222222222,
             "#7201a8"
            ],
            [
             0.3333333333333333,
             "#9c179e"
            ],
            [
             0.4444444444444444,
             "#bd3786"
            ],
            [
             0.5555555555555556,
             "#d8576b"
            ],
            [
             0.6666666666666666,
             "#ed7953"
            ],
            [
             0.7777777777777778,
             "#fb9f3a"
            ],
            [
             0.8888888888888888,
             "#fdca26"
            ],
            [
             1,
             "#f0f921"
            ]
           ]
          },
          "colorway": [
           "#636efa",
           "#EF553B",
           "#00cc96",
           "#ab63fa",
           "#FFA15A",
           "#19d3f3",
           "#FF6692",
           "#B6E880",
           "#FF97FF",
           "#FECB52"
          ],
          "font": {
           "color": "#2a3f5f"
          },
          "geo": {
           "bgcolor": "white",
           "lakecolor": "white",
           "landcolor": "#E5ECF6",
           "showlakes": true,
           "showland": true,
           "subunitcolor": "white"
          },
          "hoverlabel": {
           "align": "left"
          },
          "hovermode": "closest",
          "mapbox": {
           "style": "light"
          },
          "paper_bgcolor": "white",
          "plot_bgcolor": "#E5ECF6",
          "polar": {
           "angularaxis": {
            "gridcolor": "white",
            "linecolor": "white",
            "ticks": ""
           },
           "bgcolor": "#E5ECF6",
           "radialaxis": {
            "gridcolor": "white",
            "linecolor": "white",
            "ticks": ""
           }
          },
          "scene": {
           "xaxis": {
            "backgroundcolor": "#E5ECF6",
            "gridcolor": "white",
            "gridwidth": 2,
            "linecolor": "white",
            "showbackground": true,
            "ticks": "",
            "zerolinecolor": "white"
           },
           "yaxis": {
            "backgroundcolor": "#E5ECF6",
            "gridcolor": "white",
            "gridwidth": 2,
            "linecolor": "white",
            "showbackground": true,
            "ticks": "",
            "zerolinecolor": "white"
           },
           "zaxis": {
            "backgroundcolor": "#E5ECF6",
            "gridcolor": "white",
            "gridwidth": 2,
            "linecolor": "white",
            "showbackground": true,
            "ticks": "",
            "zerolinecolor": "white"
           }
          },
          "shapedefaults": {
           "line": {
            "color": "#2a3f5f"
           }
          },
          "ternary": {
           "aaxis": {
            "gridcolor": "white",
            "linecolor": "white",
            "ticks": ""
           },
           "baxis": {
            "gridcolor": "white",
            "linecolor": "white",
            "ticks": ""
           },
           "bgcolor": "#E5ECF6",
           "caxis": {
            "gridcolor": "white",
            "linecolor": "white",
            "ticks": ""
           }
          },
          "title": {
           "x": 0.05
          },
          "xaxis": {
           "automargin": true,
           "gridcolor": "white",
           "linecolor": "white",
           "ticks": "",
           "title": {
            "standoff": 15
           },
           "zerolinecolor": "white",
           "zerolinewidth": 2
          },
          "yaxis": {
           "automargin": true,
           "gridcolor": "white",
           "linecolor": "white",
           "ticks": "",
           "title": {
            "standoff": 15
           },
           "zerolinecolor": "white",
           "zerolinewidth": 2
          }
         }
        },
        "title": {
         "text": "Total vs Mean Defenders Passed by Team",
         "x": 0.5
        },
        "width": 800,
        "xaxis": {
         "anchor": "y",
         "domain": [
          0,
          1
         ],
         "title": {
          "text": "Mean"
         }
        },
        "yaxis": {
         "anchor": "x",
         "domain": [
          0,
          1
         ],
         "title": {
          "text": "Total"
         }
        }
       }
      }
     },
     "metadata": {},
     "output_type": "display_data"
    }
   ],
   "source": [
    "fig = px.scatter(x = means_team.values, y = sums_team.values, text = sums_team.index)\n",
    "fig.update_layout(width=800, height=500,  \n",
    "                  title='Total vs Mean Defenders Passed by Team', title_x=0.5,\n",
    "                  xaxis_title=\"Mean\", yaxis_title='Total') #template='plotly_dark',\n",
    "fig.update_traces(textposition='top center')\n",
    "#fig.update_traces(textfont_size=11, marker=dict(size=10), textposition=improve_text_position(df['reb']))\n",
    "fig.show()"
   ]
  },
  {
   "cell_type": "code",
   "execution_count": 35,
   "metadata": {},
   "outputs": [
    {
     "data": {
      "application/vnd.plotly.v1+json": {
       "config": {
        "plotlyServerURL": "https://plot.ly"
       },
       "data": [
        {
         "hovertemplate": "x=%{x}<br>y=%{y}<br>text=%{text}<extra></extra>",
         "legendgroup": "",
         "marker": {
          "color": "#636efa",
          "symbol": "circle"
         },
         "mode": "markers+text",
         "name": "",
         "orientation": "v",
         "showlegend": false,
         "text": [
          "feb4cb57-89ef-11e6-86b2-a45e60e298d3",
          "feb4cf33-89ef-11e6-9be9-a45e60e298d3",
          "feb4d0a6-89ef-11e6-82c6-a45e60e298d3",
          "feb4d380-89ef-11e6-9eb6-a45e60e298d3"
         ],
         "textposition": "top center",
         "type": "scatter",
         "x": [
          0.37266553480475384,
          0.2379746835443038,
          0.3979591836734694,
          0.3320235756385069
         ],
         "xaxis": "x",
         "y": [
          1178,
          395,
          882,
          509
         ],
         "yaxis": "y"
        }
       ],
       "layout": {
        "height": 500,
        "legend": {
         "tracegroupgap": 0
        },
        "margin": {
         "t": 60
        },
        "template": {
         "data": {
          "bar": [
           {
            "error_x": {
             "color": "#2a3f5f"
            },
            "error_y": {
             "color": "#2a3f5f"
            },
            "marker": {
             "line": {
              "color": "#E5ECF6",
              "width": 0.5
             },
             "pattern": {
              "fillmode": "overlay",
              "size": 10,
              "solidity": 0.2
             }
            },
            "type": "bar"
           }
          ],
          "barpolar": [
           {
            "marker": {
             "line": {
              "color": "#E5ECF6",
              "width": 0.5
             },
             "pattern": {
              "fillmode": "overlay",
              "size": 10,
              "solidity": 0.2
             }
            },
            "type": "barpolar"
           }
          ],
          "carpet": [
           {
            "aaxis": {
             "endlinecolor": "#2a3f5f",
             "gridcolor": "white",
             "linecolor": "white",
             "minorgridcolor": "white",
             "startlinecolor": "#2a3f5f"
            },
            "baxis": {
             "endlinecolor": "#2a3f5f",
             "gridcolor": "white",
             "linecolor": "white",
             "minorgridcolor": "white",
             "startlinecolor": "#2a3f5f"
            },
            "type": "carpet"
           }
          ],
          "choropleth": [
           {
            "colorbar": {
             "outlinewidth": 0,
             "ticks": ""
            },
            "type": "choropleth"
           }
          ],
          "contour": [
           {
            "colorbar": {
             "outlinewidth": 0,
             "ticks": ""
            },
            "colorscale": [
             [
              0,
              "#0d0887"
             ],
             [
              0.1111111111111111,
              "#46039f"
             ],
             [
              0.2222222222222222,
              "#7201a8"
             ],
             [
              0.3333333333333333,
              "#9c179e"
             ],
             [
              0.4444444444444444,
              "#bd3786"
             ],
             [
              0.5555555555555556,
              "#d8576b"
             ],
             [
              0.6666666666666666,
              "#ed7953"
             ],
             [
              0.7777777777777778,
              "#fb9f3a"
             ],
             [
              0.8888888888888888,
              "#fdca26"
             ],
             [
              1,
              "#f0f921"
             ]
            ],
            "type": "contour"
           }
          ],
          "contourcarpet": [
           {
            "colorbar": {
             "outlinewidth": 0,
             "ticks": ""
            },
            "type": "contourcarpet"
           }
          ],
          "heatmap": [
           {
            "colorbar": {
             "outlinewidth": 0,
             "ticks": ""
            },
            "colorscale": [
             [
              0,
              "#0d0887"
             ],
             [
              0.1111111111111111,
              "#46039f"
             ],
             [
              0.2222222222222222,
              "#7201a8"
             ],
             [
              0.3333333333333333,
              "#9c179e"
             ],
             [
              0.4444444444444444,
              "#bd3786"
             ],
             [
              0.5555555555555556,
              "#d8576b"
             ],
             [
              0.6666666666666666,
              "#ed7953"
             ],
             [
              0.7777777777777778,
              "#fb9f3a"
             ],
             [
              0.8888888888888888,
              "#fdca26"
             ],
             [
              1,
              "#f0f921"
             ]
            ],
            "type": "heatmap"
           }
          ],
          "heatmapgl": [
           {
            "colorbar": {
             "outlinewidth": 0,
             "ticks": ""
            },
            "colorscale": [
             [
              0,
              "#0d0887"
             ],
             [
              0.1111111111111111,
              "#46039f"
             ],
             [
              0.2222222222222222,
              "#7201a8"
             ],
             [
              0.3333333333333333,
              "#9c179e"
             ],
             [
              0.4444444444444444,
              "#bd3786"
             ],
             [
              0.5555555555555556,
              "#d8576b"
             ],
             [
              0.6666666666666666,
              "#ed7953"
             ],
             [
              0.7777777777777778,
              "#fb9f3a"
             ],
             [
              0.8888888888888888,
              "#fdca26"
             ],
             [
              1,
              "#f0f921"
             ]
            ],
            "type": "heatmapgl"
           }
          ],
          "histogram": [
           {
            "marker": {
             "pattern": {
              "fillmode": "overlay",
              "size": 10,
              "solidity": 0.2
             }
            },
            "type": "histogram"
           }
          ],
          "histogram2d": [
           {
            "colorbar": {
             "outlinewidth": 0,
             "ticks": ""
            },
            "colorscale": [
             [
              0,
              "#0d0887"
             ],
             [
              0.1111111111111111,
              "#46039f"
             ],
             [
              0.2222222222222222,
              "#7201a8"
             ],
             [
              0.3333333333333333,
              "#9c179e"
             ],
             [
              0.4444444444444444,
              "#bd3786"
             ],
             [
              0.5555555555555556,
              "#d8576b"
             ],
             [
              0.6666666666666666,
              "#ed7953"
             ],
             [
              0.7777777777777778,
              "#fb9f3a"
             ],
             [
              0.8888888888888888,
              "#fdca26"
             ],
             [
              1,
              "#f0f921"
             ]
            ],
            "type": "histogram2d"
           }
          ],
          "histogram2dcontour": [
           {
            "colorbar": {
             "outlinewidth": 0,
             "ticks": ""
            },
            "colorscale": [
             [
              0,
              "#0d0887"
             ],
             [
              0.1111111111111111,
              "#46039f"
             ],
             [
              0.2222222222222222,
              "#7201a8"
             ],
             [
              0.3333333333333333,
              "#9c179e"
             ],
             [
              0.4444444444444444,
              "#bd3786"
             ],
             [
              0.5555555555555556,
              "#d8576b"
             ],
             [
              0.6666666666666666,
              "#ed7953"
             ],
             [
              0.7777777777777778,
              "#fb9f3a"
             ],
             [
              0.8888888888888888,
              "#fdca26"
             ],
             [
              1,
              "#f0f921"
             ]
            ],
            "type": "histogram2dcontour"
           }
          ],
          "mesh3d": [
           {
            "colorbar": {
             "outlinewidth": 0,
             "ticks": ""
            },
            "type": "mesh3d"
           }
          ],
          "parcoords": [
           {
            "line": {
             "colorbar": {
              "outlinewidth": 0,
              "ticks": ""
             }
            },
            "type": "parcoords"
           }
          ],
          "pie": [
           {
            "automargin": true,
            "type": "pie"
           }
          ],
          "scatter": [
           {
            "fillpattern": {
             "fillmode": "overlay",
             "size": 10,
             "solidity": 0.2
            },
            "type": "scatter"
           }
          ],
          "scatter3d": [
           {
            "line": {
             "colorbar": {
              "outlinewidth": 0,
              "ticks": ""
             }
            },
            "marker": {
             "colorbar": {
              "outlinewidth": 0,
              "ticks": ""
             }
            },
            "type": "scatter3d"
           }
          ],
          "scattercarpet": [
           {
            "marker": {
             "colorbar": {
              "outlinewidth": 0,
              "ticks": ""
             }
            },
            "type": "scattercarpet"
           }
          ],
          "scattergeo": [
           {
            "marker": {
             "colorbar": {
              "outlinewidth": 0,
              "ticks": ""
             }
            },
            "type": "scattergeo"
           }
          ],
          "scattergl": [
           {
            "marker": {
             "colorbar": {
              "outlinewidth": 0,
              "ticks": ""
             }
            },
            "type": "scattergl"
           }
          ],
          "scattermapbox": [
           {
            "marker": {
             "colorbar": {
              "outlinewidth": 0,
              "ticks": ""
             }
            },
            "type": "scattermapbox"
           }
          ],
          "scatterpolar": [
           {
            "marker": {
             "colorbar": {
              "outlinewidth": 0,
              "ticks": ""
             }
            },
            "type": "scatterpolar"
           }
          ],
          "scatterpolargl": [
           {
            "marker": {
             "colorbar": {
              "outlinewidth": 0,
              "ticks": ""
             }
            },
            "type": "scatterpolargl"
           }
          ],
          "scatterternary": [
           {
            "marker": {
             "colorbar": {
              "outlinewidth": 0,
              "ticks": ""
             }
            },
            "type": "scatterternary"
           }
          ],
          "surface": [
           {
            "colorbar": {
             "outlinewidth": 0,
             "ticks": ""
            },
            "colorscale": [
             [
              0,
              "#0d0887"
             ],
             [
              0.1111111111111111,
              "#46039f"
             ],
             [
              0.2222222222222222,
              "#7201a8"
             ],
             [
              0.3333333333333333,
              "#9c179e"
             ],
             [
              0.4444444444444444,
              "#bd3786"
             ],
             [
              0.5555555555555556,
              "#d8576b"
             ],
             [
              0.6666666666666666,
              "#ed7953"
             ],
             [
              0.7777777777777778,
              "#fb9f3a"
             ],
             [
              0.8888888888888888,
              "#fdca26"
             ],
             [
              1,
              "#f0f921"
             ]
            ],
            "type": "surface"
           }
          ],
          "table": [
           {
            "cells": {
             "fill": {
              "color": "#EBF0F8"
             },
             "line": {
              "color": "white"
             }
            },
            "header": {
             "fill": {
              "color": "#C8D4E3"
             },
             "line": {
              "color": "white"
             }
            },
            "type": "table"
           }
          ]
         },
         "layout": {
          "annotationdefaults": {
           "arrowcolor": "#2a3f5f",
           "arrowhead": 0,
           "arrowwidth": 1
          },
          "autotypenumbers": "strict",
          "coloraxis": {
           "colorbar": {
            "outlinewidth": 0,
            "ticks": ""
           }
          },
          "colorscale": {
           "diverging": [
            [
             0,
             "#8e0152"
            ],
            [
             0.1,
             "#c51b7d"
            ],
            [
             0.2,
             "#de77ae"
            ],
            [
             0.3,
             "#f1b6da"
            ],
            [
             0.4,
             "#fde0ef"
            ],
            [
             0.5,
             "#f7f7f7"
            ],
            [
             0.6,
             "#e6f5d0"
            ],
            [
             0.7,
             "#b8e186"
            ],
            [
             0.8,
             "#7fbc41"
            ],
            [
             0.9,
             "#4d9221"
            ],
            [
             1,
             "#276419"
            ]
           ],
           "sequential": [
            [
             0,
             "#0d0887"
            ],
            [
             0.1111111111111111,
             "#46039f"
            ],
            [
             0.2222222222222222,
             "#7201a8"
            ],
            [
             0.3333333333333333,
             "#9c179e"
            ],
            [
             0.4444444444444444,
             "#bd3786"
            ],
            [
             0.5555555555555556,
             "#d8576b"
            ],
            [
             0.6666666666666666,
             "#ed7953"
            ],
            [
             0.7777777777777778,
             "#fb9f3a"
            ],
            [
             0.8888888888888888,
             "#fdca26"
            ],
            [
             1,
             "#f0f921"
            ]
           ],
           "sequentialminus": [
            [
             0,
             "#0d0887"
            ],
            [
             0.1111111111111111,
             "#46039f"
            ],
            [
             0.2222222222222222,
             "#7201a8"
            ],
            [
             0.3333333333333333,
             "#9c179e"
            ],
            [
             0.4444444444444444,
             "#bd3786"
            ],
            [
             0.5555555555555556,
             "#d8576b"
            ],
            [
             0.6666666666666666,
             "#ed7953"
            ],
            [
             0.7777777777777778,
             "#fb9f3a"
            ],
            [
             0.8888888888888888,
             "#fdca26"
            ],
            [
             1,
             "#f0f921"
            ]
           ]
          },
          "colorway": [
           "#636efa",
           "#EF553B",
           "#00cc96",
           "#ab63fa",
           "#FFA15A",
           "#19d3f3",
           "#FF6692",
           "#B6E880",
           "#FF97FF",
           "#FECB52"
          ],
          "font": {
           "color": "#2a3f5f"
          },
          "geo": {
           "bgcolor": "white",
           "lakecolor": "white",
           "landcolor": "#E5ECF6",
           "showlakes": true,
           "showland": true,
           "subunitcolor": "white"
          },
          "hoverlabel": {
           "align": "left"
          },
          "hovermode": "closest",
          "mapbox": {
           "style": "light"
          },
          "paper_bgcolor": "white",
          "plot_bgcolor": "#E5ECF6",
          "polar": {
           "angularaxis": {
            "gridcolor": "white",
            "linecolor": "white",
            "ticks": ""
           },
           "bgcolor": "#E5ECF6",
           "radialaxis": {
            "gridcolor": "white",
            "linecolor": "white",
            "ticks": ""
           }
          },
          "scene": {
           "xaxis": {
            "backgroundcolor": "#E5ECF6",
            "gridcolor": "white",
            "gridwidth": 2,
            "linecolor": "white",
            "showbackground": true,
            "ticks": "",
            "zerolinecolor": "white"
           },
           "yaxis": {
            "backgroundcolor": "#E5ECF6",
            "gridcolor": "white",
            "gridwidth": 2,
            "linecolor": "white",
            "showbackground": true,
            "ticks": "",
            "zerolinecolor": "white"
           },
           "zaxis": {
            "backgroundcolor": "#E5ECF6",
            "gridcolor": "white",
            "gridwidth": 2,
            "linecolor": "white",
            "showbackground": true,
            "ticks": "",
            "zerolinecolor": "white"
           }
          },
          "shapedefaults": {
           "line": {
            "color": "#2a3f5f"
           }
          },
          "ternary": {
           "aaxis": {
            "gridcolor": "white",
            "linecolor": "white",
            "ticks": ""
           },
           "baxis": {
            "gridcolor": "white",
            "linecolor": "white",
            "ticks": ""
           },
           "bgcolor": "#E5ECF6",
           "caxis": {
            "gridcolor": "white",
            "linecolor": "white",
            "ticks": ""
           }
          },
          "title": {
           "x": 0.05
          },
          "xaxis": {
           "automargin": true,
           "gridcolor": "white",
           "linecolor": "white",
           "ticks": "",
           "title": {
            "standoff": 15
           },
           "zerolinecolor": "white",
           "zerolinewidth": 2
          },
          "yaxis": {
           "automargin": true,
           "gridcolor": "white",
           "linecolor": "white",
           "ticks": "",
           "title": {
            "standoff": 15
           },
           "zerolinecolor": "white",
           "zerolinewidth": 2
          }
         }
        },
        "title": {
         "text": "Number of Passes vs Mean Defenders Passed by Team",
         "x": 0.5
        },
        "width": 800,
        "xaxis": {
         "anchor": "y",
         "domain": [
          0,
          1
         ],
         "title": {
          "text": "Mean Defenders Passed"
         }
        },
        "yaxis": {
         "anchor": "x",
         "domain": [
          0,
          1
         ],
         "title": {
          "text": "Total Number of Passes"
         }
        }
       }
      }
     },
     "metadata": {},
     "output_type": "display_data"
    }
   ],
   "source": [
    "fig = px.scatter(x = means_team.values, y = num_passes_team.values, text = sums_team.index)\n",
    "fig.update_layout(width=800, height=500,  \n",
    "                  title='Number of Passes vs Mean Defenders Passed by Team', title_x=0.5,\n",
    "                  xaxis_title=\"Mean Defenders Passed\", yaxis_title='Total Number of Passes') #template='plotly_dark',\n",
    "fig.update_traces(textposition='top center')\n",
    "#fig.update_traces(textfont_size=11, marker=dict(size=10), textposition=improve_text_position(df['reb']))\n",
    "fig.show()"
   ]
  },
  {
   "cell_type": "code",
   "execution_count": 36,
   "metadata": {},
   "outputs": [],
   "source": [
    "from src.utils.data_helpers import get_team_name"
   ]
  },
  {
   "cell_type": "code",
   "execution_count": 37,
   "metadata": {},
   "outputs": [
    {
     "data": {
      "text/plain": [
       "array(['feb4cb57-89ef-11e6-86b2-a45e60e298d3',\n",
       "       'feb4cf33-89ef-11e6-9be9-a45e60e298d3',\n",
       "       'feb4d0a6-89ef-11e6-82c6-a45e60e298d3',\n",
       "       'feb4d380-89ef-11e6-9eb6-a45e60e298d3'], dtype=object)"
      ]
     },
     "execution_count": 37,
     "metadata": {},
     "output_type": "execute_result"
    }
   ],
   "source": [
    "np.unique(df['Team Id'].values)"
   ]
  },
  {
   "cell_type": "code",
   "execution_count": 38,
   "metadata": {},
   "outputs": [
    {
     "data": {
      "text/plain": [
       "'Boston Celtics'"
      ]
     },
     "execution_count": 38,
     "metadata": {},
     "output_type": "execute_result"
    }
   ],
   "source": [
    "get_team_name('feb4cb57-89ef-11e6-86b2-a45e60e298d3')"
   ]
  },
  {
   "cell_type": "code",
   "execution_count": 18,
   "metadata": {},
   "outputs": [
    {
     "data": {
      "application/vnd.plotly.v1+json": {
       "config": {
        "plotlyServerURL": "https://plot.ly"
       },
       "data": [
        {
         "alignmentgroup": "True",
         "hovertemplate": "Passer=%{x}<br># Defenders Passed=%{y}<extra></extra>",
         "legendgroup": "",
         "marker": {
          "color": "#636efa"
         },
         "name": "",
         "notched": false,
         "offsetgroup": "",
         "orientation": "v",
         "showlegend": false,
         "type": "box",
         "x": [
          "Jayson Tatum",
          "Jaylen Brown",
          "Jayson Tatum",
          "Derrick White",
          "Jaylen Brown",
          "Derrick White",
          "Jayson Tatum",
          "Robert Williams III",
          "Jaylen Brown",
          "Jayson Tatum",
          "Marcus Smart",
          "Jayson Tatum",
          "Grant Williams",
          "Al Horford",
          "Derrick White",
          "Robert Williams III",
          "Jaylen Brown",
          "Marcus Smart",
          "Al Horford",
          "Marcus Smart",
          "Al Horford",
          "Jayson Tatum",
          "Robert Williams III",
          "Marcus Smart",
          "Jaylen Brown",
          "Jayson Tatum",
          "Grant Williams",
          "Marcus Smart",
          "Derrick White",
          "Marcus Smart",
          "Derrick White",
          "Robert Williams III",
          "Jayson Tatum",
          "Grant Williams",
          "Al Horford",
          "Jaylen Brown",
          "Grant Williams",
          "Marcus Smart",
          "Marcus Smart",
          "Marcus Smart",
          "Al Horford",
          "Jayson Tatum",
          "Robert Williams III",
          "Al Horford",
          "Jaylen Brown",
          "Robert Williams III",
          "Robert Williams III",
          "Al Horford",
          "Jayson Tatum",
          "Jaylen Brown",
          "Al Horford",
          "Al Horford",
          "Marcus Smart",
          "Derrick White",
          "Jaylen Brown",
          "Robert Williams III",
          "Jayson Tatum",
          "Marcus Smart",
          "Al Horford",
          "Al Horford",
          "Jayson Tatum",
          "Grant Williams",
          "Al Horford",
          "Jaylen Brown",
          "Grant Williams",
          "Al Horford",
          "Jayson Tatum",
          "Jayson Tatum",
          "Jaylen Brown",
          "Marcus Smart",
          "Derrick White",
          "Derrick White",
          "Derrick White",
          "Jayson Tatum",
          "Marcus Smart",
          "Al Horford",
          "Robert Williams III",
          "Marcus Smart",
          "Jaylen Brown",
          "Derrick White",
          "Marcus Smart",
          "Jayson Tatum",
          "Jaylen Brown",
          "Robert Williams III",
          "Derrick White",
          "Jaylen Brown",
          "Marcus Smart",
          "Jayson Tatum",
          "Al Horford",
          "Marcus Smart",
          "Jayson Tatum",
          "Jayson Tatum",
          "Al Horford",
          "Jaylen Brown",
          "Jaylen Brown",
          "Al Horford",
          "Al Horford",
          "Derrick White",
          "P.J. Tucker",
          "Kyle Lowry",
          "Jimmy Butler",
          "Jimmy Butler",
          "Victor Oladipo",
          "Jimmy Butler",
          "Gabe Vincent",
          "Jimmy Butler",
          "Max Strus",
          "Kyle Lowry",
          "Jimmy Butler",
          "Kyle Lowry",
          "Bam Adebayo",
          "Bam Adebayo",
          "Max Strus",
          "Max Strus",
          "Caleb Martin",
          "Gabe Vincent",
          "Duncan Robinson",
          "P.J. Tucker",
          "Jimmy Butler",
          "Jimmy Butler",
          "Kyle Lowry",
          "Caleb Martin",
          "Jimmy Butler",
          "Jimmy Butler",
          "Kyle Lowry",
          "Max Strus",
          "Jimmy Butler",
          "Kyle Lowry",
          "Kyle Lowry",
          "Jimmy Butler",
          "Kyle Lowry",
          "Bam Adebayo",
          "Jimmy Butler",
          "Max Strus",
          "Bam Adebayo",
          "Max Strus",
          "Max Strus",
          "Jimmy Butler",
          "Kyle Lowry",
          "Jimmy Butler",
          "Victor Oladipo",
          "Kyle Lowry",
          "Bam Adebayo",
          "Kyle Lowry",
          "Jimmy Butler",
          "Victor Oladipo",
          "Caleb Martin",
          "Bam Adebayo",
          "Jimmy Butler",
          "Kyle Lowry",
          "Bam Adebayo",
          "Kyle Lowry",
          "Bam Adebayo",
          "Victor Oladipo",
          "Max Strus",
          "Victor Oladipo",
          "Bam Adebayo",
          "Kyle Lowry",
          "Victor Oladipo",
          "Max Strus",
          "Tyler Herro",
          "P.J. Tucker",
          "Jimmy Butler",
          "P.J. Tucker",
          "Jimmy Butler",
          "Bam Adebayo",
          "Jimmy Butler",
          "Max Strus",
          "Gabe Vincent",
          "Bam Adebayo",
          "Gabe Vincent",
          "P.J. Tucker",
          "Dewayne Dedmon",
          "Victor Oladipo",
          "Max Strus",
          "Tyler Herro",
          "Max Strus",
          "Victor Oladipo",
          "Max Strus",
          "Bam Adebayo",
          "Tyler Herro",
          "Tyler Herro",
          "Tyler Herro",
          "Bam Adebayo",
          "Bam Adebayo",
          "Bam Adebayo",
          "Caleb Martin",
          "Tyler Herro",
          "P.J. Tucker",
          "Tyler Herro",
          "Victor Oladipo",
          "P.J. Tucker",
          "Jimmy Butler",
          "Max Strus",
          "P.J. Tucker",
          "Gabe Vincent",
          "Jimmy Butler",
          "P.J. Tucker",
          "P.J. Tucker",
          "Tyler Herro",
          "Jimmy Butler",
          "Caleb Martin",
          "Tyler Herro",
          "Bam Adebayo",
          "Bam Adebayo",
          "Gabe Vincent",
          "Gabe Vincent",
          "P.J. Tucker",
          "Jimmy Butler",
          "P.J. Tucker",
          "Tyler Herro",
          "Dewayne Dedmon",
          "Victor Oladipo",
          "Jimmy Butler",
          "Max Strus",
          "Max Strus",
          "P.J. Tucker",
          "Max Strus",
          "Max Strus",
          "Grant Williams",
          "Payton Pritchard",
          "Aaron Nesmith",
          "Robert Williams III",
          "Jaylen Brown",
          "Grant Williams",
          "Daniel Theis",
          "Jayson Tatum",
          "Jayson Tatum",
          "Robert Williams III",
          "Grant Williams",
          "Robert Williams III",
          "Grant Williams",
          "Jaylen Brown",
          "Jaylen Brown",
          "Jaylen Brown",
          "Jayson Tatum",
          "Jaylen Brown",
          "Robert Williams III",
          "Jaylen Brown",
          "Robert Williams III",
          "Payton Pritchard",
          "Daniel Theis",
          "Payton Pritchard",
          "Daniel Theis",
          "Jayson Tatum",
          "Daniel Theis",
          "Derrick White",
          "Grant Williams",
          "Jaylen Brown",
          "Payton Pritchard",
          "Grant Williams",
          "Jaylen Brown",
          "Grant Williams",
          "Robert Williams III",
          "Daniel Theis",
          "Aaron Nesmith",
          "Aaron Nesmith",
          "Daniel Theis",
          "Payton Pritchard",
          "Grant Williams",
          "Grant Williams",
          "Jaylen Brown",
          "Jaylen Brown",
          "Jaylen Brown",
          "Payton Pritchard",
          "Jaylen Brown",
          "Payton Pritchard",
          "Derrick White",
          "Derrick White",
          "Jayson Tatum",
          "Jayson Tatum",
          "Derrick White",
          "Robert Williams III",
          "Jayson Tatum",
          "Derrick White",
          "Daniel Theis",
          "Derrick White",
          "Jaylen Brown",
          "Payton Pritchard",
          "Jayson Tatum",
          "Payton Pritchard",
          "Jayson Tatum",
          "Payton Pritchard",
          "Robert Williams III",
          "Payton Pritchard",
          "Payton Pritchard",
          "Jayson Tatum",
          "Jaylen Brown",
          "Payton Pritchard",
          "Jaylen Brown",
          "Payton Pritchard",
          "Robert Williams III",
          "Grant Williams",
          "Grant Williams",
          "Jayson Tatum",
          "Robert Williams III",
          "Robert Williams III",
          "Jayson Tatum",
          "Payton Pritchard",
          "Robert Williams III",
          "Robert Williams III",
          "Jaylen Brown",
          "Daniel Theis",
          "Robert Williams III",
          "Robert Williams III",
          "Jayson Tatum",
          "Jaylen Brown",
          "Robert Williams III",
          "Payton Pritchard",
          "Payton Pritchard",
          "Derrick White",
          "Daniel Theis",
          "Jaylen Brown",
          "Payton Pritchard",
          "Daniel Theis",
          "Kyle Lowry",
          "Jimmy Butler",
          "Bam Adebayo",
          "Bam Adebayo",
          "Kyle Lowry",
          "Max Strus",
          "Bam Adebayo",
          "Max Strus",
          "Kyle Lowry",
          "Bam Adebayo",
          "Kyle Lowry",
          "Jimmy Butler",
          "Kyle Lowry",
          "Jimmy Butler",
          "Jimmy Butler",
          "Bam Adebayo",
          "Jimmy Butler",
          "Max Strus",
          "Kyle Lowry",
          "Victor Oladipo",
          "Victor Oladipo",
          "Bam Adebayo",
          "Tyler Herro",
          "Kyle Lowry",
          "Bam Adebayo",
          "Kyle Lowry",
          "P.J. Tucker",
          "Tyler Herro",
          "Jimmy Butler",
          "Kyle Lowry",
          "Bam Adebayo",
          "Victor Oladipo",
          "Jimmy Butler",
          "P.J. Tucker",
          "Jimmy Butler",
          "Max Strus",
          "Kyle Lowry",
          "Max Strus",
          "Jimmy Butler",
          "Victor Oladipo",
          "Kyle Lowry",
          "Bam Adebayo",
          "Victor Oladipo",
          "Victor Oladipo",
          "Kyle Lowry",
          "Bam Adebayo",
          "Victor Oladipo",
          "Victor Oladipo",
          "Kyle Lowry",
          "Bam Adebayo",
          "P.J. Tucker",
          "P.J. Tucker",
          "Victor Oladipo",
          "Jimmy Butler",
          "Max Strus",
          "Max Strus",
          "Victor Oladipo",
          "Max Strus",
          "Bam Adebayo",
          "Kyle Lowry",
          "Victor Oladipo",
          "Kyle Lowry",
          "Bam Adebayo",
          "Bam Adebayo",
          "Kyle Lowry",
          "Tyler Herro",
          "P.J. Tucker",
          "Kyle Lowry",
          "P.J. Tucker",
          "Gabe Vincent",
          "Max Strus",
          "Max Strus",
          "Kyle Lowry",
          "Jimmy Butler",
          "Max Strus",
          "Kyle Lowry",
          "Bam Adebayo",
          "Max Strus",
          "Max Strus",
          "Al Horford",
          "Marcus Smart",
          "Jaylen Brown",
          "Jaylen Brown",
          "Jaylen Brown",
          "Robert Williams III",
          "Jayson Tatum",
          "Robert Williams III",
          "Jayson Tatum",
          "Al Horford",
          "Al Horford",
          "Derrick White",
          "Jayson Tatum",
          "Al Horford",
          "Marcus Smart",
          "Jaylen Brown",
          "Al Horford",
          "Derrick White",
          "Jaylen Brown",
          "Robert Williams III",
          "Marcus Smart",
          "Al Horford",
          "Marcus Smart",
          "Jayson Tatum",
          "Al Horford",
          "Al Horford",
          "Jayson Tatum",
          "Marcus Smart",
          "Al Horford",
          "Al Horford",
          "Jayson Tatum",
          "Robert Williams III",
          "Al Horford",
          "Al Horford",
          "Al Horford",
          "Jayson Tatum",
          "Al Horford",
          "Jayson Tatum",
          "Marcus Smart",
          "Marcus Smart",
          "Jayson Tatum",
          "Al Horford",
          "Marcus Smart",
          "Jayson Tatum",
          "Al Horford",
          "Marcus Smart",
          "Jaylen Brown",
          "Jayson Tatum",
          "Derrick White",
          "Marcus Smart",
          "Jayson Tatum",
          "Derrick White",
          "Robert Williams III",
          "Al Horford",
          "Jayson Tatum",
          "Al Horford",
          "Marcus Smart",
          "Al Horford",
          "Derrick White",
          "Marcus Smart",
          "Al Horford",
          "Jayson Tatum",
          "Marcus Smart",
          "Al Horford",
          "Marcus Smart",
          "Jayson Tatum",
          "Jaylen Brown",
          "Al Horford",
          "Robert Williams III",
          "Marcus Smart",
          "Grant Williams",
          "Grant Williams",
          "Jaylen Brown",
          "Al Horford",
          "Marcus Smart",
          "Al Horford",
          "Marcus Smart",
          "Al Horford",
          "Marcus Smart",
          "Jayson Tatum",
          "Derrick White",
          "Jayson Tatum",
          "Grant Williams",
          "Marcus Smart",
          "Al Horford",
          "Al Horford",
          "Grant Williams",
          "Al Horford",
          "Al Horford",
          "Jaylen Brown",
          "Jayson Tatum",
          "Jayson Tatum",
          "Marcus Smart",
          "Al Horford",
          "Al Horford",
          "Al Horford",
          "Al Horford",
          "Marcus Smart",
          "Marcus Smart",
          "Jaylen Brown",
          "Robert Williams III",
          "Jayson Tatum",
          "Jaylen Brown",
          "Jayson Tatum",
          "Jayson Tatum",
          "Robert Williams III",
          "Al Horford",
          "Robert Williams III",
          "Al Horford",
          "Al Horford",
          "Jayson Tatum",
          "Marcus Smart",
          "Jayson Tatum",
          "Robert Williams III",
          "Payton Pritchard",
          "Jayson Tatum",
          "Robert Williams III",
          "Payton Pritchard",
          "Grant Williams",
          "Payton Pritchard",
          "Al Horford",
          "Jaylen Brown",
          "Al Horford",
          "Robert Williams III",
          "Al Horford",
          "Jayson Tatum",
          "Robert Williams III",
          "Al Horford",
          "Jaylen Brown",
          "Robert Williams III",
          "Marcus Smart",
          "Marcus Smart",
          "Jaylen Brown",
          "Al Horford",
          "Al Horford",
          "Jaylen Brown",
          "Al Horford",
          "Al Horford",
          "Grant Williams",
          "Al Horford",
          "Jaylen Brown",
          "Al Horford",
          "Jayson Tatum",
          "Jaylen Brown",
          "Marcus Smart",
          "Al Horford",
          "Al Horford",
          "Jayson Tatum",
          "Jayson Tatum",
          "Jaylen Brown",
          "Marcus Smart",
          "Al Horford",
          "Robert Williams III",
          "Grant Williams",
          "Payton Pritchard",
          "Jaylen Brown",
          "Marcus Smart",
          "Al Horford",
          "Derrick White",
          "Al Horford",
          "Al Horford",
          "Marcus Smart",
          "Marcus Smart",
          "Robert Williams III",
          "Jaylen Brown",
          "Jayson Tatum",
          "Marcus Smart",
          "Al Horford",
          "Jaylen Brown",
          "Al Horford",
          "Jaylen Brown",
          "Al Horford",
          "Jayson Tatum",
          "Jaylen Brown",
          "Marcus Smart",
          "Jayson Tatum",
          "Al Horford",
          "Jayson Tatum",
          "Jaylen Brown",
          "Marcus Smart",
          "Jayson Tatum",
          "Al Horford",
          "Jaylen Brown",
          "Jayson Tatum",
          "Grant Williams",
          "Marcus Smart",
          "Grant Williams",
          "Marcus Smart",
          "Jaylen Brown",
          "Al Horford",
          "Jaylen Brown",
          "Al Horford",
          "Luke Kornet",
          "Draymond Green",
          "Gary Payton II",
          "Klay Thompson",
          "Jordan Poole",
          "Andrew Wiggins",
          "Kevon Looney",
          "Draymond Green",
          "Andrew Wiggins",
          "Draymond Green",
          "Gary Payton II",
          "Otto Porter Jr.",
          "Gary Payton II",
          "Jordan Poole",
          "Gary Payton II",
          "Stephen Curry",
          "Jordan Poole",
          "Draymond Green",
          "Draymond Green",
          "Jordan Poole",
          "Klay Thompson",
          "Andrew Wiggins",
          "Klay Thompson",
          "Draymond Green",
          "Stephen Curry",
          "Otto Porter Jr.",
          "Andrew Wiggins",
          "Draymond Green",
          "Draymond Green",
          "Stephen Curry",
          "Gary Payton II",
          "Andrew Wiggins",
          "Draymond Green",
          "Klay Thompson",
          "Draymond Green",
          "Draymond Green",
          "Kevon Looney",
          "Draymond Green",
          "Otto Porter Jr.",
          "Draymond Green",
          "Draymond Green",
          "Otto Porter Jr.",
          "Otto Porter Jr.",
          "Kevon Looney",
          "Andrew Wiggins",
          "Andrew Wiggins",
          "Gary Payton II",
          "Andrew Wiggins",
          "Draymond Green",
          "Stephen Curry",
          "Klay Thompson",
          "Draymond Green",
          "Draymond Green",
          "Stephen Curry",
          "Draymond Green",
          "Kevon Looney",
          "Andrew Wiggins",
          "Kevon Looney",
          "Klay Thompson",
          "Jordan Poole",
          "Jordan Poole",
          "Draymond Green",
          "Stephen Curry",
          "Gary Payton II",
          "Gary Payton II",
          "Klay Thompson",
          "Klay Thompson",
          "Draymond Green",
          "Draymond Green",
          "Draymond Green",
          "Draymond Green",
          "Stephen Curry",
          "Stephen Curry",
          "Gary Payton II",
          "Otto Porter Jr.",
          "Draymond Green",
          "Andrew Wiggins",
          "Draymond Green",
          "Draymond Green",
          "Klay Thompson",
          "Draymond Green",
          "Draymond Green",
          "Klay Thompson",
          "Stephen Curry",
          "Andrew Wiggins",
          "Stephen Curry",
          "Andrew Wiggins",
          "Klay Thompson",
          "Draymond Green",
          "Otto Porter Jr.",
          "Otto Porter Jr.",
          "Stephen Curry",
          "Otto Porter Jr.",
          "Jordan Poole",
          "Andrew Wiggins",
          "Kevon Looney",
          "Stephen Curry",
          "Stephen Curry",
          "Kevon Looney",
          "Stephen Curry",
          "Draymond Green",
          "Kevon Looney",
          "Draymond Green",
          "Stephen Curry",
          "Draymond Green",
          "Stephen Curry",
          "Jordan Poole",
          "Stephen Curry",
          "Stephen Curry",
          "Jordan Poole",
          "Draymond Green",
          "Stephen Curry",
          "Otto Porter Jr.",
          "Otto Porter Jr.",
          "Otto Porter Jr.",
          "Andrew Wiggins",
          "Kevon Looney",
          "Stephen Curry",
          "Otto Porter Jr.",
          "Kevon Looney",
          "Stephen Curry",
          "Kevon Looney",
          "Stephen Curry",
          "Draymond Green",
          "Kevon Looney",
          "Draymond Green",
          "Stephen Curry",
          "Andre Iguodala",
          "Draymond Green",
          "Draymond Green",
          "Draymond Green",
          "Draymond Green",
          "Draymond Green",
          "Otto Porter Jr.",
          "Andrew Wiggins",
          "Andrew Wiggins",
          "Draymond Green",
          "Draymond Green",
          "Stephen Curry",
          "Kevon Looney",
          "Draymond Green",
          "Stephen Curry",
          "Stephen Curry",
          "Otto Porter Jr.",
          "Stephen Curry",
          "Jordan Poole",
          "Otto Porter Jr.",
          "Draymond Green",
          "Jordan Poole",
          "Draymond Green",
          "Klay Thompson",
          "Andrew Wiggins",
          "Otto Porter Jr.",
          "Jordan Poole",
          "Stephen Curry",
          "Otto Porter Jr.",
          "Draymond Green",
          "Andrew Wiggins",
          "Draymond Green",
          "Draymond Green",
          "Kevon Looney",
          "Andrew Wiggins",
          "Kevon Looney",
          "Stephen Curry",
          "Otto Porter Jr.",
          "Jordan Poole",
          "Klay Thompson",
          "Klay Thompson",
          "Draymond Green",
          "Andrew Wiggins",
          "Stephen Curry",
          "Marcus Smart",
          "Robert Williams III",
          "Marcus Smart",
          "Jaylen Brown",
          "Robert Williams III",
          "Jayson Tatum",
          "Jaylen Brown",
          "Al Horford",
          "Derrick White",
          "Jayson Tatum",
          "Jaylen Brown",
          "Al Horford",
          "Jayson Tatum",
          "Marcus Smart",
          "Jaylen Brown",
          "Marcus Smart",
          "Robert Williams III",
          "Al Horford",
          "Al Horford",
          "Jayson Tatum",
          "Al Horford",
          "Al Horford",
          "Derrick White",
          "Al Horford",
          "Grant Williams",
          "Jayson Tatum",
          "Payton Pritchard",
          "Payton Pritchard",
          "Jayson Tatum",
          "Jaylen Brown",
          "Jayson Tatum",
          "Al Horford",
          "Marcus Smart",
          "Marcus Smart",
          "Robert Williams III",
          "Marcus Smart",
          "Al Horford",
          "Jayson Tatum",
          "Al Horford",
          "Jayson Tatum",
          "Jayson Tatum",
          "Al Horford",
          "Al Horford",
          "Derrick White",
          "Marcus Smart",
          "Al Horford",
          "Derrick White",
          "Payton Pritchard",
          "Jayson Tatum",
          "Payton Pritchard",
          "Derrick White",
          "Al Horford",
          "Al Horford",
          "Jayson Tatum",
          "Marcus Smart",
          "Grant Williams",
          "Derrick White",
          "Al Horford",
          "Marcus Smart",
          "Derrick White",
          "Grant Williams",
          "Grant Williams",
          "Derrick White",
          "Payton Pritchard",
          "Jayson Tatum",
          "Payton Pritchard",
          "Grant Williams",
          "Al Horford",
          "Robert Williams III",
          "Marcus Smart",
          "Marcus Smart",
          "Marcus Smart",
          "Jaylen Brown",
          "Al Horford",
          "Marcus Smart",
          "Jayson Tatum",
          "Al Horford",
          "Jayson Tatum",
          "Grant Williams",
          "Jaylen Brown",
          "Jayson Tatum",
          "Derrick White",
          "Robert Williams III",
          "Payton Pritchard",
          "Robert Williams III",
          "Jaylen Brown",
          "Payton Pritchard",
          "Jayson Tatum",
          "Payton Pritchard",
          "Jaylen Brown",
          "Payton Pritchard",
          "Jaylen Brown",
          "Jayson Tatum",
          "Derrick White",
          "Al Horford",
          "Payton Pritchard",
          "Payton Pritchard",
          "Jaylen Brown",
          "Jaylen Brown",
          "Marcus Smart",
          "Spencer Dinwiddie",
          "Frank Ntilikina",
          "Luka Doncic",
          "Spencer Dinwiddie",
          "Dwight Powell",
          "Reggie Bullock",
          "Dorian Finney-Smith",
          "Dwight Powell",
          "Dorian Finney-Smith",
          "Maxi Kleber",
          "Davis Bertans",
          "Jalen Brunson",
          "Davis Bertans",
          "Dorian Finney-Smith",
          "Davis Bertans",
          "Maxi Kleber",
          "Maxi Kleber",
          "Dorian Finney-Smith",
          "Luka Doncic",
          "Dwight Powell",
          "Dwight Powell",
          "Jalen Brunson",
          "Frank Ntilikina",
          "Reggie Bullock",
          "Luka Doncic",
          "Spencer Dinwiddie",
          "Maxi Kleber",
          "Reggie Bullock",
          "Luka Doncic",
          "Spencer Dinwiddie",
          "Jalen Brunson",
          "Spencer Dinwiddie",
          "Davis Bertans",
          "Frank Ntilikina",
          "Davis Bertans",
          "Spencer Dinwiddie",
          "Reggie Bullock",
          "Reggie Bullock",
          "Maxi Kleber",
          "Maxi Kleber",
          "Luka Doncic",
          "Maxi Kleber",
          "Luka Doncic",
          "Maxi Kleber",
          "Dorian Finney-Smith",
          "Maxi Kleber",
          "Dorian Finney-Smith",
          "Luka Doncic",
          "Luka Doncic",
          "Dorian Finney-Smith",
          "Luka Doncic",
          "Jalen Brunson",
          "Reggie Bullock",
          "Reggie Bullock",
          "Dwight Powell",
          "Reggie Bullock",
          "Spencer Dinwiddie",
          "Frank Ntilikina",
          "Dorian Finney-Smith",
          "Maxi Kleber",
          "Frank Ntilikina",
          "Spencer Dinwiddie",
          "Dwight Powell",
          "Davis Bertans",
          "Jalen Brunson",
          "Davis Bertans",
          "Jalen Brunson",
          "Reggie Bullock",
          "Dorian Finney-Smith",
          "Jalen Brunson",
          "Davis Bertans",
          "Davis Bertans",
          "Jalen Brunson",
          "Luka Doncic",
          "Luka Doncic",
          "Jalen Brunson",
          "Maxi Kleber",
          "Jalen Brunson",
          "Jalen Brunson",
          "Jalen Brunson",
          "Dorian Finney-Smith",
          "Dorian Finney-Smith",
          "Dorian Finney-Smith",
          "Maxi Kleber",
          "Reggie Bullock",
          "Maxi Kleber",
          "Luka Doncic",
          "Spencer Dinwiddie",
          "Luka Doncic",
          "Maxi Kleber",
          "Luka Doncic",
          "Maxi Kleber",
          "Jalen Brunson",
          "Spencer Dinwiddie",
          "Maxi Kleber",
          "Luka Doncic",
          "Stephen Curry",
          "Klay Thompson",
          "Stephen Curry",
          "Moses Moody",
          "Moses Moody",
          "Jordan Poole",
          "Moses Moody",
          "Draymond Green",
          "Draymond Green",
          "Kevon Looney",
          "Draymond Green",
          "Draymond Green",
          "Andrew Wiggins",
          "Draymond Green",
          "Stephen Curry",
          "Draymond Green",
          "Kevon Looney",
          "Kevon Looney",
          "Kevon Looney",
          "Kevon Looney",
          "Klay Thompson",
          "Damion Lee",
          "Stephen Curry",
          "Damion Lee",
          "Stephen Curry",
          "Draymond Green",
          "Stephen Curry",
          "Draymond Green",
          "Kevon Looney",
          "Draymond Green",
          "Stephen Curry",
          "Draymond Green",
          "Draymond Green",
          "Jordan Poole",
          "Draymond Green",
          "Klay Thompson",
          "Draymond Green",
          "Draymond Green",
          "Draymond Green",
          "Damion Lee",
          "Damion Lee",
          "Nemanja Bjelica",
          "Nemanja Bjelica",
          "Nemanja Bjelica",
          "Jordan Poole",
          "Nemanja Bjelica",
          "Kevon Looney",
          "Draymond Green",
          "Stephen Curry",
          "Kevon Looney",
          "Stephen Curry",
          "Andrew Wiggins",
          "Draymond Green",
          "Draymond Green",
          "Andrew Wiggins",
          "Jonathan Kuminga",
          "Jonathan Kuminga",
          "Jordan Poole",
          "Klay Thompson",
          "Klay Thompson",
          "Jonathan Kuminga",
          "Jordan Poole",
          "Damion Lee",
          "Draymond Green",
          "Stephen Curry",
          "Kevon Looney",
          "Stephen Curry",
          "Stephen Curry",
          "Kevon Looney",
          "Draymond Green",
          "Jordan Poole",
          "Draymond Green",
          "Stephen Curry",
          "Klay Thompson",
          "Draymond Green",
          "Klay Thompson",
          "Draymond Green",
          "Damion Lee",
          "Stephen Curry",
          "Nemanja Bjelica",
          "Moses Moody",
          "Damion Lee",
          "Jordan Poole",
          "Nemanja Bjelica",
          "Nemanja Bjelica",
          "Moses Moody",
          "Nemanja Bjelica",
          "Jordan Poole",
          "Damion Lee",
          "Jonathan Kuminga",
          "Jordan Poole",
          "Nemanja Bjelica",
          "Moses Moody",
          "Nemanja Bjelica",
          "Reggie Bullock",
          "Jalen Brunson",
          "Reggie Bullock",
          "Davis Bertans",
          "Dorian Finney-Smith",
          "Luka Doncic",
          "Dwight Powell",
          "Dwight Powell",
          "Dwight Powell",
          "Jalen Brunson",
          "Luka Doncic",
          "Maxi Kleber",
          "Luka Doncic",
          "Maxi Kleber",
          "Frank Ntilikina",
          "Dorian Finney-Smith",
          "Frank Ntilikina",
          "Dorian Finney-Smith",
          "Jalen Brunson",
          "Jalen Brunson",
          "Dorian Finney-Smith",
          "Luka Doncic",
          "Luka Doncic",
          "Spencer Dinwiddie",
          "Maxi Kleber",
          "Spencer Dinwiddie",
          "Maxi Kleber",
          "Dwight Powell",
          "Jalen Brunson",
          "Maxi Kleber",
          "Jalen Brunson",
          "Maxi Kleber",
          "Maxi Kleber",
          "Davis Bertans",
          "Spencer Dinwiddie",
          "Dorian Finney-Smith",
          "Luka Doncic",
          "Davis Bertans",
          "Dorian Finney-Smith",
          "Spencer Dinwiddie",
          "Spencer Dinwiddie",
          "Luka Doncic",
          "Jalen Brunson",
          "Jalen Brunson",
          "Spencer Dinwiddie",
          "Luka Doncic",
          "Jalen Brunson",
          "Luka Doncic",
          "Dorian Finney-Smith",
          "Jalen Brunson",
          "Luka Doncic",
          "Dorian Finney-Smith",
          "Luka Doncic",
          "Maxi Kleber",
          "Luka Doncic",
          "Maxi Kleber",
          "Reggie Bullock",
          "Spencer Dinwiddie",
          "Reggie Bullock",
          "Reggie Bullock",
          "Spencer Dinwiddie",
          "Dwight Powell",
          "Luka Doncic",
          "Reggie Bullock",
          "Davis Bertans",
          "Maxi Kleber",
          "Luka Doncic",
          "Maxi Kleber",
          "Spencer Dinwiddie",
          "Luka Doncic",
          "Maxi Kleber",
          "Spencer Dinwiddie",
          "Jalen Brunson",
          "Reggie Bullock",
          "Jalen Brunson",
          "Luka Doncic",
          "Jalen Brunson",
          "Reggie Bullock",
          "Reggie Bullock",
          "Spencer Dinwiddie",
          "Kevon Looney",
          "Draymond Green",
          "Draymond Green",
          "Jordan Poole",
          "Stephen Curry",
          "Jordan Poole",
          "Draymond Green",
          "Jordan Poole",
          "Klay Thompson",
          "Kevon Looney",
          "Kevon Looney",
          "Draymond Green",
          "Draymond Green",
          "Andrew Wiggins",
          "Draymond Green",
          "Draymond Green",
          "Otto Porter Jr.",
          "Kevon Looney",
          "Otto Porter Jr.",
          "Kevon Looney",
          "Draymond Green",
          "Kevon Looney",
          "Klay Thompson",
          "Stephen Curry",
          "Draymond Green",
          "Draymond Green",
          "Klay Thompson",
          "Jordan Poole",
          "Jordan Poole",
          "Kevon Looney",
          "Kevon Looney",
          "Jordan Poole",
          "Andrew Wiggins",
          "Draymond Green",
          "Draymond Green",
          "Draymond Green",
          "Draymond Green",
          "Draymond Green",
          "Klay Thompson",
          "Draymond Green",
          "Andrew Wiggins",
          "Kevon Looney",
          "Andrew Wiggins",
          "Draymond Green",
          "Andrew Wiggins",
          "Stephen Curry",
          "Andrew Wiggins",
          "Stephen Curry",
          "Draymond Green",
          "Stephen Curry",
          "Klay Thompson",
          "Stephen Curry",
          "Draymond Green",
          "Kevon Looney",
          "Kevon Looney",
          "Stephen Curry",
          "Draymond Green",
          "Stephen Curry",
          "Andrew Wiggins",
          "Draymond Green",
          "Stephen Curry",
          "Draymond Green",
          "Otto Porter Jr.",
          "Stephen Curry",
          "Kevon Looney",
          "Jordan Poole",
          "Klay Thompson",
          "Klay Thompson",
          "Jordan Poole",
          "Juan Toscano-Anderson",
          "Jordan Poole",
          "Kevon Looney",
          "Andrew Wiggins",
          "Kevon Looney",
          "Klay Thompson",
          "Kevon Looney",
          "Draymond Green",
          "Stephen Curry",
          "Klay Thompson",
          "Kevon Looney",
          "Andrew Wiggins",
          "Andrew Wiggins",
          "Andrew Wiggins",
          "Jordan Poole",
          "Draymond Green",
          "Jordan Poole",
          "Jordan Poole",
          "Draymond Green",
          "Jordan Poole",
          "Otto Porter Jr.",
          "Kevon Looney",
          "Draymond Green",
          "Kevon Looney",
          "Stephen Curry",
          "Draymond Green",
          "Andrew Wiggins",
          "Kevon Looney",
          "Kevon Looney",
          "Stephen Curry",
          "Draymond Green",
          "Kevon Looney",
          "Otto Porter Jr.",
          "Draymond Green",
          "Kevon Looney",
          "Kevon Looney",
          "Otto Porter Jr.",
          "Draymond Green",
          "Klay Thompson",
          "Otto Porter Jr.",
          "Draymond Green",
          "Klay Thompson",
          "Draymond Green",
          "Kevon Looney",
          "Draymond Green",
          "Kevon Looney",
          "Draymond Green",
          "Kevon Looney",
          "Otto Porter Jr.",
          "Otto Porter Jr.",
          "Kevon Looney",
          "Otto Porter Jr.",
          "Draymond Green",
          "Andrew Wiggins",
          "Draymond Green",
          "Stephen Curry",
          "Kevon Looney",
          "Draymond Green",
          "Stephen Curry",
          "Draymond Green",
          "Jordan Poole",
          "Otto Porter Jr.",
          "Jordan Poole",
          "Otto Porter Jr.",
          "Kevon Looney",
          "Otto Porter Jr.",
          "Otto Porter Jr.",
          "Andrew Wiggins",
          "Stephen Curry",
          "Kevon Looney",
          "Stephen Curry",
          "Klay Thompson",
          "Draymond Green",
          "Klay Thompson",
          "Draymond Green",
          "Draymond Green",
          "Andrew Wiggins",
          "Draymond Green",
          "Kevon Looney",
          "Andrew Wiggins",
          "Otto Porter Jr.",
          "Kevon Looney",
          "Otto Porter Jr.",
          "Moses Moody",
          "Kevon Looney",
          "Moses Moody",
          "Kevon Looney",
          "Luka Doncic",
          "Maxi Kleber",
          "Jalen Brunson",
          "Maxi Kleber",
          "Davis Bertans",
          "Jalen Brunson",
          "Luka Doncic",
          "Dorian Finney-Smith",
          "Luka Doncic",
          "Luka Doncic",
          "Jalen Brunson",
          "Reggie Bullock",
          "Luka Doncic",
          "Frank Ntilikina",
          "Maxi Kleber",
          "Spencer Dinwiddie",
          "Luka Doncic",
          "Luka Doncic",
          "Reggie Bullock",
          "Jalen Brunson",
          "Reggie Bullock",
          "Dorian Finney-Smith",
          "Dorian Finney-Smith",
          "Jalen Brunson",
          "Dorian Finney-Smith",
          "Maxi Kleber",
          "Maxi Kleber",
          "Maxi Kleber",
          "Maxi Kleber",
          "Luka Doncic",
          "Dwight Powell",
          "Dwight Powell",
          "Jalen Brunson",
          "Maxi Kleber",
          "Maxi Kleber",
          "Maxi Kleber",
          "Reggie Bullock",
          "Spencer Dinwiddie",
          "Maxi Kleber",
          "Dorian Finney-Smith",
          "Maxi Kleber",
          "Jalen Brunson",
          "Jalen Brunson",
          "Luka Doncic",
          "Maxi Kleber",
          "Reggie Bullock",
          "Luka Doncic",
          "Dwight Powell",
          "Reggie Bullock",
          "Jalen Brunson",
          "Reggie Bullock",
          "Dorian Finney-Smith",
          "Jalen Brunson",
          "Luka Doncic",
          "Dorian Finney-Smith",
          "Spencer Dinwiddie",
          "Maxi Kleber",
          "Reggie Bullock",
          "Dorian Finney-Smith",
          "Jalen Brunson",
          "Spencer Dinwiddie",
          "Spencer Dinwiddie",
          "Davis Bertans",
          "Josh Green",
          "Dorian Finney-Smith",
          "Jalen Brunson",
          "Jalen Brunson",
          "Jalen Brunson",
          "Luka Doncic",
          "Jalen Brunson",
          "Luka Doncic",
          "Reggie Bullock",
          "Maxi Kleber",
          "Luka Doncic",
          "Spencer Dinwiddie",
          "Dorian Finney-Smith",
          "Dorian Finney-Smith",
          "Jalen Brunson",
          "Jalen Brunson",
          "Stephen Curry",
          "Stephen Curry",
          "Stephen Curry",
          "Jordan Poole",
          "Klay Thompson",
          "Klay Thompson",
          "Draymond Green",
          "Draymond Green",
          "Stephen Curry",
          "Draymond Green",
          "Kevon Looney",
          "Andrew Wiggins",
          "Draymond Green",
          "Nemanja Bjelica",
          "Draymond Green",
          "Nemanja Bjelica",
          "Draymond Green",
          "Kevon Looney",
          "Klay Thompson",
          "Nemanja Bjelica",
          "Draymond Green",
          "Stephen Curry",
          "Jordan Poole",
          "Draymond Green",
          "Kevon Looney",
          "Draymond Green",
          "Jordan Poole",
          "Klay Thompson",
          "Kevon Looney",
          "Klay Thompson",
          "Nemanja Bjelica",
          "Jordan Poole",
          "Draymond Green",
          "Draymond Green",
          "Nemanja Bjelica",
          "Nemanja Bjelica",
          "Draymond Green",
          "Klay Thompson",
          "Draymond Green",
          "Stephen Curry",
          "Andrew Wiggins",
          "Draymond Green",
          "Kevon Looney",
          "Klay Thompson",
          "Kevon Looney",
          "Stephen Curry",
          "Jordan Poole",
          "Kevon Looney",
          "Stephen Curry",
          "Kevon Looney",
          "Draymond Green",
          "Jordan Poole",
          "Andrew Wiggins",
          "Nemanja Bjelica",
          "Draymond Green",
          "Nemanja Bjelica",
          "Jordan Poole",
          "Nemanja Bjelica",
          "Draymond Green",
          "Kevon Looney",
          "Moses Moody",
          "Nemanja Bjelica",
          "Moses Moody",
          "Stephen Curry",
          "Jordan Poole",
          "Draymond Green",
          "Stephen Curry",
          "Draymond Green",
          "Kevon Looney",
          "Draymond Green",
          "Draymond Green",
          "Draymond Green",
          "Jordan Poole",
          "Klay Thompson",
          "Kevon Looney",
          "Jordan Poole",
          "Andrew Wiggins",
          "Kevon Looney",
          "Kevon Looney",
          "Andrew Wiggins",
          "Maxi Kleber",
          "Frank Ntilikina",
          "Maxi Kleber",
          "Maxi Kleber",
          "Sterling Brown",
          "Jalen Brunson",
          "Dwight Powell",
          "Reggie Bullock",
          "Reggie Bullock",
          "Luka Doncic",
          "Dorian Finney-Smith",
          "Dorian Finney-Smith",
          "Maxi Kleber",
          "Frank Ntilikina",
          "Spencer Dinwiddie",
          "Frank Ntilikina",
          "Jalen Brunson",
          "Spencer Dinwiddie",
          "Spencer Dinwiddie",
          "Jalen Brunson",
          "Davis Bertans",
          "Jalen Brunson",
          "Spencer Dinwiddie",
          "Reggie Bullock",
          "Dorian Finney-Smith",
          "Maxi Kleber",
          "Luka Doncic",
          "Frank Ntilikina",
          "Luka Doncic",
          "Luka Doncic",
          "Luka Doncic",
          "Maxi Kleber",
          "Maxi Kleber",
          "Luka Doncic",
          "Maxi Kleber",
          "Dorian Finney-Smith",
          "Dorian Finney-Smith",
          "Dorian Finney-Smith",
          "Maxi Kleber",
          "Jalen Brunson",
          "Dorian Finney-Smith",
          "Jalen Brunson",
          "Luka Doncic",
          "Maxi Kleber",
          "Reggie Bullock",
          "Dorian Finney-Smith",
          "Spencer Dinwiddie",
          "Luka Doncic",
          "Luka Doncic",
          "Dwight Powell",
          "Jalen Brunson",
          "Dorian Finney-Smith",
          "Dorian Finney-Smith",
          "Luka Doncic",
          "Jalen Brunson",
          "Luka Doncic",
          "Maxi Kleber",
          "Maxi Kleber",
          "Spencer Dinwiddie",
          "Maxi Kleber",
          "Davis Bertans",
          "Jalen Brunson",
          "Dorian Finney-Smith",
          "Frank Ntilikina",
          "Maxi Kleber",
          "Maxi Kleber",
          "Luka Doncic",
          "Reggie Bullock",
          "Dorian Finney-Smith",
          "Luka Doncic",
          "Maxi Kleber",
          "Maxi Kleber",
          "Dorian Finney-Smith",
          "Reggie Bullock",
          "Luka Doncic",
          "Spencer Dinwiddie",
          "Reggie Bullock",
          "Luka Doncic",
          "Reggie Bullock",
          "Reggie Bullock",
          "Jalen Brunson",
          "Reggie Bullock",
          "Bam Adebayo",
          "P.J. Tucker",
          "Jimmy Butler",
          "Max Strus",
          "Victor Oladipo",
          "Tyler Herro",
          "Victor Oladipo",
          "Dewayne Dedmon",
          "P.J. Tucker",
          "Gabe Vincent",
          "Max Strus",
          "Bam Adebayo",
          "Gabe Vincent",
          "Bam Adebayo",
          "Jimmy Butler",
          "Max Strus",
          "Dewayne Dedmon",
          "Dewayne Dedmon",
          "Dewayne Dedmon",
          "Max Strus",
          "Max Strus",
          "Victor Oladipo",
          "Tyler Herro",
          "Max Strus",
          "Tyler Herro",
          "Tyler Herro",
          "Max Strus",
          "Bam Adebayo",
          "Jimmy Butler",
          "P.J. Tucker",
          "Bam Adebayo",
          "Max Strus",
          "Gabe Vincent",
          "Bam Adebayo",
          "Bam Adebayo",
          "Jimmy Butler",
          "Victor Oladipo",
          "Victor Oladipo",
          "Dewayne Dedmon",
          "Dewayne Dedmon",
          "Duncan Robinson",
          "Duncan Robinson",
          "Caleb Martin",
          "Tyler Herro",
          "Haywood Highsmith",
          "Omer Yurtseven",
          "Victor Oladipo",
          "Duncan Robinson",
          "P.J. Tucker",
          "Max Strus",
          "Jimmy Butler",
          "Max Strus",
          "P.J. Tucker",
          "Gabe Vincent",
          "Bam Adebayo",
          "Bam Adebayo",
          "Bam Adebayo",
          "Tyler Herro",
          "Gabe Vincent",
          "Max Strus",
          "Jimmy Butler",
          "P.J. Tucker",
          "Gabe Vincent",
          "Bam Adebayo",
          "Max Strus",
          "Gabe Vincent",
          "Victor Oladipo",
          "Max Strus",
          "Bam Adebayo",
          "Dewayne Dedmon",
          "Tyler Herro",
          "Dewayne Dedmon",
          "Omer Yurtseven",
          "Duncan Robinson",
          "Duncan Robinson",
          "Caleb Martin",
          "Omer Yurtseven",
          "Haywood Highsmith",
          "Duncan Robinson",
          "Omer Yurtseven",
          "Duncan Robinson",
          "Victor Oladipo",
          "Duncan Robinson",
          "Marcus Smart",
          "Grant Williams",
          "Jaylen Brown",
          "Jayson Tatum",
          "Robert Williams III",
          "Marcus Smart",
          "Marcus Smart",
          "Payton Pritchard",
          "Marcus Smart",
          "Payton Pritchard",
          "Payton Pritchard",
          "Robert Williams III",
          "Robert Williams III",
          "Jaylen Brown",
          "Al Horford",
          "Robert Williams III",
          "Jayson Tatum",
          "Al Horford",
          "Al Horford",
          "Marcus Smart",
          "Jayson Tatum",
          "Payton Pritchard",
          "Grant Williams",
          "Marcus Smart",
          "Payton Pritchard",
          "Robert Williams III",
          "Grant Williams",
          "Jaylen Brown",
          "Al Horford",
          "Al Horford",
          "Robert Williams III",
          "Jayson Tatum",
          "Al Horford",
          "Grant Williams",
          "Al Horford",
          "Jayson Tatum",
          "Payton Pritchard",
          "Grant Williams",
          "Marcus Smart",
          "Al Horford",
          "Al Horford",
          "Grant Williams",
          "Marcus Smart",
          "Payton Pritchard",
          "Nik Stauskas",
          "Aaron Nesmith",
          "Aaron Nesmith",
          "Aaron Nesmith",
          "Nik Stauskas",
          "Al Horford",
          "Marcus Smart",
          "Robert Williams III",
          "Jayson Tatum",
          "Marcus Smart",
          "Jayson Tatum",
          "Jaylen Brown",
          "Jaylen Brown",
          "Marcus Smart",
          "Jaylen Brown",
          "Grant Williams",
          "Grant Williams",
          "Marcus Smart",
          "Al Horford",
          "Al Horford",
          "Marcus Smart",
          "Grant Williams",
          "Marcus Smart",
          "Payton Pritchard",
          "Jaylen Brown",
          "Marcus Smart",
          "Jayson Tatum",
          "Marcus Smart",
          "Jayson Tatum",
          "Robert Williams III",
          "Al Horford",
          "Marcus Smart",
          "Grant Williams",
          "Robert Williams III",
          "Marcus Smart",
          "Marcus Smart",
          "Jaylen Brown",
          "Marcus Smart",
          "Al Horford",
          "Al Horford",
          "Payton Pritchard",
          "Al Horford",
          "Nik Stauskas",
          "Luke Kornet",
          "Nik Stauskas",
          "Daniel Theis",
          "Aaron Nesmith",
          "P.J. Tucker",
          "Jimmy Butler",
          "P.J. Tucker",
          "Max Strus",
          "Duncan Robinson",
          "Victor Oladipo",
          "Duncan Robinson",
          "Victor Oladipo",
          "Gabe Vincent",
          "Jimmy Butler",
          "Duncan Robinson",
          "Duncan Robinson",
          "Duncan Robinson",
          "Jimmy Butler",
          "P.J. Tucker",
          "Max Strus",
          "Kyle Lowry",
          "Bam Adebayo",
          "Max Strus",
          "Max Strus",
          "Kyle Lowry",
          "Jimmy Butler",
          "Victor Oladipo",
          "P.J. Tucker",
          "P.J. Tucker",
          "Kyle Lowry",
          "Max Strus",
          "Bam Adebayo",
          "P.J. Tucker",
          "Kyle Lowry",
          "Bam Adebayo",
          "Duncan Robinson",
          "Jimmy Butler",
          "Victor Oladipo",
          "Gabe Vincent",
          "Bam Adebayo",
          "Gabe Vincent",
          "Max Strus",
          "Gabe Vincent",
          "Duncan Robinson",
          "Kyle Lowry",
          "Jimmy Butler",
          "Jimmy Butler",
          "Jimmy Butler",
          "Max Strus",
          "Kyle Lowry",
          "P.J. Tucker",
          "Max Strus",
          "Kyle Lowry",
          "Kyle Lowry",
          "Jimmy Butler",
          "Caleb Martin",
          "Victor Oladipo",
          "Caleb Martin",
          "Kyle Lowry",
          "Duncan Robinson",
          "P.J. Tucker",
          "Bam Adebayo",
          "Max Strus",
          "Bam Adebayo",
          "Kyle Lowry",
          "Jimmy Butler",
          "Bam Adebayo",
          "P.J. Tucker",
          "Victor Oladipo",
          "Jimmy Butler",
          "Caleb Martin",
          "Duncan Robinson",
          "Kyle Lowry",
          "Bam Adebayo",
          "Jimmy Butler",
          "Duncan Robinson",
          "Gabe Vincent",
          "Gabe Vincent",
          "Haywood Highsmith",
          "Derrick White",
          "Payton Pritchard",
          "Derrick White",
          "Robert Williams III",
          "Al Horford",
          "Jaylen Brown",
          "Jayson Tatum",
          "Al Horford",
          "Jaylen Brown",
          "Al Horford",
          "Grant Williams",
          "Jayson Tatum",
          "Al Horford",
          "Grant Williams",
          "Marcus Smart",
          "Jayson Tatum",
          "Jaylen Brown",
          "Al Horford",
          "Robert Williams III",
          "Derrick White",
          "Jaylen Brown",
          "Al Horford",
          "Marcus Smart",
          "Jayson Tatum",
          "Robert Williams III",
          "Al Horford",
          "Jaylen Brown",
          "Al Horford",
          "Robert Williams III",
          "Al Horford",
          "Jaylen Brown",
          "Al Horford",
          "Al Horford",
          "Marcus Smart",
          "Al Horford",
          "Robert Williams III",
          "Jayson Tatum",
          "Al Horford",
          "Al Horford",
          "Marcus Smart",
          "Robert Williams III",
          "Jaylen Brown",
          "Jayson Tatum",
          "Jaylen Brown",
          "Derrick White",
          "Robert Williams III",
          "Jayson Tatum",
          "Al Horford",
          "Derrick White",
          "Grant Williams",
          "Grant Williams",
          "Payton Pritchard",
          "Marcus Smart",
          "Grant Williams",
          "Payton Pritchard",
          "Jayson Tatum",
          "Payton Pritchard",
          "Robert Williams III",
          "Jayson Tatum",
          "Marcus Smart",
          "Grant Williams",
          "Jayson Tatum",
          "Jaylen Brown",
          "Marcus Smart",
          "Jaylen Brown",
          "Robert Williams III",
          "Derrick White",
          "Marcus Smart",
          "Al Horford",
          "Jayson Tatum",
          "Marcus Smart",
          "Grant Williams",
          "Jaylen Brown",
          "Marcus Smart",
          "Marcus Smart",
          "Jayson Tatum",
          "Marcus Smart",
          "Jayson Tatum",
          "Jayson Tatum",
          "Derrick White",
          "Robert Williams III",
          "Derrick White",
          "Jayson Tatum",
          "Derrick White",
          "Al Horford",
          "Derrick White",
          "Robert Williams III",
          "Marcus Smart",
          "Jaylen Brown",
          "Al Horford",
          "Derrick White",
          "Jayson Tatum",
          "Al Horford",
          "Jayson Tatum",
          "Payton Pritchard",
          "Jayson Tatum",
          "Al Horford",
          "Jayson Tatum",
          "Al Horford",
          "Grant Williams",
          "Jayson Tatum",
          "Grant Williams",
          "Jayson Tatum",
          "Jayson Tatum",
          "Grant Williams",
          "Derrick White",
          "Grant Williams",
          "Grant Williams",
          "Al Horford",
          "Jaylen Brown",
          "Payton Pritchard",
          "Jayson Tatum",
          "Payton Pritchard",
          "Jayson Tatum",
          "Grant Williams",
          "Payton Pritchard",
          "Derrick White",
          "Derrick White",
          "Payton Pritchard",
          "Payton Pritchard",
          "Derrick White",
          "Grant Williams",
          "Grant Williams",
          "Aaron Nesmith",
          "Daniel Theis",
          "Aaron Nesmith",
          "Robert Williams III",
          "Jaylen Brown",
          "Jayson Tatum",
          "Al Horford",
          "Jaylen Brown",
          "Jaylen Brown",
          "Derrick White",
          "Robert Williams III",
          "Jayson Tatum",
          "Al Horford",
          "Derrick White",
          "Payton Pritchard",
          "Derrick White",
          "Al Horford",
          "Al Horford",
          "Derrick White",
          "Derrick White",
          "Al Horford",
          "Derrick White",
          "Jaylen Brown",
          "Derrick White",
          "Al Horford",
          "Grant Williams",
          "Derrick White",
          "Jaylen Brown",
          "Robert Williams III",
          "Jayson Tatum",
          "Derrick White",
          "Jayson Tatum",
          "Al Horford",
          "Derrick White",
          "Jayson Tatum",
          "Al Horford",
          "Al Horford",
          "Al Horford",
          "Derrick White",
          "Derrick White",
          "Derrick White",
          "Jaylen Brown",
          "Al Horford",
          "Payton Pritchard",
          "Al Horford",
          "Derrick White",
          "Al Horford",
          "Al Horford",
          "Grant Williams",
          "Grant Williams",
          "Payton Pritchard",
          "Daniel Theis",
          "Payton Pritchard",
          "Aaron Nesmith",
          "Payton Pritchard",
          "Grant Williams",
          "Payton Pritchard",
          "Aaron Nesmith",
          "Daniel Theis",
          "Aaron Nesmith",
          "Aaron Nesmith",
          "Aaron Nesmith",
          "Daniel Theis",
          "Dewayne Dedmon",
          "Dewayne Dedmon",
          "Gabe Vincent",
          "Dewayne Dedmon",
          "Caleb Martin",
          "Caleb Martin",
          "Gabe Vincent",
          "Duncan Robinson",
          "Bam Adebayo",
          "Kyle Lowry",
          "Jimmy Butler",
          "Bam Adebayo",
          "Kyle Lowry",
          "Bam Adebayo",
          "P.J. Tucker",
          "Kyle Lowry",
          "Bam Adebayo",
          "Jimmy Butler",
          "Bam Adebayo",
          "Dewayne Dedmon",
          "Duncan Robinson",
          "Duncan Robinson",
          "Gabe Vincent",
          "Bam Adebayo",
          "Duncan Robinson",
          "Max Strus",
          "Kyle Lowry",
          "Victor Oladipo",
          "Max Strus",
          "Jimmy Butler",
          "P.J. Tucker",
          "Kyle Lowry",
          "Kyle Lowry",
          "Victor Oladipo",
          "Gabe Vincent",
          "Caleb Martin",
          "Duncan Robinson",
          "Dewayne Dedmon",
          "Victor Oladipo",
          "Dewayne Dedmon",
          "Caleb Martin",
          "Caleb Martin",
          "Haywood Highsmith",
          "Kyle Lowry",
          "Kyle Lowry",
          "Duncan Robinson",
          "Victor Oladipo",
          "Gabe Vincent",
          "Caleb Martin",
          "Bam Adebayo",
          "Bam Adebayo",
          "Caleb Martin",
          "Bam Adebayo",
          "Kyle Lowry",
          "Jimmy Butler",
          "Bam Adebayo",
          "P.J. Tucker",
          "Caleb Martin",
          "Kyle Lowry",
          "Jimmy Butler",
          "P.J. Tucker",
          "Kyle Lowry",
          "Max Strus",
          "Jimmy Butler",
          "Victor Oladipo",
          "Kyle Lowry",
          "Kyle Lowry",
          "Jimmy Butler",
          "Caleb Martin",
          "Caleb Martin",
          "Gabe Vincent",
          "Duncan Robinson",
          "Victor Oladipo",
          "Bam Adebayo",
          "Victor Oladipo",
          "Dewayne Dedmon",
          "Gabe Vincent",
          "Duncan Robinson",
          "Victor Oladipo",
          "Omer Yurtseven",
          "Duncan Robinson",
          "Gabe Vincent",
          "Jaylen Brown",
          "Marcus Smart",
          "Derrick White",
          "Al Horford",
          "Grant Williams",
          "Jayson Tatum",
          "Marcus Smart",
          "Al Horford",
          "Jayson Tatum",
          "Daniel Theis",
          "Al Horford",
          "Marcus Smart",
          "Al Horford",
          "Daniel Theis",
          "Al Horford",
          "Al Horford",
          "Jaylen Brown",
          "Marcus Smart",
          "Marcus Smart",
          "Al Horford",
          "Daniel Theis",
          "Daniel Theis",
          "Marcus Smart",
          "Al Horford",
          "Payton Pritchard",
          "Al Horford",
          "Marcus Smart",
          "Jayson Tatum",
          "Marcus Smart",
          "Payton Pritchard",
          "Al Horford",
          "Jayson Tatum",
          "Al Horford",
          "Jayson Tatum",
          "Jayson Tatum",
          "Jaylen Brown",
          "Grant Williams",
          "Al Horford",
          "Payton Pritchard",
          "Jayson Tatum",
          "Al Horford",
          "Jaylen Brown",
          "Al Horford",
          "Grant Williams",
          "Al Horford",
          "Marcus Smart",
          "Jayson Tatum",
          "Jayson Tatum",
          "Al Horford",
          "Marcus Smart",
          "Jayson Tatum",
          "Al Horford",
          "Grant Williams",
          "Al Horford",
          "Marcus Smart",
          "Jaylen Brown",
          "Daniel Theis",
          "Marcus Smart",
          "Grant Williams",
          "Daniel Theis",
          "Jaylen Brown",
          "Grant Williams",
          "Al Horford",
          "Al Horford",
          "Payton Pritchard",
          "Al Horford",
          "Al Horford",
          "Al Horford",
          "Jaylen Brown",
          "Payton Pritchard",
          "Jaylen Brown",
          "Grant Williams",
          "Jaylen Brown",
          "Marcus Smart",
          "Jaylen Brown",
          "Marcus Smart",
          "Marcus Smart",
          "Al Horford",
          "Jayson Tatum",
          "Al Horford",
          "Grant Williams",
          "Jaylen Brown",
          "Jayson Tatum",
          "Jaylen Brown",
          "Payton Pritchard",
          "Jayson Tatum",
          "Jaylen Brown",
          "Jayson Tatum",
          "Jayson Tatum",
          "Jaylen Brown",
          "Al Horford",
          "Jaylen Brown",
          "Marcus Smart",
          "Grant Williams",
          "Jayson Tatum",
          "Jaylen Brown",
          "Al Horford",
          "Marcus Smart",
          "Grant Williams",
          "Marcus Smart",
          "Grant Williams",
          "Daniel Theis",
          "Marcus Smart",
          "Grant Williams",
          "Jaylen Brown",
          "Jayson Tatum",
          "Al Horford",
          "Derrick White",
          "Al Horford",
          "Al Horford",
          "Al Horford",
          "Marcus Smart",
          "Jayson Tatum",
          "Max Strus",
          "Max Strus",
          "Kyle Lowry",
          "Bam Adebayo",
          "Jimmy Butler",
          "Jimmy Butler",
          "Bam Adebayo",
          "Max Strus",
          "Gabe Vincent",
          "Bam Adebayo",
          "Gabe Vincent",
          "Jimmy Butler",
          "Caleb Martin",
          "Kyle Lowry",
          "Kyle Lowry",
          "Jimmy Butler",
          "P.J. Tucker",
          "Jimmy Butler",
          "Gabe Vincent",
          "Victor Oladipo",
          "P.J. Tucker",
          "Bam Adebayo",
          "Victor Oladipo",
          "Tyler Herro",
          "Victor Oladipo",
          "Bam Adebayo",
          "Kyle Lowry",
          "P.J. Tucker",
          "Kyle Lowry",
          "Bam Adebayo",
          "Bam Adebayo",
          "Kyle Lowry",
          "Jimmy Butler",
          "Gabe Vincent",
          "Tyler Herro",
          "Jimmy Butler",
          "Bam Adebayo",
          "Tyler Herro",
          "Duncan Robinson",
          "Kyle Lowry",
          "Jimmy Butler",
          "Kyle Lowry",
          "Kyle Lowry",
          "Max Strus",
          "Max Strus",
          "Max Strus",
          "Kyle Lowry",
          "Victor Oladipo",
          "Victor Oladipo",
          "Bam Adebayo",
          "Tyler Herro",
          "Kyle Lowry",
          "Bam Adebayo",
          "Gabe Vincent",
          "Gabe Vincent",
          "Victor Oladipo",
          "Max Strus",
          "Kyle Lowry",
          "Jimmy Butler",
          "P.J. Tucker",
          "Jimmy Butler",
          "Kyle Lowry",
          "Bam Adebayo",
          "Jimmy Butler",
          "Max Strus",
          "Gabe Vincent",
          "Dewayne Dedmon",
          "Dewayne Dedmon",
          "Gabe Vincent",
          "Gabe Vincent",
          "Tyler Herro",
          "Duncan Robinson",
          "Bam Adebayo",
          "P.J. Tucker",
          "Bam Adebayo",
          "P.J. Tucker",
          "Kyle Lowry",
          "Jimmy Butler",
          "Jimmy Butler",
          "P.J. Tucker",
          "Bam Adebayo",
          "Bam Adebayo",
          "Caleb Martin",
          "P.J. Tucker",
          "Bam Adebayo",
          "Marcus Smart",
          "Derrick White",
          "Jayson Tatum",
          "Derrick White",
          "Robert Williams III",
          "Al Horford",
          "Jayson Tatum",
          "Jaylen Brown",
          "Jayson Tatum",
          "Derrick White",
          "Al Horford",
          "Al Horford",
          "Jayson Tatum",
          "Jaylen Brown",
          "Al Horford",
          "Robert Williams III",
          "Robert Williams III",
          "Marcus Smart",
          "Marcus Smart",
          "Jayson Tatum",
          "Al Horford",
          "Robert Williams III",
          "Robert Williams III",
          "Al Horford",
          "Jayson Tatum",
          "Jayson Tatum",
          "Marcus Smart",
          "Jayson Tatum",
          "Robert Williams III",
          "Marcus Smart",
          "Marcus Smart",
          "Grant Williams",
          "Jaylen Brown",
          "Marcus Smart",
          "Al Horford",
          "Al Horford",
          "Jayson Tatum",
          "Robert Williams III",
          "Jayson Tatum",
          "Jayson Tatum",
          "Jayson Tatum",
          "Robert Williams III",
          "Jayson Tatum",
          "Jaylen Brown",
          "Robert Williams III",
          "Jaylen Brown",
          "Jayson Tatum",
          "Jayson Tatum",
          "Marcus Smart",
          "Robert Williams III",
          "Robert Williams III",
          "Al Horford",
          "Al Horford",
          "Jaylen Brown",
          "Jaylen Brown",
          "Al Horford",
          "Robert Williams III",
          "Jayson Tatum",
          "Grant Williams",
          "Robert Williams III",
          "Payton Pritchard",
          "Robert Williams III",
          "Jayson Tatum",
          "Robert Williams III",
          "Jayson Tatum",
          "Marcus Smart",
          "Jaylen Brown",
          "Jaylen Brown",
          "Robert Williams III",
          "Marcus Smart",
          "Payton Pritchard",
          "Al Horford",
          "Jayson Tatum",
          "Jayson Tatum",
          "Derrick White",
          "Al Horford",
          "Al Horford",
          "Marcus Smart",
          "Jayson Tatum",
          "Al Horford",
          "Marcus Smart",
          "Robert Williams III",
          "Marcus Smart",
          "Jayson Tatum",
          "Marcus Smart",
          "Al Horford",
          "Derrick White",
          "Marcus Smart",
          "Robert Williams III",
          "Jaylen Brown",
          "Jaylen Brown",
          "Marcus Smart",
          "Draymond Green",
          "Stephen Curry",
          "Andrew Wiggins",
          "Jordan Poole",
          "Nemanja Bjelica",
          "Draymond Green",
          "Gary Payton II",
          "Stephen Curry",
          "Kevon Looney",
          "Klay Thompson",
          "Draymond Green",
          "Otto Porter Jr.",
          "Stephen Curry",
          "Andrew Wiggins",
          "Draymond Green",
          "Otto Porter Jr.",
          "Draymond Green",
          "Draymond Green",
          "Draymond Green",
          "Kevon Looney",
          "Kevon Looney",
          "Jordan Poole",
          "Gary Payton II",
          "Draymond Green",
          "Jordan Poole",
          "Draymond Green",
          "Klay Thompson",
          "Draymond Green",
          "Klay Thompson",
          "Stephen Curry",
          "Kevon Looney",
          "Andrew Wiggins",
          "Otto Porter Jr.",
          "Stephen Curry",
          "Andrew Wiggins",
          "Andrew Wiggins",
          "Stephen Curry",
          "Draymond Green",
          "Kevon Looney",
          "Kevon Looney",
          "Jordan Poole",
          "Jordan Poole",
          "Draymond Green",
          "Nemanja Bjelica",
          "Nemanja Bjelica",
          "Stephen Curry",
          "Stephen Curry",
          "Draymond Green",
          "Stephen Curry",
          "Otto Porter Jr.",
          "Kevon Looney",
          "Draymond Green",
          "Kevon Looney",
          "Kevon Looney",
          "Kevon Looney",
          "Stephen Curry",
          "Andrew Wiggins",
          "Stephen Curry",
          "Andrew Wiggins",
          "Andrew Wiggins",
          "Draymond Green",
          "Nemanja Bjelica",
          "Jordan Poole",
          "Andrew Wiggins",
          "Jordan Poole",
          "Andrew Wiggins",
          "Kevon Looney",
          "Kevon Looney",
          "Stephen Curry",
          "Andrew Wiggins",
          "Klay Thompson",
          "Andrew Wiggins",
          "Andrew Wiggins",
          "Stephen Curry",
          "Otto Porter Jr.",
          "Draymond Green",
          "Andrew Wiggins",
          "Andrew Wiggins",
          "Kevon Looney",
          "Gary Payton II",
          "Andrew Wiggins",
          "Kevon Looney",
          "Jordan Poole",
          "Gary Payton II",
          "Gary Payton II",
          "Draymond Green",
          "Andrew Wiggins",
          "Andrew Wiggins",
          "Jordan Poole",
          "Stephen Curry",
          "Draymond Green",
          "Andrew Wiggins",
          "Stephen Curry",
          "Andrew Wiggins",
          "Klay Thompson",
          "Stephen Curry",
          "Derrick White",
          "Marcus Smart",
          "Jayson Tatum",
          "Al Horford",
          "Jayson Tatum",
          "Robert Williams III",
          "Robert Williams III",
          "Robert Williams III",
          "Payton Pritchard",
          "Jayson Tatum",
          "Grant Williams",
          "Robert Williams III",
          "Robert Williams III",
          "Marcus Smart",
          "Al Horford",
          "Derrick White",
          "Al Horford",
          "Robert Williams III",
          "Jaylen Brown",
          "Grant Williams",
          "Derrick White",
          "Grant Williams",
          "Jaylen Brown",
          "Payton Pritchard",
          "Payton Pritchard",
          "Al Horford",
          "Al Horford",
          "Derrick White",
          "Marcus Smart",
          "Al Horford",
          "Jayson Tatum",
          "Derrick White",
          "Marcus Smart",
          "Jaylen Brown",
          "Robert Williams III",
          "Robert Williams III",
          "Robert Williams III",
          "Derrick White",
          "Marcus Smart",
          "Al Horford",
          "Derrick White",
          "Al Horford",
          "Jaylen Brown",
          "Jayson Tatum",
          "Robert Williams III",
          "Jayson Tatum",
          "Robert Williams III",
          "Jaylen Brown",
          "Al Horford",
          "Al Horford",
          "Robert Williams III",
          "Al Horford",
          "Marcus Smart",
          "Jayson Tatum",
          "Jayson Tatum",
          "Jayson Tatum",
          "Marcus Smart",
          "Al Horford",
          "Jaylen Brown",
          "Grant Williams",
          "Marcus Smart",
          "Robert Williams III",
          "Al Horford",
          "Jaylen Brown",
          "Robert Williams III",
          "Jaylen Brown",
          "Marcus Smart",
          "Al Horford",
          "Jayson Tatum",
          "Al Horford",
          "Jaylen Brown",
          "Al Horford",
          "Marcus Smart",
          "Robert Williams III",
          "Jayson Tatum",
          "Jayson Tatum",
          "Grant Williams",
          "Marcus Smart",
          "Robert Williams III",
          "Grant Williams",
          "Robert Williams III",
          "Jayson Tatum",
          "Marcus Smart",
          "Robert Williams III",
          "Al Horford",
          "Marcus Smart",
          "Gary Payton II",
          "Klay Thompson",
          "Stephen Curry",
          "Klay Thompson",
          "Andrew Wiggins",
          "Stephen Curry",
          "Stephen Curry",
          "Otto Porter Jr.",
          "Klay Thompson",
          "Klay Thompson",
          "Draymond Green",
          "Draymond Green",
          "Andrew Wiggins",
          "Andrew Wiggins",
          "Draymond Green",
          "Andrew Wiggins",
          "Stephen Curry",
          "Stephen Curry",
          "Draymond Green",
          "Stephen Curry",
          "Gary Payton II",
          "Stephen Curry",
          "Andrew Wiggins",
          "Draymond Green",
          "Stephen Curry",
          "Otto Porter Jr.",
          "Nemanja Bjelica",
          "Draymond Green",
          "Draymond Green",
          "Nemanja Bjelica",
          "Andrew Wiggins",
          "Draymond Green",
          "Draymond Green",
          "Kevon Looney",
          "Stephen Curry",
          "Kevon Looney",
          "Jordan Poole",
          "Kevon Looney",
          "Andrew Wiggins",
          "Stephen Curry",
          "Klay Thompson",
          "Draymond Green",
          "Kevon Looney",
          "Stephen Curry",
          "Draymond Green",
          "Stephen Curry",
          "Otto Porter Jr.",
          "Draymond Green",
          "Kevon Looney",
          "Draymond Green",
          "Draymond Green",
          "Draymond Green",
          "Otto Porter Jr.",
          "Jordan Poole",
          "Klay Thompson",
          "Gary Payton II",
          "Kevon Looney",
          "Kevon Looney",
          "Stephen Curry",
          "Draymond Green",
          "Draymond Green",
          "Andrew Wiggins",
          "Draymond Green",
          "Stephen Curry",
          "Klay Thompson",
          "Otto Porter Jr.",
          "Klay Thompson",
          "Andrew Wiggins",
          "Kevon Looney",
          "Draymond Green",
          "Stephen Curry",
          "Andrew Wiggins",
          "Otto Porter Jr.",
          "Draymond Green",
          "Stephen Curry",
          "Jonathan Kuminga",
          "Jordan Poole",
          "Jordan Poole",
          "Kevon Looney",
          "Kevon Looney",
          "Otto Porter Jr.",
          "Jordan Poole",
          "Gary Payton II",
          "Jordan Poole",
          "Kevon Looney",
          "Otto Porter Jr.",
          "Kevon Looney",
          "Otto Porter Jr.",
          "Stephen Curry",
          "Klay Thompson",
          "Draymond Green",
          "Stephen Curry",
          "Andrew Wiggins",
          "Otto Porter Jr.",
          "Gary Payton II",
          "Stephen Curry",
          "Otto Porter Jr.",
          "Nemanja Bjelica",
          "Klay Thompson",
          "Gary Payton II",
          "Draymond Green",
          "Klay Thompson",
          "Andrew Wiggins",
          "Stephen Curry",
          "Andrew Wiggins",
          "Kevon Looney",
          "Kevon Looney",
          "Kevon Looney",
          "Gary Payton II",
          "Jordan Poole",
          "Draymond Green",
          "Andrew Wiggins",
          "Klay Thompson",
          "Draymond Green",
          "Andrew Wiggins",
          "Draymond Green",
          "Otto Porter Jr.",
          "Draymond Green",
          "Kevon Looney",
          "Stephen Curry",
          "Otto Porter Jr.",
          "Gary Payton II",
          "Klay Thompson",
          "Nemanja Bjelica",
          "Jordan Poole",
          "Draymond Green",
          "Gary Payton II",
          "Juan Toscano-Anderson",
          "Jordan Poole",
          "Jonathan Kuminga",
          "Kevon Looney",
          "Klay Thompson",
          "Stephen Curry",
          "Kevon Looney",
          "Draymond Green",
          "Draymond Green",
          "Stephen Curry",
          "Otto Porter Jr.",
          "Nemanja Bjelica",
          "Jordan Poole",
          "Nemanja Bjelica",
          "Nemanja Bjelica",
          "Otto Porter Jr.",
          "Draymond Green",
          "Stephen Curry",
          "Andrew Wiggins",
          "Draymond Green",
          "Andrew Wiggins",
          "Stephen Curry",
          "Klay Thompson",
          "Klay Thompson",
          "Draymond Green",
          "Draymond Green",
          "Stephen Curry",
          "Klay Thompson",
          "Kevon Looney",
          "Kevon Looney",
          "Draymond Green",
          "Kevon Looney",
          "Andrew Wiggins",
          "Klay Thompson",
          "Draymond Green",
          "Nemanja Bjelica",
          "Nemanja Bjelica",
          "Kevon Looney",
          "Moses Moody",
          "Gary Payton II",
          "Klay Thompson",
          "Moses Moody",
          "Gary Payton II",
          "Juan Toscano-Anderson",
          "Juan Toscano-Anderson",
          "Derrick White",
          "Marcus Smart",
          "Payton Pritchard",
          "Aaron Nesmith",
          "Al Horford",
          "Marcus Smart",
          "Al Horford",
          "Al Horford",
          "Marcus Smart",
          "Al Horford",
          "Derrick White",
          "Al Horford",
          "Derrick White",
          "Marcus Smart",
          "Derrick White",
          "Jaylen Brown",
          "Al Horford",
          "Al Horford",
          "Jayson Tatum",
          "Al Horford",
          "Al Horford",
          "Jayson Tatum",
          "Marcus Smart",
          "Al Horford",
          "Al Horford",
          "Robert Williams III",
          "Jayson Tatum",
          "Jaylen Brown",
          "Jayson Tatum",
          "Al Horford",
          "Derrick White",
          "Payton Pritchard",
          "Daniel Theis",
          "Jaylen Brown",
          "Jaylen Brown",
          "Daniel Theis",
          "Payton Pritchard",
          "Aaron Nesmith",
          "Sam Hauser",
          "Nik Stauskas",
          "Luke Kornet",
          "Robert Williams III",
          "Jayson Tatum",
          "Robert Williams III",
          "Al Horford",
          "Jaylen Brown",
          "Jayson Tatum",
          "Al Horford",
          "Jaylen Brown",
          "Al Horford",
          "Grant Williams",
          "Jaylen Brown",
          "Marcus Smart",
          "Grant Williams",
          "Daniel Theis",
          "Jayson Tatum",
          "Daniel Theis",
          "Derrick White",
          "Daniel Theis",
          "Payton Pritchard",
          "Jayson Tatum",
          "Jaylen Brown",
          "Jayson Tatum",
          "Daniel Theis",
          "Payton Pritchard",
          "Jayson Tatum",
          "Jaylen Brown",
          "Derrick White",
          "Jaylen Brown",
          "Derrick White",
          "Al Horford",
          "Derrick White",
          "Al Horford",
          "Marcus Smart",
          "Al Horford",
          "Marcus Smart",
          "Al Horford",
          "Marcus Smart",
          "Jayson Tatum",
          "Jaylen Brown",
          "Al Horford",
          "Al Horford",
          "Marcus Smart",
          "Aaron Nesmith",
          "Derrick White",
          "Aaron Nesmith",
          "Payton Pritchard",
          "Daniel Theis",
          "Payton Pritchard",
          "Nik Stauskas",
          "Nik Stauskas",
          "Stephen Curry",
          "Gary Payton II",
          "Stephen Curry",
          "Stephen Curry",
          "Draymond Green",
          "Andrew Wiggins",
          "Andrew Wiggins",
          "Klay Thompson",
          "Klay Thompson",
          "Andrew Wiggins",
          "Andrew Wiggins",
          "Draymond Green",
          "Kevon Looney",
          "Andre Iguodala",
          "Andre Iguodala",
          "Draymond Green",
          "Andrew Wiggins",
          "Gary Payton II",
          "Jordan Poole",
          "Gary Payton II",
          "Andrew Wiggins",
          "Andrew Wiggins",
          "Draymond Green",
          "Andrew Wiggins",
          "Andrew Wiggins",
          "Draymond Green",
          "Andrew Wiggins",
          "Draymond Green",
          "Gary Payton II",
          "Gary Payton II",
          "Draymond Green",
          "Stephen Curry",
          "Gary Payton II",
          "Draymond Green",
          "Gary Payton II",
          "Draymond Green",
          "Otto Porter Jr.",
          "Andrew Wiggins",
          "Klay Thompson",
          "Andrew Wiggins",
          "Draymond Green",
          "Andrew Wiggins",
          "Gary Payton II",
          "Draymond Green",
          "Andrew Wiggins",
          "Draymond Green",
          "Jordan Poole",
          "Nemanja Bjelica",
          "Nemanja Bjelica",
          "Gary Payton II",
          "Jordan Poole",
          "Andrew Wiggins",
          "Jordan Poole",
          "Klay Thompson",
          "Otto Porter Jr.",
          "Stephen Curry",
          "Draymond Green",
          "Andrew Wiggins",
          "Kevon Looney",
          "Stephen Curry",
          "Draymond Green",
          "Andrew Wiggins",
          "Andrew Wiggins",
          "Jordan Poole",
          "Kevon Looney",
          "Kevon Looney",
          "Andrew Wiggins",
          "Jordan Poole",
          "Gary Payton II",
          "Andrew Wiggins",
          "Draymond Green",
          "Derrick White",
          "Jayson Tatum",
          "Robert Williams III",
          "Jaylen Brown",
          "Marcus Smart",
          "Jayson Tatum",
          "Robert Williams III",
          "Al Horford",
          "Robert Williams III",
          "Jaylen Brown",
          "Derrick White",
          "Jaylen Brown",
          "Marcus Smart",
          "Robert Williams III",
          "Jayson Tatum",
          "Robert Williams III",
          "Al Horford",
          "Marcus Smart",
          "Marcus Smart",
          "Jaylen Brown",
          "Al Horford",
          "Al Horford",
          "Al Horford",
          "Marcus Smart",
          "Marcus Smart",
          "Robert Williams III",
          "Robert Williams III",
          "Marcus Smart",
          "Al Horford",
          "Derrick White",
          "Al Horford",
          "Robert Williams III",
          "Al Horford",
          "Robert Williams III",
          "Al Horford",
          "Al Horford",
          "Marcus Smart",
          "Al Horford",
          "Derrick White",
          "Derrick White",
          "Al Horford",
          "Marcus Smart",
          "Jaylen Brown",
          "Jayson Tatum",
          "Al Horford",
          "Marcus Smart",
          "Grant Williams",
          "Derrick White",
          "Grant Williams",
          "Grant Williams",
          "Robert Williams III",
          "Derrick White",
          "Jayson Tatum",
          "Payton Pritchard",
          "Jayson Tatum",
          "Jayson Tatum",
          "Robert Williams III",
          "Derrick White",
          "Jaylen Brown",
          "Jayson Tatum",
          "Jayson Tatum",
          "Jaylen Brown",
          "Marcus Smart",
          "Jayson Tatum",
          "Jaylen Brown",
          "Al Horford",
          "Marcus Smart",
          "Al Horford",
          "Marcus Smart",
          "Jaylen Brown",
          "Al Horford",
          "Robert Williams III",
          "Al Horford",
          "Marcus Smart",
          "Jayson Tatum",
          "Marcus Smart",
          "Grant Williams",
          "Robert Williams III",
          "Marcus Smart",
          "Grant Williams",
          "Grant Williams",
          "Derrick White",
          "Jaylen Brown",
          "Jayson Tatum",
          "Al Horford",
          "Grant Williams",
          "Robert Williams III",
          "Marcus Smart",
          "Jayson Tatum",
          "Marcus Smart",
          "Al Horford",
          "Jayson Tatum",
          "Jaylen Brown",
          "Jaylen Brown",
          "Marcus Smart",
          "Robert Williams III",
          "Al Horford",
          "Luke Kornet",
          "Nik Stauskas",
          "Sam Hauser",
          "Juwan Morgan",
          "Nik Stauskas",
          "Sam Hauser",
          "Jordan Poole",
          "Damion Lee",
          "Otto Porter Jr.",
          "Kevon Looney",
          "Kevon Looney",
          "Draymond Green",
          "Kevon Looney",
          "Jordan Poole",
          "Juan Toscano-Anderson",
          "Moses Moody",
          "Andrew Wiggins",
          "Kevon Looney",
          "Kevon Looney",
          "Andrew Wiggins",
          "Stephen Curry",
          "Draymond Green",
          "Otto Porter Jr.",
          "Jordan Poole",
          "Stephen Curry",
          "Damion Lee",
          "Otto Porter Jr.",
          "Andrew Wiggins",
          "Draymond Green",
          "Draymond Green",
          "Kevon Looney",
          "Jordan Poole",
          "Jordan Poole",
          "Andrew Wiggins",
          "Draymond Green",
          "Draymond Green",
          "Klay Thompson",
          "Andrew Wiggins",
          "Draymond Green",
          "Stephen Curry",
          "Otto Porter Jr.",
          "Otto Porter Jr.",
          "Andrew Wiggins",
          "Draymond Green",
          "Damion Lee",
          "Andrew Wiggins",
          "Nemanja Bjelica",
          "Kevon Looney",
          "Stephen Curry",
          "Andrew Wiggins",
          "Draymond Green",
          "Klay Thompson",
          "Draymond Green",
          "Andrew Wiggins",
          "Otto Porter Jr.",
          "Draymond Green",
          "Jordan Poole",
          "Draymond Green",
          "Otto Porter Jr.",
          "Andrew Wiggins",
          "Otto Porter Jr.",
          "Draymond Green",
          "Kevon Looney",
          "Damion Lee",
          "Damion Lee",
          "Jordan Poole",
          "Draymond Green",
          "Stephen Curry",
          "Klay Thompson",
          "Klay Thompson",
          "Draymond Green",
          "Stephen Curry",
          "Andrew Wiggins",
          "Stephen Curry",
          "Draymond Green",
          "Kevon Looney",
          "Otto Porter Jr.",
          "Stephen Curry",
          "Klay Thompson",
          "Draymond Green",
          "Otto Porter Jr.",
          "Andrew Wiggins",
          "Otto Porter Jr.",
          "Draymond Green",
          "Otto Porter Jr.",
          "Draymond Green",
          "Otto Porter Jr.",
          "Jordan Poole",
          "Jonathan Kuminga",
          "Juan Toscano-Anderson",
          "Damion Lee",
          "Nemanja Bjelica",
          "Jonathan Kuminga",
          "Jalen Brunson",
          "Dwight Powell",
          "Reggie Bullock",
          "Jalen Brunson",
          "Sterling Brown",
          "Sterling Brown",
          "Davis Bertans",
          "Davis Bertans",
          "Trey Burke",
          "Jalen Brunson",
          "Dwight Powell",
          "Dorian Finney-Smith",
          "Jalen Brunson",
          "Dorian Finney-Smith",
          "Luka Doncic",
          "Jalen Brunson",
          "Jalen Brunson",
          "Dorian Finney-Smith",
          "Maxi Kleber",
          "Reggie Bullock",
          "Luka Doncic",
          "Luka Doncic",
          "Spencer Dinwiddie",
          "Luka Doncic",
          "Dorian Finney-Smith",
          "Dorian Finney-Smith",
          "Dorian Finney-Smith",
          "Spencer Dinwiddie",
          "Frank Ntilikina",
          "Spencer Dinwiddie",
          "Jalen Brunson",
          "Dorian Finney-Smith",
          "Dorian Finney-Smith",
          "Dorian Finney-Smith",
          "Dwight Powell",
          "Luka Doncic",
          "Dwight Powell",
          "Reggie Bullock",
          "Dwight Powell",
          "Dwight Powell",
          "Dorian Finney-Smith",
          "Maxi Kleber",
          "Maxi Kleber",
          "Reggie Bullock",
          "Maxi Kleber",
          "Maxi Kleber",
          "Davis Bertans",
          "Reggie Bullock",
          "Luka Doncic",
          "Maxi Kleber",
          "Maxi Kleber",
          "Reggie Bullock",
          "Frank Ntilikina",
          "Maxi Kleber",
          "Reggie Bullock",
          "Luka Doncic",
          "Reggie Bullock",
          "Reggie Bullock",
          "Jalen Brunson",
          "Reggie Bullock",
          "Maxi Kleber",
          "Jalen Brunson",
          "Dwight Powell",
          "Luka Doncic",
          "Dwight Powell",
          "Jalen Brunson",
          "Maxi Kleber",
          "Jalen Brunson",
          "Davis Bertans",
          "Luka Doncic",
          "Spencer Dinwiddie",
          "Dorian Finney-Smith",
          "Spencer Dinwiddie",
          "Josh Green",
          "Spencer Dinwiddie",
          "Josh Green",
          "Sterling Brown",
          "Sterling Brown",
          "Trey Burke",
          "Sterling Brown"
         ],
         "x0": " ",
         "xaxis": "x",
         "y": [
          2,
          1,
          2,
          2,
          1,
          0,
          0,
          0,
          1,
          1,
          1,
          1,
          1,
          0,
          0,
          0,
          0,
          0,
          0,
          0,
          0,
          0,
          0,
          0,
          0,
          3,
          0,
          0,
          0,
          0,
          0,
          0,
          0,
          0,
          0,
          0,
          0,
          0,
          0,
          0,
          0,
          1,
          0,
          0,
          0,
          0,
          0,
          0,
          0,
          0,
          0,
          0,
          0,
          0,
          0,
          1,
          3,
          0,
          0,
          0,
          2,
          0,
          0,
          4,
          1,
          0,
          0,
          0,
          1,
          2,
          0,
          0,
          1,
          0,
          2,
          0,
          0,
          0,
          0,
          0,
          0,
          2,
          0,
          0,
          0,
          null,
          0,
          0,
          0,
          0,
          3,
          0,
          0,
          0,
          0,
          1,
          2,
          1,
          1,
          0,
          0,
          0,
          1,
          0,
          0,
          0,
          0,
          1,
          0,
          0,
          0,
          0,
          0,
          0,
          0,
          1,
          0,
          0,
          0,
          0,
          1,
          0,
          0,
          0,
          0,
          0,
          0,
          0,
          0,
          0,
          0,
          0,
          0,
          0,
          0,
          0,
          0,
          0,
          0,
          0,
          0,
          0,
          0,
          2,
          3,
          null,
          0,
          0,
          0,
          2,
          0,
          0,
          0,
          0,
          null,
          null,
          0,
          0,
          2,
          0,
          0,
          0,
          1,
          0,
          0,
          0,
          0,
          0,
          0,
          0,
          0,
          0,
          0,
          0,
          0,
          0,
          0,
          0,
          0,
          0,
          0,
          0,
          0,
          0,
          0,
          0,
          0,
          0,
          0,
          0,
          0,
          0,
          null,
          0,
          0,
          1,
          2,
          0,
          0,
          1,
          0,
          1,
          1,
          0,
          0,
          0,
          2,
          0,
          2,
          5,
          0,
          0,
          1,
          2,
          0,
          1,
          0,
          2,
          0,
          2,
          0,
          0,
          1,
          0,
          0,
          0,
          0,
          1,
          0,
          0,
          0,
          0,
          0,
          0,
          0,
          0,
          1,
          0,
          0,
          0,
          0,
          0,
          3,
          0,
          0,
          0,
          0,
          0,
          0,
          0,
          0,
          0,
          0,
          0,
          0,
          0,
          0,
          0,
          0,
          0,
          0,
          0,
          0,
          0,
          0,
          0,
          0,
          0,
          0,
          0,
          2,
          1,
          1,
          1,
          2,
          1,
          0,
          0,
          2,
          0,
          null,
          3,
          0,
          0,
          0,
          1,
          0,
          2,
          0,
          0,
          null,
          1,
          0,
          0,
          2,
          0,
          0,
          0,
          null,
          0,
          0,
          null,
          0,
          0,
          0,
          1,
          1,
          0,
          0,
          2,
          0,
          0,
          0,
          null,
          0,
          0,
          0,
          0,
          0,
          1,
          0,
          0,
          0,
          3,
          0,
          null,
          0,
          1,
          0,
          0,
          0,
          1,
          0,
          0,
          0,
          null,
          0,
          0,
          0,
          0,
          0,
          0,
          2,
          0,
          null,
          0,
          0,
          0,
          0,
          0,
          0,
          1,
          0,
          0,
          0,
          0,
          0,
          0,
          0,
          0,
          0,
          0,
          0,
          0,
          0,
          0,
          0,
          0,
          0,
          null,
          0,
          1,
          0,
          0,
          2,
          0,
          2,
          2,
          0,
          2,
          0,
          0,
          0,
          0,
          0,
          1,
          0,
          1,
          0,
          0,
          0,
          1,
          2,
          0,
          0,
          0,
          0,
          1,
          0,
          0,
          1,
          null,
          0,
          0,
          0,
          0,
          0,
          2,
          null,
          0,
          0,
          0,
          0,
          0,
          0,
          1,
          0,
          0,
          0,
          2,
          0,
          0,
          0,
          2,
          0,
          0,
          0,
          0,
          0,
          0,
          0,
          0,
          1,
          1,
          1,
          0,
          2,
          1,
          1,
          null,
          0,
          0,
          3,
          1,
          2,
          3,
          0,
          4,
          0,
          0,
          null,
          0,
          2,
          0,
          0,
          0,
          0,
          0,
          2,
          1,
          0,
          3,
          0,
          0,
          1,
          0,
          2,
          0,
          0,
          0,
          0,
          0,
          0,
          2,
          0,
          null,
          0,
          0,
          0,
          1,
          0,
          1,
          0,
          0,
          1,
          0,
          0,
          0,
          1,
          null,
          2,
          0,
          2,
          0,
          1,
          0,
          0,
          1,
          0,
          2,
          0,
          1,
          0,
          0,
          0,
          0,
          0,
          0,
          0,
          0,
          0,
          4,
          0,
          null,
          0,
          1,
          0,
          0,
          0,
          0,
          0,
          0,
          0,
          0,
          0,
          0,
          0,
          0,
          0,
          0,
          0,
          0,
          0,
          0,
          0,
          0,
          0,
          0,
          0,
          0,
          0,
          0,
          0,
          0,
          1,
          0,
          1,
          0,
          0,
          0,
          0,
          1,
          null,
          0,
          1,
          0,
          0,
          0,
          0,
          1,
          3,
          1,
          0,
          0,
          0,
          2,
          null,
          4,
          1,
          0,
          3,
          0,
          0,
          2,
          null,
          1,
          2,
          null,
          0,
          0,
          0,
          1,
          0,
          0,
          0,
          0,
          0,
          0,
          0,
          0,
          0,
          0,
          0,
          1,
          4,
          null,
          0,
          0,
          0,
          1,
          1,
          0,
          null,
          0,
          0,
          0,
          0,
          2,
          1,
          0,
          1,
          0,
          0,
          0,
          0,
          0,
          0,
          0,
          0,
          0,
          null,
          0,
          0,
          0,
          0,
          0,
          0,
          0,
          0,
          0,
          0,
          0,
          0,
          0,
          0,
          0,
          1,
          0,
          0,
          null,
          null,
          0,
          0,
          0,
          1,
          3,
          1,
          0,
          0,
          0,
          0,
          3,
          0,
          0,
          null,
          0,
          0,
          1,
          1,
          null,
          0,
          0,
          0,
          0,
          0,
          0,
          0,
          1,
          0,
          0,
          0,
          1,
          2,
          0,
          0,
          0,
          0,
          0,
          0,
          null,
          0,
          0,
          1,
          0,
          0,
          1,
          0,
          0,
          0,
          0,
          1,
          0,
          0,
          0,
          0,
          0,
          0,
          0,
          0,
          0,
          0,
          0,
          0,
          null,
          0,
          0,
          0,
          0,
          4,
          0,
          0,
          0,
          1,
          0,
          0,
          0,
          0,
          0,
          0,
          0,
          0,
          0,
          0,
          0,
          0,
          null,
          1,
          2,
          4,
          0,
          2,
          0,
          0,
          0,
          0,
          0,
          null,
          1,
          0,
          null,
          0,
          0,
          0,
          0,
          0,
          0,
          0,
          2,
          0,
          0,
          1,
          0,
          0,
          0,
          0,
          0,
          4,
          0,
          0,
          0,
          2,
          0,
          0,
          1,
          0,
          1,
          0,
          null,
          0,
          2,
          0,
          0,
          0,
          0,
          0,
          0,
          0,
          0,
          0,
          0,
          0,
          0,
          0,
          0,
          0,
          null,
          0,
          0,
          0,
          0,
          0,
          0,
          0,
          0,
          0,
          0,
          0,
          1,
          0,
          0,
          0,
          0,
          0,
          0,
          0,
          0,
          0,
          0,
          0,
          0,
          0,
          0,
          0,
          0,
          0,
          0,
          0,
          0,
          0,
          0,
          1,
          0,
          3,
          0,
          0,
          0,
          5,
          0,
          0,
          0,
          0,
          0,
          null,
          0,
          1,
          0,
          0,
          1,
          null,
          0,
          0,
          0,
          0,
          4,
          null,
          0,
          null,
          0,
          0,
          3,
          null,
          0,
          0,
          0,
          0,
          0,
          0,
          0,
          0,
          0,
          1,
          0,
          0,
          0,
          0,
          0,
          0,
          0,
          0,
          0,
          0,
          0,
          0,
          0,
          0,
          0,
          0,
          1,
          0,
          0,
          0,
          0,
          0,
          0,
          0,
          0,
          0,
          0,
          3,
          0,
          0,
          0,
          0,
          0,
          0,
          0,
          0,
          0,
          0,
          0,
          0,
          null,
          0,
          0,
          2,
          1,
          null,
          1,
          0,
          0,
          0,
          0,
          0,
          0,
          0,
          0,
          0,
          0,
          0,
          0,
          0,
          0,
          0,
          2,
          0,
          0,
          0,
          null,
          0,
          4,
          0,
          0,
          0,
          null,
          2,
          0,
          0,
          0,
          0,
          0,
          0,
          0,
          0,
          0,
          0,
          null,
          2,
          0,
          0,
          0,
          1,
          0,
          null,
          1,
          0,
          3,
          1,
          0,
          0,
          0,
          0,
          0,
          0,
          0,
          0,
          0,
          0,
          4,
          0,
          0,
          0,
          0,
          0,
          0,
          0,
          0,
          0,
          0,
          0,
          0,
          1,
          0,
          0,
          0,
          0,
          0,
          1,
          0,
          0,
          0,
          0,
          0,
          0,
          0,
          0,
          0,
          0,
          1,
          0,
          0,
          1,
          4,
          0,
          1,
          0,
          1,
          0,
          2,
          0,
          0,
          2,
          0,
          0,
          0,
          1,
          0,
          0,
          1,
          0,
          null,
          0,
          null,
          0,
          0,
          0,
          1,
          0,
          0,
          0,
          0,
          0,
          0,
          0,
          0,
          0,
          1,
          2,
          1,
          null,
          0,
          0,
          0,
          3,
          1,
          0,
          0,
          0,
          3,
          0,
          0,
          0,
          0,
          0,
          null,
          0,
          0,
          0,
          0,
          0,
          0,
          0,
          0,
          0,
          0,
          0,
          0,
          0,
          0,
          0,
          0,
          0,
          0,
          0,
          0,
          0,
          0,
          1,
          null,
          0,
          0,
          0,
          0,
          1,
          0,
          0,
          0,
          0,
          0,
          0,
          0,
          0,
          0,
          2,
          null,
          3,
          null,
          1,
          0,
          0,
          null,
          0,
          0,
          3,
          0,
          0,
          null,
          0,
          0,
          0,
          2,
          0,
          0,
          0,
          1,
          0,
          2,
          0,
          0,
          null,
          0,
          0,
          1,
          0,
          1,
          0,
          0,
          0,
          1,
          1,
          0,
          0,
          0,
          0,
          0,
          0,
          2,
          0,
          0,
          0,
          0,
          0,
          0,
          0,
          1,
          0,
          0,
          0,
          0,
          0,
          0,
          1,
          0,
          1,
          1,
          0,
          0,
          0,
          0,
          3,
          0,
          0,
          0,
          0,
          0,
          0,
          2,
          0,
          2,
          0,
          0,
          0,
          0,
          null,
          0,
          3,
          0,
          1,
          1,
          3,
          null,
          0,
          0,
          2,
          0,
          2,
          0,
          0,
          4,
          0,
          0,
          3,
          0,
          0,
          0,
          0,
          0,
          0,
          0,
          0,
          0,
          0,
          0,
          0,
          2,
          1,
          0,
          0,
          0,
          2,
          0,
          0,
          0,
          1,
          0,
          0,
          0,
          0,
          0,
          0,
          0,
          0,
          4,
          0,
          0,
          0,
          4,
          0,
          0,
          0,
          0,
          0,
          0,
          0,
          0,
          0,
          null,
          0,
          0,
          0,
          0,
          0,
          0,
          1,
          0,
          0,
          1,
          0,
          0,
          0,
          0,
          0,
          0,
          0,
          null,
          2,
          2,
          2,
          0,
          0,
          1,
          0,
          0,
          3,
          0,
          0,
          null,
          1,
          4,
          1,
          1,
          2,
          0,
          0,
          0,
          0,
          0,
          0,
          1,
          0,
          0,
          1,
          0,
          0,
          0,
          0,
          0,
          0,
          0,
          0,
          0,
          0,
          1,
          0,
          0,
          0,
          0,
          0,
          0,
          0,
          null,
          0,
          0,
          0,
          0,
          0,
          0,
          1,
          0,
          0,
          0,
          0,
          0,
          0,
          0,
          0,
          0,
          0,
          0,
          0,
          0,
          0,
          0,
          0,
          0,
          0,
          0,
          0,
          0,
          0,
          0,
          0,
          0,
          0,
          0,
          0,
          0,
          null,
          1,
          0,
          1,
          0,
          0,
          0,
          null,
          2,
          0,
          0,
          0,
          0,
          0,
          0,
          2,
          0,
          0,
          0,
          0,
          2,
          0,
          0,
          0,
          0,
          0,
          1,
          0,
          2,
          0,
          0,
          0,
          0,
          0,
          3,
          1,
          0,
          1,
          0,
          0,
          0,
          0,
          0,
          0,
          0,
          0,
          0,
          1,
          0,
          0,
          0,
          0,
          1,
          0,
          0,
          0,
          0,
          0,
          0,
          0,
          1,
          0,
          0,
          0,
          0,
          0,
          0,
          2,
          1,
          0,
          1,
          1,
          null,
          0,
          null,
          1,
          1,
          0,
          0,
          3,
          0,
          0,
          4,
          0,
          null,
          0,
          0,
          0,
          0,
          2,
          1,
          0,
          1,
          0,
          1,
          0,
          0,
          0,
          3,
          2,
          0,
          0,
          0,
          0,
          0,
          0,
          2,
          0,
          0,
          1,
          1,
          0,
          0,
          0,
          0,
          0,
          0,
          0,
          0,
          0,
          0,
          0,
          0,
          null,
          0,
          0,
          0,
          0,
          0,
          0,
          0,
          1,
          1,
          0,
          0,
          0,
          0,
          0,
          0,
          0,
          1,
          0,
          0,
          0,
          0,
          0,
          0,
          0,
          1,
          0,
          0,
          0,
          0,
          0,
          3,
          0,
          0,
          2,
          0,
          0,
          0,
          0,
          0,
          0,
          0,
          0,
          0,
          2,
          0,
          0,
          0,
          3,
          0,
          2,
          0,
          0,
          0,
          0,
          0,
          0,
          0,
          0,
          3,
          0,
          1,
          0,
          3,
          0,
          0,
          0,
          0,
          1,
          0,
          1,
          0,
          3,
          0,
          0,
          0,
          0,
          0,
          0,
          0,
          0,
          0,
          0,
          0,
          0,
          0,
          2,
          null,
          0,
          3,
          0,
          0,
          0,
          0,
          0,
          0,
          0,
          0,
          2,
          0,
          0,
          0,
          0,
          0,
          0,
          0,
          0,
          0,
          0,
          0,
          0,
          0,
          0,
          0,
          0,
          null,
          0,
          0,
          3,
          0,
          0,
          0,
          0,
          3,
          0,
          0,
          0,
          0,
          0,
          3,
          0,
          2,
          0,
          0,
          0,
          0,
          0,
          0,
          0,
          0,
          0,
          0,
          0,
          null,
          2,
          0,
          0,
          4,
          0,
          0,
          0,
          0,
          0,
          null,
          0,
          0,
          0,
          0,
          1,
          0,
          0,
          0,
          0,
          0,
          0,
          0,
          0,
          0,
          0,
          0,
          0,
          0,
          0,
          0,
          0,
          0,
          0,
          0,
          0,
          0,
          0,
          0,
          0,
          0,
          0,
          0,
          1,
          1,
          1,
          0,
          3,
          0,
          0,
          0,
          0,
          0,
          0,
          0,
          3,
          0,
          2,
          0,
          null,
          1,
          2,
          1,
          0,
          0,
          0,
          1,
          null,
          2,
          2,
          1,
          2,
          1,
          0,
          1,
          0,
          2,
          0,
          0,
          0,
          null,
          0,
          0,
          4,
          1,
          0,
          1,
          0,
          0,
          0,
          null,
          0,
          0,
          0,
          0,
          0,
          0,
          1,
          0,
          null,
          0,
          0,
          0,
          0,
          1,
          0,
          0,
          0,
          0,
          0,
          0,
          0,
          1,
          0,
          0,
          0,
          0,
          0,
          0,
          0,
          0,
          0,
          0,
          0,
          0,
          0,
          0,
          0,
          1,
          0,
          0,
          0,
          0,
          0,
          0,
          0,
          0,
          0,
          0,
          4,
          0,
          0,
          0,
          1,
          2,
          0,
          0,
          0,
          0,
          0,
          5,
          0,
          0,
          0,
          1,
          0,
          0,
          0,
          0,
          0,
          0,
          0,
          0,
          0,
          1,
          null,
          0,
          2,
          0,
          5,
          0,
          0,
          0,
          0,
          0,
          1,
          0,
          0,
          2,
          0,
          0,
          0,
          0,
          0,
          0,
          0,
          0,
          2,
          0,
          0,
          0,
          0,
          1,
          0,
          0,
          0,
          0,
          0,
          0,
          0,
          0,
          0,
          0,
          1,
          0,
          0,
          0,
          0,
          0,
          0,
          4,
          0,
          0,
          0,
          1,
          0,
          0,
          1,
          0,
          0,
          1,
          0,
          0,
          0,
          1,
          0,
          0,
          0,
          0,
          0,
          0,
          0,
          0,
          0,
          null,
          0,
          0,
          0,
          1,
          0,
          null,
          3,
          0,
          0,
          0,
          0,
          null,
          0,
          0,
          1,
          0,
          0,
          0,
          3,
          null,
          0,
          4,
          0,
          2,
          0,
          0,
          0,
          0,
          0,
          0,
          0,
          0,
          0,
          0,
          0,
          0,
          0,
          0,
          0,
          0,
          0,
          0,
          0,
          0,
          0,
          0,
          0,
          0,
          0,
          0,
          0,
          0,
          0,
          0,
          0,
          0,
          0,
          0,
          null,
          0,
          0,
          0,
          0,
          0,
          1,
          0,
          0,
          2,
          0,
          0,
          2,
          2,
          0,
          1,
          1,
          0,
          0,
          0,
          0,
          1,
          1,
          0,
          0,
          0,
          1,
          2,
          0,
          1,
          0,
          0,
          4,
          0,
          0,
          2,
          1,
          0,
          3,
          0,
          0,
          3,
          0,
          1,
          0,
          0,
          1,
          null,
          0,
          0,
          0,
          3,
          0,
          1,
          0,
          0,
          0,
          0,
          0,
          0,
          0,
          0,
          0,
          0,
          0,
          2,
          1,
          0,
          0,
          0,
          0,
          0,
          2,
          2,
          0,
          0,
          1,
          0,
          0,
          1,
          null,
          0,
          0,
          0,
          0,
          0,
          0,
          0,
          0,
          0,
          0,
          0,
          0,
          0,
          0,
          0,
          0,
          0,
          1,
          0,
          0,
          0,
          0,
          0,
          0,
          0,
          0,
          0,
          3,
          1,
          1,
          0,
          0,
          0,
          0,
          2,
          0,
          0,
          0,
          3,
          0,
          0,
          0,
          0,
          0,
          0,
          0,
          0,
          0,
          1,
          0,
          3,
          0,
          0,
          3,
          1,
          1,
          0,
          null,
          0,
          0,
          0,
          0,
          0,
          0,
          0,
          2,
          1,
          1,
          null,
          0,
          0,
          1,
          0,
          0,
          0,
          0,
          0,
          0,
          0,
          0,
          0,
          0,
          0,
          0,
          1,
          0,
          0,
          0,
          0,
          0,
          0,
          1,
          0,
          0,
          0,
          0,
          0,
          0,
          0,
          0,
          0,
          0,
          0,
          0,
          0,
          0,
          0,
          0,
          0,
          0,
          0,
          null,
          0,
          0,
          0,
          null,
          1,
          0,
          1,
          1,
          0,
          0,
          2,
          0,
          0,
          0,
          0,
          2,
          3,
          null,
          0,
          2,
          0,
          0,
          2,
          0,
          0,
          null,
          3,
          1,
          1,
          0,
          0,
          0,
          1,
          2,
          0,
          0,
          1,
          0,
          2,
          0,
          4,
          0,
          0,
          1,
          0,
          null,
          0,
          1,
          4,
          0,
          1,
          0,
          0,
          0,
          0,
          0,
          0,
          0,
          1,
          0,
          0,
          2,
          1,
          0,
          2,
          0,
          0,
          0,
          0,
          0,
          0,
          0,
          0,
          0,
          0,
          1,
          2,
          0,
          0,
          0,
          0,
          2,
          0,
          2,
          0,
          0,
          0,
          1,
          0,
          0,
          0,
          0,
          0,
          0,
          0,
          0,
          0,
          3,
          0,
          3,
          0,
          0,
          0,
          0,
          0,
          1,
          0,
          0,
          0,
          0,
          0,
          0,
          1,
          0,
          0,
          0,
          0,
          0,
          0,
          0,
          0,
          0,
          0,
          0,
          0,
          0,
          2,
          0,
          1,
          0,
          0,
          null,
          0,
          0,
          1,
          0,
          0,
          0,
          0,
          0,
          0,
          1,
          2,
          0,
          0,
          1,
          0,
          0,
          2,
          1,
          0,
          0,
          null,
          0,
          2,
          1,
          0,
          null,
          0,
          0,
          0,
          0,
          0,
          0,
          0,
          0,
          0,
          0,
          1,
          0,
          1,
          null,
          0,
          0,
          0,
          0,
          0,
          0,
          2,
          0,
          null,
          0,
          null,
          0,
          0,
          0,
          0,
          0,
          0,
          0,
          0,
          0,
          0,
          1,
          0,
          0,
          0,
          1,
          0,
          1,
          null,
          0,
          0,
          0,
          0,
          0,
          0,
          0,
          1,
          0,
          0,
          0,
          0,
          1,
          0,
          1,
          1,
          0,
          0,
          0,
          0,
          null,
          3,
          null,
          1,
          1,
          null,
          0,
          2,
          0,
          0,
          0,
          0,
          1,
          0,
          1,
          1,
          0,
          0,
          2,
          0,
          1,
          0,
          4,
          0,
          0,
          0,
          0,
          0,
          1,
          3,
          0,
          null,
          0,
          0,
          0,
          0,
          0,
          0,
          0,
          0,
          0,
          0,
          1,
          0,
          null,
          0,
          2,
          0,
          0,
          0,
          0,
          0,
          0,
          0,
          0,
          1,
          null,
          0,
          0,
          0,
          0,
          0,
          3,
          0,
          0,
          0,
          0,
          0,
          2,
          2,
          2,
          0,
          0,
          null,
          0,
          0,
          0,
          1,
          null,
          0,
          0,
          1,
          0,
          0,
          3,
          0,
          null,
          0,
          0,
          0,
          2,
          0,
          0,
          2,
          2,
          0,
          2,
          0,
          1,
          0,
          0,
          0,
          0,
          0,
          1,
          0,
          0,
          0,
          0,
          0,
          0,
          0,
          0,
          0,
          0,
          0,
          0,
          1,
          0,
          1,
          1,
          3,
          0,
          0,
          0,
          0,
          0,
          1,
          0,
          0,
          0,
          0,
          1,
          0,
          1,
          0,
          0,
          0,
          0,
          0,
          0,
          3,
          0,
          0,
          0,
          0,
          0,
          0,
          0,
          0,
          0,
          0,
          0,
          0,
          0,
          0,
          0,
          0,
          0,
          0,
          0,
          0,
          0,
          0,
          0,
          0,
          null,
          0,
          0,
          1,
          0,
          0,
          0,
          1,
          0,
          0,
          2,
          0,
          0,
          0,
          0,
          0,
          0,
          1,
          0,
          0,
          null,
          0,
          0,
          0,
          0,
          0,
          null,
          1,
          0,
          0,
          0,
          0,
          0,
          0,
          0,
          0,
          0,
          null,
          0,
          0,
          1,
          2,
          0,
          0,
          0,
          1,
          0,
          3,
          0,
          0,
          0,
          0,
          0,
          0,
          3,
          0,
          4,
          1,
          0,
          3,
          0,
          0,
          0,
          0,
          0,
          0,
          0,
          0,
          0,
          0,
          0,
          0,
          0,
          0,
          0,
          0,
          0,
          1,
          null,
          0,
          0,
          2,
          0,
          null,
          0,
          0,
          0,
          0,
          0,
          0,
          0,
          0,
          0,
          0,
          0,
          1,
          0,
          null,
          0,
          0,
          3,
          4,
          1,
          0,
          0,
          0,
          0,
          0,
          null,
          0,
          0,
          null,
          2,
          2,
          2,
          3,
          1,
          0,
          2,
          0,
          0,
          0,
          0,
          0,
          0,
          0,
          null,
          2,
          0,
          1,
          0,
          1,
          0,
          0,
          1,
          2,
          0,
          0,
          1,
          2,
          0,
          null,
          0,
          0,
          0,
          0,
          0,
          0,
          0,
          0,
          0,
          0,
          0,
          0,
          0,
          0,
          0,
          0,
          0,
          0,
          0,
          0,
          1,
          0,
          0,
          0,
          1,
          0,
          1,
          0,
          3,
          2,
          0,
          0,
          3,
          0,
          0,
          0,
          0,
          null,
          0,
          0,
          2,
          1,
          0,
          0,
          0,
          2,
          0,
          2,
          0,
          2,
          1,
          1,
          0,
          0,
          0,
          0,
          0,
          0,
          0,
          0,
          0,
          0,
          0,
          0,
          null,
          0,
          2,
          0,
          0,
          null,
          2,
          0,
          0,
          2,
          0,
          0,
          null,
          0,
          0,
          0,
          0,
          0,
          0,
          0,
          0,
          0,
          0,
          0,
          1,
          0,
          0,
          0,
          0,
          0,
          0,
          0,
          0,
          0,
          0,
          0,
          0,
          0,
          0,
          0,
          0,
          0,
          0,
          0,
          0,
          0,
          3,
          0,
          0,
          0,
          0,
          0,
          1,
          0,
          null,
          0,
          3,
          0,
          0,
          0,
          null,
          null,
          0,
          0,
          0,
          0,
          0,
          null,
          3,
          0,
          5,
          0,
          1,
          2,
          0,
          0,
          0,
          0,
          2,
          1,
          0,
          2,
          1,
          0,
          0,
          0,
          0,
          1,
          1,
          0,
          0,
          0,
          null,
          0,
          1,
          2,
          0,
          0,
          1,
          0,
          0,
          0,
          0,
          0,
          0,
          0,
          0,
          0,
          0,
          0,
          0,
          0,
          0,
          null,
          0,
          0,
          0,
          0,
          0,
          0,
          0,
          0,
          0,
          0,
          0,
          0,
          0,
          0,
          0,
          0,
          0,
          0,
          null,
          0,
          0,
          0,
          null,
          0,
          2,
          0,
          0,
          0,
          0,
          0,
          0,
          0,
          0,
          1,
          0,
          0,
          0,
          1,
          0,
          0,
          2,
          0,
          2,
          0,
          0,
          0,
          0,
          0,
          0,
          0,
          0,
          1,
          3,
          0,
          0,
          0,
          0,
          0,
          0,
          0,
          null,
          0,
          null,
          0,
          0,
          1,
          0,
          0,
          0,
          0,
          0,
          0,
          0,
          0,
          0,
          0,
          4,
          0,
          1,
          0,
          0,
          0,
          0,
          0,
          0,
          1,
          0,
          0,
          0,
          0,
          0,
          0,
          0,
          null,
          null,
          0,
          0,
          3,
          0,
          null,
          0,
          1,
          0,
          0,
          1,
          0,
          0,
          0,
          0,
          1,
          0,
          2,
          0,
          0,
          null,
          2,
          0,
          0,
          0,
          0,
          0,
          0,
          null,
          1,
          0,
          2,
          3,
          0,
          0,
          0,
          null,
          0,
          0,
          0,
          0,
          null,
          0,
          0,
          2,
          1,
          0,
          null,
          0,
          2,
          0,
          0,
          0,
          0,
          0,
          0,
          0,
          0,
          0,
          1,
          1,
          1,
          0,
          0,
          0,
          1,
          0,
          0,
          0,
          0,
          0,
          0,
          0,
          0,
          0,
          4,
          0,
          0,
          0,
          0,
          0,
          0,
          0,
          0,
          0,
          0,
          0,
          0,
          0,
          0,
          0,
          0,
          0,
          0,
          0,
          0,
          0,
          0,
          1,
          0,
          null,
          0,
          0,
          4,
          0,
          2,
          0,
          5,
          0,
          0,
          0,
          0,
          0,
          0,
          0,
          0,
          0,
          0,
          0,
          0,
          0,
          0,
          2,
          0,
          4,
          0,
          null,
          0,
          null,
          0,
          0,
          0,
          1,
          1,
          0,
          0,
          0,
          1,
          0,
          0,
          0,
          0,
          3,
          0,
          0,
          0,
          2,
          3,
          4,
          0,
          0,
          2,
          2,
          null,
          1,
          0,
          0,
          0,
          0,
          0,
          0,
          0,
          0,
          0,
          0,
          0,
          0,
          0,
          null,
          0,
          0,
          0,
          0,
          0,
          0,
          0,
          0,
          0,
          0,
          0,
          0,
          null,
          0,
          null,
          0,
          0,
          1,
          0,
          0,
          0,
          0,
          0,
          0,
          1,
          1,
          0,
          0,
          0,
          0,
          0,
          0,
          1,
          0,
          0,
          0,
          0,
          0,
          0,
          0,
          0,
          0,
          0,
          0,
          0,
          1,
          0,
          0,
          0,
          0,
          0,
          2,
          0,
          0,
          0,
          0,
          0,
          null,
          0
         ],
         "y0": " ",
         "yaxis": "y"
        }
       ],
       "layout": {
        "boxmode": "group",
        "legend": {
         "tracegroupgap": 0
        },
        "margin": {
         "t": 60
        },
        "template": {
         "data": {
          "bar": [
           {
            "error_x": {
             "color": "#2a3f5f"
            },
            "error_y": {
             "color": "#2a3f5f"
            },
            "marker": {
             "line": {
              "color": "#E5ECF6",
              "width": 0.5
             },
             "pattern": {
              "fillmode": "overlay",
              "size": 10,
              "solidity": 0.2
             }
            },
            "type": "bar"
           }
          ],
          "barpolar": [
           {
            "marker": {
             "line": {
              "color": "#E5ECF6",
              "width": 0.5
             },
             "pattern": {
              "fillmode": "overlay",
              "size": 10,
              "solidity": 0.2
             }
            },
            "type": "barpolar"
           }
          ],
          "carpet": [
           {
            "aaxis": {
             "endlinecolor": "#2a3f5f",
             "gridcolor": "white",
             "linecolor": "white",
             "minorgridcolor": "white",
             "startlinecolor": "#2a3f5f"
            },
            "baxis": {
             "endlinecolor": "#2a3f5f",
             "gridcolor": "white",
             "linecolor": "white",
             "minorgridcolor": "white",
             "startlinecolor": "#2a3f5f"
            },
            "type": "carpet"
           }
          ],
          "choropleth": [
           {
            "colorbar": {
             "outlinewidth": 0,
             "ticks": ""
            },
            "type": "choropleth"
           }
          ],
          "contour": [
           {
            "colorbar": {
             "outlinewidth": 0,
             "ticks": ""
            },
            "colorscale": [
             [
              0,
              "#0d0887"
             ],
             [
              0.1111111111111111,
              "#46039f"
             ],
             [
              0.2222222222222222,
              "#7201a8"
             ],
             [
              0.3333333333333333,
              "#9c179e"
             ],
             [
              0.4444444444444444,
              "#bd3786"
             ],
             [
              0.5555555555555556,
              "#d8576b"
             ],
             [
              0.6666666666666666,
              "#ed7953"
             ],
             [
              0.7777777777777778,
              "#fb9f3a"
             ],
             [
              0.8888888888888888,
              "#fdca26"
             ],
             [
              1,
              "#f0f921"
             ]
            ],
            "type": "contour"
           }
          ],
          "contourcarpet": [
           {
            "colorbar": {
             "outlinewidth": 0,
             "ticks": ""
            },
            "type": "contourcarpet"
           }
          ],
          "heatmap": [
           {
            "colorbar": {
             "outlinewidth": 0,
             "ticks": ""
            },
            "colorscale": [
             [
              0,
              "#0d0887"
             ],
             [
              0.1111111111111111,
              "#46039f"
             ],
             [
              0.2222222222222222,
              "#7201a8"
             ],
             [
              0.3333333333333333,
              "#9c179e"
             ],
             [
              0.4444444444444444,
              "#bd3786"
             ],
             [
              0.5555555555555556,
              "#d8576b"
             ],
             [
              0.6666666666666666,
              "#ed7953"
             ],
             [
              0.7777777777777778,
              "#fb9f3a"
             ],
             [
              0.8888888888888888,
              "#fdca26"
             ],
             [
              1,
              "#f0f921"
             ]
            ],
            "type": "heatmap"
           }
          ],
          "heatmapgl": [
           {
            "colorbar": {
             "outlinewidth": 0,
             "ticks": ""
            },
            "colorscale": [
             [
              0,
              "#0d0887"
             ],
             [
              0.1111111111111111,
              "#46039f"
             ],
             [
              0.2222222222222222,
              "#7201a8"
             ],
             [
              0.3333333333333333,
              "#9c179e"
             ],
             [
              0.4444444444444444,
              "#bd3786"
             ],
             [
              0.5555555555555556,
              "#d8576b"
             ],
             [
              0.6666666666666666,
              "#ed7953"
             ],
             [
              0.7777777777777778,
              "#fb9f3a"
             ],
             [
              0.8888888888888888,
              "#fdca26"
             ],
             [
              1,
              "#f0f921"
             ]
            ],
            "type": "heatmapgl"
           }
          ],
          "histogram": [
           {
            "marker": {
             "pattern": {
              "fillmode": "overlay",
              "size": 10,
              "solidity": 0.2
             }
            },
            "type": "histogram"
           }
          ],
          "histogram2d": [
           {
            "colorbar": {
             "outlinewidth": 0,
             "ticks": ""
            },
            "colorscale": [
             [
              0,
              "#0d0887"
             ],
             [
              0.1111111111111111,
              "#46039f"
             ],
             [
              0.2222222222222222,
              "#7201a8"
             ],
             [
              0.3333333333333333,
              "#9c179e"
             ],
             [
              0.4444444444444444,
              "#bd3786"
             ],
             [
              0.5555555555555556,
              "#d8576b"
             ],
             [
              0.6666666666666666,
              "#ed7953"
             ],
             [
              0.7777777777777778,
              "#fb9f3a"
             ],
             [
              0.8888888888888888,
              "#fdca26"
             ],
             [
              1,
              "#f0f921"
             ]
            ],
            "type": "histogram2d"
           }
          ],
          "histogram2dcontour": [
           {
            "colorbar": {
             "outlinewidth": 0,
             "ticks": ""
            },
            "colorscale": [
             [
              0,
              "#0d0887"
             ],
             [
              0.1111111111111111,
              "#46039f"
             ],
             [
              0.2222222222222222,
              "#7201a8"
             ],
             [
              0.3333333333333333,
              "#9c179e"
             ],
             [
              0.4444444444444444,
              "#bd3786"
             ],
             [
              0.5555555555555556,
              "#d8576b"
             ],
             [
              0.6666666666666666,
              "#ed7953"
             ],
             [
              0.7777777777777778,
              "#fb9f3a"
             ],
             [
              0.8888888888888888,
              "#fdca26"
             ],
             [
              1,
              "#f0f921"
             ]
            ],
            "type": "histogram2dcontour"
           }
          ],
          "mesh3d": [
           {
            "colorbar": {
             "outlinewidth": 0,
             "ticks": ""
            },
            "type": "mesh3d"
           }
          ],
          "parcoords": [
           {
            "line": {
             "colorbar": {
              "outlinewidth": 0,
              "ticks": ""
             }
            },
            "type": "parcoords"
           }
          ],
          "pie": [
           {
            "automargin": true,
            "type": "pie"
           }
          ],
          "scatter": [
           {
            "fillpattern": {
             "fillmode": "overlay",
             "size": 10,
             "solidity": 0.2
            },
            "type": "scatter"
           }
          ],
          "scatter3d": [
           {
            "line": {
             "colorbar": {
              "outlinewidth": 0,
              "ticks": ""
             }
            },
            "marker": {
             "colorbar": {
              "outlinewidth": 0,
              "ticks": ""
             }
            },
            "type": "scatter3d"
           }
          ],
          "scattercarpet": [
           {
            "marker": {
             "colorbar": {
              "outlinewidth": 0,
              "ticks": ""
             }
            },
            "type": "scattercarpet"
           }
          ],
          "scattergeo": [
           {
            "marker": {
             "colorbar": {
              "outlinewidth": 0,
              "ticks": ""
             }
            },
            "type": "scattergeo"
           }
          ],
          "scattergl": [
           {
            "marker": {
             "colorbar": {
              "outlinewidth": 0,
              "ticks": ""
             }
            },
            "type": "scattergl"
           }
          ],
          "scattermapbox": [
           {
            "marker": {
             "colorbar": {
              "outlinewidth": 0,
              "ticks": ""
             }
            },
            "type": "scattermapbox"
           }
          ],
          "scatterpolar": [
           {
            "marker": {
             "colorbar": {
              "outlinewidth": 0,
              "ticks": ""
             }
            },
            "type": "scatterpolar"
           }
          ],
          "scatterpolargl": [
           {
            "marker": {
             "colorbar": {
              "outlinewidth": 0,
              "ticks": ""
             }
            },
            "type": "scatterpolargl"
           }
          ],
          "scatterternary": [
           {
            "marker": {
             "colorbar": {
              "outlinewidth": 0,
              "ticks": ""
             }
            },
            "type": "scatterternary"
           }
          ],
          "surface": [
           {
            "colorbar": {
             "outlinewidth": 0,
             "ticks": ""
            },
            "colorscale": [
             [
              0,
              "#0d0887"
             ],
             [
              0.1111111111111111,
              "#46039f"
             ],
             [
              0.2222222222222222,
              "#7201a8"
             ],
             [
              0.3333333333333333,
              "#9c179e"
             ],
             [
              0.4444444444444444,
              "#bd3786"
             ],
             [
              0.5555555555555556,
              "#d8576b"
             ],
             [
              0.6666666666666666,
              "#ed7953"
             ],
             [
              0.7777777777777778,
              "#fb9f3a"
             ],
             [
              0.8888888888888888,
              "#fdca26"
             ],
             [
              1,
              "#f0f921"
             ]
            ],
            "type": "surface"
           }
          ],
          "table": [
           {
            "cells": {
             "fill": {
              "color": "#EBF0F8"
             },
             "line": {
              "color": "white"
             }
            },
            "header": {
             "fill": {
              "color": "#C8D4E3"
             },
             "line": {
              "color": "white"
             }
            },
            "type": "table"
           }
          ]
         },
         "layout": {
          "annotationdefaults": {
           "arrowcolor": "#2a3f5f",
           "arrowhead": 0,
           "arrowwidth": 1
          },
          "autotypenumbers": "strict",
          "coloraxis": {
           "colorbar": {
            "outlinewidth": 0,
            "ticks": ""
           }
          },
          "colorscale": {
           "diverging": [
            [
             0,
             "#8e0152"
            ],
            [
             0.1,
             "#c51b7d"
            ],
            [
             0.2,
             "#de77ae"
            ],
            [
             0.3,
             "#f1b6da"
            ],
            [
             0.4,
             "#fde0ef"
            ],
            [
             0.5,
             "#f7f7f7"
            ],
            [
             0.6,
             "#e6f5d0"
            ],
            [
             0.7,
             "#b8e186"
            ],
            [
             0.8,
             "#7fbc41"
            ],
            [
             0.9,
             "#4d9221"
            ],
            [
             1,
             "#276419"
            ]
           ],
           "sequential": [
            [
             0,
             "#0d0887"
            ],
            [
             0.1111111111111111,
             "#46039f"
            ],
            [
             0.2222222222222222,
             "#7201a8"
            ],
            [
             0.3333333333333333,
             "#9c179e"
            ],
            [
             0.4444444444444444,
             "#bd3786"
            ],
            [
             0.5555555555555556,
             "#d8576b"
            ],
            [
             0.6666666666666666,
             "#ed7953"
            ],
            [
             0.7777777777777778,
             "#fb9f3a"
            ],
            [
             0.8888888888888888,
             "#fdca26"
            ],
            [
             1,
             "#f0f921"
            ]
           ],
           "sequentialminus": [
            [
             0,
             "#0d0887"
            ],
            [
             0.1111111111111111,
             "#46039f"
            ],
            [
             0.2222222222222222,
             "#7201a8"
            ],
            [
             0.3333333333333333,
             "#9c179e"
            ],
            [
             0.4444444444444444,
             "#bd3786"
            ],
            [
             0.5555555555555556,
             "#d8576b"
            ],
            [
             0.6666666666666666,
             "#ed7953"
            ],
            [
             0.7777777777777778,
             "#fb9f3a"
            ],
            [
             0.8888888888888888,
             "#fdca26"
            ],
            [
             1,
             "#f0f921"
            ]
           ]
          },
          "colorway": [
           "#636efa",
           "#EF553B",
           "#00cc96",
           "#ab63fa",
           "#FFA15A",
           "#19d3f3",
           "#FF6692",
           "#B6E880",
           "#FF97FF",
           "#FECB52"
          ],
          "font": {
           "color": "#2a3f5f"
          },
          "geo": {
           "bgcolor": "white",
           "lakecolor": "white",
           "landcolor": "#E5ECF6",
           "showlakes": true,
           "showland": true,
           "subunitcolor": "white"
          },
          "hoverlabel": {
           "align": "left"
          },
          "hovermode": "closest",
          "mapbox": {
           "style": "light"
          },
          "paper_bgcolor": "white",
          "plot_bgcolor": "#E5ECF6",
          "polar": {
           "angularaxis": {
            "gridcolor": "white",
            "linecolor": "white",
            "ticks": ""
           },
           "bgcolor": "#E5ECF6",
           "radialaxis": {
            "gridcolor": "white",
            "linecolor": "white",
            "ticks": ""
           }
          },
          "scene": {
           "xaxis": {
            "backgroundcolor": "#E5ECF6",
            "gridcolor": "white",
            "gridwidth": 2,
            "linecolor": "white",
            "showbackground": true,
            "ticks": "",
            "zerolinecolor": "white"
           },
           "yaxis": {
            "backgroundcolor": "#E5ECF6",
            "gridcolor": "white",
            "gridwidth": 2,
            "linecolor": "white",
            "showbackground": true,
            "ticks": "",
            "zerolinecolor": "white"
           },
           "zaxis": {
            "backgroundcolor": "#E5ECF6",
            "gridcolor": "white",
            "gridwidth": 2,
            "linecolor": "white",
            "showbackground": true,
            "ticks": "",
            "zerolinecolor": "white"
           }
          },
          "shapedefaults": {
           "line": {
            "color": "#2a3f5f"
           }
          },
          "ternary": {
           "aaxis": {
            "gridcolor": "white",
            "linecolor": "white",
            "ticks": ""
           },
           "baxis": {
            "gridcolor": "white",
            "linecolor": "white",
            "ticks": ""
           },
           "bgcolor": "#E5ECF6",
           "caxis": {
            "gridcolor": "white",
            "linecolor": "white",
            "ticks": ""
           }
          },
          "title": {
           "x": 0.05
          },
          "xaxis": {
           "automargin": true,
           "gridcolor": "white",
           "linecolor": "white",
           "ticks": "",
           "title": {
            "standoff": 15
           },
           "zerolinecolor": "white",
           "zerolinewidth": 2
          },
          "yaxis": {
           "automargin": true,
           "gridcolor": "white",
           "linecolor": "white",
           "ticks": "",
           "title": {
            "standoff": 15
           },
           "zerolinecolor": "white",
           "zerolinewidth": 2
          }
         }
        },
        "xaxis": {
         "anchor": "y",
         "domain": [
          0,
          1
         ],
         "title": {
          "text": "Passer"
         }
        },
        "yaxis": {
         "anchor": "x",
         "domain": [
          0,
          1
         ],
         "title": {
          "text": "# Defenders Passed"
         }
        }
       }
      }
     },
     "metadata": {},
     "output_type": "display_data"
    }
   ],
   "source": [
    "f2 = px.box(df, x='Passer', y='# Defenders Passed')\n",
    "#fig.update_layout(width=1200, height=500) \n",
    "#plt.xticks(rotation=90)\n",
    "f2.show()"
   ]
  },
  {
   "cell_type": "code",
   "execution_count": null,
   "metadata": {},
   "outputs": [],
   "source": []
  }
 ],
 "metadata": {
  "kernelspec": {
   "display_name": ".venv",
   "language": "python",
   "name": "python3"
  },
  "language_info": {
   "codemirror_mode": {
    "name": "ipython",
    "version": 3
   },
   "file_extension": ".py",
   "mimetype": "text/x-python",
   "name": "python",
   "nbconvert_exporter": "python",
   "pygments_lexer": "ipython3",
   "version": "3.8.5"
  },
  "orig_nbformat": 4
 },
 "nbformat": 4,
 "nbformat_minor": 2
}
