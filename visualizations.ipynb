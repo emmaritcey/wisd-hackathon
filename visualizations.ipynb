{
 "cells": [
  {
   "cell_type": "code",
   "execution_count": 1,
   "metadata": {},
   "outputs": [],
   "source": [
    "import pandas as pd\n",
    "import plotly.express as px"
   ]
  },
  {
   "cell_type": "code",
   "execution_count": 4,
   "metadata": {},
   "outputs": [
    {
     "data": {
      "text/plain": [
       "<Transition.Transition at 0x7ff8cecd7730>"
      ]
     },
     "execution_count": 4,
     "metadata": {},
     "output_type": "execute_result"
    }
   ],
   "source": [
    "df = pd.read_pickle('data/transition/test/0042100306_away.pkl')\n"
   ]
  },
  {
   "cell_type": "code",
   "execution_count": 5,
   "metadata": {},
   "outputs": [],
   "source": [
    "test = df['Transition Object'].values[0]"
   ]
  },
  {
   "cell_type": "code",
   "execution_count": 34,
   "metadata": {},
   "outputs": [],
   "source": [
    "possession_df = pd.read_pickle('data/transition/possession_summaries.pkl')\n",
    "pass_df = pd.read_pickle('data/transition/pass_stats.pkl')"
   ]
  },
  {
   "cell_type": "code",
   "execution_count": 35,
   "metadata": {},
   "outputs": [],
   "source": [
    "pass_df = pass_df[pass_df['Team Name'] == 'Boston Celtics']\n",
    "pass_df = pass_df[pass_df['Transition Trigger'] == 'TO']"
   ]
  },
  {
   "cell_type": "code",
   "execution_count": 36,
   "metadata": {},
   "outputs": [
    {
     "data": {
      "text/plain": [
       "array([  56,   58,  242,  252,  378,  379,  412,  452,  454,  474,  676,\n",
       "        722,  813,  883,  890,  930, 1081, 1224, 1349, 1356, 1623, 1661,\n",
       "       1695, 1697, 1750, 1822, 1838, 1880, 2050, 2157, 2165, 2287, 2313,\n",
       "       2358])"
      ]
     },
     "execution_count": 36,
     "metadata": {},
     "output_type": "execute_result"
    }
   ],
   "source": [
    "indices = possession_df[possession_df['# Passes']>=4].index.values\n",
    "indices"
   ]
  },
  {
   "cell_type": "code",
   "execution_count": 37,
   "metadata": {},
   "outputs": [
    {
     "data": {
      "text/html": [
       "<div>\n",
       "<style scoped>\n",
       "    .dataframe tbody tr th:only-of-type {\n",
       "        vertical-align: middle;\n",
       "    }\n",
       "\n",
       "    .dataframe tbody tr th {\n",
       "        vertical-align: top;\n",
       "    }\n",
       "\n",
       "    .dataframe thead th {\n",
       "        text-align: right;\n",
       "    }\n",
       "</style>\n",
       "<table border=\"1\" class=\"dataframe\">\n",
       "  <thead>\n",
       "    <tr style=\"text-align: right;\">\n",
       "      <th></th>\n",
       "      <th>Pass Index</th>\n",
       "      <th>Pass Time</th>\n",
       "      <th>Pass Distance X</th>\n",
       "      <th>Pass Distance Y</th>\n",
       "      <th>Pass Distance</th>\n",
       "      <th>Pass Start</th>\n",
       "      <th>Pass End</th>\n",
       "      <th>Ground Made Up</th>\n",
       "      <th># Defenders Passed</th>\n",
       "      <th>Passer</th>\n",
       "      <th>Transition Index</th>\n",
       "      <th>Transition Trigger</th>\n",
       "      <th>Outcome</th>\n",
       "      <th>OutcomeMSG</th>\n",
       "      <th>OutcomeMSGaction</th>\n",
       "      <th>Team Id</th>\n",
       "      <th>Team Name</th>\n",
       "      <th>Game Id</th>\n",
       "    </tr>\n",
       "  </thead>\n",
       "  <tbody>\n",
       "    <tr>\n",
       "      <th>2039</th>\n",
       "      <td>75</td>\n",
       "      <td>3.00</td>\n",
       "      <td>10.92</td>\n",
       "      <td>-9.62</td>\n",
       "      <td>14.55</td>\n",
       "      <td>[-38.77, 18.77, 5.15]</td>\n",
       "      <td>[-27.85, 9.15, 6.13]</td>\n",
       "      <td>[5.74, 4.92, 9.47, 4.62, 6.11]</td>\n",
       "      <td>2.0</td>\n",
       "      <td>Jaylen Brown</td>\n",
       "      <td>1623</td>\n",
       "      <td>TO</td>\n",
       "      <td>no shot</td>\n",
       "      <td>NaN</td>\n",
       "      <td>NaN</td>\n",
       "      <td>feb4cb57-89ef-11e6-86b2-a45e60e298d3</td>\n",
       "      <td>Boston Celtics</td>\n",
       "      <td>fac47ac5-7c4d-43be-904f-55d67d1893e3</td>\n",
       "    </tr>\n",
       "    <tr>\n",
       "      <th>2040</th>\n",
       "      <td>98</td>\n",
       "      <td>3.92</td>\n",
       "      <td>19.46</td>\n",
       "      <td>6.67</td>\n",
       "      <td>20.57</td>\n",
       "      <td>[-17.27, 11.06, 6.02]</td>\n",
       "      <td>[2.19, 17.73, 7.69]</td>\n",
       "      <td>[13.26, 9.81, 14.4, 11.21, 11.52]</td>\n",
       "      <td>1.0</td>\n",
       "      <td>Marcus Smart</td>\n",
       "      <td>1623</td>\n",
       "      <td>TO</td>\n",
       "      <td>no shot</td>\n",
       "      <td>NaN</td>\n",
       "      <td>NaN</td>\n",
       "      <td>feb4cb57-89ef-11e6-86b2-a45e60e298d3</td>\n",
       "      <td>Boston Celtics</td>\n",
       "      <td>fac47ac5-7c4d-43be-904f-55d67d1893e3</td>\n",
       "    </tr>\n",
       "    <tr>\n",
       "      <th>2041</th>\n",
       "      <td>160</td>\n",
       "      <td>6.40</td>\n",
       "      <td>5.10</td>\n",
       "      <td>-3.64</td>\n",
       "      <td>6.27</td>\n",
       "      <td>[34.77, 19.65, 3.1]</td>\n",
       "      <td>[39.87, 16.01, 1.13]</td>\n",
       "      <td>[4.71, 5.4, 1.96, 2.66, 2.87]</td>\n",
       "      <td>1.0</td>\n",
       "      <td>Derrick White</td>\n",
       "      <td>1623</td>\n",
       "      <td>TO</td>\n",
       "      <td>no shot</td>\n",
       "      <td>NaN</td>\n",
       "      <td>NaN</td>\n",
       "      <td>feb4cb57-89ef-11e6-86b2-a45e60e298d3</td>\n",
       "      <td>Boston Celtics</td>\n",
       "      <td>fac47ac5-7c4d-43be-904f-55d67d1893e3</td>\n",
       "    </tr>\n",
       "    <tr>\n",
       "      <th>2042</th>\n",
       "      <td>195</td>\n",
       "      <td>7.80</td>\n",
       "      <td>NaN</td>\n",
       "      <td>NaN</td>\n",
       "      <td>NaN</td>\n",
       "      <td>[-32.19, 18.35, 5.27]</td>\n",
       "      <td>NaN</td>\n",
       "      <td>NaN</td>\n",
       "      <td>NaN</td>\n",
       "      <td>Al Horford</td>\n",
       "      <td>1623</td>\n",
       "      <td>TO</td>\n",
       "      <td>no shot</td>\n",
       "      <td>NaN</td>\n",
       "      <td>NaN</td>\n",
       "      <td>feb4cb57-89ef-11e6-86b2-a45e60e298d3</td>\n",
       "      <td>Boston Celtics</td>\n",
       "      <td>fac47ac5-7c4d-43be-904f-55d67d1893e3</td>\n",
       "    </tr>\n",
       "  </tbody>\n",
       "</table>\n",
       "</div>"
      ],
      "text/plain": [
       "      Pass Index  Pass Time  Pass Distance X  Pass Distance Y  Pass Distance  \\\n",
       "2039          75       3.00            10.92            -9.62          14.55   \n",
       "2040          98       3.92            19.46             6.67          20.57   \n",
       "2041         160       6.40             5.10            -3.64           6.27   \n",
       "2042         195       7.80              NaN              NaN            NaN   \n",
       "\n",
       "                 Pass Start              Pass End  \\\n",
       "2039  [-38.77, 18.77, 5.15]  [-27.85, 9.15, 6.13]   \n",
       "2040  [-17.27, 11.06, 6.02]   [2.19, 17.73, 7.69]   \n",
       "2041    [34.77, 19.65, 3.1]  [39.87, 16.01, 1.13]   \n",
       "2042  [-32.19, 18.35, 5.27]                   NaN   \n",
       "\n",
       "                         Ground Made Up  # Defenders Passed         Passer  \\\n",
       "2039     [5.74, 4.92, 9.47, 4.62, 6.11]                 2.0   Jaylen Brown   \n",
       "2040  [13.26, 9.81, 14.4, 11.21, 11.52]                 1.0   Marcus Smart   \n",
       "2041      [4.71, 5.4, 1.96, 2.66, 2.87]                 1.0  Derrick White   \n",
       "2042                                NaN                 NaN     Al Horford   \n",
       "\n",
       "      Transition Index Transition Trigger  Outcome  OutcomeMSG  \\\n",
       "2039              1623                 TO  no shot         NaN   \n",
       "2040              1623                 TO  no shot         NaN   \n",
       "2041              1623                 TO  no shot         NaN   \n",
       "2042              1623                 TO  no shot         NaN   \n",
       "\n",
       "      OutcomeMSGaction                               Team Id       Team Name  \\\n",
       "2039               NaN  feb4cb57-89ef-11e6-86b2-a45e60e298d3  Boston Celtics   \n",
       "2040               NaN  feb4cb57-89ef-11e6-86b2-a45e60e298d3  Boston Celtics   \n",
       "2041               NaN  feb4cb57-89ef-11e6-86b2-a45e60e298d3  Boston Celtics   \n",
       "2042               NaN  feb4cb57-89ef-11e6-86b2-a45e60e298d3  Boston Celtics   \n",
       "\n",
       "                                   Game Id  \n",
       "2039  fac47ac5-7c4d-43be-904f-55d67d1893e3  \n",
       "2040  fac47ac5-7c4d-43be-904f-55d67d1893e3  \n",
       "2041  fac47ac5-7c4d-43be-904f-55d67d1893e3  \n",
       "2042  fac47ac5-7c4d-43be-904f-55d67d1893e3  "
      ]
     },
     "execution_count": 37,
     "metadata": {},
     "output_type": "execute_result"
    }
   ],
   "source": [
    "test_df = pass_df[pass_df['Transition Index'].isin(indices)]\n",
    "test_df"
   ]
  },
  {
   "cell_type": "code",
   "execution_count": 3,
   "metadata": {},
   "outputs": [],
   "source": []
  },
  {
   "cell_type": "code",
   "execution_count": 4,
   "metadata": {},
   "outputs": [
    {
     "data": {
      "text/html": [
       "<div>\n",
       "<style scoped>\n",
       "    .dataframe tbody tr th:only-of-type {\n",
       "        vertical-align: middle;\n",
       "    }\n",
       "\n",
       "    .dataframe tbody tr th {\n",
       "        vertical-align: top;\n",
       "    }\n",
       "\n",
       "    .dataframe thead th {\n",
       "        text-align: right;\n",
       "    }\n",
       "</style>\n",
       "<table border=\"1\" class=\"dataframe\">\n",
       "  <thead>\n",
       "    <tr style=\"text-align: right;\">\n",
       "      <th></th>\n",
       "      <th>Pass Index</th>\n",
       "      <th>Pass Time</th>\n",
       "      <th>Pass Distance X</th>\n",
       "      <th>Pass Distance Y</th>\n",
       "      <th>Pass Distance</th>\n",
       "      <th>Pass Start</th>\n",
       "      <th>Pass End</th>\n",
       "      <th>Ground Made Up</th>\n",
       "      <th># Defenders Passed</th>\n",
       "      <th>Passer</th>\n",
       "      <th>Transition Index</th>\n",
       "      <th>Transition Trigger</th>\n",
       "      <th>Outcome</th>\n",
       "      <th>OutcomeMSG</th>\n",
       "      <th>OutcomeMSGaction</th>\n",
       "      <th>Team Id</th>\n",
       "      <th>Team Name</th>\n",
       "      <th>Game Id</th>\n",
       "    </tr>\n",
       "  </thead>\n",
       "  <tbody>\n",
       "    <tr>\n",
       "      <th>0</th>\n",
       "      <td>33</td>\n",
       "      <td>1.32</td>\n",
       "      <td>13.96</td>\n",
       "      <td>-16.20</td>\n",
       "      <td>21.39</td>\n",
       "      <td>[-27.56, 0.85, 5.81]</td>\n",
       "      <td>[-13.6, -15.35, 4.1]</td>\n",
       "      <td>[-25.41, 5.89, 33.69, 56.86, -42.5]</td>\n",
       "      <td>2.0</td>\n",
       "      <td>Jayson Tatum</td>\n",
       "      <td>1</td>\n",
       "      <td>TO</td>\n",
       "      <td>shot</td>\n",
       "      <td>6.0</td>\n",
       "      <td>2.0</td>\n",
       "      <td>feb4cb57-89ef-11e6-86b2-a45e60e298d3</td>\n",
       "      <td>Boston Celtics</td>\n",
       "      <td>31cb8a55-0ee0-4d47-aa38-4f512e54e763</td>\n",
       "    </tr>\n",
       "    <tr>\n",
       "      <th>1</th>\n",
       "      <td>85</td>\n",
       "      <td>3.40</td>\n",
       "      <td>5.24</td>\n",
       "      <td>9.68</td>\n",
       "      <td>11.01</td>\n",
       "      <td>[8.6, -12.63, 4.32]</td>\n",
       "      <td>[13.84, -2.95, 5.4]</td>\n",
       "      <td>[20.56, 24.78, -20.14, 3.38, -26.38]</td>\n",
       "      <td>1.0</td>\n",
       "      <td>Jaylen Brown</td>\n",
       "      <td>1</td>\n",
       "      <td>TO</td>\n",
       "      <td>shot</td>\n",
       "      <td>6.0</td>\n",
       "      <td>2.0</td>\n",
       "      <td>feb4cb57-89ef-11e6-86b2-a45e60e298d3</td>\n",
       "      <td>Boston Celtics</td>\n",
       "      <td>31cb8a55-0ee0-4d47-aa38-4f512e54e763</td>\n",
       "    </tr>\n",
       "    <tr>\n",
       "      <th>2</th>\n",
       "      <td>122</td>\n",
       "      <td>4.88</td>\n",
       "      <td>0.45</td>\n",
       "      <td>-3.61</td>\n",
       "      <td>3.64</td>\n",
       "      <td>[32.6, -6.23, 7.02]</td>\n",
       "      <td>[33.05, -9.84, 6.42]</td>\n",
       "      <td>[-30.87, 5.27, -9.13, -8.12, 34.9]</td>\n",
       "      <td>2.0</td>\n",
       "      <td>Jayson Tatum</td>\n",
       "      <td>1</td>\n",
       "      <td>TO</td>\n",
       "      <td>shot</td>\n",
       "      <td>6.0</td>\n",
       "      <td>2.0</td>\n",
       "      <td>feb4cb57-89ef-11e6-86b2-a45e60e298d3</td>\n",
       "      <td>Boston Celtics</td>\n",
       "      <td>31cb8a55-0ee0-4d47-aa38-4f512e54e763</td>\n",
       "    </tr>\n",
       "    <tr>\n",
       "      <th>3</th>\n",
       "      <td>55</td>\n",
       "      <td>2.20</td>\n",
       "      <td>28.88</td>\n",
       "      <td>-7.22</td>\n",
       "      <td>29.77</td>\n",
       "      <td>[-10.65, 3.19, 4.98]</td>\n",
       "      <td>[18.23, -4.03, 5.65]</td>\n",
       "      <td>[23.71, 19.17, 19.2, 18.31, 16.64]</td>\n",
       "      <td>2.0</td>\n",
       "      <td>Derrick White</td>\n",
       "      <td>2</td>\n",
       "      <td>TO</td>\n",
       "      <td>shot</td>\n",
       "      <td>1.0</td>\n",
       "      <td>41.0</td>\n",
       "      <td>feb4cb57-89ef-11e6-86b2-a45e60e298d3</td>\n",
       "      <td>Boston Celtics</td>\n",
       "      <td>31cb8a55-0ee0-4d47-aa38-4f512e54e763</td>\n",
       "    </tr>\n",
       "    <tr>\n",
       "      <th>4</th>\n",
       "      <td>181</td>\n",
       "      <td>7.24</td>\n",
       "      <td>10.85</td>\n",
       "      <td>20.48</td>\n",
       "      <td>23.18</td>\n",
       "      <td>[11.85, -3.9, 4.98]</td>\n",
       "      <td>[22.7, 16.58, 4.6]</td>\n",
       "      <td>[11.91, 8.62, 7.33, 12.29, 5.93]</td>\n",
       "      <td>1.0</td>\n",
       "      <td>Jaylen Brown</td>\n",
       "      <td>3</td>\n",
       "      <td>TO</td>\n",
       "      <td>no shot</td>\n",
       "      <td>NaN</td>\n",
       "      <td>NaN</td>\n",
       "      <td>feb4cb57-89ef-11e6-86b2-a45e60e298d3</td>\n",
       "      <td>Boston Celtics</td>\n",
       "      <td>31cb8a55-0ee0-4d47-aa38-4f512e54e763</td>\n",
       "    </tr>\n",
       "  </tbody>\n",
       "</table>\n",
       "</div>"
      ],
      "text/plain": [
       "   Pass Index  Pass Time  Pass Distance X  Pass Distance Y  Pass Distance  \\\n",
       "0          33       1.32            13.96           -16.20          21.39   \n",
       "1          85       3.40             5.24             9.68          11.01   \n",
       "2         122       4.88             0.45            -3.61           3.64   \n",
       "3          55       2.20            28.88            -7.22          29.77   \n",
       "4         181       7.24            10.85            20.48          23.18   \n",
       "\n",
       "             Pass Start              Pass End  \\\n",
       "0  [-27.56, 0.85, 5.81]  [-13.6, -15.35, 4.1]   \n",
       "1   [8.6, -12.63, 4.32]   [13.84, -2.95, 5.4]   \n",
       "2   [32.6, -6.23, 7.02]  [33.05, -9.84, 6.42]   \n",
       "3  [-10.65, 3.19, 4.98]  [18.23, -4.03, 5.65]   \n",
       "4   [11.85, -3.9, 4.98]    [22.7, 16.58, 4.6]   \n",
       "\n",
       "                         Ground Made Up  # Defenders Passed         Passer  \\\n",
       "0   [-25.41, 5.89, 33.69, 56.86, -42.5]                 2.0   Jayson Tatum   \n",
       "1  [20.56, 24.78, -20.14, 3.38, -26.38]                 1.0   Jaylen Brown   \n",
       "2    [-30.87, 5.27, -9.13, -8.12, 34.9]                 2.0   Jayson Tatum   \n",
       "3    [23.71, 19.17, 19.2, 18.31, 16.64]                 2.0  Derrick White   \n",
       "4      [11.91, 8.62, 7.33, 12.29, 5.93]                 1.0   Jaylen Brown   \n",
       "\n",
       "   Transition Index Transition Trigger  Outcome  OutcomeMSG  OutcomeMSGaction  \\\n",
       "0                 1                 TO     shot         6.0               2.0   \n",
       "1                 1                 TO     shot         6.0               2.0   \n",
       "2                 1                 TO     shot         6.0               2.0   \n",
       "3                 2                 TO     shot         1.0              41.0   \n",
       "4                 3                 TO  no shot         NaN               NaN   \n",
       "\n",
       "                                Team Id       Team Name  \\\n",
       "0  feb4cb57-89ef-11e6-86b2-a45e60e298d3  Boston Celtics   \n",
       "1  feb4cb57-89ef-11e6-86b2-a45e60e298d3  Boston Celtics   \n",
       "2  feb4cb57-89ef-11e6-86b2-a45e60e298d3  Boston Celtics   \n",
       "3  feb4cb57-89ef-11e6-86b2-a45e60e298d3  Boston Celtics   \n",
       "4  feb4cb57-89ef-11e6-86b2-a45e60e298d3  Boston Celtics   \n",
       "\n",
       "                                Game Id  \n",
       "0  31cb8a55-0ee0-4d47-aa38-4f512e54e763  \n",
       "1  31cb8a55-0ee0-4d47-aa38-4f512e54e763  \n",
       "2  31cb8a55-0ee0-4d47-aa38-4f512e54e763  \n",
       "3  31cb8a55-0ee0-4d47-aa38-4f512e54e763  \n",
       "4  31cb8a55-0ee0-4d47-aa38-4f512e54e763  "
      ]
     },
     "execution_count": 4,
     "metadata": {},
     "output_type": "execute_result"
    }
   ],
   "source": [
    "pass_df.groupby(['Transition Index'])['# Defenders Passed'].count() "
   ]
  },
  {
   "cell_type": "code",
   "execution_count": 14,
   "metadata": {},
   "outputs": [
    {
     "data": {
      "text/html": [
       "<div>\n",
       "<style scoped>\n",
       "    .dataframe tbody tr th:only-of-type {\n",
       "        vertical-align: middle;\n",
       "    }\n",
       "\n",
       "    .dataframe tbody tr th {\n",
       "        vertical-align: top;\n",
       "    }\n",
       "\n",
       "    .dataframe thead th {\n",
       "        text-align: right;\n",
       "    }\n",
       "</style>\n",
       "<table border=\"1\" class=\"dataframe\">\n",
       "  <thead>\n",
       "    <tr style=\"text-align: right;\">\n",
       "      <th></th>\n",
       "      <th>Drive Indices</th>\n",
       "      <th>Drive Time</th>\n",
       "      <th>Drive Length (sec)</th>\n",
       "      <th>Drive Distance</th>\n",
       "      <th>Drive Distance Total</th>\n",
       "      <th>Ground Made Up</th>\n",
       "      <th># Defenders Passed</th>\n",
       "      <th>Driver</th>\n",
       "      <th>Transition Index</th>\n",
       "      <th>Outcome</th>\n",
       "      <th>OutcomeMSG</th>\n",
       "      <th>OutcomeMSGaction</th>\n",
       "      <th>Team Id</th>\n",
       "      <th>Team Name</th>\n",
       "      <th>Game Id</th>\n",
       "    </tr>\n",
       "  </thead>\n",
       "  <tbody>\n",
       "    <tr>\n",
       "      <th>0</th>\n",
       "      <td>(1, 50)</td>\n",
       "      <td>0.04</td>\n",
       "      <td>2</td>\n",
       "      <td>(27.35, 0.08, 27.35)</td>\n",
       "      <td>(26.37, 8.01, 29.51)</td>\n",
       "      <td>[24.88, 19.38, 21.14, -2.16, -0.25]</td>\n",
       "      <td>0</td>\n",
       "      <td>Marcus Smart</td>\n",
       "      <td>0</td>\n",
       "      <td>NaN</td>\n",
       "      <td>NaN</td>\n",
       "      <td>NaN</td>\n",
       "      <td>feb4cb57-89ef-11e6-86b2-a45e60e298d3</td>\n",
       "      <td>Boston Celtics</td>\n",
       "      <td>31cb8a55-0ee0-4d47-aa38-4f512e54e763</td>\n",
       "    </tr>\n",
       "    <tr>\n",
       "      <th>1</th>\n",
       "      <td>(53, 85)</td>\n",
       "      <td>2.12</td>\n",
       "      <td>1</td>\n",
       "      <td>(22.2, 2.72, 22.37)</td>\n",
       "      <td>(21.54, 8.98, 24.85)</td>\n",
       "      <td>[8.89, -1.48, 1.05, -45.24, 56.44]</td>\n",
       "      <td>1</td>\n",
       "      <td>Jaylen Brown</td>\n",
       "      <td>1</td>\n",
       "      <td>shot</td>\n",
       "      <td>6.0</td>\n",
       "      <td>2.0</td>\n",
       "      <td>feb4cb57-89ef-11e6-86b2-a45e60e298d3</td>\n",
       "      <td>Boston Celtics</td>\n",
       "      <td>31cb8a55-0ee0-4d47-aa38-4f512e54e763</td>\n",
       "    </tr>\n",
       "    <tr>\n",
       "      <th>2</th>\n",
       "      <td>(93, 122)</td>\n",
       "      <td>3.72</td>\n",
       "      <td>1</td>\n",
       "      <td>(18.76, -3.28, 19.04)</td>\n",
       "      <td>(18.65, 10.14, 23.42)</td>\n",
       "      <td>[25.97, -37.18, 16.74, 15.72, -12.12]</td>\n",
       "      <td>2</td>\n",
       "      <td>Jayson Tatum</td>\n",
       "      <td>1</td>\n",
       "      <td>shot</td>\n",
       "      <td>6.0</td>\n",
       "      <td>2.0</td>\n",
       "      <td>feb4cb57-89ef-11e6-86b2-a45e60e298d3</td>\n",
       "      <td>Boston Celtics</td>\n",
       "      <td>31cb8a55-0ee0-4d47-aa38-4f512e54e763</td>\n",
       "    </tr>\n",
       "    <tr>\n",
       "      <th>3</th>\n",
       "      <td>(126, 160)</td>\n",
       "      <td>5.04</td>\n",
       "      <td>1</td>\n",
       "      <td>(6.68, 5.69, 8.77)</td>\n",
       "      <td>(8.76, 8.63, 14.46)</td>\n",
       "      <td>[14.25, -4.11, 2.71, -1.98, -33.76]</td>\n",
       "      <td>0</td>\n",
       "      <td>Jaylen Brown</td>\n",
       "      <td>1</td>\n",
       "      <td>shot</td>\n",
       "      <td>6.0</td>\n",
       "      <td>2.0</td>\n",
       "      <td>feb4cb57-89ef-11e6-86b2-a45e60e298d3</td>\n",
       "      <td>Boston Celtics</td>\n",
       "      <td>31cb8a55-0ee0-4d47-aa38-4f512e54e763</td>\n",
       "    </tr>\n",
       "    <tr>\n",
       "      <th>4</th>\n",
       "      <td>(1, 55)</td>\n",
       "      <td>0.04</td>\n",
       "      <td>2</td>\n",
       "      <td>(15.39, -1.83, 15.5)</td>\n",
       "      <td>(21.49, 8.29, 25.25)</td>\n",
       "      <td>[20.72, -16.26, -1.87, -17.94, -12.09]</td>\n",
       "      <td>1</td>\n",
       "      <td>Derrick White</td>\n",
       "      <td>2</td>\n",
       "      <td>shot</td>\n",
       "      <td>1.0</td>\n",
       "      <td>41.0</td>\n",
       "      <td>feb4cb57-89ef-11e6-86b2-a45e60e298d3</td>\n",
       "      <td>Boston Celtics</td>\n",
       "      <td>31cb8a55-0ee0-4d47-aa38-4f512e54e763</td>\n",
       "    </tr>\n",
       "  </tbody>\n",
       "</table>\n",
       "</div>"
      ],
      "text/plain": [
       "  Drive Indices  Drive Time  Drive Length (sec)         Drive Distance  \\\n",
       "0       (1, 50)        0.04                   2   (27.35, 0.08, 27.35)   \n",
       "1      (53, 85)        2.12                   1    (22.2, 2.72, 22.37)   \n",
       "2     (93, 122)        3.72                   1  (18.76, -3.28, 19.04)   \n",
       "3    (126, 160)        5.04                   1     (6.68, 5.69, 8.77)   \n",
       "4       (1, 55)        0.04                   2   (15.39, -1.83, 15.5)   \n",
       "\n",
       "    Drive Distance Total                          Ground Made Up  \\\n",
       "0   (26.37, 8.01, 29.51)     [24.88, 19.38, 21.14, -2.16, -0.25]   \n",
       "1   (21.54, 8.98, 24.85)      [8.89, -1.48, 1.05, -45.24, 56.44]   \n",
       "2  (18.65, 10.14, 23.42)   [25.97, -37.18, 16.74, 15.72, -12.12]   \n",
       "3    (8.76, 8.63, 14.46)     [14.25, -4.11, 2.71, -1.98, -33.76]   \n",
       "4   (21.49, 8.29, 25.25)  [20.72, -16.26, -1.87, -17.94, -12.09]   \n",
       "\n",
       "   # Defenders Passed         Driver  Transition Index Outcome  OutcomeMSG  \\\n",
       "0                   0   Marcus Smart                 0     NaN         NaN   \n",
       "1                   1   Jaylen Brown                 1    shot         6.0   \n",
       "2                   2   Jayson Tatum                 1    shot         6.0   \n",
       "3                   0   Jaylen Brown                 1    shot         6.0   \n",
       "4                   1  Derrick White                 2    shot         1.0   \n",
       "\n",
       "   OutcomeMSGaction                               Team Id       Team Name  \\\n",
       "0               NaN  feb4cb57-89ef-11e6-86b2-a45e60e298d3  Boston Celtics   \n",
       "1               2.0  feb4cb57-89ef-11e6-86b2-a45e60e298d3  Boston Celtics   \n",
       "2               2.0  feb4cb57-89ef-11e6-86b2-a45e60e298d3  Boston Celtics   \n",
       "3               2.0  feb4cb57-89ef-11e6-86b2-a45e60e298d3  Boston Celtics   \n",
       "4              41.0  feb4cb57-89ef-11e6-86b2-a45e60e298d3  Boston Celtics   \n",
       "\n",
       "                                Game Id  \n",
       "0  31cb8a55-0ee0-4d47-aa38-4f512e54e763  \n",
       "1  31cb8a55-0ee0-4d47-aa38-4f512e54e763  \n",
       "2  31cb8a55-0ee0-4d47-aa38-4f512e54e763  \n",
       "3  31cb8a55-0ee0-4d47-aa38-4f512e54e763  \n",
       "4  31cb8a55-0ee0-4d47-aa38-4f512e54e763  "
      ]
     },
     "execution_count": 14,
     "metadata": {},
     "output_type": "execute_result"
    }
   ],
   "source": [
    "drive_df = pd.read_pickle('data/transition/drive_stats.pkl')\n",
    "drive_df.head()"
   ]
  },
  {
   "cell_type": "code",
   "execution_count": 16,
   "metadata": {},
   "outputs": [],
   "source": [
    "def_passed_means_player = pass_df.groupby(['Passer'])['# Defenders Passed'].mean() #number of defenders passed per pass in transition on average\n",
    "def_passed_sums_player = pass_df.groupby(['Passer'])['# Defenders Passed'].sum() #total number of defenders passed in transition from all passes\n",
    "num_passes_player = pass_df.groupby(['Passer'])['# Defenders Passed'].count() #total number of passess made in transition\n",
    "\n",
    "def_passed_means_team = pass_df.groupby(['Team Name'])['# Defenders Passed'].mean()\n",
    "def_passed_sums_team = pass_df.groupby(['Team Name'])['# Defenders Passed'].sum()\n",
    "num_passes_team = pass_df.groupby(['Team Name'])['# Defenders Passed'].count()\n",
    "\n",
    "def_drive_means_player = drive_df.groupby(['Driver'])['# Defenders Passed'].mean()\n",
    "def_drive_sums_player = drive_df.groupby(['Driver'])['# Defenders Passed'].sum() #total number of defenders passed in transition from all passes\n",
    "num_drive_player = drive_df.groupby(['Driver'])['# Defenders Passed'].count() #total number of passess made in transition\n",
    "\n",
    "def_drive_means_team = drive_df.groupby(['Team Name'])['# Defenders Passed'].mean()\n",
    "def_drive_sums_team = drive_df.groupby(['Team Name'])['# Defenders Passed'].sum()\n",
    "num_drive_team = drive_df.groupby(['Team Name'])['# Defenders Passed'].count()\n",
    "\n",
    "#TODO: look at number passes/drives per game!!"
   ]
  },
  {
   "cell_type": "code",
   "execution_count": 23,
   "metadata": {},
   "outputs": [
    {
     "data": {
      "application/vnd.plotly.v1+json": {
       "config": {
        "plotlyServerURL": "https://plot.ly"
       },
       "data": [
        {
         "hovertemplate": "x=%{x}<br>y=%{y}<extra></extra>",
         "legendgroup": "",
         "marker": {
          "color": "#636efa",
          "symbol": "circle"
         },
         "mode": "markers",
         "name": "",
         "orientation": "v",
         "showlegend": false,
         "type": "scatter",
         "x": [
          "Aaron Nesmith",
          "Al Horford",
          "Andre Iguodala",
          "Andrew Wiggins",
          "Bam Adebayo",
          "Caleb Martin",
          "Damion Lee",
          "Daniel Theis",
          "Davis Bertans",
          "Derrick White",
          "Dewayne Dedmon",
          "Dorian Finney-Smith",
          "Draymond Green",
          "Duncan Robinson",
          "Dwight Powell",
          "Frank Ntilikina",
          "Gabe Vincent",
          "Gary Payton II",
          "Grant Williams",
          "Haywood Highsmith",
          "Jalen Brunson",
          "Jaylen Brown",
          "Jayson Tatum",
          "Jimmy Butler",
          "Jonathan Kuminga",
          "Jordan Poole",
          "Josh Green",
          "Juan Toscano-Anderson",
          "Juwan Morgan",
          "Kevon Looney",
          "Klay Thompson",
          "Kyle Lowry",
          "Luka Doncic",
          "Luke Kornet",
          "Marcus Smart",
          "Max Strus",
          "Maxi Kleber",
          "Moses Moody",
          "Nemanja Bjelica",
          "Nik Stauskas",
          "Omer Yurtseven",
          "Otto Porter Jr.",
          "P.J. Tucker",
          "Payton Pritchard",
          "Reggie Bullock",
          "Robert Williams III",
          "Sam Hauser",
          "Spencer Dinwiddie",
          "Stephen Curry",
          "Sterling Brown",
          "Trey Burke",
          "Tyler Herro",
          "Victor Oladipo"
         ],
         "xaxis": "x",
         "y": [
          0.05555555555555555,
          0.3140495867768595,
          0,
          0.24770642201834864,
          0.17105263157894737,
          0.22727272727272727,
          0,
          0.037037037037037035,
          0.1,
          0.42857142857142855,
          0.2631578947368421,
          0.07692307692307693,
          0.24644549763033174,
          0.27586206896551724,
          0.08695652173913043,
          0,
          0.7297297297297297,
          0.0625,
          0.13793103448275862,
          0,
          0.3709677419354839,
          0.33766233766233766,
          0.5434782608695652,
          0.36619718309859156,
          1,
          0.64,
          0,
          0.3333333333333333,
          0,
          0.1282051282051282,
          0.5068493150684932,
          0.6323529411764706,
          0.3548387096774194,
          0,
          0.6049382716049383,
          0.19672131147540983,
          0.2608695652173913,
          0.09090909090909091,
          0.3055555555555556,
          0.25,
          0.4,
          0.21739130434782608,
          0.2,
          0.5285714285714286,
          0.19148936170212766,
          0.15447154471544716,
          0.3333333333333333,
          0.2972972972972973,
          1.1452991452991452,
          0.6,
          0,
          0.3333333333333333,
          0.23404255319148937
         ],
         "yaxis": "y"
        }
       ],
       "layout": {
        "height": 500,
        "legend": {
         "tracegroupgap": 0
        },
        "margin": {
         "t": 60
        },
        "template": {
         "data": {
          "bar": [
           {
            "error_x": {
             "color": "#2a3f5f"
            },
            "error_y": {
             "color": "#2a3f5f"
            },
            "marker": {
             "line": {
              "color": "#E5ECF6",
              "width": 0.5
             },
             "pattern": {
              "fillmode": "overlay",
              "size": 10,
              "solidity": 0.2
             }
            },
            "type": "bar"
           }
          ],
          "barpolar": [
           {
            "marker": {
             "line": {
              "color": "#E5ECF6",
              "width": 0.5
             },
             "pattern": {
              "fillmode": "overlay",
              "size": 10,
              "solidity": 0.2
             }
            },
            "type": "barpolar"
           }
          ],
          "carpet": [
           {
            "aaxis": {
             "endlinecolor": "#2a3f5f",
             "gridcolor": "white",
             "linecolor": "white",
             "minorgridcolor": "white",
             "startlinecolor": "#2a3f5f"
            },
            "baxis": {
             "endlinecolor": "#2a3f5f",
             "gridcolor": "white",
             "linecolor": "white",
             "minorgridcolor": "white",
             "startlinecolor": "#2a3f5f"
            },
            "type": "carpet"
           }
          ],
          "choropleth": [
           {
            "colorbar": {
             "outlinewidth": 0,
             "ticks": ""
            },
            "type": "choropleth"
           }
          ],
          "contour": [
           {
            "colorbar": {
             "outlinewidth": 0,
             "ticks": ""
            },
            "colorscale": [
             [
              0,
              "#0d0887"
             ],
             [
              0.1111111111111111,
              "#46039f"
             ],
             [
              0.2222222222222222,
              "#7201a8"
             ],
             [
              0.3333333333333333,
              "#9c179e"
             ],
             [
              0.4444444444444444,
              "#bd3786"
             ],
             [
              0.5555555555555556,
              "#d8576b"
             ],
             [
              0.6666666666666666,
              "#ed7953"
             ],
             [
              0.7777777777777778,
              "#fb9f3a"
             ],
             [
              0.8888888888888888,
              "#fdca26"
             ],
             [
              1,
              "#f0f921"
             ]
            ],
            "type": "contour"
           }
          ],
          "contourcarpet": [
           {
            "colorbar": {
             "outlinewidth": 0,
             "ticks": ""
            },
            "type": "contourcarpet"
           }
          ],
          "heatmap": [
           {
            "colorbar": {
             "outlinewidth": 0,
             "ticks": ""
            },
            "colorscale": [
             [
              0,
              "#0d0887"
             ],
             [
              0.1111111111111111,
              "#46039f"
             ],
             [
              0.2222222222222222,
              "#7201a8"
             ],
             [
              0.3333333333333333,
              "#9c179e"
             ],
             [
              0.4444444444444444,
              "#bd3786"
             ],
             [
              0.5555555555555556,
              "#d8576b"
             ],
             [
              0.6666666666666666,
              "#ed7953"
             ],
             [
              0.7777777777777778,
              "#fb9f3a"
             ],
             [
              0.8888888888888888,
              "#fdca26"
             ],
             [
              1,
              "#f0f921"
             ]
            ],
            "type": "heatmap"
           }
          ],
          "heatmapgl": [
           {
            "colorbar": {
             "outlinewidth": 0,
             "ticks": ""
            },
            "colorscale": [
             [
              0,
              "#0d0887"
             ],
             [
              0.1111111111111111,
              "#46039f"
             ],
             [
              0.2222222222222222,
              "#7201a8"
             ],
             [
              0.3333333333333333,
              "#9c179e"
             ],
             [
              0.4444444444444444,
              "#bd3786"
             ],
             [
              0.5555555555555556,
              "#d8576b"
             ],
             [
              0.6666666666666666,
              "#ed7953"
             ],
             [
              0.7777777777777778,
              "#fb9f3a"
             ],
             [
              0.8888888888888888,
              "#fdca26"
             ],
             [
              1,
              "#f0f921"
             ]
            ],
            "type": "heatmapgl"
           }
          ],
          "histogram": [
           {
            "marker": {
             "pattern": {
              "fillmode": "overlay",
              "size": 10,
              "solidity": 0.2
             }
            },
            "type": "histogram"
           }
          ],
          "histogram2d": [
           {
            "colorbar": {
             "outlinewidth": 0,
             "ticks": ""
            },
            "colorscale": [
             [
              0,
              "#0d0887"
             ],
             [
              0.1111111111111111,
              "#46039f"
             ],
             [
              0.2222222222222222,
              "#7201a8"
             ],
             [
              0.3333333333333333,
              "#9c179e"
             ],
             [
              0.4444444444444444,
              "#bd3786"
             ],
             [
              0.5555555555555556,
              "#d8576b"
             ],
             [
              0.6666666666666666,
              "#ed7953"
             ],
             [
              0.7777777777777778,
              "#fb9f3a"
             ],
             [
              0.8888888888888888,
              "#fdca26"
             ],
             [
              1,
              "#f0f921"
             ]
            ],
            "type": "histogram2d"
           }
          ],
          "histogram2dcontour": [
           {
            "colorbar": {
             "outlinewidth": 0,
             "ticks": ""
            },
            "colorscale": [
             [
              0,
              "#0d0887"
             ],
             [
              0.1111111111111111,
              "#46039f"
             ],
             [
              0.2222222222222222,
              "#7201a8"
             ],
             [
              0.3333333333333333,
              "#9c179e"
             ],
             [
              0.4444444444444444,
              "#bd3786"
             ],
             [
              0.5555555555555556,
              "#d8576b"
             ],
             [
              0.6666666666666666,
              "#ed7953"
             ],
             [
              0.7777777777777778,
              "#fb9f3a"
             ],
             [
              0.8888888888888888,
              "#fdca26"
             ],
             [
              1,
              "#f0f921"
             ]
            ],
            "type": "histogram2dcontour"
           }
          ],
          "mesh3d": [
           {
            "colorbar": {
             "outlinewidth": 0,
             "ticks": ""
            },
            "type": "mesh3d"
           }
          ],
          "parcoords": [
           {
            "line": {
             "colorbar": {
              "outlinewidth": 0,
              "ticks": ""
             }
            },
            "type": "parcoords"
           }
          ],
          "pie": [
           {
            "automargin": true,
            "type": "pie"
           }
          ],
          "scatter": [
           {
            "fillpattern": {
             "fillmode": "overlay",
             "size": 10,
             "solidity": 0.2
            },
            "type": "scatter"
           }
          ],
          "scatter3d": [
           {
            "line": {
             "colorbar": {
              "outlinewidth": 0,
              "ticks": ""
             }
            },
            "marker": {
             "colorbar": {
              "outlinewidth": 0,
              "ticks": ""
             }
            },
            "type": "scatter3d"
           }
          ],
          "scattercarpet": [
           {
            "marker": {
             "colorbar": {
              "outlinewidth": 0,
              "ticks": ""
             }
            },
            "type": "scattercarpet"
           }
          ],
          "scattergeo": [
           {
            "marker": {
             "colorbar": {
              "outlinewidth": 0,
              "ticks": ""
             }
            },
            "type": "scattergeo"
           }
          ],
          "scattergl": [
           {
            "marker": {
             "colorbar": {
              "outlinewidth": 0,
              "ticks": ""
             }
            },
            "type": "scattergl"
           }
          ],
          "scattermapbox": [
           {
            "marker": {
             "colorbar": {
              "outlinewidth": 0,
              "ticks": ""
             }
            },
            "type": "scattermapbox"
           }
          ],
          "scatterpolar": [
           {
            "marker": {
             "colorbar": {
              "outlinewidth": 0,
              "ticks": ""
             }
            },
            "type": "scatterpolar"
           }
          ],
          "scatterpolargl": [
           {
            "marker": {
             "colorbar": {
              "outlinewidth": 0,
              "ticks": ""
             }
            },
            "type": "scatterpolargl"
           }
          ],
          "scatterternary": [
           {
            "marker": {
             "colorbar": {
              "outlinewidth": 0,
              "ticks": ""
             }
            },
            "type": "scatterternary"
           }
          ],
          "surface": [
           {
            "colorbar": {
             "outlinewidth": 0,
             "ticks": ""
            },
            "colorscale": [
             [
              0,
              "#0d0887"
             ],
             [
              0.1111111111111111,
              "#46039f"
             ],
             [
              0.2222222222222222,
              "#7201a8"
             ],
             [
              0.3333333333333333,
              "#9c179e"
             ],
             [
              0.4444444444444444,
              "#bd3786"
             ],
             [
              0.5555555555555556,
              "#d8576b"
             ],
             [
              0.6666666666666666,
              "#ed7953"
             ],
             [
              0.7777777777777778,
              "#fb9f3a"
             ],
             [
              0.8888888888888888,
              "#fdca26"
             ],
             [
              1,
              "#f0f921"
             ]
            ],
            "type": "surface"
           }
          ],
          "table": [
           {
            "cells": {
             "fill": {
              "color": "#EBF0F8"
             },
             "line": {
              "color": "white"
             }
            },
            "header": {
             "fill": {
              "color": "#C8D4E3"
             },
             "line": {
              "color": "white"
             }
            },
            "type": "table"
           }
          ]
         },
         "layout": {
          "annotationdefaults": {
           "arrowcolor": "#2a3f5f",
           "arrowhead": 0,
           "arrowwidth": 1
          },
          "autotypenumbers": "strict",
          "coloraxis": {
           "colorbar": {
            "outlinewidth": 0,
            "ticks": ""
           }
          },
          "colorscale": {
           "diverging": [
            [
             0,
             "#8e0152"
            ],
            [
             0.1,
             "#c51b7d"
            ],
            [
             0.2,
             "#de77ae"
            ],
            [
             0.3,
             "#f1b6da"
            ],
            [
             0.4,
             "#fde0ef"
            ],
            [
             0.5,
             "#f7f7f7"
            ],
            [
             0.6,
             "#e6f5d0"
            ],
            [
             0.7,
             "#b8e186"
            ],
            [
             0.8,
             "#7fbc41"
            ],
            [
             0.9,
             "#4d9221"
            ],
            [
             1,
             "#276419"
            ]
           ],
           "sequential": [
            [
             0,
             "#0d0887"
            ],
            [
             0.1111111111111111,
             "#46039f"
            ],
            [
             0.2222222222222222,
             "#7201a8"
            ],
            [
             0.3333333333333333,
             "#9c179e"
            ],
            [
             0.4444444444444444,
             "#bd3786"
            ],
            [
             0.5555555555555556,
             "#d8576b"
            ],
            [
             0.6666666666666666,
             "#ed7953"
            ],
            [
             0.7777777777777778,
             "#fb9f3a"
            ],
            [
             0.8888888888888888,
             "#fdca26"
            ],
            [
             1,
             "#f0f921"
            ]
           ],
           "sequentialminus": [
            [
             0,
             "#0d0887"
            ],
            [
             0.1111111111111111,
             "#46039f"
            ],
            [
             0.2222222222222222,
             "#7201a8"
            ],
            [
             0.3333333333333333,
             "#9c179e"
            ],
            [
             0.4444444444444444,
             "#bd3786"
            ],
            [
             0.5555555555555556,
             "#d8576b"
            ],
            [
             0.6666666666666666,
             "#ed7953"
            ],
            [
             0.7777777777777778,
             "#fb9f3a"
            ],
            [
             0.8888888888888888,
             "#fdca26"
            ],
            [
             1,
             "#f0f921"
            ]
           ]
          },
          "colorway": [
           "#636efa",
           "#EF553B",
           "#00cc96",
           "#ab63fa",
           "#FFA15A",
           "#19d3f3",
           "#FF6692",
           "#B6E880",
           "#FF97FF",
           "#FECB52"
          ],
          "font": {
           "color": "#2a3f5f"
          },
          "geo": {
           "bgcolor": "white",
           "lakecolor": "white",
           "landcolor": "#E5ECF6",
           "showlakes": true,
           "showland": true,
           "subunitcolor": "white"
          },
          "hoverlabel": {
           "align": "left"
          },
          "hovermode": "closest",
          "mapbox": {
           "style": "light"
          },
          "paper_bgcolor": "white",
          "plot_bgcolor": "#E5ECF6",
          "polar": {
           "angularaxis": {
            "gridcolor": "white",
            "linecolor": "white",
            "ticks": ""
           },
           "bgcolor": "#E5ECF6",
           "radialaxis": {
            "gridcolor": "white",
            "linecolor": "white",
            "ticks": ""
           }
          },
          "scene": {
           "xaxis": {
            "backgroundcolor": "#E5ECF6",
            "gridcolor": "white",
            "gridwidth": 2,
            "linecolor": "white",
            "showbackground": true,
            "ticks": "",
            "zerolinecolor": "white"
           },
           "yaxis": {
            "backgroundcolor": "#E5ECF6",
            "gridcolor": "white",
            "gridwidth": 2,
            "linecolor": "white",
            "showbackground": true,
            "ticks": "",
            "zerolinecolor": "white"
           },
           "zaxis": {
            "backgroundcolor": "#E5ECF6",
            "gridcolor": "white",
            "gridwidth": 2,
            "linecolor": "white",
            "showbackground": true,
            "ticks": "",
            "zerolinecolor": "white"
           }
          },
          "shapedefaults": {
           "line": {
            "color": "#2a3f5f"
           }
          },
          "ternary": {
           "aaxis": {
            "gridcolor": "white",
            "linecolor": "white",
            "ticks": ""
           },
           "baxis": {
            "gridcolor": "white",
            "linecolor": "white",
            "ticks": ""
           },
           "bgcolor": "#E5ECF6",
           "caxis": {
            "gridcolor": "white",
            "linecolor": "white",
            "ticks": ""
           }
          },
          "title": {
           "x": 0.05
          },
          "xaxis": {
           "automargin": true,
           "gridcolor": "white",
           "linecolor": "white",
           "ticks": "",
           "title": {
            "standoff": 15
           },
           "zerolinecolor": "white",
           "zerolinewidth": 2
          },
          "yaxis": {
           "automargin": true,
           "gridcolor": "white",
           "linecolor": "white",
           "ticks": "",
           "title": {
            "standoff": 15
           },
           "zerolinecolor": "white",
           "zerolinewidth": 2
          }
         }
        },
        "title": {
         "text": "Mean Defenders Passed On the Pass",
         "x": 0.5
        },
        "width": 1200,
        "xaxis": {
         "anchor": "y",
         "domain": [
          0,
          1
         ],
         "title": {
          "text": "Player"
         }
        },
        "yaxis": {
         "anchor": "x",
         "domain": [
          0,
          1
         ],
         "title": {
          "text": "y"
         }
        }
       }
      }
     },
     "metadata": {},
     "output_type": "display_data"
    },
    {
     "data": {
      "application/vnd.plotly.v1+json": {
       "config": {
        "plotlyServerURL": "https://plot.ly"
       },
       "data": [
        {
         "hovertemplate": "x=%{x}<br>y=%{y}<extra></extra>",
         "legendgroup": "",
         "marker": {
          "color": "#636efa",
          "symbol": "circle"
         },
         "mode": "markers",
         "name": "",
         "orientation": "v",
         "showlegend": false,
         "type": "scatter",
         "x": [
          "Aaron Nesmith",
          "Al Horford",
          "Andrew Wiggins",
          "Bam Adebayo",
          "Caleb Martin",
          "Damion Lee",
          "Daniel Theis",
          "Davis Bertans",
          "Derrick White",
          "Dewayne Dedmon",
          "Dorian Finney-Smith",
          "Draymond Green",
          "Duncan Robinson",
          "Dwight Powell",
          "Frank Ntilikina",
          "Gabe Vincent",
          "Gary Payton II",
          "Grant Williams",
          "Haywood Highsmith",
          "Jalen Brunson",
          "Jaylen Brown",
          "Jayson Tatum",
          "Jimmy Butler",
          "Jonathan Kuminga",
          "Jordan Poole",
          "Josh Green",
          "Juan Toscano-Anderson",
          "Kevon Looney",
          "Klay Thompson",
          "Kyle Lowry",
          "Luka Doncic",
          "Luke Kornet",
          "Marcus Smart",
          "Max Strus",
          "Maxi Kleber",
          "Moses Moody",
          "Nemanja Bjelica",
          "Nik Stauskas",
          "Omer Yurtseven",
          "Otto Porter Jr.",
          "P.J. Tucker",
          "Payton Pritchard",
          "Reggie Bullock",
          "Robert Williams III",
          "Sam Hauser",
          "Spencer Dinwiddie",
          "Stephen Curry",
          "Sterling Brown",
          "Trey Burke",
          "Tyler Herro",
          "Victor Oladipo"
         ],
         "xaxis": "x",
         "y": [
          0.3,
          0.654320987654321,
          0.5217391304347826,
          1.1025641025641026,
          0.5454545454545454,
          0.375,
          0.3333333333333333,
          0.7142857142857143,
          0.4503311258278146,
          0.3333333333333333,
          0.3888888888888889,
          0.8130081300813008,
          0.5,
          1,
          0.75,
          0.35384615384615387,
          0.6428571428571429,
          0.41379310344827586,
          4,
          0.40860215053763443,
          0.7663551401869159,
          0.5339366515837104,
          0.7252747252747253,
          1,
          0.40555555555555556,
          2.5,
          0.5,
          0.5625,
          0.7125,
          0.5057471264367817,
          0.3941176470588235,
          1,
          0.2397003745318352,
          0.3888888888888889,
          1,
          0.5,
          0.47058823529411764,
          0.21428571428571427,
          0,
          0.6,
          0.3684210526315789,
          0.28888888888888886,
          0.1875,
          0.17647058823529413,
          0.5,
          0.6451612903225806,
          0.49310344827586206,
          0.4,
          0.6666666666666666,
          0.38636363636363635,
          0.8032786885245902
         ],
         "yaxis": "y"
        }
       ],
       "layout": {
        "height": 500,
        "legend": {
         "tracegroupgap": 0
        },
        "margin": {
         "t": 60
        },
        "template": {
         "data": {
          "bar": [
           {
            "error_x": {
             "color": "#2a3f5f"
            },
            "error_y": {
             "color": "#2a3f5f"
            },
            "marker": {
             "line": {
              "color": "#E5ECF6",
              "width": 0.5
             },
             "pattern": {
              "fillmode": "overlay",
              "size": 10,
              "solidity": 0.2
             }
            },
            "type": "bar"
           }
          ],
          "barpolar": [
           {
            "marker": {
             "line": {
              "color": "#E5ECF6",
              "width": 0.5
             },
             "pattern": {
              "fillmode": "overlay",
              "size": 10,
              "solidity": 0.2
             }
            },
            "type": "barpolar"
           }
          ],
          "carpet": [
           {
            "aaxis": {
             "endlinecolor": "#2a3f5f",
             "gridcolor": "white",
             "linecolor": "white",
             "minorgridcolor": "white",
             "startlinecolor": "#2a3f5f"
            },
            "baxis": {
             "endlinecolor": "#2a3f5f",
             "gridcolor": "white",
             "linecolor": "white",
             "minorgridcolor": "white",
             "startlinecolor": "#2a3f5f"
            },
            "type": "carpet"
           }
          ],
          "choropleth": [
           {
            "colorbar": {
             "outlinewidth": 0,
             "ticks": ""
            },
            "type": "choropleth"
           }
          ],
          "contour": [
           {
            "colorbar": {
             "outlinewidth": 0,
             "ticks": ""
            },
            "colorscale": [
             [
              0,
              "#0d0887"
             ],
             [
              0.1111111111111111,
              "#46039f"
             ],
             [
              0.2222222222222222,
              "#7201a8"
             ],
             [
              0.3333333333333333,
              "#9c179e"
             ],
             [
              0.4444444444444444,
              "#bd3786"
             ],
             [
              0.5555555555555556,
              "#d8576b"
             ],
             [
              0.6666666666666666,
              "#ed7953"
             ],
             [
              0.7777777777777778,
              "#fb9f3a"
             ],
             [
              0.8888888888888888,
              "#fdca26"
             ],
             [
              1,
              "#f0f921"
             ]
            ],
            "type": "contour"
           }
          ],
          "contourcarpet": [
           {
            "colorbar": {
             "outlinewidth": 0,
             "ticks": ""
            },
            "type": "contourcarpet"
           }
          ],
          "heatmap": [
           {
            "colorbar": {
             "outlinewidth": 0,
             "ticks": ""
            },
            "colorscale": [
             [
              0,
              "#0d0887"
             ],
             [
              0.1111111111111111,
              "#46039f"
             ],
             [
              0.2222222222222222,
              "#7201a8"
             ],
             [
              0.3333333333333333,
              "#9c179e"
             ],
             [
              0.4444444444444444,
              "#bd3786"
             ],
             [
              0.5555555555555556,
              "#d8576b"
             ],
             [
              0.6666666666666666,
              "#ed7953"
             ],
             [
              0.7777777777777778,
              "#fb9f3a"
             ],
             [
              0.8888888888888888,
              "#fdca26"
             ],
             [
              1,
              "#f0f921"
             ]
            ],
            "type": "heatmap"
           }
          ],
          "heatmapgl": [
           {
            "colorbar": {
             "outlinewidth": 0,
             "ticks": ""
            },
            "colorscale": [
             [
              0,
              "#0d0887"
             ],
             [
              0.1111111111111111,
              "#46039f"
             ],
             [
              0.2222222222222222,
              "#7201a8"
             ],
             [
              0.3333333333333333,
              "#9c179e"
             ],
             [
              0.4444444444444444,
              "#bd3786"
             ],
             [
              0.5555555555555556,
              "#d8576b"
             ],
             [
              0.6666666666666666,
              "#ed7953"
             ],
             [
              0.7777777777777778,
              "#fb9f3a"
             ],
             [
              0.8888888888888888,
              "#fdca26"
             ],
             [
              1,
              "#f0f921"
             ]
            ],
            "type": "heatmapgl"
           }
          ],
          "histogram": [
           {
            "marker": {
             "pattern": {
              "fillmode": "overlay",
              "size": 10,
              "solidity": 0.2
             }
            },
            "type": "histogram"
           }
          ],
          "histogram2d": [
           {
            "colorbar": {
             "outlinewidth": 0,
             "ticks": ""
            },
            "colorscale": [
             [
              0,
              "#0d0887"
             ],
             [
              0.1111111111111111,
              "#46039f"
             ],
             [
              0.2222222222222222,
              "#7201a8"
             ],
             [
              0.3333333333333333,
              "#9c179e"
             ],
             [
              0.4444444444444444,
              "#bd3786"
             ],
             [
              0.5555555555555556,
              "#d8576b"
             ],
             [
              0.6666666666666666,
              "#ed7953"
             ],
             [
              0.7777777777777778,
              "#fb9f3a"
             ],
             [
              0.8888888888888888,
              "#fdca26"
             ],
             [
              1,
              "#f0f921"
             ]
            ],
            "type": "histogram2d"
           }
          ],
          "histogram2dcontour": [
           {
            "colorbar": {
             "outlinewidth": 0,
             "ticks": ""
            },
            "colorscale": [
             [
              0,
              "#0d0887"
             ],
             [
              0.1111111111111111,
              "#46039f"
             ],
             [
              0.2222222222222222,
              "#7201a8"
             ],
             [
              0.3333333333333333,
              "#9c179e"
             ],
             [
              0.4444444444444444,
              "#bd3786"
             ],
             [
              0.5555555555555556,
              "#d8576b"
             ],
             [
              0.6666666666666666,
              "#ed7953"
             ],
             [
              0.7777777777777778,
              "#fb9f3a"
             ],
             [
              0.8888888888888888,
              "#fdca26"
             ],
             [
              1,
              "#f0f921"
             ]
            ],
            "type": "histogram2dcontour"
           }
          ],
          "mesh3d": [
           {
            "colorbar": {
             "outlinewidth": 0,
             "ticks": ""
            },
            "type": "mesh3d"
           }
          ],
          "parcoords": [
           {
            "line": {
             "colorbar": {
              "outlinewidth": 0,
              "ticks": ""
             }
            },
            "type": "parcoords"
           }
          ],
          "pie": [
           {
            "automargin": true,
            "type": "pie"
           }
          ],
          "scatter": [
           {
            "fillpattern": {
             "fillmode": "overlay",
             "size": 10,
             "solidity": 0.2
            },
            "type": "scatter"
           }
          ],
          "scatter3d": [
           {
            "line": {
             "colorbar": {
              "outlinewidth": 0,
              "ticks": ""
             }
            },
            "marker": {
             "colorbar": {
              "outlinewidth": 0,
              "ticks": ""
             }
            },
            "type": "scatter3d"
           }
          ],
          "scattercarpet": [
           {
            "marker": {
             "colorbar": {
              "outlinewidth": 0,
              "ticks": ""
             }
            },
            "type": "scattercarpet"
           }
          ],
          "scattergeo": [
           {
            "marker": {
             "colorbar": {
              "outlinewidth": 0,
              "ticks": ""
             }
            },
            "type": "scattergeo"
           }
          ],
          "scattergl": [
           {
            "marker": {
             "colorbar": {
              "outlinewidth": 0,
              "ticks": ""
             }
            },
            "type": "scattergl"
           }
          ],
          "scattermapbox": [
           {
            "marker": {
             "colorbar": {
              "outlinewidth": 0,
              "ticks": ""
             }
            },
            "type": "scattermapbox"
           }
          ],
          "scatterpolar": [
           {
            "marker": {
             "colorbar": {
              "outlinewidth": 0,
              "ticks": ""
             }
            },
            "type": "scatterpolar"
           }
          ],
          "scatterpolargl": [
           {
            "marker": {
             "colorbar": {
              "outlinewidth": 0,
              "ticks": ""
             }
            },
            "type": "scatterpolargl"
           }
          ],
          "scatterternary": [
           {
            "marker": {
             "colorbar": {
              "outlinewidth": 0,
              "ticks": ""
             }
            },
            "type": "scatterternary"
           }
          ],
          "surface": [
           {
            "colorbar": {
             "outlinewidth": 0,
             "ticks": ""
            },
            "colorscale": [
             [
              0,
              "#0d0887"
             ],
             [
              0.1111111111111111,
              "#46039f"
             ],
             [
              0.2222222222222222,
              "#7201a8"
             ],
             [
              0.3333333333333333,
              "#9c179e"
             ],
             [
              0.4444444444444444,
              "#bd3786"
             ],
             [
              0.5555555555555556,
              "#d8576b"
             ],
             [
              0.6666666666666666,
              "#ed7953"
             ],
             [
              0.7777777777777778,
              "#fb9f3a"
             ],
             [
              0.8888888888888888,
              "#fdca26"
             ],
             [
              1,
              "#f0f921"
             ]
            ],
            "type": "surface"
           }
          ],
          "table": [
           {
            "cells": {
             "fill": {
              "color": "#EBF0F8"
             },
             "line": {
              "color": "white"
             }
            },
            "header": {
             "fill": {
              "color": "#C8D4E3"
             },
             "line": {
              "color": "white"
             }
            },
            "type": "table"
           }
          ]
         },
         "layout": {
          "annotationdefaults": {
           "arrowcolor": "#2a3f5f",
           "arrowhead": 0,
           "arrowwidth": 1
          },
          "autotypenumbers": "strict",
          "coloraxis": {
           "colorbar": {
            "outlinewidth": 0,
            "ticks": ""
           }
          },
          "colorscale": {
           "diverging": [
            [
             0,
             "#8e0152"
            ],
            [
             0.1,
             "#c51b7d"
            ],
            [
             0.2,
             "#de77ae"
            ],
            [
             0.3,
             "#f1b6da"
            ],
            [
             0.4,
             "#fde0ef"
            ],
            [
             0.5,
             "#f7f7f7"
            ],
            [
             0.6,
             "#e6f5d0"
            ],
            [
             0.7,
             "#b8e186"
            ],
            [
             0.8,
             "#7fbc41"
            ],
            [
             0.9,
             "#4d9221"
            ],
            [
             1,
             "#276419"
            ]
           ],
           "sequential": [
            [
             0,
             "#0d0887"
            ],
            [
             0.1111111111111111,
             "#46039f"
            ],
            [
             0.2222222222222222,
             "#7201a8"
            ],
            [
             0.3333333333333333,
             "#9c179e"
            ],
            [
             0.4444444444444444,
             "#bd3786"
            ],
            [
             0.5555555555555556,
             "#d8576b"
            ],
            [
             0.6666666666666666,
             "#ed7953"
            ],
            [
             0.7777777777777778,
             "#fb9f3a"
            ],
            [
             0.8888888888888888,
             "#fdca26"
            ],
            [
             1,
             "#f0f921"
            ]
           ],
           "sequentialminus": [
            [
             0,
             "#0d0887"
            ],
            [
             0.1111111111111111,
             "#46039f"
            ],
            [
             0.2222222222222222,
             "#7201a8"
            ],
            [
             0.3333333333333333,
             "#9c179e"
            ],
            [
             0.4444444444444444,
             "#bd3786"
            ],
            [
             0.5555555555555556,
             "#d8576b"
            ],
            [
             0.6666666666666666,
             "#ed7953"
            ],
            [
             0.7777777777777778,
             "#fb9f3a"
            ],
            [
             0.8888888888888888,
             "#fdca26"
            ],
            [
             1,
             "#f0f921"
            ]
           ]
          },
          "colorway": [
           "#636efa",
           "#EF553B",
           "#00cc96",
           "#ab63fa",
           "#FFA15A",
           "#19d3f3",
           "#FF6692",
           "#B6E880",
           "#FF97FF",
           "#FECB52"
          ],
          "font": {
           "color": "#2a3f5f"
          },
          "geo": {
           "bgcolor": "white",
           "lakecolor": "white",
           "landcolor": "#E5ECF6",
           "showlakes": true,
           "showland": true,
           "subunitcolor": "white"
          },
          "hoverlabel": {
           "align": "left"
          },
          "hovermode": "closest",
          "mapbox": {
           "style": "light"
          },
          "paper_bgcolor": "white",
          "plot_bgcolor": "#E5ECF6",
          "polar": {
           "angularaxis": {
            "gridcolor": "white",
            "linecolor": "white",
            "ticks": ""
           },
           "bgcolor": "#E5ECF6",
           "radialaxis": {
            "gridcolor": "white",
            "linecolor": "white",
            "ticks": ""
           }
          },
          "scene": {
           "xaxis": {
            "backgroundcolor": "#E5ECF6",
            "gridcolor": "white",
            "gridwidth": 2,
            "linecolor": "white",
            "showbackground": true,
            "ticks": "",
            "zerolinecolor": "white"
           },
           "yaxis": {
            "backgroundcolor": "#E5ECF6",
            "gridcolor": "white",
            "gridwidth": 2,
            "linecolor": "white",
            "showbackground": true,
            "ticks": "",
            "zerolinecolor": "white"
           },
           "zaxis": {
            "backgroundcolor": "#E5ECF6",
            "gridcolor": "white",
            "gridwidth": 2,
            "linecolor": "white",
            "showbackground": true,
            "ticks": "",
            "zerolinecolor": "white"
           }
          },
          "shapedefaults": {
           "line": {
            "color": "#2a3f5f"
           }
          },
          "ternary": {
           "aaxis": {
            "gridcolor": "white",
            "linecolor": "white",
            "ticks": ""
           },
           "baxis": {
            "gridcolor": "white",
            "linecolor": "white",
            "ticks": ""
           },
           "bgcolor": "#E5ECF6",
           "caxis": {
            "gridcolor": "white",
            "linecolor": "white",
            "ticks": ""
           }
          },
          "title": {
           "x": 0.05
          },
          "xaxis": {
           "automargin": true,
           "gridcolor": "white",
           "linecolor": "white",
           "ticks": "",
           "title": {
            "standoff": 15
           },
           "zerolinecolor": "white",
           "zerolinewidth": 2
          },
          "yaxis": {
           "automargin": true,
           "gridcolor": "white",
           "linecolor": "white",
           "ticks": "",
           "title": {
            "standoff": 15
           },
           "zerolinecolor": "white",
           "zerolinewidth": 2
          }
         }
        },
        "title": {
         "text": "Mean Defenders Passed On the Drive",
         "x": 0.5
        },
        "width": 1200,
        "xaxis": {
         "anchor": "y",
         "domain": [
          0,
          1
         ],
         "title": {
          "text": "Player"
         }
        },
        "yaxis": {
         "anchor": "x",
         "domain": [
          0,
          1
         ],
         "title": {
          "text": "y"
         }
        }
       }
      }
     },
     "metadata": {},
     "output_type": "display_data"
    }
   ],
   "source": [
    "fig = px.scatter(x = def_passed_means_player.index, y = def_passed_means_player.values)\n",
    "fig.update_layout(width=1200, height=500,  \n",
    "                  title='Mean Defenders Passed On the Pass', title_x=0.5,\n",
    "                  xaxis_title=\"Player\") #template='plotly_dark',\n",
    "#fig.update_traces(textfont_size=11, marker=dict(size=10), textposition=improve_text_position(df['reb']))\n",
    "fig.show()\n",
    "\n",
    "fig = px.scatter(x = def_drive_means_player.index, y = def_drive_means_player.values)\n",
    "fig.update_layout(width=1200, height=500,  \n",
    "                  title='Mean Defenders Passed On the Drive', title_x=0.5,\n",
    "                  xaxis_title=\"Player\") #template='plotly_dark',\n",
    "#fig.update_traces(textfont_size=11, marker=dict(size=10), textposition=improve_text_position(df['reb']))\n",
    "fig.show()"
   ]
  },
  {
   "cell_type": "code",
   "execution_count": 24,
   "metadata": {},
   "outputs": [
    {
     "data": {
      "application/vnd.plotly.v1+json": {
       "config": {
        "plotlyServerURL": "https://plot.ly"
       },
       "data": [
        {
         "hovertemplate": "x=%{x}<br>y=%{y}<br>text=%{text}<extra></extra>",
         "legendgroup": "",
         "marker": {
          "color": "#636efa",
          "symbol": "circle"
         },
         "mode": "markers+text",
         "name": "",
         "orientation": "v",
         "showlegend": false,
         "text": [
          "Aaron Nesmith",
          "Al Horford",
          "Andre Iguodala",
          "Andrew Wiggins",
          "Bam Adebayo",
          "Caleb Martin",
          "Damion Lee",
          "Daniel Theis",
          "Davis Bertans",
          "Derrick White",
          "Dewayne Dedmon",
          "Dorian Finney-Smith",
          "Draymond Green",
          "Duncan Robinson",
          "Dwight Powell",
          "Frank Ntilikina",
          "Gabe Vincent",
          "Gary Payton II",
          "Grant Williams",
          "Haywood Highsmith",
          "Jalen Brunson",
          "Jaylen Brown",
          "Jayson Tatum",
          "Jimmy Butler",
          "Jonathan Kuminga",
          "Jordan Poole",
          "Josh Green",
          "Juan Toscano-Anderson",
          "Juwan Morgan",
          "Kevon Looney",
          "Klay Thompson",
          "Kyle Lowry",
          "Luka Doncic",
          "Luke Kornet",
          "Marcus Smart",
          "Max Strus",
          "Maxi Kleber",
          "Moses Moody",
          "Nemanja Bjelica",
          "Nik Stauskas",
          "Omer Yurtseven",
          "Otto Porter Jr.",
          "P.J. Tucker",
          "Payton Pritchard",
          "Reggie Bullock",
          "Robert Williams III",
          "Sam Hauser",
          "Spencer Dinwiddie",
          "Stephen Curry",
          "Sterling Brown",
          "Trey Burke",
          "Tyler Herro",
          "Victor Oladipo"
         ],
         "textposition": "top center",
         "type": "scatter",
         "x": [
          0.05555555555555555,
          0.3140495867768595,
          0,
          0.24770642201834864,
          0.17105263157894737,
          0.22727272727272727,
          0,
          0.037037037037037035,
          0.1,
          0.42857142857142855,
          0.2631578947368421,
          0.07692307692307693,
          0.24644549763033174,
          0.27586206896551724,
          0.08695652173913043,
          0,
          0.7297297297297297,
          0.0625,
          0.13793103448275862,
          0,
          0.3709677419354839,
          0.33766233766233766,
          0.5434782608695652,
          0.36619718309859156,
          1,
          0.64,
          0,
          0.3333333333333333,
          0,
          0.1282051282051282,
          0.5068493150684932,
          0.6323529411764706,
          0.3548387096774194,
          0,
          0.6049382716049383,
          0.19672131147540983,
          0.2608695652173913,
          0.09090909090909091,
          0.3055555555555556,
          0.25,
          0.4,
          0.21739130434782608,
          0.2,
          0.5285714285714286,
          0.19148936170212766,
          0.15447154471544716,
          0.3333333333333333,
          0.2972972972972973,
          1.1452991452991452,
          0.6,
          0,
          0.3333333333333333,
          0.23404255319148937
         ],
         "xaxis": "x",
         "y": [
          1,
          76,
          0,
          27,
          13,
          5,
          0,
          1,
          2,
          39,
          5,
          4,
          52,
          8,
          2,
          0,
          27,
          2,
          12,
          0,
          23,
          52,
          100,
          26,
          8,
          48,
          0,
          2,
          0,
          15,
          37,
          43,
          22,
          0,
          98,
          12,
          18,
          1,
          11,
          2,
          2,
          15,
          9,
          37,
          9,
          19,
          1,
          11,
          134,
          3,
          0,
          8,
          11
         ],
         "yaxis": "y"
        }
       ],
       "layout": {
        "height": 500,
        "legend": {
         "tracegroupgap": 0
        },
        "margin": {
         "t": 60
        },
        "template": {
         "data": {
          "bar": [
           {
            "error_x": {
             "color": "#2a3f5f"
            },
            "error_y": {
             "color": "#2a3f5f"
            },
            "marker": {
             "line": {
              "color": "#E5ECF6",
              "width": 0.5
             },
             "pattern": {
              "fillmode": "overlay",
              "size": 10,
              "solidity": 0.2
             }
            },
            "type": "bar"
           }
          ],
          "barpolar": [
           {
            "marker": {
             "line": {
              "color": "#E5ECF6",
              "width": 0.5
             },
             "pattern": {
              "fillmode": "overlay",
              "size": 10,
              "solidity": 0.2
             }
            },
            "type": "barpolar"
           }
          ],
          "carpet": [
           {
            "aaxis": {
             "endlinecolor": "#2a3f5f",
             "gridcolor": "white",
             "linecolor": "white",
             "minorgridcolor": "white",
             "startlinecolor": "#2a3f5f"
            },
            "baxis": {
             "endlinecolor": "#2a3f5f",
             "gridcolor": "white",
             "linecolor": "white",
             "minorgridcolor": "white",
             "startlinecolor": "#2a3f5f"
            },
            "type": "carpet"
           }
          ],
          "choropleth": [
           {
            "colorbar": {
             "outlinewidth": 0,
             "ticks": ""
            },
            "type": "choropleth"
           }
          ],
          "contour": [
           {
            "colorbar": {
             "outlinewidth": 0,
             "ticks": ""
            },
            "colorscale": [
             [
              0,
              "#0d0887"
             ],
             [
              0.1111111111111111,
              "#46039f"
             ],
             [
              0.2222222222222222,
              "#7201a8"
             ],
             [
              0.3333333333333333,
              "#9c179e"
             ],
             [
              0.4444444444444444,
              "#bd3786"
             ],
             [
              0.5555555555555556,
              "#d8576b"
             ],
             [
              0.6666666666666666,
              "#ed7953"
             ],
             [
              0.7777777777777778,
              "#fb9f3a"
             ],
             [
              0.8888888888888888,
              "#fdca26"
             ],
             [
              1,
              "#f0f921"
             ]
            ],
            "type": "contour"
           }
          ],
          "contourcarpet": [
           {
            "colorbar": {
             "outlinewidth": 0,
             "ticks": ""
            },
            "type": "contourcarpet"
           }
          ],
          "heatmap": [
           {
            "colorbar": {
             "outlinewidth": 0,
             "ticks": ""
            },
            "colorscale": [
             [
              0,
              "#0d0887"
             ],
             [
              0.1111111111111111,
              "#46039f"
             ],
             [
              0.2222222222222222,
              "#7201a8"
             ],
             [
              0.3333333333333333,
              "#9c179e"
             ],
             [
              0.4444444444444444,
              "#bd3786"
             ],
             [
              0.5555555555555556,
              "#d8576b"
             ],
             [
              0.6666666666666666,
              "#ed7953"
             ],
             [
              0.7777777777777778,
              "#fb9f3a"
             ],
             [
              0.8888888888888888,
              "#fdca26"
             ],
             [
              1,
              "#f0f921"
             ]
            ],
            "type": "heatmap"
           }
          ],
          "heatmapgl": [
           {
            "colorbar": {
             "outlinewidth": 0,
             "ticks": ""
            },
            "colorscale": [
             [
              0,
              "#0d0887"
             ],
             [
              0.1111111111111111,
              "#46039f"
             ],
             [
              0.2222222222222222,
              "#7201a8"
             ],
             [
              0.3333333333333333,
              "#9c179e"
             ],
             [
              0.4444444444444444,
              "#bd3786"
             ],
             [
              0.5555555555555556,
              "#d8576b"
             ],
             [
              0.6666666666666666,
              "#ed7953"
             ],
             [
              0.7777777777777778,
              "#fb9f3a"
             ],
             [
              0.8888888888888888,
              "#fdca26"
             ],
             [
              1,
              "#f0f921"
             ]
            ],
            "type": "heatmapgl"
           }
          ],
          "histogram": [
           {
            "marker": {
             "pattern": {
              "fillmode": "overlay",
              "size": 10,
              "solidity": 0.2
             }
            },
            "type": "histogram"
           }
          ],
          "histogram2d": [
           {
            "colorbar": {
             "outlinewidth": 0,
             "ticks": ""
            },
            "colorscale": [
             [
              0,
              "#0d0887"
             ],
             [
              0.1111111111111111,
              "#46039f"
             ],
             [
              0.2222222222222222,
              "#7201a8"
             ],
             [
              0.3333333333333333,
              "#9c179e"
             ],
             [
              0.4444444444444444,
              "#bd3786"
             ],
             [
              0.5555555555555556,
              "#d8576b"
             ],
             [
              0.6666666666666666,
              "#ed7953"
             ],
             [
              0.7777777777777778,
              "#fb9f3a"
             ],
             [
              0.8888888888888888,
              "#fdca26"
             ],
             [
              1,
              "#f0f921"
             ]
            ],
            "type": "histogram2d"
           }
          ],
          "histogram2dcontour": [
           {
            "colorbar": {
             "outlinewidth": 0,
             "ticks": ""
            },
            "colorscale": [
             [
              0,
              "#0d0887"
             ],
             [
              0.1111111111111111,
              "#46039f"
             ],
             [
              0.2222222222222222,
              "#7201a8"
             ],
             [
              0.3333333333333333,
              "#9c179e"
             ],
             [
              0.4444444444444444,
              "#bd3786"
             ],
             [
              0.5555555555555556,
              "#d8576b"
             ],
             [
              0.6666666666666666,
              "#ed7953"
             ],
             [
              0.7777777777777778,
              "#fb9f3a"
             ],
             [
              0.8888888888888888,
              "#fdca26"
             ],
             [
              1,
              "#f0f921"
             ]
            ],
            "type": "histogram2dcontour"
           }
          ],
          "mesh3d": [
           {
            "colorbar": {
             "outlinewidth": 0,
             "ticks": ""
            },
            "type": "mesh3d"
           }
          ],
          "parcoords": [
           {
            "line": {
             "colorbar": {
              "outlinewidth": 0,
              "ticks": ""
             }
            },
            "type": "parcoords"
           }
          ],
          "pie": [
           {
            "automargin": true,
            "type": "pie"
           }
          ],
          "scatter": [
           {
            "fillpattern": {
             "fillmode": "overlay",
             "size": 10,
             "solidity": 0.2
            },
            "type": "scatter"
           }
          ],
          "scatter3d": [
           {
            "line": {
             "colorbar": {
              "outlinewidth": 0,
              "ticks": ""
             }
            },
            "marker": {
             "colorbar": {
              "outlinewidth": 0,
              "ticks": ""
             }
            },
            "type": "scatter3d"
           }
          ],
          "scattercarpet": [
           {
            "marker": {
             "colorbar": {
              "outlinewidth": 0,
              "ticks": ""
             }
            },
            "type": "scattercarpet"
           }
          ],
          "scattergeo": [
           {
            "marker": {
             "colorbar": {
              "outlinewidth": 0,
              "ticks": ""
             }
            },
            "type": "scattergeo"
           }
          ],
          "scattergl": [
           {
            "marker": {
             "colorbar": {
              "outlinewidth": 0,
              "ticks": ""
             }
            },
            "type": "scattergl"
           }
          ],
          "scattermapbox": [
           {
            "marker": {
             "colorbar": {
              "outlinewidth": 0,
              "ticks": ""
             }
            },
            "type": "scattermapbox"
           }
          ],
          "scatterpolar": [
           {
            "marker": {
             "colorbar": {
              "outlinewidth": 0,
              "ticks": ""
             }
            },
            "type": "scatterpolar"
           }
          ],
          "scatterpolargl": [
           {
            "marker": {
             "colorbar": {
              "outlinewidth": 0,
              "ticks": ""
             }
            },
            "type": "scatterpolargl"
           }
          ],
          "scatterternary": [
           {
            "marker": {
             "colorbar": {
              "outlinewidth": 0,
              "ticks": ""
             }
            },
            "type": "scatterternary"
           }
          ],
          "surface": [
           {
            "colorbar": {
             "outlinewidth": 0,
             "ticks": ""
            },
            "colorscale": [
             [
              0,
              "#0d0887"
             ],
             [
              0.1111111111111111,
              "#46039f"
             ],
             [
              0.2222222222222222,
              "#7201a8"
             ],
             [
              0.3333333333333333,
              "#9c179e"
             ],
             [
              0.4444444444444444,
              "#bd3786"
             ],
             [
              0.5555555555555556,
              "#d8576b"
             ],
             [
              0.6666666666666666,
              "#ed7953"
             ],
             [
              0.7777777777777778,
              "#fb9f3a"
             ],
             [
              0.8888888888888888,
              "#fdca26"
             ],
             [
              1,
              "#f0f921"
             ]
            ],
            "type": "surface"
           }
          ],
          "table": [
           {
            "cells": {
             "fill": {
              "color": "#EBF0F8"
             },
             "line": {
              "color": "white"
             }
            },
            "header": {
             "fill": {
              "color": "#C8D4E3"
             },
             "line": {
              "color": "white"
             }
            },
            "type": "table"
           }
          ]
         },
         "layout": {
          "annotationdefaults": {
           "arrowcolor": "#2a3f5f",
           "arrowhead": 0,
           "arrowwidth": 1
          },
          "autotypenumbers": "strict",
          "coloraxis": {
           "colorbar": {
            "outlinewidth": 0,
            "ticks": ""
           }
          },
          "colorscale": {
           "diverging": [
            [
             0,
             "#8e0152"
            ],
            [
             0.1,
             "#c51b7d"
            ],
            [
             0.2,
             "#de77ae"
            ],
            [
             0.3,
             "#f1b6da"
            ],
            [
             0.4,
             "#fde0ef"
            ],
            [
             0.5,
             "#f7f7f7"
            ],
            [
             0.6,
             "#e6f5d0"
            ],
            [
             0.7,
             "#b8e186"
            ],
            [
             0.8,
             "#7fbc41"
            ],
            [
             0.9,
             "#4d9221"
            ],
            [
             1,
             "#276419"
            ]
           ],
           "sequential": [
            [
             0,
             "#0d0887"
            ],
            [
             0.1111111111111111,
             "#46039f"
            ],
            [
             0.2222222222222222,
             "#7201a8"
            ],
            [
             0.3333333333333333,
             "#9c179e"
            ],
            [
             0.4444444444444444,
             "#bd3786"
            ],
            [
             0.5555555555555556,
             "#d8576b"
            ],
            [
             0.6666666666666666,
             "#ed7953"
            ],
            [
             0.7777777777777778,
             "#fb9f3a"
            ],
            [
             0.8888888888888888,
             "#fdca26"
            ],
            [
             1,
             "#f0f921"
            ]
           ],
           "sequentialminus": [
            [
             0,
             "#0d0887"
            ],
            [
             0.1111111111111111,
             "#46039f"
            ],
            [
             0.2222222222222222,
             "#7201a8"
            ],
            [
             0.3333333333333333,
             "#9c179e"
            ],
            [
             0.4444444444444444,
             "#bd3786"
            ],
            [
             0.5555555555555556,
             "#d8576b"
            ],
            [
             0.6666666666666666,
             "#ed7953"
            ],
            [
             0.7777777777777778,
             "#fb9f3a"
            ],
            [
             0.8888888888888888,
             "#fdca26"
            ],
            [
             1,
             "#f0f921"
            ]
           ]
          },
          "colorway": [
           "#636efa",
           "#EF553B",
           "#00cc96",
           "#ab63fa",
           "#FFA15A",
           "#19d3f3",
           "#FF6692",
           "#B6E880",
           "#FF97FF",
           "#FECB52"
          ],
          "font": {
           "color": "#2a3f5f"
          },
          "geo": {
           "bgcolor": "white",
           "lakecolor": "white",
           "landcolor": "#E5ECF6",
           "showlakes": true,
           "showland": true,
           "subunitcolor": "white"
          },
          "hoverlabel": {
           "align": "left"
          },
          "hovermode": "closest",
          "mapbox": {
           "style": "light"
          },
          "paper_bgcolor": "white",
          "plot_bgcolor": "#E5ECF6",
          "polar": {
           "angularaxis": {
            "gridcolor": "white",
            "linecolor": "white",
            "ticks": ""
           },
           "bgcolor": "#E5ECF6",
           "radialaxis": {
            "gridcolor": "white",
            "linecolor": "white",
            "ticks": ""
           }
          },
          "scene": {
           "xaxis": {
            "backgroundcolor": "#E5ECF6",
            "gridcolor": "white",
            "gridwidth": 2,
            "linecolor": "white",
            "showbackground": true,
            "ticks": "",
            "zerolinecolor": "white"
           },
           "yaxis": {
            "backgroundcolor": "#E5ECF6",
            "gridcolor": "white",
            "gridwidth": 2,
            "linecolor": "white",
            "showbackground": true,
            "ticks": "",
            "zerolinecolor": "white"
           },
           "zaxis": {
            "backgroundcolor": "#E5ECF6",
            "gridcolor": "white",
            "gridwidth": 2,
            "linecolor": "white",
            "showbackground": true,
            "ticks": "",
            "zerolinecolor": "white"
           }
          },
          "shapedefaults": {
           "line": {
            "color": "#2a3f5f"
           }
          },
          "ternary": {
           "aaxis": {
            "gridcolor": "white",
            "linecolor": "white",
            "ticks": ""
           },
           "baxis": {
            "gridcolor": "white",
            "linecolor": "white",
            "ticks": ""
           },
           "bgcolor": "#E5ECF6",
           "caxis": {
            "gridcolor": "white",
            "linecolor": "white",
            "ticks": ""
           }
          },
          "title": {
           "x": 0.05
          },
          "xaxis": {
           "automargin": true,
           "gridcolor": "white",
           "linecolor": "white",
           "ticks": "",
           "title": {
            "standoff": 15
           },
           "zerolinecolor": "white",
           "zerolinewidth": 2
          },
          "yaxis": {
           "automargin": true,
           "gridcolor": "white",
           "linecolor": "white",
           "ticks": "",
           "title": {
            "standoff": 15
           },
           "zerolinecolor": "white",
           "zerolinewidth": 2
          }
         }
        },
        "title": {
         "text": "Total vs Mean Defenders Passed on the Pass",
         "x": 0.5
        },
        "width": 1200,
        "xaxis": {
         "anchor": "y",
         "domain": [
          0,
          1
         ],
         "title": {
          "text": "Mean"
         }
        },
        "yaxis": {
         "anchor": "x",
         "domain": [
          0,
          1
         ],
         "title": {
          "text": "Total"
         }
        }
       }
      }
     },
     "metadata": {},
     "output_type": "display_data"
    },
    {
     "data": {
      "application/vnd.plotly.v1+json": {
       "config": {
        "plotlyServerURL": "https://plot.ly"
       },
       "data": [
        {
         "hovertemplate": "x=%{x}<br>y=%{y}<br>text=%{text}<extra></extra>",
         "legendgroup": "",
         "marker": {
          "color": "#636efa",
          "symbol": "circle"
         },
         "mode": "markers+text",
         "name": "",
         "orientation": "v",
         "showlegend": false,
         "text": [
          "Aaron Nesmith",
          "Al Horford",
          "Andrew Wiggins",
          "Bam Adebayo",
          "Caleb Martin",
          "Damion Lee",
          "Daniel Theis",
          "Davis Bertans",
          "Derrick White",
          "Dewayne Dedmon",
          "Dorian Finney-Smith",
          "Draymond Green",
          "Duncan Robinson",
          "Dwight Powell",
          "Frank Ntilikina",
          "Gabe Vincent",
          "Gary Payton II",
          "Grant Williams",
          "Haywood Highsmith",
          "Jalen Brunson",
          "Jaylen Brown",
          "Jayson Tatum",
          "Jimmy Butler",
          "Jonathan Kuminga",
          "Jordan Poole",
          "Josh Green",
          "Juan Toscano-Anderson",
          "Kevon Looney",
          "Klay Thompson",
          "Kyle Lowry",
          "Luka Doncic",
          "Luke Kornet",
          "Marcus Smart",
          "Max Strus",
          "Maxi Kleber",
          "Moses Moody",
          "Nemanja Bjelica",
          "Nik Stauskas",
          "Omer Yurtseven",
          "Otto Porter Jr.",
          "P.J. Tucker",
          "Payton Pritchard",
          "Reggie Bullock",
          "Robert Williams III",
          "Sam Hauser",
          "Spencer Dinwiddie",
          "Stephen Curry",
          "Sterling Brown",
          "Trey Burke",
          "Tyler Herro",
          "Victor Oladipo"
         ],
         "textposition": "top center",
         "type": "scatter",
         "x": [
          0.3,
          0.654320987654321,
          0.5217391304347826,
          1.1025641025641026,
          0.5454545454545454,
          0.375,
          0.3333333333333333,
          0.7142857142857143,
          0.4503311258278146,
          0.3333333333333333,
          0.3888888888888889,
          0.8130081300813008,
          0.5,
          1,
          0.75,
          0.35384615384615387,
          0.6428571428571429,
          0.41379310344827586,
          4,
          0.40860215053763443,
          0.7663551401869159,
          0.5339366515837104,
          0.7252747252747253,
          1,
          0.40555555555555556,
          2.5,
          0.5,
          0.5625,
          0.7125,
          0.5057471264367817,
          0.3941176470588235,
          1,
          0.2397003745318352,
          0.3888888888888889,
          1,
          0.5,
          0.47058823529411764,
          0.21428571428571427,
          0,
          0.6,
          0.3684210526315789,
          0.28888888888888886,
          0.1875,
          0.17647058823529413,
          0.5,
          0.6451612903225806,
          0.49310344827586206,
          0.4,
          0.6666666666666666,
          0.38636363636363635,
          0.8032786885245902
         ],
         "xaxis": "x",
         "y": [
          3,
          53,
          48,
          86,
          12,
          3,
          2,
          5,
          68,
          1,
          7,
          100,
          5,
          1,
          6,
          23,
          9,
          12,
          8,
          38,
          164,
          118,
          66,
          12,
          73,
          5,
          2,
          9,
          57,
          44,
          67,
          2,
          64,
          7,
          2,
          5,
          8,
          3,
          0,
          12,
          7,
          26,
          3,
          3,
          1,
          40,
          143,
          2,
          4,
          17,
          49
         ],
         "yaxis": "y"
        }
       ],
       "layout": {
        "height": 500,
        "legend": {
         "tracegroupgap": 0
        },
        "margin": {
         "t": 60
        },
        "template": {
         "data": {
          "bar": [
           {
            "error_x": {
             "color": "#2a3f5f"
            },
            "error_y": {
             "color": "#2a3f5f"
            },
            "marker": {
             "line": {
              "color": "#E5ECF6",
              "width": 0.5
             },
             "pattern": {
              "fillmode": "overlay",
              "size": 10,
              "solidity": 0.2
             }
            },
            "type": "bar"
           }
          ],
          "barpolar": [
           {
            "marker": {
             "line": {
              "color": "#E5ECF6",
              "width": 0.5
             },
             "pattern": {
              "fillmode": "overlay",
              "size": 10,
              "solidity": 0.2
             }
            },
            "type": "barpolar"
           }
          ],
          "carpet": [
           {
            "aaxis": {
             "endlinecolor": "#2a3f5f",
             "gridcolor": "white",
             "linecolor": "white",
             "minorgridcolor": "white",
             "startlinecolor": "#2a3f5f"
            },
            "baxis": {
             "endlinecolor": "#2a3f5f",
             "gridcolor": "white",
             "linecolor": "white",
             "minorgridcolor": "white",
             "startlinecolor": "#2a3f5f"
            },
            "type": "carpet"
           }
          ],
          "choropleth": [
           {
            "colorbar": {
             "outlinewidth": 0,
             "ticks": ""
            },
            "type": "choropleth"
           }
          ],
          "contour": [
           {
            "colorbar": {
             "outlinewidth": 0,
             "ticks": ""
            },
            "colorscale": [
             [
              0,
              "#0d0887"
             ],
             [
              0.1111111111111111,
              "#46039f"
             ],
             [
              0.2222222222222222,
              "#7201a8"
             ],
             [
              0.3333333333333333,
              "#9c179e"
             ],
             [
              0.4444444444444444,
              "#bd3786"
             ],
             [
              0.5555555555555556,
              "#d8576b"
             ],
             [
              0.6666666666666666,
              "#ed7953"
             ],
             [
              0.7777777777777778,
              "#fb9f3a"
             ],
             [
              0.8888888888888888,
              "#fdca26"
             ],
             [
              1,
              "#f0f921"
             ]
            ],
            "type": "contour"
           }
          ],
          "contourcarpet": [
           {
            "colorbar": {
             "outlinewidth": 0,
             "ticks": ""
            },
            "type": "contourcarpet"
           }
          ],
          "heatmap": [
           {
            "colorbar": {
             "outlinewidth": 0,
             "ticks": ""
            },
            "colorscale": [
             [
              0,
              "#0d0887"
             ],
             [
              0.1111111111111111,
              "#46039f"
             ],
             [
              0.2222222222222222,
              "#7201a8"
             ],
             [
              0.3333333333333333,
              "#9c179e"
             ],
             [
              0.4444444444444444,
              "#bd3786"
             ],
             [
              0.5555555555555556,
              "#d8576b"
             ],
             [
              0.6666666666666666,
              "#ed7953"
             ],
             [
              0.7777777777777778,
              "#fb9f3a"
             ],
             [
              0.8888888888888888,
              "#fdca26"
             ],
             [
              1,
              "#f0f921"
             ]
            ],
            "type": "heatmap"
           }
          ],
          "heatmapgl": [
           {
            "colorbar": {
             "outlinewidth": 0,
             "ticks": ""
            },
            "colorscale": [
             [
              0,
              "#0d0887"
             ],
             [
              0.1111111111111111,
              "#46039f"
             ],
             [
              0.2222222222222222,
              "#7201a8"
             ],
             [
              0.3333333333333333,
              "#9c179e"
             ],
             [
              0.4444444444444444,
              "#bd3786"
             ],
             [
              0.5555555555555556,
              "#d8576b"
             ],
             [
              0.6666666666666666,
              "#ed7953"
             ],
             [
              0.7777777777777778,
              "#fb9f3a"
             ],
             [
              0.8888888888888888,
              "#fdca26"
             ],
             [
              1,
              "#f0f921"
             ]
            ],
            "type": "heatmapgl"
           }
          ],
          "histogram": [
           {
            "marker": {
             "pattern": {
              "fillmode": "overlay",
              "size": 10,
              "solidity": 0.2
             }
            },
            "type": "histogram"
           }
          ],
          "histogram2d": [
           {
            "colorbar": {
             "outlinewidth": 0,
             "ticks": ""
            },
            "colorscale": [
             [
              0,
              "#0d0887"
             ],
             [
              0.1111111111111111,
              "#46039f"
             ],
             [
              0.2222222222222222,
              "#7201a8"
             ],
             [
              0.3333333333333333,
              "#9c179e"
             ],
             [
              0.4444444444444444,
              "#bd3786"
             ],
             [
              0.5555555555555556,
              "#d8576b"
             ],
             [
              0.6666666666666666,
              "#ed7953"
             ],
             [
              0.7777777777777778,
              "#fb9f3a"
             ],
             [
              0.8888888888888888,
              "#fdca26"
             ],
             [
              1,
              "#f0f921"
             ]
            ],
            "type": "histogram2d"
           }
          ],
          "histogram2dcontour": [
           {
            "colorbar": {
             "outlinewidth": 0,
             "ticks": ""
            },
            "colorscale": [
             [
              0,
              "#0d0887"
             ],
             [
              0.1111111111111111,
              "#46039f"
             ],
             [
              0.2222222222222222,
              "#7201a8"
             ],
             [
              0.3333333333333333,
              "#9c179e"
             ],
             [
              0.4444444444444444,
              "#bd3786"
             ],
             [
              0.5555555555555556,
              "#d8576b"
             ],
             [
              0.6666666666666666,
              "#ed7953"
             ],
             [
              0.7777777777777778,
              "#fb9f3a"
             ],
             [
              0.8888888888888888,
              "#fdca26"
             ],
             [
              1,
              "#f0f921"
             ]
            ],
            "type": "histogram2dcontour"
           }
          ],
          "mesh3d": [
           {
            "colorbar": {
             "outlinewidth": 0,
             "ticks": ""
            },
            "type": "mesh3d"
           }
          ],
          "parcoords": [
           {
            "line": {
             "colorbar": {
              "outlinewidth": 0,
              "ticks": ""
             }
            },
            "type": "parcoords"
           }
          ],
          "pie": [
           {
            "automargin": true,
            "type": "pie"
           }
          ],
          "scatter": [
           {
            "fillpattern": {
             "fillmode": "overlay",
             "size": 10,
             "solidity": 0.2
            },
            "type": "scatter"
           }
          ],
          "scatter3d": [
           {
            "line": {
             "colorbar": {
              "outlinewidth": 0,
              "ticks": ""
             }
            },
            "marker": {
             "colorbar": {
              "outlinewidth": 0,
              "ticks": ""
             }
            },
            "type": "scatter3d"
           }
          ],
          "scattercarpet": [
           {
            "marker": {
             "colorbar": {
              "outlinewidth": 0,
              "ticks": ""
             }
            },
            "type": "scattercarpet"
           }
          ],
          "scattergeo": [
           {
            "marker": {
             "colorbar": {
              "outlinewidth": 0,
              "ticks": ""
             }
            },
            "type": "scattergeo"
           }
          ],
          "scattergl": [
           {
            "marker": {
             "colorbar": {
              "outlinewidth": 0,
              "ticks": ""
             }
            },
            "type": "scattergl"
           }
          ],
          "scattermapbox": [
           {
            "marker": {
             "colorbar": {
              "outlinewidth": 0,
              "ticks": ""
             }
            },
            "type": "scattermapbox"
           }
          ],
          "scatterpolar": [
           {
            "marker": {
             "colorbar": {
              "outlinewidth": 0,
              "ticks": ""
             }
            },
            "type": "scatterpolar"
           }
          ],
          "scatterpolargl": [
           {
            "marker": {
             "colorbar": {
              "outlinewidth": 0,
              "ticks": ""
             }
            },
            "type": "scatterpolargl"
           }
          ],
          "scatterternary": [
           {
            "marker": {
             "colorbar": {
              "outlinewidth": 0,
              "ticks": ""
             }
            },
            "type": "scatterternary"
           }
          ],
          "surface": [
           {
            "colorbar": {
             "outlinewidth": 0,
             "ticks": ""
            },
            "colorscale": [
             [
              0,
              "#0d0887"
             ],
             [
              0.1111111111111111,
              "#46039f"
             ],
             [
              0.2222222222222222,
              "#7201a8"
             ],
             [
              0.3333333333333333,
              "#9c179e"
             ],
             [
              0.4444444444444444,
              "#bd3786"
             ],
             [
              0.5555555555555556,
              "#d8576b"
             ],
             [
              0.6666666666666666,
              "#ed7953"
             ],
             [
              0.7777777777777778,
              "#fb9f3a"
             ],
             [
              0.8888888888888888,
              "#fdca26"
             ],
             [
              1,
              "#f0f921"
             ]
            ],
            "type": "surface"
           }
          ],
          "table": [
           {
            "cells": {
             "fill": {
              "color": "#EBF0F8"
             },
             "line": {
              "color": "white"
             }
            },
            "header": {
             "fill": {
              "color": "#C8D4E3"
             },
             "line": {
              "color": "white"
             }
            },
            "type": "table"
           }
          ]
         },
         "layout": {
          "annotationdefaults": {
           "arrowcolor": "#2a3f5f",
           "arrowhead": 0,
           "arrowwidth": 1
          },
          "autotypenumbers": "strict",
          "coloraxis": {
           "colorbar": {
            "outlinewidth": 0,
            "ticks": ""
           }
          },
          "colorscale": {
           "diverging": [
            [
             0,
             "#8e0152"
            ],
            [
             0.1,
             "#c51b7d"
            ],
            [
             0.2,
             "#de77ae"
            ],
            [
             0.3,
             "#f1b6da"
            ],
            [
             0.4,
             "#fde0ef"
            ],
            [
             0.5,
             "#f7f7f7"
            ],
            [
             0.6,
             "#e6f5d0"
            ],
            [
             0.7,
             "#b8e186"
            ],
            [
             0.8,
             "#7fbc41"
            ],
            [
             0.9,
             "#4d9221"
            ],
            [
             1,
             "#276419"
            ]
           ],
           "sequential": [
            [
             0,
             "#0d0887"
            ],
            [
             0.1111111111111111,
             "#46039f"
            ],
            [
             0.2222222222222222,
             "#7201a8"
            ],
            [
             0.3333333333333333,
             "#9c179e"
            ],
            [
             0.4444444444444444,
             "#bd3786"
            ],
            [
             0.5555555555555556,
             "#d8576b"
            ],
            [
             0.6666666666666666,
             "#ed7953"
            ],
            [
             0.7777777777777778,
             "#fb9f3a"
            ],
            [
             0.8888888888888888,
             "#fdca26"
            ],
            [
             1,
             "#f0f921"
            ]
           ],
           "sequentialminus": [
            [
             0,
             "#0d0887"
            ],
            [
             0.1111111111111111,
             "#46039f"
            ],
            [
             0.2222222222222222,
             "#7201a8"
            ],
            [
             0.3333333333333333,
             "#9c179e"
            ],
            [
             0.4444444444444444,
             "#bd3786"
            ],
            [
             0.5555555555555556,
             "#d8576b"
            ],
            [
             0.6666666666666666,
             "#ed7953"
            ],
            [
             0.7777777777777778,
             "#fb9f3a"
            ],
            [
             0.8888888888888888,
             "#fdca26"
            ],
            [
             1,
             "#f0f921"
            ]
           ]
          },
          "colorway": [
           "#636efa",
           "#EF553B",
           "#00cc96",
           "#ab63fa",
           "#FFA15A",
           "#19d3f3",
           "#FF6692",
           "#B6E880",
           "#FF97FF",
           "#FECB52"
          ],
          "font": {
           "color": "#2a3f5f"
          },
          "geo": {
           "bgcolor": "white",
           "lakecolor": "white",
           "landcolor": "#E5ECF6",
           "showlakes": true,
           "showland": true,
           "subunitcolor": "white"
          },
          "hoverlabel": {
           "align": "left"
          },
          "hovermode": "closest",
          "mapbox": {
           "style": "light"
          },
          "paper_bgcolor": "white",
          "plot_bgcolor": "#E5ECF6",
          "polar": {
           "angularaxis": {
            "gridcolor": "white",
            "linecolor": "white",
            "ticks": ""
           },
           "bgcolor": "#E5ECF6",
           "radialaxis": {
            "gridcolor": "white",
            "linecolor": "white",
            "ticks": ""
           }
          },
          "scene": {
           "xaxis": {
            "backgroundcolor": "#E5ECF6",
            "gridcolor": "white",
            "gridwidth": 2,
            "linecolor": "white",
            "showbackground": true,
            "ticks": "",
            "zerolinecolor": "white"
           },
           "yaxis": {
            "backgroundcolor": "#E5ECF6",
            "gridcolor": "white",
            "gridwidth": 2,
            "linecolor": "white",
            "showbackground": true,
            "ticks": "",
            "zerolinecolor": "white"
           },
           "zaxis": {
            "backgroundcolor": "#E5ECF6",
            "gridcolor": "white",
            "gridwidth": 2,
            "linecolor": "white",
            "showbackground": true,
            "ticks": "",
            "zerolinecolor": "white"
           }
          },
          "shapedefaults": {
           "line": {
            "color": "#2a3f5f"
           }
          },
          "ternary": {
           "aaxis": {
            "gridcolor": "white",
            "linecolor": "white",
            "ticks": ""
           },
           "baxis": {
            "gridcolor": "white",
            "linecolor": "white",
            "ticks": ""
           },
           "bgcolor": "#E5ECF6",
           "caxis": {
            "gridcolor": "white",
            "linecolor": "white",
            "ticks": ""
           }
          },
          "title": {
           "x": 0.05
          },
          "xaxis": {
           "automargin": true,
           "gridcolor": "white",
           "linecolor": "white",
           "ticks": "",
           "title": {
            "standoff": 15
           },
           "zerolinecolor": "white",
           "zerolinewidth": 2
          },
          "yaxis": {
           "automargin": true,
           "gridcolor": "white",
           "linecolor": "white",
           "ticks": "",
           "title": {
            "standoff": 15
           },
           "zerolinecolor": "white",
           "zerolinewidth": 2
          }
         }
        },
        "title": {
         "text": "Total vs Mean Defenders Passed on the Drive",
         "x": 0.5
        },
        "width": 1200,
        "xaxis": {
         "anchor": "y",
         "domain": [
          0,
          1
         ],
         "title": {
          "text": "Mean"
         }
        },
        "yaxis": {
         "anchor": "x",
         "domain": [
          0,
          1
         ],
         "title": {
          "text": "Total"
         }
        }
       }
      }
     },
     "metadata": {},
     "output_type": "display_data"
    }
   ],
   "source": [
    "fig = px.scatter(x = def_passed_means_player.values, y = def_passed_sums_player.values, text = def_passed_sums_player.index)\n",
    "fig.update_layout(width=1200, height=500,  \n",
    "                  title='Total vs Mean Defenders Passed on the Pass', title_x=0.5,\n",
    "                  xaxis_title=\"Mean\", yaxis_title='Total') #template='plotly_dark',\n",
    "fig.update_traces(textposition='top center')\n",
    "#fig.update_traces(textfont_size=11, marker=dict(size=10), textposition=improve_text_position(df['reb']))\n",
    "fig.show()\n",
    "\n",
    "fig = px.scatter(x = def_drive_means_player.values, y = def_drive_sums_player.values, text = def_drive_sums_player.index)\n",
    "fig.update_layout(width=1200, height=500,  \n",
    "                  title='Total vs Mean Defenders Passed on the Drive', title_x=0.5,\n",
    "                  xaxis_title=\"Mean\", yaxis_title='Total') #template='plotly_dark',\n",
    "fig.update_traces(textposition='top center')\n",
    "#fig.update_traces(textfont_size=11, marker=dict(size=10), textposition=improve_text_position(df['reb']))\n",
    "fig.show()"
   ]
  },
  {
   "cell_type": "code",
   "execution_count": 26,
   "metadata": {},
   "outputs": [
    {
     "data": {
      "application/vnd.plotly.v1+json": {
       "config": {
        "plotlyServerURL": "https://plot.ly"
       },
       "data": [
        {
         "hovertemplate": "x=%{x}<br>y=%{y}<br>text=%{text}<extra></extra>",
         "legendgroup": "",
         "marker": {
          "color": "#636efa",
          "symbol": "circle"
         },
         "mode": "markers+text",
         "name": "",
         "orientation": "v",
         "showlegend": false,
         "text": [
          "Aaron Nesmith",
          "Al Horford",
          "Andre Iguodala",
          "Andrew Wiggins",
          "Bam Adebayo",
          "Caleb Martin",
          "Damion Lee",
          "Daniel Theis",
          "Davis Bertans",
          "Derrick White",
          "Dewayne Dedmon",
          "Dorian Finney-Smith",
          "Draymond Green",
          "Duncan Robinson",
          "Dwight Powell",
          "Frank Ntilikina",
          "Gabe Vincent",
          "Gary Payton II",
          "Grant Williams",
          "Haywood Highsmith",
          "Jalen Brunson",
          "Jaylen Brown",
          "Jayson Tatum",
          "Jimmy Butler",
          "Jonathan Kuminga",
          "Jordan Poole",
          "Josh Green",
          "Juan Toscano-Anderson",
          "Juwan Morgan",
          "Kevon Looney",
          "Klay Thompson",
          "Kyle Lowry",
          "Luka Doncic",
          "Luke Kornet",
          "Marcus Smart",
          "Max Strus",
          "Maxi Kleber",
          "Moses Moody",
          "Nemanja Bjelica",
          "Nik Stauskas",
          "Omer Yurtseven",
          "Otto Porter Jr.",
          "P.J. Tucker",
          "Payton Pritchard",
          "Reggie Bullock",
          "Robert Williams III",
          "Sam Hauser",
          "Spencer Dinwiddie",
          "Stephen Curry",
          "Sterling Brown",
          "Trey Burke",
          "Tyler Herro",
          "Victor Oladipo"
         ],
         "textposition": "top center",
         "type": "scatter",
         "x": [
          0.05555555555555555,
          0.3140495867768595,
          0,
          0.24770642201834864,
          0.17105263157894737,
          0.22727272727272727,
          0,
          0.037037037037037035,
          0.1,
          0.42857142857142855,
          0.2631578947368421,
          0.07692307692307693,
          0.24644549763033174,
          0.27586206896551724,
          0.08695652173913043,
          0,
          0.7297297297297297,
          0.0625,
          0.13793103448275862,
          0,
          0.3709677419354839,
          0.33766233766233766,
          0.5434782608695652,
          0.36619718309859156,
          1,
          0.64,
          0,
          0.3333333333333333,
          0,
          0.1282051282051282,
          0.5068493150684932,
          0.6323529411764706,
          0.3548387096774194,
          0,
          0.6049382716049383,
          0.19672131147540983,
          0.2608695652173913,
          0.09090909090909091,
          0.3055555555555556,
          0.25,
          0.4,
          0.21739130434782608,
          0.2,
          0.5285714285714286,
          0.19148936170212766,
          0.15447154471544716,
          0.3333333333333333,
          0.2972972972972973,
          1.1452991452991452,
          0.6,
          0,
          0.3333333333333333,
          0.23404255319148937
         ],
         "xaxis": "x",
         "y": [
          18,
          242,
          3,
          109,
          76,
          22,
          14,
          27,
          20,
          91,
          19,
          52,
          211,
          29,
          23,
          15,
          37,
          32,
          87,
          4,
          62,
          154,
          184,
          71,
          8,
          75,
          3,
          6,
          1,
          117,
          73,
          68,
          62,
          4,
          162,
          61,
          69,
          11,
          36,
          8,
          5,
          69,
          45,
          70,
          47,
          123,
          3,
          37,
          117,
          5,
          1,
          24,
          47
         ],
         "yaxis": "y"
        }
       ],
       "layout": {
        "height": 500,
        "legend": {
         "tracegroupgap": 0
        },
        "margin": {
         "t": 60
        },
        "template": {
         "data": {
          "bar": [
           {
            "error_x": {
             "color": "#2a3f5f"
            },
            "error_y": {
             "color": "#2a3f5f"
            },
            "marker": {
             "line": {
              "color": "#E5ECF6",
              "width": 0.5
             },
             "pattern": {
              "fillmode": "overlay",
              "size": 10,
              "solidity": 0.2
             }
            },
            "type": "bar"
           }
          ],
          "barpolar": [
           {
            "marker": {
             "line": {
              "color": "#E5ECF6",
              "width": 0.5
             },
             "pattern": {
              "fillmode": "overlay",
              "size": 10,
              "solidity": 0.2
             }
            },
            "type": "barpolar"
           }
          ],
          "carpet": [
           {
            "aaxis": {
             "endlinecolor": "#2a3f5f",
             "gridcolor": "white",
             "linecolor": "white",
             "minorgridcolor": "white",
             "startlinecolor": "#2a3f5f"
            },
            "baxis": {
             "endlinecolor": "#2a3f5f",
             "gridcolor": "white",
             "linecolor": "white",
             "minorgridcolor": "white",
             "startlinecolor": "#2a3f5f"
            },
            "type": "carpet"
           }
          ],
          "choropleth": [
           {
            "colorbar": {
             "outlinewidth": 0,
             "ticks": ""
            },
            "type": "choropleth"
           }
          ],
          "contour": [
           {
            "colorbar": {
             "outlinewidth": 0,
             "ticks": ""
            },
            "colorscale": [
             [
              0,
              "#0d0887"
             ],
             [
              0.1111111111111111,
              "#46039f"
             ],
             [
              0.2222222222222222,
              "#7201a8"
             ],
             [
              0.3333333333333333,
              "#9c179e"
             ],
             [
              0.4444444444444444,
              "#bd3786"
             ],
             [
              0.5555555555555556,
              "#d8576b"
             ],
             [
              0.6666666666666666,
              "#ed7953"
             ],
             [
              0.7777777777777778,
              "#fb9f3a"
             ],
             [
              0.8888888888888888,
              "#fdca26"
             ],
             [
              1,
              "#f0f921"
             ]
            ],
            "type": "contour"
           }
          ],
          "contourcarpet": [
           {
            "colorbar": {
             "outlinewidth": 0,
             "ticks": ""
            },
            "type": "contourcarpet"
           }
          ],
          "heatmap": [
           {
            "colorbar": {
             "outlinewidth": 0,
             "ticks": ""
            },
            "colorscale": [
             [
              0,
              "#0d0887"
             ],
             [
              0.1111111111111111,
              "#46039f"
             ],
             [
              0.2222222222222222,
              "#7201a8"
             ],
             [
              0.3333333333333333,
              "#9c179e"
             ],
             [
              0.4444444444444444,
              "#bd3786"
             ],
             [
              0.5555555555555556,
              "#d8576b"
             ],
             [
              0.6666666666666666,
              "#ed7953"
             ],
             [
              0.7777777777777778,
              "#fb9f3a"
             ],
             [
              0.8888888888888888,
              "#fdca26"
             ],
             [
              1,
              "#f0f921"
             ]
            ],
            "type": "heatmap"
           }
          ],
          "heatmapgl": [
           {
            "colorbar": {
             "outlinewidth": 0,
             "ticks": ""
            },
            "colorscale": [
             [
              0,
              "#0d0887"
             ],
             [
              0.1111111111111111,
              "#46039f"
             ],
             [
              0.2222222222222222,
              "#7201a8"
             ],
             [
              0.3333333333333333,
              "#9c179e"
             ],
             [
              0.4444444444444444,
              "#bd3786"
             ],
             [
              0.5555555555555556,
              "#d8576b"
             ],
             [
              0.6666666666666666,
              "#ed7953"
             ],
             [
              0.7777777777777778,
              "#fb9f3a"
             ],
             [
              0.8888888888888888,
              "#fdca26"
             ],
             [
              1,
              "#f0f921"
             ]
            ],
            "type": "heatmapgl"
           }
          ],
          "histogram": [
           {
            "marker": {
             "pattern": {
              "fillmode": "overlay",
              "size": 10,
              "solidity": 0.2
             }
            },
            "type": "histogram"
           }
          ],
          "histogram2d": [
           {
            "colorbar": {
             "outlinewidth": 0,
             "ticks": ""
            },
            "colorscale": [
             [
              0,
              "#0d0887"
             ],
             [
              0.1111111111111111,
              "#46039f"
             ],
             [
              0.2222222222222222,
              "#7201a8"
             ],
             [
              0.3333333333333333,
              "#9c179e"
             ],
             [
              0.4444444444444444,
              "#bd3786"
             ],
             [
              0.5555555555555556,
              "#d8576b"
             ],
             [
              0.6666666666666666,
              "#ed7953"
             ],
             [
              0.7777777777777778,
              "#fb9f3a"
             ],
             [
              0.8888888888888888,
              "#fdca26"
             ],
             [
              1,
              "#f0f921"
             ]
            ],
            "type": "histogram2d"
           }
          ],
          "histogram2dcontour": [
           {
            "colorbar": {
             "outlinewidth": 0,
             "ticks": ""
            },
            "colorscale": [
             [
              0,
              "#0d0887"
             ],
             [
              0.1111111111111111,
              "#46039f"
             ],
             [
              0.2222222222222222,
              "#7201a8"
             ],
             [
              0.3333333333333333,
              "#9c179e"
             ],
             [
              0.4444444444444444,
              "#bd3786"
             ],
             [
              0.5555555555555556,
              "#d8576b"
             ],
             [
              0.6666666666666666,
              "#ed7953"
             ],
             [
              0.7777777777777778,
              "#fb9f3a"
             ],
             [
              0.8888888888888888,
              "#fdca26"
             ],
             [
              1,
              "#f0f921"
             ]
            ],
            "type": "histogram2dcontour"
           }
          ],
          "mesh3d": [
           {
            "colorbar": {
             "outlinewidth": 0,
             "ticks": ""
            },
            "type": "mesh3d"
           }
          ],
          "parcoords": [
           {
            "line": {
             "colorbar": {
              "outlinewidth": 0,
              "ticks": ""
             }
            },
            "type": "parcoords"
           }
          ],
          "pie": [
           {
            "automargin": true,
            "type": "pie"
           }
          ],
          "scatter": [
           {
            "fillpattern": {
             "fillmode": "overlay",
             "size": 10,
             "solidity": 0.2
            },
            "type": "scatter"
           }
          ],
          "scatter3d": [
           {
            "line": {
             "colorbar": {
              "outlinewidth": 0,
              "ticks": ""
             }
            },
            "marker": {
             "colorbar": {
              "outlinewidth": 0,
              "ticks": ""
             }
            },
            "type": "scatter3d"
           }
          ],
          "scattercarpet": [
           {
            "marker": {
             "colorbar": {
              "outlinewidth": 0,
              "ticks": ""
             }
            },
            "type": "scattercarpet"
           }
          ],
          "scattergeo": [
           {
            "marker": {
             "colorbar": {
              "outlinewidth": 0,
              "ticks": ""
             }
            },
            "type": "scattergeo"
           }
          ],
          "scattergl": [
           {
            "marker": {
             "colorbar": {
              "outlinewidth": 0,
              "ticks": ""
             }
            },
            "type": "scattergl"
           }
          ],
          "scattermapbox": [
           {
            "marker": {
             "colorbar": {
              "outlinewidth": 0,
              "ticks": ""
             }
            },
            "type": "scattermapbox"
           }
          ],
          "scatterpolar": [
           {
            "marker": {
             "colorbar": {
              "outlinewidth": 0,
              "ticks": ""
             }
            },
            "type": "scatterpolar"
           }
          ],
          "scatterpolargl": [
           {
            "marker": {
             "colorbar": {
              "outlinewidth": 0,
              "ticks": ""
             }
            },
            "type": "scatterpolargl"
           }
          ],
          "scatterternary": [
           {
            "marker": {
             "colorbar": {
              "outlinewidth": 0,
              "ticks": ""
             }
            },
            "type": "scatterternary"
           }
          ],
          "surface": [
           {
            "colorbar": {
             "outlinewidth": 0,
             "ticks": ""
            },
            "colorscale": [
             [
              0,
              "#0d0887"
             ],
             [
              0.1111111111111111,
              "#46039f"
             ],
             [
              0.2222222222222222,
              "#7201a8"
             ],
             [
              0.3333333333333333,
              "#9c179e"
             ],
             [
              0.4444444444444444,
              "#bd3786"
             ],
             [
              0.5555555555555556,
              "#d8576b"
             ],
             [
              0.6666666666666666,
              "#ed7953"
             ],
             [
              0.7777777777777778,
              "#fb9f3a"
             ],
             [
              0.8888888888888888,
              "#fdca26"
             ],
             [
              1,
              "#f0f921"
             ]
            ],
            "type": "surface"
           }
          ],
          "table": [
           {
            "cells": {
             "fill": {
              "color": "#EBF0F8"
             },
             "line": {
              "color": "white"
             }
            },
            "header": {
             "fill": {
              "color": "#C8D4E3"
             },
             "line": {
              "color": "white"
             }
            },
            "type": "table"
           }
          ]
         },
         "layout": {
          "annotationdefaults": {
           "arrowcolor": "#2a3f5f",
           "arrowhead": 0,
           "arrowwidth": 1
          },
          "autotypenumbers": "strict",
          "coloraxis": {
           "colorbar": {
            "outlinewidth": 0,
            "ticks": ""
           }
          },
          "colorscale": {
           "diverging": [
            [
             0,
             "#8e0152"
            ],
            [
             0.1,
             "#c51b7d"
            ],
            [
             0.2,
             "#de77ae"
            ],
            [
             0.3,
             "#f1b6da"
            ],
            [
             0.4,
             "#fde0ef"
            ],
            [
             0.5,
             "#f7f7f7"
            ],
            [
             0.6,
             "#e6f5d0"
            ],
            [
             0.7,
             "#b8e186"
            ],
            [
             0.8,
             "#7fbc41"
            ],
            [
             0.9,
             "#4d9221"
            ],
            [
             1,
             "#276419"
            ]
           ],
           "sequential": [
            [
             0,
             "#0d0887"
            ],
            [
             0.1111111111111111,
             "#46039f"
            ],
            [
             0.2222222222222222,
             "#7201a8"
            ],
            [
             0.3333333333333333,
             "#9c179e"
            ],
            [
             0.4444444444444444,
             "#bd3786"
            ],
            [
             0.5555555555555556,
             "#d8576b"
            ],
            [
             0.6666666666666666,
             "#ed7953"
            ],
            [
             0.7777777777777778,
             "#fb9f3a"
            ],
            [
             0.8888888888888888,
             "#fdca26"
            ],
            [
             1,
             "#f0f921"
            ]
           ],
           "sequentialminus": [
            [
             0,
             "#0d0887"
            ],
            [
             0.1111111111111111,
             "#46039f"
            ],
            [
             0.2222222222222222,
             "#7201a8"
            ],
            [
             0.3333333333333333,
             "#9c179e"
            ],
            [
             0.4444444444444444,
             "#bd3786"
            ],
            [
             0.5555555555555556,
             "#d8576b"
            ],
            [
             0.6666666666666666,
             "#ed7953"
            ],
            [
             0.7777777777777778,
             "#fb9f3a"
            ],
            [
             0.8888888888888888,
             "#fdca26"
            ],
            [
             1,
             "#f0f921"
            ]
           ]
          },
          "colorway": [
           "#636efa",
           "#EF553B",
           "#00cc96",
           "#ab63fa",
           "#FFA15A",
           "#19d3f3",
           "#FF6692",
           "#B6E880",
           "#FF97FF",
           "#FECB52"
          ],
          "font": {
           "color": "#2a3f5f"
          },
          "geo": {
           "bgcolor": "white",
           "lakecolor": "white",
           "landcolor": "#E5ECF6",
           "showlakes": true,
           "showland": true,
           "subunitcolor": "white"
          },
          "hoverlabel": {
           "align": "left"
          },
          "hovermode": "closest",
          "mapbox": {
           "style": "light"
          },
          "paper_bgcolor": "white",
          "plot_bgcolor": "#E5ECF6",
          "polar": {
           "angularaxis": {
            "gridcolor": "white",
            "linecolor": "white",
            "ticks": ""
           },
           "bgcolor": "#E5ECF6",
           "radialaxis": {
            "gridcolor": "white",
            "linecolor": "white",
            "ticks": ""
           }
          },
          "scene": {
           "xaxis": {
            "backgroundcolor": "#E5ECF6",
            "gridcolor": "white",
            "gridwidth": 2,
            "linecolor": "white",
            "showbackground": true,
            "ticks": "",
            "zerolinecolor": "white"
           },
           "yaxis": {
            "backgroundcolor": "#E5ECF6",
            "gridcolor": "white",
            "gridwidth": 2,
            "linecolor": "white",
            "showbackground": true,
            "ticks": "",
            "zerolinecolor": "white"
           },
           "zaxis": {
            "backgroundcolor": "#E5ECF6",
            "gridcolor": "white",
            "gridwidth": 2,
            "linecolor": "white",
            "showbackground": true,
            "ticks": "",
            "zerolinecolor": "white"
           }
          },
          "shapedefaults": {
           "line": {
            "color": "#2a3f5f"
           }
          },
          "ternary": {
           "aaxis": {
            "gridcolor": "white",
            "linecolor": "white",
            "ticks": ""
           },
           "baxis": {
            "gridcolor": "white",
            "linecolor": "white",
            "ticks": ""
           },
           "bgcolor": "#E5ECF6",
           "caxis": {
            "gridcolor": "white",
            "linecolor": "white",
            "ticks": ""
           }
          },
          "title": {
           "x": 0.05
          },
          "xaxis": {
           "automargin": true,
           "gridcolor": "white",
           "linecolor": "white",
           "ticks": "",
           "title": {
            "standoff": 15
           },
           "zerolinecolor": "white",
           "zerolinewidth": 2
          },
          "yaxis": {
           "automargin": true,
           "gridcolor": "white",
           "linecolor": "white",
           "ticks": "",
           "title": {
            "standoff": 15
           },
           "zerolinecolor": "white",
           "zerolinewidth": 2
          }
         }
        },
        "title": {
         "text": "Number of Passes vs Mean Defenders Passed on the Pass",
         "x": 0.5
        },
        "width": 1200,
        "xaxis": {
         "anchor": "y",
         "domain": [
          0,
          1
         ],
         "title": {
          "text": "Mean Defenders Passed"
         }
        },
        "yaxis": {
         "anchor": "x",
         "domain": [
          0,
          1
         ],
         "title": {
          "text": "Total Number of Passes"
         }
        }
       }
      }
     },
     "metadata": {},
     "output_type": "display_data"
    },
    {
     "data": {
      "application/vnd.plotly.v1+json": {
       "config": {
        "plotlyServerURL": "https://plot.ly"
       },
       "data": [
        {
         "hovertemplate": "x=%{x}<br>y=%{y}<br>text=%{text}<extra></extra>",
         "legendgroup": "",
         "marker": {
          "color": "#636efa",
          "symbol": "circle"
         },
         "mode": "markers+text",
         "name": "",
         "orientation": "v",
         "showlegend": false,
         "text": [
          "Aaron Nesmith",
          "Al Horford",
          "Andrew Wiggins",
          "Bam Adebayo",
          "Caleb Martin",
          "Damion Lee",
          "Daniel Theis",
          "Davis Bertans",
          "Derrick White",
          "Dewayne Dedmon",
          "Dorian Finney-Smith",
          "Draymond Green",
          "Duncan Robinson",
          "Dwight Powell",
          "Frank Ntilikina",
          "Gabe Vincent",
          "Gary Payton II",
          "Grant Williams",
          "Haywood Highsmith",
          "Jalen Brunson",
          "Jaylen Brown",
          "Jayson Tatum",
          "Jimmy Butler",
          "Jonathan Kuminga",
          "Jordan Poole",
          "Josh Green",
          "Juan Toscano-Anderson",
          "Kevon Looney",
          "Klay Thompson",
          "Kyle Lowry",
          "Luka Doncic",
          "Luke Kornet",
          "Marcus Smart",
          "Max Strus",
          "Maxi Kleber",
          "Moses Moody",
          "Nemanja Bjelica",
          "Nik Stauskas",
          "Omer Yurtseven",
          "Otto Porter Jr.",
          "P.J. Tucker",
          "Payton Pritchard",
          "Reggie Bullock",
          "Robert Williams III",
          "Sam Hauser",
          "Spencer Dinwiddie",
          "Stephen Curry",
          "Sterling Brown",
          "Trey Burke",
          "Tyler Herro",
          "Victor Oladipo"
         ],
         "textposition": "top center",
         "type": "scatter",
         "x": [
          0.3,
          0.654320987654321,
          0.5217391304347826,
          1.1025641025641026,
          0.5454545454545454,
          0.375,
          0.3333333333333333,
          0.7142857142857143,
          0.4503311258278146,
          0.3333333333333333,
          0.3888888888888889,
          0.8130081300813008,
          0.5,
          1,
          0.75,
          0.35384615384615387,
          0.6428571428571429,
          0.41379310344827586,
          4,
          0.40860215053763443,
          0.7663551401869159,
          0.5339366515837104,
          0.7252747252747253,
          1,
          0.40555555555555556,
          2.5,
          0.5,
          0.5625,
          0.7125,
          0.5057471264367817,
          0.3941176470588235,
          1,
          0.2397003745318352,
          0.3888888888888889,
          1,
          0.5,
          0.47058823529411764,
          0.21428571428571427,
          0,
          0.6,
          0.3684210526315789,
          0.28888888888888886,
          0.1875,
          0.17647058823529413,
          0.5,
          0.6451612903225806,
          0.49310344827586206,
          0.4,
          0.6666666666666666,
          0.38636363636363635,
          0.8032786885245902
         ],
         "xaxis": "x",
         "y": [
          10,
          81,
          92,
          78,
          22,
          8,
          6,
          7,
          151,
          3,
          18,
          123,
          10,
          1,
          8,
          65,
          14,
          29,
          2,
          93,
          214,
          221,
          91,
          12,
          180,
          2,
          4,
          16,
          80,
          87,
          170,
          2,
          267,
          18,
          2,
          10,
          17,
          14,
          1,
          20,
          19,
          90,
          16,
          17,
          2,
          62,
          290,
          5,
          6,
          44,
          61
         ],
         "yaxis": "y"
        }
       ],
       "layout": {
        "height": 500,
        "legend": {
         "tracegroupgap": 0
        },
        "margin": {
         "t": 60
        },
        "template": {
         "data": {
          "bar": [
           {
            "error_x": {
             "color": "#2a3f5f"
            },
            "error_y": {
             "color": "#2a3f5f"
            },
            "marker": {
             "line": {
              "color": "#E5ECF6",
              "width": 0.5
             },
             "pattern": {
              "fillmode": "overlay",
              "size": 10,
              "solidity": 0.2
             }
            },
            "type": "bar"
           }
          ],
          "barpolar": [
           {
            "marker": {
             "line": {
              "color": "#E5ECF6",
              "width": 0.5
             },
             "pattern": {
              "fillmode": "overlay",
              "size": 10,
              "solidity": 0.2
             }
            },
            "type": "barpolar"
           }
          ],
          "carpet": [
           {
            "aaxis": {
             "endlinecolor": "#2a3f5f",
             "gridcolor": "white",
             "linecolor": "white",
             "minorgridcolor": "white",
             "startlinecolor": "#2a3f5f"
            },
            "baxis": {
             "endlinecolor": "#2a3f5f",
             "gridcolor": "white",
             "linecolor": "white",
             "minorgridcolor": "white",
             "startlinecolor": "#2a3f5f"
            },
            "type": "carpet"
           }
          ],
          "choropleth": [
           {
            "colorbar": {
             "outlinewidth": 0,
             "ticks": ""
            },
            "type": "choropleth"
           }
          ],
          "contour": [
           {
            "colorbar": {
             "outlinewidth": 0,
             "ticks": ""
            },
            "colorscale": [
             [
              0,
              "#0d0887"
             ],
             [
              0.1111111111111111,
              "#46039f"
             ],
             [
              0.2222222222222222,
              "#7201a8"
             ],
             [
              0.3333333333333333,
              "#9c179e"
             ],
             [
              0.4444444444444444,
              "#bd3786"
             ],
             [
              0.5555555555555556,
              "#d8576b"
             ],
             [
              0.6666666666666666,
              "#ed7953"
             ],
             [
              0.7777777777777778,
              "#fb9f3a"
             ],
             [
              0.8888888888888888,
              "#fdca26"
             ],
             [
              1,
              "#f0f921"
             ]
            ],
            "type": "contour"
           }
          ],
          "contourcarpet": [
           {
            "colorbar": {
             "outlinewidth": 0,
             "ticks": ""
            },
            "type": "contourcarpet"
           }
          ],
          "heatmap": [
           {
            "colorbar": {
             "outlinewidth": 0,
             "ticks": ""
            },
            "colorscale": [
             [
              0,
              "#0d0887"
             ],
             [
              0.1111111111111111,
              "#46039f"
             ],
             [
              0.2222222222222222,
              "#7201a8"
             ],
             [
              0.3333333333333333,
              "#9c179e"
             ],
             [
              0.4444444444444444,
              "#bd3786"
             ],
             [
              0.5555555555555556,
              "#d8576b"
             ],
             [
              0.6666666666666666,
              "#ed7953"
             ],
             [
              0.7777777777777778,
              "#fb9f3a"
             ],
             [
              0.8888888888888888,
              "#fdca26"
             ],
             [
              1,
              "#f0f921"
             ]
            ],
            "type": "heatmap"
           }
          ],
          "heatmapgl": [
           {
            "colorbar": {
             "outlinewidth": 0,
             "ticks": ""
            },
            "colorscale": [
             [
              0,
              "#0d0887"
             ],
             [
              0.1111111111111111,
              "#46039f"
             ],
             [
              0.2222222222222222,
              "#7201a8"
             ],
             [
              0.3333333333333333,
              "#9c179e"
             ],
             [
              0.4444444444444444,
              "#bd3786"
             ],
             [
              0.5555555555555556,
              "#d8576b"
             ],
             [
              0.6666666666666666,
              "#ed7953"
             ],
             [
              0.7777777777777778,
              "#fb9f3a"
             ],
             [
              0.8888888888888888,
              "#fdca26"
             ],
             [
              1,
              "#f0f921"
             ]
            ],
            "type": "heatmapgl"
           }
          ],
          "histogram": [
           {
            "marker": {
             "pattern": {
              "fillmode": "overlay",
              "size": 10,
              "solidity": 0.2
             }
            },
            "type": "histogram"
           }
          ],
          "histogram2d": [
           {
            "colorbar": {
             "outlinewidth": 0,
             "ticks": ""
            },
            "colorscale": [
             [
              0,
              "#0d0887"
             ],
             [
              0.1111111111111111,
              "#46039f"
             ],
             [
              0.2222222222222222,
              "#7201a8"
             ],
             [
              0.3333333333333333,
              "#9c179e"
             ],
             [
              0.4444444444444444,
              "#bd3786"
             ],
             [
              0.5555555555555556,
              "#d8576b"
             ],
             [
              0.6666666666666666,
              "#ed7953"
             ],
             [
              0.7777777777777778,
              "#fb9f3a"
             ],
             [
              0.8888888888888888,
              "#fdca26"
             ],
             [
              1,
              "#f0f921"
             ]
            ],
            "type": "histogram2d"
           }
          ],
          "histogram2dcontour": [
           {
            "colorbar": {
             "outlinewidth": 0,
             "ticks": ""
            },
            "colorscale": [
             [
              0,
              "#0d0887"
             ],
             [
              0.1111111111111111,
              "#46039f"
             ],
             [
              0.2222222222222222,
              "#7201a8"
             ],
             [
              0.3333333333333333,
              "#9c179e"
             ],
             [
              0.4444444444444444,
              "#bd3786"
             ],
             [
              0.5555555555555556,
              "#d8576b"
             ],
             [
              0.6666666666666666,
              "#ed7953"
             ],
             [
              0.7777777777777778,
              "#fb9f3a"
             ],
             [
              0.8888888888888888,
              "#fdca26"
             ],
             [
              1,
              "#f0f921"
             ]
            ],
            "type": "histogram2dcontour"
           }
          ],
          "mesh3d": [
           {
            "colorbar": {
             "outlinewidth": 0,
             "ticks": ""
            },
            "type": "mesh3d"
           }
          ],
          "parcoords": [
           {
            "line": {
             "colorbar": {
              "outlinewidth": 0,
              "ticks": ""
             }
            },
            "type": "parcoords"
           }
          ],
          "pie": [
           {
            "automargin": true,
            "type": "pie"
           }
          ],
          "scatter": [
           {
            "fillpattern": {
             "fillmode": "overlay",
             "size": 10,
             "solidity": 0.2
            },
            "type": "scatter"
           }
          ],
          "scatter3d": [
           {
            "line": {
             "colorbar": {
              "outlinewidth": 0,
              "ticks": ""
             }
            },
            "marker": {
             "colorbar": {
              "outlinewidth": 0,
              "ticks": ""
             }
            },
            "type": "scatter3d"
           }
          ],
          "scattercarpet": [
           {
            "marker": {
             "colorbar": {
              "outlinewidth": 0,
              "ticks": ""
             }
            },
            "type": "scattercarpet"
           }
          ],
          "scattergeo": [
           {
            "marker": {
             "colorbar": {
              "outlinewidth": 0,
              "ticks": ""
             }
            },
            "type": "scattergeo"
           }
          ],
          "scattergl": [
           {
            "marker": {
             "colorbar": {
              "outlinewidth": 0,
              "ticks": ""
             }
            },
            "type": "scattergl"
           }
          ],
          "scattermapbox": [
           {
            "marker": {
             "colorbar": {
              "outlinewidth": 0,
              "ticks": ""
             }
            },
            "type": "scattermapbox"
           }
          ],
          "scatterpolar": [
           {
            "marker": {
             "colorbar": {
              "outlinewidth": 0,
              "ticks": ""
             }
            },
            "type": "scatterpolar"
           }
          ],
          "scatterpolargl": [
           {
            "marker": {
             "colorbar": {
              "outlinewidth": 0,
              "ticks": ""
             }
            },
            "type": "scatterpolargl"
           }
          ],
          "scatterternary": [
           {
            "marker": {
             "colorbar": {
              "outlinewidth": 0,
              "ticks": ""
             }
            },
            "type": "scatterternary"
           }
          ],
          "surface": [
           {
            "colorbar": {
             "outlinewidth": 0,
             "ticks": ""
            },
            "colorscale": [
             [
              0,
              "#0d0887"
             ],
             [
              0.1111111111111111,
              "#46039f"
             ],
             [
              0.2222222222222222,
              "#7201a8"
             ],
             [
              0.3333333333333333,
              "#9c179e"
             ],
             [
              0.4444444444444444,
              "#bd3786"
             ],
             [
              0.5555555555555556,
              "#d8576b"
             ],
             [
              0.6666666666666666,
              "#ed7953"
             ],
             [
              0.7777777777777778,
              "#fb9f3a"
             ],
             [
              0.8888888888888888,
              "#fdca26"
             ],
             [
              1,
              "#f0f921"
             ]
            ],
            "type": "surface"
           }
          ],
          "table": [
           {
            "cells": {
             "fill": {
              "color": "#EBF0F8"
             },
             "line": {
              "color": "white"
             }
            },
            "header": {
             "fill": {
              "color": "#C8D4E3"
             },
             "line": {
              "color": "white"
             }
            },
            "type": "table"
           }
          ]
         },
         "layout": {
          "annotationdefaults": {
           "arrowcolor": "#2a3f5f",
           "arrowhead": 0,
           "arrowwidth": 1
          },
          "autotypenumbers": "strict",
          "coloraxis": {
           "colorbar": {
            "outlinewidth": 0,
            "ticks": ""
           }
          },
          "colorscale": {
           "diverging": [
            [
             0,
             "#8e0152"
            ],
            [
             0.1,
             "#c51b7d"
            ],
            [
             0.2,
             "#de77ae"
            ],
            [
             0.3,
             "#f1b6da"
            ],
            [
             0.4,
             "#fde0ef"
            ],
            [
             0.5,
             "#f7f7f7"
            ],
            [
             0.6,
             "#e6f5d0"
            ],
            [
             0.7,
             "#b8e186"
            ],
            [
             0.8,
             "#7fbc41"
            ],
            [
             0.9,
             "#4d9221"
            ],
            [
             1,
             "#276419"
            ]
           ],
           "sequential": [
            [
             0,
             "#0d0887"
            ],
            [
             0.1111111111111111,
             "#46039f"
            ],
            [
             0.2222222222222222,
             "#7201a8"
            ],
            [
             0.3333333333333333,
             "#9c179e"
            ],
            [
             0.4444444444444444,
             "#bd3786"
            ],
            [
             0.5555555555555556,
             "#d8576b"
            ],
            [
             0.6666666666666666,
             "#ed7953"
            ],
            [
             0.7777777777777778,
             "#fb9f3a"
            ],
            [
             0.8888888888888888,
             "#fdca26"
            ],
            [
             1,
             "#f0f921"
            ]
           ],
           "sequentialminus": [
            [
             0,
             "#0d0887"
            ],
            [
             0.1111111111111111,
             "#46039f"
            ],
            [
             0.2222222222222222,
             "#7201a8"
            ],
            [
             0.3333333333333333,
             "#9c179e"
            ],
            [
             0.4444444444444444,
             "#bd3786"
            ],
            [
             0.5555555555555556,
             "#d8576b"
            ],
            [
             0.6666666666666666,
             "#ed7953"
            ],
            [
             0.7777777777777778,
             "#fb9f3a"
            ],
            [
             0.8888888888888888,
             "#fdca26"
            ],
            [
             1,
             "#f0f921"
            ]
           ]
          },
          "colorway": [
           "#636efa",
           "#EF553B",
           "#00cc96",
           "#ab63fa",
           "#FFA15A",
           "#19d3f3",
           "#FF6692",
           "#B6E880",
           "#FF97FF",
           "#FECB52"
          ],
          "font": {
           "color": "#2a3f5f"
          },
          "geo": {
           "bgcolor": "white",
           "lakecolor": "white",
           "landcolor": "#E5ECF6",
           "showlakes": true,
           "showland": true,
           "subunitcolor": "white"
          },
          "hoverlabel": {
           "align": "left"
          },
          "hovermode": "closest",
          "mapbox": {
           "style": "light"
          },
          "paper_bgcolor": "white",
          "plot_bgcolor": "#E5ECF6",
          "polar": {
           "angularaxis": {
            "gridcolor": "white",
            "linecolor": "white",
            "ticks": ""
           },
           "bgcolor": "#E5ECF6",
           "radialaxis": {
            "gridcolor": "white",
            "linecolor": "white",
            "ticks": ""
           }
          },
          "scene": {
           "xaxis": {
            "backgroundcolor": "#E5ECF6",
            "gridcolor": "white",
            "gridwidth": 2,
            "linecolor": "white",
            "showbackground": true,
            "ticks": "",
            "zerolinecolor": "white"
           },
           "yaxis": {
            "backgroundcolor": "#E5ECF6",
            "gridcolor": "white",
            "gridwidth": 2,
            "linecolor": "white",
            "showbackground": true,
            "ticks": "",
            "zerolinecolor": "white"
           },
           "zaxis": {
            "backgroundcolor": "#E5ECF6",
            "gridcolor": "white",
            "gridwidth": 2,
            "linecolor": "white",
            "showbackground": true,
            "ticks": "",
            "zerolinecolor": "white"
           }
          },
          "shapedefaults": {
           "line": {
            "color": "#2a3f5f"
           }
          },
          "ternary": {
           "aaxis": {
            "gridcolor": "white",
            "linecolor": "white",
            "ticks": ""
           },
           "baxis": {
            "gridcolor": "white",
            "linecolor": "white",
            "ticks": ""
           },
           "bgcolor": "#E5ECF6",
           "caxis": {
            "gridcolor": "white",
            "linecolor": "white",
            "ticks": ""
           }
          },
          "title": {
           "x": 0.05
          },
          "xaxis": {
           "automargin": true,
           "gridcolor": "white",
           "linecolor": "white",
           "ticks": "",
           "title": {
            "standoff": 15
           },
           "zerolinecolor": "white",
           "zerolinewidth": 2
          },
          "yaxis": {
           "automargin": true,
           "gridcolor": "white",
           "linecolor": "white",
           "ticks": "",
           "title": {
            "standoff": 15
           },
           "zerolinecolor": "white",
           "zerolinewidth": 2
          }
         }
        },
        "title": {
         "text": "Number of Drives vs Mean Defenders Passed on the Drive",
         "x": 0.5
        },
        "width": 1200,
        "xaxis": {
         "anchor": "y",
         "domain": [
          0,
          1
         ],
         "title": {
          "text": "Mean Defenders Passed"
         }
        },
        "yaxis": {
         "anchor": "x",
         "domain": [
          0,
          1
         ],
         "title": {
          "text": "Total Number of Drives"
         }
        }
       }
      }
     },
     "metadata": {},
     "output_type": "display_data"
    }
   ],
   "source": [
    "fig = px.scatter(x = def_passed_means_player.values, y = num_passes_player.values, text = def_passed_sums_player.index)\n",
    "fig.update_layout(width=1200, height=500,  \n",
    "                  title='Number of Passes vs Mean Defenders Passed on the Pass', title_x=0.5,\n",
    "                  xaxis_title=\"Mean Defenders Passed\", yaxis_title='Total Number of Passes') #template='plotly_dark',\n",
    "fig.update_traces(textposition='top center')\n",
    "#fig.update_traces(textfont_size=11, marker=dict(size=10), textposition=improve_text_position(df['reb']))\n",
    "fig.show()\n",
    "\n",
    "fig = px.scatter(x = def_drive_means_player.values, y = num_drive_player.values, text = def_drive_sums_player.index)\n",
    "fig.update_layout(width=1200, height=500,  \n",
    "                  title='Number of Drives vs Mean Defenders Passed on the Drive', title_x=0.5,\n",
    "                  xaxis_title=\"Mean Defenders Passed\", yaxis_title='Total Number of Drives') #template='plotly_dark',\n",
    "fig.update_traces(textposition='top center')\n",
    "#fig.update_traces(textfont_size=11, marker=dict(size=10), textposition=improve_text_position(df['reb']))\n",
    "fig.show()"
   ]
  },
  {
   "cell_type": "code",
   "execution_count": 27,
   "metadata": {},
   "outputs": [
    {
     "data": {
      "application/vnd.plotly.v1+json": {
       "config": {
        "plotlyServerURL": "https://plot.ly"
       },
       "data": [
        {
         "hovertemplate": "x=%{x}<br>y=%{y}<extra></extra>",
         "legendgroup": "",
         "marker": {
          "color": "#636efa",
          "symbol": "circle"
         },
         "mode": "markers",
         "name": "",
         "orientation": "v",
         "showlegend": false,
         "type": "scatter",
         "x": [
          "Boston Celtics",
          "Dallas Mavericks",
          "Golden State Warriors",
          "Miami Heat"
         ],
         "xaxis": "x",
         "y": [
          0.3730834752981261,
          0.23737373737373738,
          0.3995459704880817,
          0.33267716535433073
         ],
         "yaxis": "y"
        }
       ],
       "layout": {
        "height": 600,
        "legend": {
         "tracegroupgap": 0
        },
        "margin": {
         "t": 60
        },
        "template": {
         "data": {
          "bar": [
           {
            "error_x": {
             "color": "#2a3f5f"
            },
            "error_y": {
             "color": "#2a3f5f"
            },
            "marker": {
             "line": {
              "color": "#E5ECF6",
              "width": 0.5
             },
             "pattern": {
              "fillmode": "overlay",
              "size": 10,
              "solidity": 0.2
             }
            },
            "type": "bar"
           }
          ],
          "barpolar": [
           {
            "marker": {
             "line": {
              "color": "#E5ECF6",
              "width": 0.5
             },
             "pattern": {
              "fillmode": "overlay",
              "size": 10,
              "solidity": 0.2
             }
            },
            "type": "barpolar"
           }
          ],
          "carpet": [
           {
            "aaxis": {
             "endlinecolor": "#2a3f5f",
             "gridcolor": "white",
             "linecolor": "white",
             "minorgridcolor": "white",
             "startlinecolor": "#2a3f5f"
            },
            "baxis": {
             "endlinecolor": "#2a3f5f",
             "gridcolor": "white",
             "linecolor": "white",
             "minorgridcolor": "white",
             "startlinecolor": "#2a3f5f"
            },
            "type": "carpet"
           }
          ],
          "choropleth": [
           {
            "colorbar": {
             "outlinewidth": 0,
             "ticks": ""
            },
            "type": "choropleth"
           }
          ],
          "contour": [
           {
            "colorbar": {
             "outlinewidth": 0,
             "ticks": ""
            },
            "colorscale": [
             [
              0,
              "#0d0887"
             ],
             [
              0.1111111111111111,
              "#46039f"
             ],
             [
              0.2222222222222222,
              "#7201a8"
             ],
             [
              0.3333333333333333,
              "#9c179e"
             ],
             [
              0.4444444444444444,
              "#bd3786"
             ],
             [
              0.5555555555555556,
              "#d8576b"
             ],
             [
              0.6666666666666666,
              "#ed7953"
             ],
             [
              0.7777777777777778,
              "#fb9f3a"
             ],
             [
              0.8888888888888888,
              "#fdca26"
             ],
             [
              1,
              "#f0f921"
             ]
            ],
            "type": "contour"
           }
          ],
          "contourcarpet": [
           {
            "colorbar": {
             "outlinewidth": 0,
             "ticks": ""
            },
            "type": "contourcarpet"
           }
          ],
          "heatmap": [
           {
            "colorbar": {
             "outlinewidth": 0,
             "ticks": ""
            },
            "colorscale": [
             [
              0,
              "#0d0887"
             ],
             [
              0.1111111111111111,
              "#46039f"
             ],
             [
              0.2222222222222222,
              "#7201a8"
             ],
             [
              0.3333333333333333,
              "#9c179e"
             ],
             [
              0.4444444444444444,
              "#bd3786"
             ],
             [
              0.5555555555555556,
              "#d8576b"
             ],
             [
              0.6666666666666666,
              "#ed7953"
             ],
             [
              0.7777777777777778,
              "#fb9f3a"
             ],
             [
              0.8888888888888888,
              "#fdca26"
             ],
             [
              1,
              "#f0f921"
             ]
            ],
            "type": "heatmap"
           }
          ],
          "heatmapgl": [
           {
            "colorbar": {
             "outlinewidth": 0,
             "ticks": ""
            },
            "colorscale": [
             [
              0,
              "#0d0887"
             ],
             [
              0.1111111111111111,
              "#46039f"
             ],
             [
              0.2222222222222222,
              "#7201a8"
             ],
             [
              0.3333333333333333,
              "#9c179e"
             ],
             [
              0.4444444444444444,
              "#bd3786"
             ],
             [
              0.5555555555555556,
              "#d8576b"
             ],
             [
              0.6666666666666666,
              "#ed7953"
             ],
             [
              0.7777777777777778,
              "#fb9f3a"
             ],
             [
              0.8888888888888888,
              "#fdca26"
             ],
             [
              1,
              "#f0f921"
             ]
            ],
            "type": "heatmapgl"
           }
          ],
          "histogram": [
           {
            "marker": {
             "pattern": {
              "fillmode": "overlay",
              "size": 10,
              "solidity": 0.2
             }
            },
            "type": "histogram"
           }
          ],
          "histogram2d": [
           {
            "colorbar": {
             "outlinewidth": 0,
             "ticks": ""
            },
            "colorscale": [
             [
              0,
              "#0d0887"
             ],
             [
              0.1111111111111111,
              "#46039f"
             ],
             [
              0.2222222222222222,
              "#7201a8"
             ],
             [
              0.3333333333333333,
              "#9c179e"
             ],
             [
              0.4444444444444444,
              "#bd3786"
             ],
             [
              0.5555555555555556,
              "#d8576b"
             ],
             [
              0.6666666666666666,
              "#ed7953"
             ],
             [
              0.7777777777777778,
              "#fb9f3a"
             ],
             [
              0.8888888888888888,
              "#fdca26"
             ],
             [
              1,
              "#f0f921"
             ]
            ],
            "type": "histogram2d"
           }
          ],
          "histogram2dcontour": [
           {
            "colorbar": {
             "outlinewidth": 0,
             "ticks": ""
            },
            "colorscale": [
             [
              0,
              "#0d0887"
             ],
             [
              0.1111111111111111,
              "#46039f"
             ],
             [
              0.2222222222222222,
              "#7201a8"
             ],
             [
              0.3333333333333333,
              "#9c179e"
             ],
             [
              0.4444444444444444,
              "#bd3786"
             ],
             [
              0.5555555555555556,
              "#d8576b"
             ],
             [
              0.6666666666666666,
              "#ed7953"
             ],
             [
              0.7777777777777778,
              "#fb9f3a"
             ],
             [
              0.8888888888888888,
              "#fdca26"
             ],
             [
              1,
              "#f0f921"
             ]
            ],
            "type": "histogram2dcontour"
           }
          ],
          "mesh3d": [
           {
            "colorbar": {
             "outlinewidth": 0,
             "ticks": ""
            },
            "type": "mesh3d"
           }
          ],
          "parcoords": [
           {
            "line": {
             "colorbar": {
              "outlinewidth": 0,
              "ticks": ""
             }
            },
            "type": "parcoords"
           }
          ],
          "pie": [
           {
            "automargin": true,
            "type": "pie"
           }
          ],
          "scatter": [
           {
            "fillpattern": {
             "fillmode": "overlay",
             "size": 10,
             "solidity": 0.2
            },
            "type": "scatter"
           }
          ],
          "scatter3d": [
           {
            "line": {
             "colorbar": {
              "outlinewidth": 0,
              "ticks": ""
             }
            },
            "marker": {
             "colorbar": {
              "outlinewidth": 0,
              "ticks": ""
             }
            },
            "type": "scatter3d"
           }
          ],
          "scattercarpet": [
           {
            "marker": {
             "colorbar": {
              "outlinewidth": 0,
              "ticks": ""
             }
            },
            "type": "scattercarpet"
           }
          ],
          "scattergeo": [
           {
            "marker": {
             "colorbar": {
              "outlinewidth": 0,
              "ticks": ""
             }
            },
            "type": "scattergeo"
           }
          ],
          "scattergl": [
           {
            "marker": {
             "colorbar": {
              "outlinewidth": 0,
              "ticks": ""
             }
            },
            "type": "scattergl"
           }
          ],
          "scattermapbox": [
           {
            "marker": {
             "colorbar": {
              "outlinewidth": 0,
              "ticks": ""
             }
            },
            "type": "scattermapbox"
           }
          ],
          "scatterpolar": [
           {
            "marker": {
             "colorbar": {
              "outlinewidth": 0,
              "ticks": ""
             }
            },
            "type": "scatterpolar"
           }
          ],
          "scatterpolargl": [
           {
            "marker": {
             "colorbar": {
              "outlinewidth": 0,
              "ticks": ""
             }
            },
            "type": "scatterpolargl"
           }
          ],
          "scatterternary": [
           {
            "marker": {
             "colorbar": {
              "outlinewidth": 0,
              "ticks": ""
             }
            },
            "type": "scatterternary"
           }
          ],
          "surface": [
           {
            "colorbar": {
             "outlinewidth": 0,
             "ticks": ""
            },
            "colorscale": [
             [
              0,
              "#0d0887"
             ],
             [
              0.1111111111111111,
              "#46039f"
             ],
             [
              0.2222222222222222,
              "#7201a8"
             ],
             [
              0.3333333333333333,
              "#9c179e"
             ],
             [
              0.4444444444444444,
              "#bd3786"
             ],
             [
              0.5555555555555556,
              "#d8576b"
             ],
             [
              0.6666666666666666,
              "#ed7953"
             ],
             [
              0.7777777777777778,
              "#fb9f3a"
             ],
             [
              0.8888888888888888,
              "#fdca26"
             ],
             [
              1,
              "#f0f921"
             ]
            ],
            "type": "surface"
           }
          ],
          "table": [
           {
            "cells": {
             "fill": {
              "color": "#EBF0F8"
             },
             "line": {
              "color": "white"
             }
            },
            "header": {
             "fill": {
              "color": "#C8D4E3"
             },
             "line": {
              "color": "white"
             }
            },
            "type": "table"
           }
          ]
         },
         "layout": {
          "annotationdefaults": {
           "arrowcolor": "#2a3f5f",
           "arrowhead": 0,
           "arrowwidth": 1
          },
          "autotypenumbers": "strict",
          "coloraxis": {
           "colorbar": {
            "outlinewidth": 0,
            "ticks": ""
           }
          },
          "colorscale": {
           "diverging": [
            [
             0,
             "#8e0152"
            ],
            [
             0.1,
             "#c51b7d"
            ],
            [
             0.2,
             "#de77ae"
            ],
            [
             0.3,
             "#f1b6da"
            ],
            [
             0.4,
             "#fde0ef"
            ],
            [
             0.5,
             "#f7f7f7"
            ],
            [
             0.6,
             "#e6f5d0"
            ],
            [
             0.7,
             "#b8e186"
            ],
            [
             0.8,
             "#7fbc41"
            ],
            [
             0.9,
             "#4d9221"
            ],
            [
             1,
             "#276419"
            ]
           ],
           "sequential": [
            [
             0,
             "#0d0887"
            ],
            [
             0.1111111111111111,
             "#46039f"
            ],
            [
             0.2222222222222222,
             "#7201a8"
            ],
            [
             0.3333333333333333,
             "#9c179e"
            ],
            [
             0.4444444444444444,
             "#bd3786"
            ],
            [
             0.5555555555555556,
             "#d8576b"
            ],
            [
             0.6666666666666666,
             "#ed7953"
            ],
            [
             0.7777777777777778,
             "#fb9f3a"
            ],
            [
             0.8888888888888888,
             "#fdca26"
            ],
            [
             1,
             "#f0f921"
            ]
           ],
           "sequentialminus": [
            [
             0,
             "#0d0887"
            ],
            [
             0.1111111111111111,
             "#46039f"
            ],
            [
             0.2222222222222222,
             "#7201a8"
            ],
            [
             0.3333333333333333,
             "#9c179e"
            ],
            [
             0.4444444444444444,
             "#bd3786"
            ],
            [
             0.5555555555555556,
             "#d8576b"
            ],
            [
             0.6666666666666666,
             "#ed7953"
            ],
            [
             0.7777777777777778,
             "#fb9f3a"
            ],
            [
             0.8888888888888888,
             "#fdca26"
            ],
            [
             1,
             "#f0f921"
            ]
           ]
          },
          "colorway": [
           "#636efa",
           "#EF553B",
           "#00cc96",
           "#ab63fa",
           "#FFA15A",
           "#19d3f3",
           "#FF6692",
           "#B6E880",
           "#FF97FF",
           "#FECB52"
          ],
          "font": {
           "color": "#2a3f5f"
          },
          "geo": {
           "bgcolor": "white",
           "lakecolor": "white",
           "landcolor": "#E5ECF6",
           "showlakes": true,
           "showland": true,
           "subunitcolor": "white"
          },
          "hoverlabel": {
           "align": "left"
          },
          "hovermode": "closest",
          "mapbox": {
           "style": "light"
          },
          "paper_bgcolor": "white",
          "plot_bgcolor": "#E5ECF6",
          "polar": {
           "angularaxis": {
            "gridcolor": "white",
            "linecolor": "white",
            "ticks": ""
           },
           "bgcolor": "#E5ECF6",
           "radialaxis": {
            "gridcolor": "white",
            "linecolor": "white",
            "ticks": ""
           }
          },
          "scene": {
           "xaxis": {
            "backgroundcolor": "#E5ECF6",
            "gridcolor": "white",
            "gridwidth": 2,
            "linecolor": "white",
            "showbackground": true,
            "ticks": "",
            "zerolinecolor": "white"
           },
           "yaxis": {
            "backgroundcolor": "#E5ECF6",
            "gridcolor": "white",
            "gridwidth": 2,
            "linecolor": "white",
            "showbackground": true,
            "ticks": "",
            "zerolinecolor": "white"
           },
           "zaxis": {
            "backgroundcolor": "#E5ECF6",
            "gridcolor": "white",
            "gridwidth": 2,
            "linecolor": "white",
            "showbackground": true,
            "ticks": "",
            "zerolinecolor": "white"
           }
          },
          "shapedefaults": {
           "line": {
            "color": "#2a3f5f"
           }
          },
          "ternary": {
           "aaxis": {
            "gridcolor": "white",
            "linecolor": "white",
            "ticks": ""
           },
           "baxis": {
            "gridcolor": "white",
            "linecolor": "white",
            "ticks": ""
           },
           "bgcolor": "#E5ECF6",
           "caxis": {
            "gridcolor": "white",
            "linecolor": "white",
            "ticks": ""
           }
          },
          "title": {
           "x": 0.05
          },
          "xaxis": {
           "automargin": true,
           "gridcolor": "white",
           "linecolor": "white",
           "ticks": "",
           "title": {
            "standoff": 15
           },
           "zerolinecolor": "white",
           "zerolinewidth": 2
          },
          "yaxis": {
           "automargin": true,
           "gridcolor": "white",
           "linecolor": "white",
           "ticks": "",
           "title": {
            "standoff": 15
           },
           "zerolinecolor": "white",
           "zerolinewidth": 2
          }
         }
        },
        "title": {
         "text": "Mean Defenders Passed On the Pass by Team",
         "x": 0.5
        },
        "width": 800,
        "xaxis": {
         "anchor": "y",
         "domain": [
          0,
          1
         ],
         "title": {
          "text": "Team"
         }
        },
        "yaxis": {
         "anchor": "x",
         "domain": [
          0,
          1
         ],
         "title": {
          "text": "y"
         }
        }
       }
      }
     },
     "metadata": {},
     "output_type": "display_data"
    },
    {
     "data": {
      "application/vnd.plotly.v1+json": {
       "config": {
        "plotlyServerURL": "https://plot.ly"
       },
       "data": [
        {
         "hovertemplate": "x=%{x}<br>y=%{y}<extra></extra>",
         "legendgroup": "",
         "marker": {
          "color": "#636efa",
          "symbol": "circle"
         },
         "mode": "markers",
         "name": "",
         "orientation": "v",
         "showlegend": false,
         "type": "scatter",
         "x": [
          "Boston Celtics",
          "Dallas Mavericks",
          "Golden State Warriors",
          "Miami Heat"
         ],
         "xaxis": "x",
         "y": [
          0.4701086956521739,
          0.46153846153846156,
          0.5554272517321016,
          0.6487025948103793
         ],
         "yaxis": "y"
        }
       ],
       "layout": {
        "height": 600,
        "legend": {
         "tracegroupgap": 0
        },
        "margin": {
         "t": 60
        },
        "template": {
         "data": {
          "bar": [
           {
            "error_x": {
             "color": "#2a3f5f"
            },
            "error_y": {
             "color": "#2a3f5f"
            },
            "marker": {
             "line": {
              "color": "#E5ECF6",
              "width": 0.5
             },
             "pattern": {
              "fillmode": "overlay",
              "size": 10,
              "solidity": 0.2
             }
            },
            "type": "bar"
           }
          ],
          "barpolar": [
           {
            "marker": {
             "line": {
              "color": "#E5ECF6",
              "width": 0.5
             },
             "pattern": {
              "fillmode": "overlay",
              "size": 10,
              "solidity": 0.2
             }
            },
            "type": "barpolar"
           }
          ],
          "carpet": [
           {
            "aaxis": {
             "endlinecolor": "#2a3f5f",
             "gridcolor": "white",
             "linecolor": "white",
             "minorgridcolor": "white",
             "startlinecolor": "#2a3f5f"
            },
            "baxis": {
             "endlinecolor": "#2a3f5f",
             "gridcolor": "white",
             "linecolor": "white",
             "minorgridcolor": "white",
             "startlinecolor": "#2a3f5f"
            },
            "type": "carpet"
           }
          ],
          "choropleth": [
           {
            "colorbar": {
             "outlinewidth": 0,
             "ticks": ""
            },
            "type": "choropleth"
           }
          ],
          "contour": [
           {
            "colorbar": {
             "outlinewidth": 0,
             "ticks": ""
            },
            "colorscale": [
             [
              0,
              "#0d0887"
             ],
             [
              0.1111111111111111,
              "#46039f"
             ],
             [
              0.2222222222222222,
              "#7201a8"
             ],
             [
              0.3333333333333333,
              "#9c179e"
             ],
             [
              0.4444444444444444,
              "#bd3786"
             ],
             [
              0.5555555555555556,
              "#d8576b"
             ],
             [
              0.6666666666666666,
              "#ed7953"
             ],
             [
              0.7777777777777778,
              "#fb9f3a"
             ],
             [
              0.8888888888888888,
              "#fdca26"
             ],
             [
              1,
              "#f0f921"
             ]
            ],
            "type": "contour"
           }
          ],
          "contourcarpet": [
           {
            "colorbar": {
             "outlinewidth": 0,
             "ticks": ""
            },
            "type": "contourcarpet"
           }
          ],
          "heatmap": [
           {
            "colorbar": {
             "outlinewidth": 0,
             "ticks": ""
            },
            "colorscale": [
             [
              0,
              "#0d0887"
             ],
             [
              0.1111111111111111,
              "#46039f"
             ],
             [
              0.2222222222222222,
              "#7201a8"
             ],
             [
              0.3333333333333333,
              "#9c179e"
             ],
             [
              0.4444444444444444,
              "#bd3786"
             ],
             [
              0.5555555555555556,
              "#d8576b"
             ],
             [
              0.6666666666666666,
              "#ed7953"
             ],
             [
              0.7777777777777778,
              "#fb9f3a"
             ],
             [
              0.8888888888888888,
              "#fdca26"
             ],
             [
              1,
              "#f0f921"
             ]
            ],
            "type": "heatmap"
           }
          ],
          "heatmapgl": [
           {
            "colorbar": {
             "outlinewidth": 0,
             "ticks": ""
            },
            "colorscale": [
             [
              0,
              "#0d0887"
             ],
             [
              0.1111111111111111,
              "#46039f"
             ],
             [
              0.2222222222222222,
              "#7201a8"
             ],
             [
              0.3333333333333333,
              "#9c179e"
             ],
             [
              0.4444444444444444,
              "#bd3786"
             ],
             [
              0.5555555555555556,
              "#d8576b"
             ],
             [
              0.6666666666666666,
              "#ed7953"
             ],
             [
              0.7777777777777778,
              "#fb9f3a"
             ],
             [
              0.8888888888888888,
              "#fdca26"
             ],
             [
              1,
              "#f0f921"
             ]
            ],
            "type": "heatmapgl"
           }
          ],
          "histogram": [
           {
            "marker": {
             "pattern": {
              "fillmode": "overlay",
              "size": 10,
              "solidity": 0.2
             }
            },
            "type": "histogram"
           }
          ],
          "histogram2d": [
           {
            "colorbar": {
             "outlinewidth": 0,
             "ticks": ""
            },
            "colorscale": [
             [
              0,
              "#0d0887"
             ],
             [
              0.1111111111111111,
              "#46039f"
             ],
             [
              0.2222222222222222,
              "#7201a8"
             ],
             [
              0.3333333333333333,
              "#9c179e"
             ],
             [
              0.4444444444444444,
              "#bd3786"
             ],
             [
              0.5555555555555556,
              "#d8576b"
             ],
             [
              0.6666666666666666,
              "#ed7953"
             ],
             [
              0.7777777777777778,
              "#fb9f3a"
             ],
             [
              0.8888888888888888,
              "#fdca26"
             ],
             [
              1,
              "#f0f921"
             ]
            ],
            "type": "histogram2d"
           }
          ],
          "histogram2dcontour": [
           {
            "colorbar": {
             "outlinewidth": 0,
             "ticks": ""
            },
            "colorscale": [
             [
              0,
              "#0d0887"
             ],
             [
              0.1111111111111111,
              "#46039f"
             ],
             [
              0.2222222222222222,
              "#7201a8"
             ],
             [
              0.3333333333333333,
              "#9c179e"
             ],
             [
              0.4444444444444444,
              "#bd3786"
             ],
             [
              0.5555555555555556,
              "#d8576b"
             ],
             [
              0.6666666666666666,
              "#ed7953"
             ],
             [
              0.7777777777777778,
              "#fb9f3a"
             ],
             [
              0.8888888888888888,
              "#fdca26"
             ],
             [
              1,
              "#f0f921"
             ]
            ],
            "type": "histogram2dcontour"
           }
          ],
          "mesh3d": [
           {
            "colorbar": {
             "outlinewidth": 0,
             "ticks": ""
            },
            "type": "mesh3d"
           }
          ],
          "parcoords": [
           {
            "line": {
             "colorbar": {
              "outlinewidth": 0,
              "ticks": ""
             }
            },
            "type": "parcoords"
           }
          ],
          "pie": [
           {
            "automargin": true,
            "type": "pie"
           }
          ],
          "scatter": [
           {
            "fillpattern": {
             "fillmode": "overlay",
             "size": 10,
             "solidity": 0.2
            },
            "type": "scatter"
           }
          ],
          "scatter3d": [
           {
            "line": {
             "colorbar": {
              "outlinewidth": 0,
              "ticks": ""
             }
            },
            "marker": {
             "colorbar": {
              "outlinewidth": 0,
              "ticks": ""
             }
            },
            "type": "scatter3d"
           }
          ],
          "scattercarpet": [
           {
            "marker": {
             "colorbar": {
              "outlinewidth": 0,
              "ticks": ""
             }
            },
            "type": "scattercarpet"
           }
          ],
          "scattergeo": [
           {
            "marker": {
             "colorbar": {
              "outlinewidth": 0,
              "ticks": ""
             }
            },
            "type": "scattergeo"
           }
          ],
          "scattergl": [
           {
            "marker": {
             "colorbar": {
              "outlinewidth": 0,
              "ticks": ""
             }
            },
            "type": "scattergl"
           }
          ],
          "scattermapbox": [
           {
            "marker": {
             "colorbar": {
              "outlinewidth": 0,
              "ticks": ""
             }
            },
            "type": "scattermapbox"
           }
          ],
          "scatterpolar": [
           {
            "marker": {
             "colorbar": {
              "outlinewidth": 0,
              "ticks": ""
             }
            },
            "type": "scatterpolar"
           }
          ],
          "scatterpolargl": [
           {
            "marker": {
             "colorbar": {
              "outlinewidth": 0,
              "ticks": ""
             }
            },
            "type": "scatterpolargl"
           }
          ],
          "scatterternary": [
           {
            "marker": {
             "colorbar": {
              "outlinewidth": 0,
              "ticks": ""
             }
            },
            "type": "scatterternary"
           }
          ],
          "surface": [
           {
            "colorbar": {
             "outlinewidth": 0,
             "ticks": ""
            },
            "colorscale": [
             [
              0,
              "#0d0887"
             ],
             [
              0.1111111111111111,
              "#46039f"
             ],
             [
              0.2222222222222222,
              "#7201a8"
             ],
             [
              0.3333333333333333,
              "#9c179e"
             ],
             [
              0.4444444444444444,
              "#bd3786"
             ],
             [
              0.5555555555555556,
              "#d8576b"
             ],
             [
              0.6666666666666666,
              "#ed7953"
             ],
             [
              0.7777777777777778,
              "#fb9f3a"
             ],
             [
              0.8888888888888888,
              "#fdca26"
             ],
             [
              1,
              "#f0f921"
             ]
            ],
            "type": "surface"
           }
          ],
          "table": [
           {
            "cells": {
             "fill": {
              "color": "#EBF0F8"
             },
             "line": {
              "color": "white"
             }
            },
            "header": {
             "fill": {
              "color": "#C8D4E3"
             },
             "line": {
              "color": "white"
             }
            },
            "type": "table"
           }
          ]
         },
         "layout": {
          "annotationdefaults": {
           "arrowcolor": "#2a3f5f",
           "arrowhead": 0,
           "arrowwidth": 1
          },
          "autotypenumbers": "strict",
          "coloraxis": {
           "colorbar": {
            "outlinewidth": 0,
            "ticks": ""
           }
          },
          "colorscale": {
           "diverging": [
            [
             0,
             "#8e0152"
            ],
            [
             0.1,
             "#c51b7d"
            ],
            [
             0.2,
             "#de77ae"
            ],
            [
             0.3,
             "#f1b6da"
            ],
            [
             0.4,
             "#fde0ef"
            ],
            [
             0.5,
             "#f7f7f7"
            ],
            [
             0.6,
             "#e6f5d0"
            ],
            [
             0.7,
             "#b8e186"
            ],
            [
             0.8,
             "#7fbc41"
            ],
            [
             0.9,
             "#4d9221"
            ],
            [
             1,
             "#276419"
            ]
           ],
           "sequential": [
            [
             0,
             "#0d0887"
            ],
            [
             0.1111111111111111,
             "#46039f"
            ],
            [
             0.2222222222222222,
             "#7201a8"
            ],
            [
             0.3333333333333333,
             "#9c179e"
            ],
            [
             0.4444444444444444,
             "#bd3786"
            ],
            [
             0.5555555555555556,
             "#d8576b"
            ],
            [
             0.6666666666666666,
             "#ed7953"
            ],
            [
             0.7777777777777778,
             "#fb9f3a"
            ],
            [
             0.8888888888888888,
             "#fdca26"
            ],
            [
             1,
             "#f0f921"
            ]
           ],
           "sequentialminus": [
            [
             0,
             "#0d0887"
            ],
            [
             0.1111111111111111,
             "#46039f"
            ],
            [
             0.2222222222222222,
             "#7201a8"
            ],
            [
             0.3333333333333333,
             "#9c179e"
            ],
            [
             0.4444444444444444,
             "#bd3786"
            ],
            [
             0.5555555555555556,
             "#d8576b"
            ],
            [
             0.6666666666666666,
             "#ed7953"
            ],
            [
             0.7777777777777778,
             "#fb9f3a"
            ],
            [
             0.8888888888888888,
             "#fdca26"
            ],
            [
             1,
             "#f0f921"
            ]
           ]
          },
          "colorway": [
           "#636efa",
           "#EF553B",
           "#00cc96",
           "#ab63fa",
           "#FFA15A",
           "#19d3f3",
           "#FF6692",
           "#B6E880",
           "#FF97FF",
           "#FECB52"
          ],
          "font": {
           "color": "#2a3f5f"
          },
          "geo": {
           "bgcolor": "white",
           "lakecolor": "white",
           "landcolor": "#E5ECF6",
           "showlakes": true,
           "showland": true,
           "subunitcolor": "white"
          },
          "hoverlabel": {
           "align": "left"
          },
          "hovermode": "closest",
          "mapbox": {
           "style": "light"
          },
          "paper_bgcolor": "white",
          "plot_bgcolor": "#E5ECF6",
          "polar": {
           "angularaxis": {
            "gridcolor": "white",
            "linecolor": "white",
            "ticks": ""
           },
           "bgcolor": "#E5ECF6",
           "radialaxis": {
            "gridcolor": "white",
            "linecolor": "white",
            "ticks": ""
           }
          },
          "scene": {
           "xaxis": {
            "backgroundcolor": "#E5ECF6",
            "gridcolor": "white",
            "gridwidth": 2,
            "linecolor": "white",
            "showbackground": true,
            "ticks": "",
            "zerolinecolor": "white"
           },
           "yaxis": {
            "backgroundcolor": "#E5ECF6",
            "gridcolor": "white",
            "gridwidth": 2,
            "linecolor": "white",
            "showbackground": true,
            "ticks": "",
            "zerolinecolor": "white"
           },
           "zaxis": {
            "backgroundcolor": "#E5ECF6",
            "gridcolor": "white",
            "gridwidth": 2,
            "linecolor": "white",
            "showbackground": true,
            "ticks": "",
            "zerolinecolor": "white"
           }
          },
          "shapedefaults": {
           "line": {
            "color": "#2a3f5f"
           }
          },
          "ternary": {
           "aaxis": {
            "gridcolor": "white",
            "linecolor": "white",
            "ticks": ""
           },
           "baxis": {
            "gridcolor": "white",
            "linecolor": "white",
            "ticks": ""
           },
           "bgcolor": "#E5ECF6",
           "caxis": {
            "gridcolor": "white",
            "linecolor": "white",
            "ticks": ""
           }
          },
          "title": {
           "x": 0.05
          },
          "xaxis": {
           "automargin": true,
           "gridcolor": "white",
           "linecolor": "white",
           "ticks": "",
           "title": {
            "standoff": 15
           },
           "zerolinecolor": "white",
           "zerolinewidth": 2
          },
          "yaxis": {
           "automargin": true,
           "gridcolor": "white",
           "linecolor": "white",
           "ticks": "",
           "title": {
            "standoff": 15
           },
           "zerolinecolor": "white",
           "zerolinewidth": 2
          }
         }
        },
        "title": {
         "text": "Mean Defenders Passed On the Drive by Team",
         "x": 0.5
        },
        "width": 800,
        "xaxis": {
         "anchor": "y",
         "domain": [
          0,
          1
         ],
         "title": {
          "text": "Team"
         }
        },
        "yaxis": {
         "anchor": "x",
         "domain": [
          0,
          1
         ],
         "title": {
          "text": "y"
         }
        }
       }
      }
     },
     "metadata": {},
     "output_type": "display_data"
    }
   ],
   "source": [
    "fig = px.scatter(x = def_passed_means_team.index, y = def_passed_means_team.values)\n",
    "fig.update_layout(width=800, height=600,  \n",
    "                  title='Mean Defenders Passed On the Pass by Team', title_x=0.5,\n",
    "                  xaxis_title=\"Team\") #template='plotly_dark',\n",
    "#fig.update_traces(textfont_size=11, marker=dict(size=10), textposition=improve_text_position(df['reb']))\n",
    "fig.show()\n",
    "\n",
    "fig = px.scatter(x = def_drive_means_team.index, y = def_drive_means_team.values)\n",
    "fig.update_layout(width=800, height=600,  \n",
    "                  title='Mean Defenders Passed On the Drive by Team', title_x=0.5,\n",
    "                  xaxis_title=\"Team\") #template='plotly_dark',\n",
    "#fig.update_traces(textfont_size=11, marker=dict(size=10), textposition=improve_text_position(df['reb']))\n",
    "fig.show()"
   ]
  },
  {
   "cell_type": "code",
   "execution_count": 28,
   "metadata": {},
   "outputs": [
    {
     "data": {
      "application/vnd.plotly.v1+json": {
       "config": {
        "plotlyServerURL": "https://plot.ly"
       },
       "data": [
        {
         "hovertemplate": "x=%{x}<br>y=%{y}<br>text=%{text}<extra></extra>",
         "legendgroup": "",
         "marker": {
          "color": "#636efa",
          "symbol": "circle"
         },
         "mode": "markers+text",
         "name": "",
         "orientation": "v",
         "showlegend": false,
         "text": [
          "Boston Celtics",
          "Dallas Mavericks",
          "Golden State Warriors",
          "Miami Heat"
         ],
         "textposition": "top center",
         "type": "scatter",
         "x": [
          0.3730834752981261,
          0.23737373737373738,
          0.3995459704880817,
          0.33267716535433073
         ],
         "xaxis": "x",
         "y": [
          438,
          94,
          352,
          169
         ],
         "yaxis": "y"
        }
       ],
       "layout": {
        "height": 500,
        "legend": {
         "tracegroupgap": 0
        },
        "margin": {
         "t": 60
        },
        "template": {
         "data": {
          "bar": [
           {
            "error_x": {
             "color": "#2a3f5f"
            },
            "error_y": {
             "color": "#2a3f5f"
            },
            "marker": {
             "line": {
              "color": "#E5ECF6",
              "width": 0.5
             },
             "pattern": {
              "fillmode": "overlay",
              "size": 10,
              "solidity": 0.2
             }
            },
            "type": "bar"
           }
          ],
          "barpolar": [
           {
            "marker": {
             "line": {
              "color": "#E5ECF6",
              "width": 0.5
             },
             "pattern": {
              "fillmode": "overlay",
              "size": 10,
              "solidity": 0.2
             }
            },
            "type": "barpolar"
           }
          ],
          "carpet": [
           {
            "aaxis": {
             "endlinecolor": "#2a3f5f",
             "gridcolor": "white",
             "linecolor": "white",
             "minorgridcolor": "white",
             "startlinecolor": "#2a3f5f"
            },
            "baxis": {
             "endlinecolor": "#2a3f5f",
             "gridcolor": "white",
             "linecolor": "white",
             "minorgridcolor": "white",
             "startlinecolor": "#2a3f5f"
            },
            "type": "carpet"
           }
          ],
          "choropleth": [
           {
            "colorbar": {
             "outlinewidth": 0,
             "ticks": ""
            },
            "type": "choropleth"
           }
          ],
          "contour": [
           {
            "colorbar": {
             "outlinewidth": 0,
             "ticks": ""
            },
            "colorscale": [
             [
              0,
              "#0d0887"
             ],
             [
              0.1111111111111111,
              "#46039f"
             ],
             [
              0.2222222222222222,
              "#7201a8"
             ],
             [
              0.3333333333333333,
              "#9c179e"
             ],
             [
              0.4444444444444444,
              "#bd3786"
             ],
             [
              0.5555555555555556,
              "#d8576b"
             ],
             [
              0.6666666666666666,
              "#ed7953"
             ],
             [
              0.7777777777777778,
              "#fb9f3a"
             ],
             [
              0.8888888888888888,
              "#fdca26"
             ],
             [
              1,
              "#f0f921"
             ]
            ],
            "type": "contour"
           }
          ],
          "contourcarpet": [
           {
            "colorbar": {
             "outlinewidth": 0,
             "ticks": ""
            },
            "type": "contourcarpet"
           }
          ],
          "heatmap": [
           {
            "colorbar": {
             "outlinewidth": 0,
             "ticks": ""
            },
            "colorscale": [
             [
              0,
              "#0d0887"
             ],
             [
              0.1111111111111111,
              "#46039f"
             ],
             [
              0.2222222222222222,
              "#7201a8"
             ],
             [
              0.3333333333333333,
              "#9c179e"
             ],
             [
              0.4444444444444444,
              "#bd3786"
             ],
             [
              0.5555555555555556,
              "#d8576b"
             ],
             [
              0.6666666666666666,
              "#ed7953"
             ],
             [
              0.7777777777777778,
              "#fb9f3a"
             ],
             [
              0.8888888888888888,
              "#fdca26"
             ],
             [
              1,
              "#f0f921"
             ]
            ],
            "type": "heatmap"
           }
          ],
          "heatmapgl": [
           {
            "colorbar": {
             "outlinewidth": 0,
             "ticks": ""
            },
            "colorscale": [
             [
              0,
              "#0d0887"
             ],
             [
              0.1111111111111111,
              "#46039f"
             ],
             [
              0.2222222222222222,
              "#7201a8"
             ],
             [
              0.3333333333333333,
              "#9c179e"
             ],
             [
              0.4444444444444444,
              "#bd3786"
             ],
             [
              0.5555555555555556,
              "#d8576b"
             ],
             [
              0.6666666666666666,
              "#ed7953"
             ],
             [
              0.7777777777777778,
              "#fb9f3a"
             ],
             [
              0.8888888888888888,
              "#fdca26"
             ],
             [
              1,
              "#f0f921"
             ]
            ],
            "type": "heatmapgl"
           }
          ],
          "histogram": [
           {
            "marker": {
             "pattern": {
              "fillmode": "overlay",
              "size": 10,
              "solidity": 0.2
             }
            },
            "type": "histogram"
           }
          ],
          "histogram2d": [
           {
            "colorbar": {
             "outlinewidth": 0,
             "ticks": ""
            },
            "colorscale": [
             [
              0,
              "#0d0887"
             ],
             [
              0.1111111111111111,
              "#46039f"
             ],
             [
              0.2222222222222222,
              "#7201a8"
             ],
             [
              0.3333333333333333,
              "#9c179e"
             ],
             [
              0.4444444444444444,
              "#bd3786"
             ],
             [
              0.5555555555555556,
              "#d8576b"
             ],
             [
              0.6666666666666666,
              "#ed7953"
             ],
             [
              0.7777777777777778,
              "#fb9f3a"
             ],
             [
              0.8888888888888888,
              "#fdca26"
             ],
             [
              1,
              "#f0f921"
             ]
            ],
            "type": "histogram2d"
           }
          ],
          "histogram2dcontour": [
           {
            "colorbar": {
             "outlinewidth": 0,
             "ticks": ""
            },
            "colorscale": [
             [
              0,
              "#0d0887"
             ],
             [
              0.1111111111111111,
              "#46039f"
             ],
             [
              0.2222222222222222,
              "#7201a8"
             ],
             [
              0.3333333333333333,
              "#9c179e"
             ],
             [
              0.4444444444444444,
              "#bd3786"
             ],
             [
              0.5555555555555556,
              "#d8576b"
             ],
             [
              0.6666666666666666,
              "#ed7953"
             ],
             [
              0.7777777777777778,
              "#fb9f3a"
             ],
             [
              0.8888888888888888,
              "#fdca26"
             ],
             [
              1,
              "#f0f921"
             ]
            ],
            "type": "histogram2dcontour"
           }
          ],
          "mesh3d": [
           {
            "colorbar": {
             "outlinewidth": 0,
             "ticks": ""
            },
            "type": "mesh3d"
           }
          ],
          "parcoords": [
           {
            "line": {
             "colorbar": {
              "outlinewidth": 0,
              "ticks": ""
             }
            },
            "type": "parcoords"
           }
          ],
          "pie": [
           {
            "automargin": true,
            "type": "pie"
           }
          ],
          "scatter": [
           {
            "fillpattern": {
             "fillmode": "overlay",
             "size": 10,
             "solidity": 0.2
            },
            "type": "scatter"
           }
          ],
          "scatter3d": [
           {
            "line": {
             "colorbar": {
              "outlinewidth": 0,
              "ticks": ""
             }
            },
            "marker": {
             "colorbar": {
              "outlinewidth": 0,
              "ticks": ""
             }
            },
            "type": "scatter3d"
           }
          ],
          "scattercarpet": [
           {
            "marker": {
             "colorbar": {
              "outlinewidth": 0,
              "ticks": ""
             }
            },
            "type": "scattercarpet"
           }
          ],
          "scattergeo": [
           {
            "marker": {
             "colorbar": {
              "outlinewidth": 0,
              "ticks": ""
             }
            },
            "type": "scattergeo"
           }
          ],
          "scattergl": [
           {
            "marker": {
             "colorbar": {
              "outlinewidth": 0,
              "ticks": ""
             }
            },
            "type": "scattergl"
           }
          ],
          "scattermapbox": [
           {
            "marker": {
             "colorbar": {
              "outlinewidth": 0,
              "ticks": ""
             }
            },
            "type": "scattermapbox"
           }
          ],
          "scatterpolar": [
           {
            "marker": {
             "colorbar": {
              "outlinewidth": 0,
              "ticks": ""
             }
            },
            "type": "scatterpolar"
           }
          ],
          "scatterpolargl": [
           {
            "marker": {
             "colorbar": {
              "outlinewidth": 0,
              "ticks": ""
             }
            },
            "type": "scatterpolargl"
           }
          ],
          "scatterternary": [
           {
            "marker": {
             "colorbar": {
              "outlinewidth": 0,
              "ticks": ""
             }
            },
            "type": "scatterternary"
           }
          ],
          "surface": [
           {
            "colorbar": {
             "outlinewidth": 0,
             "ticks": ""
            },
            "colorscale": [
             [
              0,
              "#0d0887"
             ],
             [
              0.1111111111111111,
              "#46039f"
             ],
             [
              0.2222222222222222,
              "#7201a8"
             ],
             [
              0.3333333333333333,
              "#9c179e"
             ],
             [
              0.4444444444444444,
              "#bd3786"
             ],
             [
              0.5555555555555556,
              "#d8576b"
             ],
             [
              0.6666666666666666,
              "#ed7953"
             ],
             [
              0.7777777777777778,
              "#fb9f3a"
             ],
             [
              0.8888888888888888,
              "#fdca26"
             ],
             [
              1,
              "#f0f921"
             ]
            ],
            "type": "surface"
           }
          ],
          "table": [
           {
            "cells": {
             "fill": {
              "color": "#EBF0F8"
             },
             "line": {
              "color": "white"
             }
            },
            "header": {
             "fill": {
              "color": "#C8D4E3"
             },
             "line": {
              "color": "white"
             }
            },
            "type": "table"
           }
          ]
         },
         "layout": {
          "annotationdefaults": {
           "arrowcolor": "#2a3f5f",
           "arrowhead": 0,
           "arrowwidth": 1
          },
          "autotypenumbers": "strict",
          "coloraxis": {
           "colorbar": {
            "outlinewidth": 0,
            "ticks": ""
           }
          },
          "colorscale": {
           "diverging": [
            [
             0,
             "#8e0152"
            ],
            [
             0.1,
             "#c51b7d"
            ],
            [
             0.2,
             "#de77ae"
            ],
            [
             0.3,
             "#f1b6da"
            ],
            [
             0.4,
             "#fde0ef"
            ],
            [
             0.5,
             "#f7f7f7"
            ],
            [
             0.6,
             "#e6f5d0"
            ],
            [
             0.7,
             "#b8e186"
            ],
            [
             0.8,
             "#7fbc41"
            ],
            [
             0.9,
             "#4d9221"
            ],
            [
             1,
             "#276419"
            ]
           ],
           "sequential": [
            [
             0,
             "#0d0887"
            ],
            [
             0.1111111111111111,
             "#46039f"
            ],
            [
             0.2222222222222222,
             "#7201a8"
            ],
            [
             0.3333333333333333,
             "#9c179e"
            ],
            [
             0.4444444444444444,
             "#bd3786"
            ],
            [
             0.5555555555555556,
             "#d8576b"
            ],
            [
             0.6666666666666666,
             "#ed7953"
            ],
            [
             0.7777777777777778,
             "#fb9f3a"
            ],
            [
             0.8888888888888888,
             "#fdca26"
            ],
            [
             1,
             "#f0f921"
            ]
           ],
           "sequentialminus": [
            [
             0,
             "#0d0887"
            ],
            [
             0.1111111111111111,
             "#46039f"
            ],
            [
             0.2222222222222222,
             "#7201a8"
            ],
            [
             0.3333333333333333,
             "#9c179e"
            ],
            [
             0.4444444444444444,
             "#bd3786"
            ],
            [
             0.5555555555555556,
             "#d8576b"
            ],
            [
             0.6666666666666666,
             "#ed7953"
            ],
            [
             0.7777777777777778,
             "#fb9f3a"
            ],
            [
             0.8888888888888888,
             "#fdca26"
            ],
            [
             1,
             "#f0f921"
            ]
           ]
          },
          "colorway": [
           "#636efa",
           "#EF553B",
           "#00cc96",
           "#ab63fa",
           "#FFA15A",
           "#19d3f3",
           "#FF6692",
           "#B6E880",
           "#FF97FF",
           "#FECB52"
          ],
          "font": {
           "color": "#2a3f5f"
          },
          "geo": {
           "bgcolor": "white",
           "lakecolor": "white",
           "landcolor": "#E5ECF6",
           "showlakes": true,
           "showland": true,
           "subunitcolor": "white"
          },
          "hoverlabel": {
           "align": "left"
          },
          "hovermode": "closest",
          "mapbox": {
           "style": "light"
          },
          "paper_bgcolor": "white",
          "plot_bgcolor": "#E5ECF6",
          "polar": {
           "angularaxis": {
            "gridcolor": "white",
            "linecolor": "white",
            "ticks": ""
           },
           "bgcolor": "#E5ECF6",
           "radialaxis": {
            "gridcolor": "white",
            "linecolor": "white",
            "ticks": ""
           }
          },
          "scene": {
           "xaxis": {
            "backgroundcolor": "#E5ECF6",
            "gridcolor": "white",
            "gridwidth": 2,
            "linecolor": "white",
            "showbackground": true,
            "ticks": "",
            "zerolinecolor": "white"
           },
           "yaxis": {
            "backgroundcolor": "#E5ECF6",
            "gridcolor": "white",
            "gridwidth": 2,
            "linecolor": "white",
            "showbackground": true,
            "ticks": "",
            "zerolinecolor": "white"
           },
           "zaxis": {
            "backgroundcolor": "#E5ECF6",
            "gridcolor": "white",
            "gridwidth": 2,
            "linecolor": "white",
            "showbackground": true,
            "ticks": "",
            "zerolinecolor": "white"
           }
          },
          "shapedefaults": {
           "line": {
            "color": "#2a3f5f"
           }
          },
          "ternary": {
           "aaxis": {
            "gridcolor": "white",
            "linecolor": "white",
            "ticks": ""
           },
           "baxis": {
            "gridcolor": "white",
            "linecolor": "white",
            "ticks": ""
           },
           "bgcolor": "#E5ECF6",
           "caxis": {
            "gridcolor": "white",
            "linecolor": "white",
            "ticks": ""
           }
          },
          "title": {
           "x": 0.05
          },
          "xaxis": {
           "automargin": true,
           "gridcolor": "white",
           "linecolor": "white",
           "ticks": "",
           "title": {
            "standoff": 15
           },
           "zerolinecolor": "white",
           "zerolinewidth": 2
          },
          "yaxis": {
           "automargin": true,
           "gridcolor": "white",
           "linecolor": "white",
           "ticks": "",
           "title": {
            "standoff": 15
           },
           "zerolinecolor": "white",
           "zerolinewidth": 2
          }
         }
        },
        "title": {
         "text": "Total vs Mean Defenders Passed on the Pass by Team",
         "x": 0.5
        },
        "width": 800,
        "xaxis": {
         "anchor": "y",
         "domain": [
          0,
          1
         ],
         "title": {
          "text": "Mean"
         }
        },
        "yaxis": {
         "anchor": "x",
         "domain": [
          0,
          1
         ],
         "title": {
          "text": "Total"
         }
        }
       }
      }
     },
     "metadata": {},
     "output_type": "display_data"
    },
    {
     "data": {
      "application/vnd.plotly.v1+json": {
       "config": {
        "plotlyServerURL": "https://plot.ly"
       },
       "data": [
        {
         "hovertemplate": "x=%{x}<br>y=%{y}<br>text=%{text}<extra></extra>",
         "legendgroup": "",
         "marker": {
          "color": "#636efa",
          "symbol": "circle"
         },
         "mode": "markers+text",
         "name": "",
         "orientation": "v",
         "showlegend": false,
         "text": [
          "Boston Celtics",
          "Dallas Mavericks",
          "Golden State Warriors",
          "Miami Heat"
         ],
         "textposition": "top center",
         "type": "scatter",
         "x": [
          0.4701086956521739,
          0.46153846153846156,
          0.5554272517321016,
          0.6487025948103793
         ],
         "xaxis": "x",
         "y": [
          519,
          180,
          481,
          325
         ],
         "yaxis": "y"
        }
       ],
       "layout": {
        "height": 500,
        "legend": {
         "tracegroupgap": 0
        },
        "margin": {
         "t": 60
        },
        "template": {
         "data": {
          "bar": [
           {
            "error_x": {
             "color": "#2a3f5f"
            },
            "error_y": {
             "color": "#2a3f5f"
            },
            "marker": {
             "line": {
              "color": "#E5ECF6",
              "width": 0.5
             },
             "pattern": {
              "fillmode": "overlay",
              "size": 10,
              "solidity": 0.2
             }
            },
            "type": "bar"
           }
          ],
          "barpolar": [
           {
            "marker": {
             "line": {
              "color": "#E5ECF6",
              "width": 0.5
             },
             "pattern": {
              "fillmode": "overlay",
              "size": 10,
              "solidity": 0.2
             }
            },
            "type": "barpolar"
           }
          ],
          "carpet": [
           {
            "aaxis": {
             "endlinecolor": "#2a3f5f",
             "gridcolor": "white",
             "linecolor": "white",
             "minorgridcolor": "white",
             "startlinecolor": "#2a3f5f"
            },
            "baxis": {
             "endlinecolor": "#2a3f5f",
             "gridcolor": "white",
             "linecolor": "white",
             "minorgridcolor": "white",
             "startlinecolor": "#2a3f5f"
            },
            "type": "carpet"
           }
          ],
          "choropleth": [
           {
            "colorbar": {
             "outlinewidth": 0,
             "ticks": ""
            },
            "type": "choropleth"
           }
          ],
          "contour": [
           {
            "colorbar": {
             "outlinewidth": 0,
             "ticks": ""
            },
            "colorscale": [
             [
              0,
              "#0d0887"
             ],
             [
              0.1111111111111111,
              "#46039f"
             ],
             [
              0.2222222222222222,
              "#7201a8"
             ],
             [
              0.3333333333333333,
              "#9c179e"
             ],
             [
              0.4444444444444444,
              "#bd3786"
             ],
             [
              0.5555555555555556,
              "#d8576b"
             ],
             [
              0.6666666666666666,
              "#ed7953"
             ],
             [
              0.7777777777777778,
              "#fb9f3a"
             ],
             [
              0.8888888888888888,
              "#fdca26"
             ],
             [
              1,
              "#f0f921"
             ]
            ],
            "type": "contour"
           }
          ],
          "contourcarpet": [
           {
            "colorbar": {
             "outlinewidth": 0,
             "ticks": ""
            },
            "type": "contourcarpet"
           }
          ],
          "heatmap": [
           {
            "colorbar": {
             "outlinewidth": 0,
             "ticks": ""
            },
            "colorscale": [
             [
              0,
              "#0d0887"
             ],
             [
              0.1111111111111111,
              "#46039f"
             ],
             [
              0.2222222222222222,
              "#7201a8"
             ],
             [
              0.3333333333333333,
              "#9c179e"
             ],
             [
              0.4444444444444444,
              "#bd3786"
             ],
             [
              0.5555555555555556,
              "#d8576b"
             ],
             [
              0.6666666666666666,
              "#ed7953"
             ],
             [
              0.7777777777777778,
              "#fb9f3a"
             ],
             [
              0.8888888888888888,
              "#fdca26"
             ],
             [
              1,
              "#f0f921"
             ]
            ],
            "type": "heatmap"
           }
          ],
          "heatmapgl": [
           {
            "colorbar": {
             "outlinewidth": 0,
             "ticks": ""
            },
            "colorscale": [
             [
              0,
              "#0d0887"
             ],
             [
              0.1111111111111111,
              "#46039f"
             ],
             [
              0.2222222222222222,
              "#7201a8"
             ],
             [
              0.3333333333333333,
              "#9c179e"
             ],
             [
              0.4444444444444444,
              "#bd3786"
             ],
             [
              0.5555555555555556,
              "#d8576b"
             ],
             [
              0.6666666666666666,
              "#ed7953"
             ],
             [
              0.7777777777777778,
              "#fb9f3a"
             ],
             [
              0.8888888888888888,
              "#fdca26"
             ],
             [
              1,
              "#f0f921"
             ]
            ],
            "type": "heatmapgl"
           }
          ],
          "histogram": [
           {
            "marker": {
             "pattern": {
              "fillmode": "overlay",
              "size": 10,
              "solidity": 0.2
             }
            },
            "type": "histogram"
           }
          ],
          "histogram2d": [
           {
            "colorbar": {
             "outlinewidth": 0,
             "ticks": ""
            },
            "colorscale": [
             [
              0,
              "#0d0887"
             ],
             [
              0.1111111111111111,
              "#46039f"
             ],
             [
              0.2222222222222222,
              "#7201a8"
             ],
             [
              0.3333333333333333,
              "#9c179e"
             ],
             [
              0.4444444444444444,
              "#bd3786"
             ],
             [
              0.5555555555555556,
              "#d8576b"
             ],
             [
              0.6666666666666666,
              "#ed7953"
             ],
             [
              0.7777777777777778,
              "#fb9f3a"
             ],
             [
              0.8888888888888888,
              "#fdca26"
             ],
             [
              1,
              "#f0f921"
             ]
            ],
            "type": "histogram2d"
           }
          ],
          "histogram2dcontour": [
           {
            "colorbar": {
             "outlinewidth": 0,
             "ticks": ""
            },
            "colorscale": [
             [
              0,
              "#0d0887"
             ],
             [
              0.1111111111111111,
              "#46039f"
             ],
             [
              0.2222222222222222,
              "#7201a8"
             ],
             [
              0.3333333333333333,
              "#9c179e"
             ],
             [
              0.4444444444444444,
              "#bd3786"
             ],
             [
              0.5555555555555556,
              "#d8576b"
             ],
             [
              0.6666666666666666,
              "#ed7953"
             ],
             [
              0.7777777777777778,
              "#fb9f3a"
             ],
             [
              0.8888888888888888,
              "#fdca26"
             ],
             [
              1,
              "#f0f921"
             ]
            ],
            "type": "histogram2dcontour"
           }
          ],
          "mesh3d": [
           {
            "colorbar": {
             "outlinewidth": 0,
             "ticks": ""
            },
            "type": "mesh3d"
           }
          ],
          "parcoords": [
           {
            "line": {
             "colorbar": {
              "outlinewidth": 0,
              "ticks": ""
             }
            },
            "type": "parcoords"
           }
          ],
          "pie": [
           {
            "automargin": true,
            "type": "pie"
           }
          ],
          "scatter": [
           {
            "fillpattern": {
             "fillmode": "overlay",
             "size": 10,
             "solidity": 0.2
            },
            "type": "scatter"
           }
          ],
          "scatter3d": [
           {
            "line": {
             "colorbar": {
              "outlinewidth": 0,
              "ticks": ""
             }
            },
            "marker": {
             "colorbar": {
              "outlinewidth": 0,
              "ticks": ""
             }
            },
            "type": "scatter3d"
           }
          ],
          "scattercarpet": [
           {
            "marker": {
             "colorbar": {
              "outlinewidth": 0,
              "ticks": ""
             }
            },
            "type": "scattercarpet"
           }
          ],
          "scattergeo": [
           {
            "marker": {
             "colorbar": {
              "outlinewidth": 0,
              "ticks": ""
             }
            },
            "type": "scattergeo"
           }
          ],
          "scattergl": [
           {
            "marker": {
             "colorbar": {
              "outlinewidth": 0,
              "ticks": ""
             }
            },
            "type": "scattergl"
           }
          ],
          "scattermapbox": [
           {
            "marker": {
             "colorbar": {
              "outlinewidth": 0,
              "ticks": ""
             }
            },
            "type": "scattermapbox"
           }
          ],
          "scatterpolar": [
           {
            "marker": {
             "colorbar": {
              "outlinewidth": 0,
              "ticks": ""
             }
            },
            "type": "scatterpolar"
           }
          ],
          "scatterpolargl": [
           {
            "marker": {
             "colorbar": {
              "outlinewidth": 0,
              "ticks": ""
             }
            },
            "type": "scatterpolargl"
           }
          ],
          "scatterternary": [
           {
            "marker": {
             "colorbar": {
              "outlinewidth": 0,
              "ticks": ""
             }
            },
            "type": "scatterternary"
           }
          ],
          "surface": [
           {
            "colorbar": {
             "outlinewidth": 0,
             "ticks": ""
            },
            "colorscale": [
             [
              0,
              "#0d0887"
             ],
             [
              0.1111111111111111,
              "#46039f"
             ],
             [
              0.2222222222222222,
              "#7201a8"
             ],
             [
              0.3333333333333333,
              "#9c179e"
             ],
             [
              0.4444444444444444,
              "#bd3786"
             ],
             [
              0.5555555555555556,
              "#d8576b"
             ],
             [
              0.6666666666666666,
              "#ed7953"
             ],
             [
              0.7777777777777778,
              "#fb9f3a"
             ],
             [
              0.8888888888888888,
              "#fdca26"
             ],
             [
              1,
              "#f0f921"
             ]
            ],
            "type": "surface"
           }
          ],
          "table": [
           {
            "cells": {
             "fill": {
              "color": "#EBF0F8"
             },
             "line": {
              "color": "white"
             }
            },
            "header": {
             "fill": {
              "color": "#C8D4E3"
             },
             "line": {
              "color": "white"
             }
            },
            "type": "table"
           }
          ]
         },
         "layout": {
          "annotationdefaults": {
           "arrowcolor": "#2a3f5f",
           "arrowhead": 0,
           "arrowwidth": 1
          },
          "autotypenumbers": "strict",
          "coloraxis": {
           "colorbar": {
            "outlinewidth": 0,
            "ticks": ""
           }
          },
          "colorscale": {
           "diverging": [
            [
             0,
             "#8e0152"
            ],
            [
             0.1,
             "#c51b7d"
            ],
            [
             0.2,
             "#de77ae"
            ],
            [
             0.3,
             "#f1b6da"
            ],
            [
             0.4,
             "#fde0ef"
            ],
            [
             0.5,
             "#f7f7f7"
            ],
            [
             0.6,
             "#e6f5d0"
            ],
            [
             0.7,
             "#b8e186"
            ],
            [
             0.8,
             "#7fbc41"
            ],
            [
             0.9,
             "#4d9221"
            ],
            [
             1,
             "#276419"
            ]
           ],
           "sequential": [
            [
             0,
             "#0d0887"
            ],
            [
             0.1111111111111111,
             "#46039f"
            ],
            [
             0.2222222222222222,
             "#7201a8"
            ],
            [
             0.3333333333333333,
             "#9c179e"
            ],
            [
             0.4444444444444444,
             "#bd3786"
            ],
            [
             0.5555555555555556,
             "#d8576b"
            ],
            [
             0.6666666666666666,
             "#ed7953"
            ],
            [
             0.7777777777777778,
             "#fb9f3a"
            ],
            [
             0.8888888888888888,
             "#fdca26"
            ],
            [
             1,
             "#f0f921"
            ]
           ],
           "sequentialminus": [
            [
             0,
             "#0d0887"
            ],
            [
             0.1111111111111111,
             "#46039f"
            ],
            [
             0.2222222222222222,
             "#7201a8"
            ],
            [
             0.3333333333333333,
             "#9c179e"
            ],
            [
             0.4444444444444444,
             "#bd3786"
            ],
            [
             0.5555555555555556,
             "#d8576b"
            ],
            [
             0.6666666666666666,
             "#ed7953"
            ],
            [
             0.7777777777777778,
             "#fb9f3a"
            ],
            [
             0.8888888888888888,
             "#fdca26"
            ],
            [
             1,
             "#f0f921"
            ]
           ]
          },
          "colorway": [
           "#636efa",
           "#EF553B",
           "#00cc96",
           "#ab63fa",
           "#FFA15A",
           "#19d3f3",
           "#FF6692",
           "#B6E880",
           "#FF97FF",
           "#FECB52"
          ],
          "font": {
           "color": "#2a3f5f"
          },
          "geo": {
           "bgcolor": "white",
           "lakecolor": "white",
           "landcolor": "#E5ECF6",
           "showlakes": true,
           "showland": true,
           "subunitcolor": "white"
          },
          "hoverlabel": {
           "align": "left"
          },
          "hovermode": "closest",
          "mapbox": {
           "style": "light"
          },
          "paper_bgcolor": "white",
          "plot_bgcolor": "#E5ECF6",
          "polar": {
           "angularaxis": {
            "gridcolor": "white",
            "linecolor": "white",
            "ticks": ""
           },
           "bgcolor": "#E5ECF6",
           "radialaxis": {
            "gridcolor": "white",
            "linecolor": "white",
            "ticks": ""
           }
          },
          "scene": {
           "xaxis": {
            "backgroundcolor": "#E5ECF6",
            "gridcolor": "white",
            "gridwidth": 2,
            "linecolor": "white",
            "showbackground": true,
            "ticks": "",
            "zerolinecolor": "white"
           },
           "yaxis": {
            "backgroundcolor": "#E5ECF6",
            "gridcolor": "white",
            "gridwidth": 2,
            "linecolor": "white",
            "showbackground": true,
            "ticks": "",
            "zerolinecolor": "white"
           },
           "zaxis": {
            "backgroundcolor": "#E5ECF6",
            "gridcolor": "white",
            "gridwidth": 2,
            "linecolor": "white",
            "showbackground": true,
            "ticks": "",
            "zerolinecolor": "white"
           }
          },
          "shapedefaults": {
           "line": {
            "color": "#2a3f5f"
           }
          },
          "ternary": {
           "aaxis": {
            "gridcolor": "white",
            "linecolor": "white",
            "ticks": ""
           },
           "baxis": {
            "gridcolor": "white",
            "linecolor": "white",
            "ticks": ""
           },
           "bgcolor": "#E5ECF6",
           "caxis": {
            "gridcolor": "white",
            "linecolor": "white",
            "ticks": ""
           }
          },
          "title": {
           "x": 0.05
          },
          "xaxis": {
           "automargin": true,
           "gridcolor": "white",
           "linecolor": "white",
           "ticks": "",
           "title": {
            "standoff": 15
           },
           "zerolinecolor": "white",
           "zerolinewidth": 2
          },
          "yaxis": {
           "automargin": true,
           "gridcolor": "white",
           "linecolor": "white",
           "ticks": "",
           "title": {
            "standoff": 15
           },
           "zerolinecolor": "white",
           "zerolinewidth": 2
          }
         }
        },
        "title": {
         "text": "Total vs Mean Defenders Passed on the Drive by Team",
         "x": 0.5
        },
        "width": 800,
        "xaxis": {
         "anchor": "y",
         "domain": [
          0,
          1
         ],
         "title": {
          "text": "Mean"
         }
        },
        "yaxis": {
         "anchor": "x",
         "domain": [
          0,
          1
         ],
         "title": {
          "text": "Total"
         }
        }
       }
      }
     },
     "metadata": {},
     "output_type": "display_data"
    }
   ],
   "source": [
    "fig = px.scatter(x = def_passed_means_team.values, y = def_passed_sums_team.values, text = def_passed_sums_team.index)\n",
    "fig.update_layout(width=800, height=500,  \n",
    "                  title='Total vs Mean Defenders Passed on the Pass by Team', title_x=0.5,\n",
    "                  xaxis_title=\"Mean\", yaxis_title='Total') #template='plotly_dark',\n",
    "fig.update_traces(textposition='top center')\n",
    "#fig.update_traces(textfont_size=11, marker=dict(size=10), textposition=improve_text_position(df['reb']))\n",
    "fig.show()\n",
    "\n",
    "fig = px.scatter(x = def_drive_means_team.values, y = def_drive_sums_team.values, text = def_drive_sums_team.index)\n",
    "fig.update_layout(width=800, height=500,  \n",
    "                  title='Total vs Mean Defenders Passed on the Drive by Team', title_x=0.5,\n",
    "                  xaxis_title=\"Mean\", yaxis_title='Total') #template='plotly_dark',\n",
    "fig.update_traces(textposition='top center')\n",
    "#fig.update_traces(textfont_size=11, marker=dict(size=10), textposition=improve_text_position(df['reb']))\n",
    "fig.show()"
   ]
  },
  {
   "cell_type": "code",
   "execution_count": 29,
   "metadata": {},
   "outputs": [
    {
     "data": {
      "application/vnd.plotly.v1+json": {
       "config": {
        "plotlyServerURL": "https://plot.ly"
       },
       "data": [
        {
         "hovertemplate": "x=%{x}<br>y=%{y}<br>text=%{text}<extra></extra>",
         "legendgroup": "",
         "marker": {
          "color": "#636efa",
          "symbol": "circle"
         },
         "mode": "markers+text",
         "name": "",
         "orientation": "v",
         "showlegend": false,
         "text": [
          "Boston Celtics",
          "Dallas Mavericks",
          "Golden State Warriors",
          "Miami Heat"
         ],
         "textposition": "top center",
         "type": "scatter",
         "x": [
          0.3730834752981261,
          0.23737373737373738,
          0.3995459704880817,
          0.33267716535433073
         ],
         "xaxis": "x",
         "y": [
          1174,
          396,
          881,
          508
         ],
         "yaxis": "y"
        }
       ],
       "layout": {
        "height": 500,
        "legend": {
         "tracegroupgap": 0
        },
        "margin": {
         "t": 60
        },
        "template": {
         "data": {
          "bar": [
           {
            "error_x": {
             "color": "#2a3f5f"
            },
            "error_y": {
             "color": "#2a3f5f"
            },
            "marker": {
             "line": {
              "color": "#E5ECF6",
              "width": 0.5
             },
             "pattern": {
              "fillmode": "overlay",
              "size": 10,
              "solidity": 0.2
             }
            },
            "type": "bar"
           }
          ],
          "barpolar": [
           {
            "marker": {
             "line": {
              "color": "#E5ECF6",
              "width": 0.5
             },
             "pattern": {
              "fillmode": "overlay",
              "size": 10,
              "solidity": 0.2
             }
            },
            "type": "barpolar"
           }
          ],
          "carpet": [
           {
            "aaxis": {
             "endlinecolor": "#2a3f5f",
             "gridcolor": "white",
             "linecolor": "white",
             "minorgridcolor": "white",
             "startlinecolor": "#2a3f5f"
            },
            "baxis": {
             "endlinecolor": "#2a3f5f",
             "gridcolor": "white",
             "linecolor": "white",
             "minorgridcolor": "white",
             "startlinecolor": "#2a3f5f"
            },
            "type": "carpet"
           }
          ],
          "choropleth": [
           {
            "colorbar": {
             "outlinewidth": 0,
             "ticks": ""
            },
            "type": "choropleth"
           }
          ],
          "contour": [
           {
            "colorbar": {
             "outlinewidth": 0,
             "ticks": ""
            },
            "colorscale": [
             [
              0,
              "#0d0887"
             ],
             [
              0.1111111111111111,
              "#46039f"
             ],
             [
              0.2222222222222222,
              "#7201a8"
             ],
             [
              0.3333333333333333,
              "#9c179e"
             ],
             [
              0.4444444444444444,
              "#bd3786"
             ],
             [
              0.5555555555555556,
              "#d8576b"
             ],
             [
              0.6666666666666666,
              "#ed7953"
             ],
             [
              0.7777777777777778,
              "#fb9f3a"
             ],
             [
              0.8888888888888888,
              "#fdca26"
             ],
             [
              1,
              "#f0f921"
             ]
            ],
            "type": "contour"
           }
          ],
          "contourcarpet": [
           {
            "colorbar": {
             "outlinewidth": 0,
             "ticks": ""
            },
            "type": "contourcarpet"
           }
          ],
          "heatmap": [
           {
            "colorbar": {
             "outlinewidth": 0,
             "ticks": ""
            },
            "colorscale": [
             [
              0,
              "#0d0887"
             ],
             [
              0.1111111111111111,
              "#46039f"
             ],
             [
              0.2222222222222222,
              "#7201a8"
             ],
             [
              0.3333333333333333,
              "#9c179e"
             ],
             [
              0.4444444444444444,
              "#bd3786"
             ],
             [
              0.5555555555555556,
              "#d8576b"
             ],
             [
              0.6666666666666666,
              "#ed7953"
             ],
             [
              0.7777777777777778,
              "#fb9f3a"
             ],
             [
              0.8888888888888888,
              "#fdca26"
             ],
             [
              1,
              "#f0f921"
             ]
            ],
            "type": "heatmap"
           }
          ],
          "heatmapgl": [
           {
            "colorbar": {
             "outlinewidth": 0,
             "ticks": ""
            },
            "colorscale": [
             [
              0,
              "#0d0887"
             ],
             [
              0.1111111111111111,
              "#46039f"
             ],
             [
              0.2222222222222222,
              "#7201a8"
             ],
             [
              0.3333333333333333,
              "#9c179e"
             ],
             [
              0.4444444444444444,
              "#bd3786"
             ],
             [
              0.5555555555555556,
              "#d8576b"
             ],
             [
              0.6666666666666666,
              "#ed7953"
             ],
             [
              0.7777777777777778,
              "#fb9f3a"
             ],
             [
              0.8888888888888888,
              "#fdca26"
             ],
             [
              1,
              "#f0f921"
             ]
            ],
            "type": "heatmapgl"
           }
          ],
          "histogram": [
           {
            "marker": {
             "pattern": {
              "fillmode": "overlay",
              "size": 10,
              "solidity": 0.2
             }
            },
            "type": "histogram"
           }
          ],
          "histogram2d": [
           {
            "colorbar": {
             "outlinewidth": 0,
             "ticks": ""
            },
            "colorscale": [
             [
              0,
              "#0d0887"
             ],
             [
              0.1111111111111111,
              "#46039f"
             ],
             [
              0.2222222222222222,
              "#7201a8"
             ],
             [
              0.3333333333333333,
              "#9c179e"
             ],
             [
              0.4444444444444444,
              "#bd3786"
             ],
             [
              0.5555555555555556,
              "#d8576b"
             ],
             [
              0.6666666666666666,
              "#ed7953"
             ],
             [
              0.7777777777777778,
              "#fb9f3a"
             ],
             [
              0.8888888888888888,
              "#fdca26"
             ],
             [
              1,
              "#f0f921"
             ]
            ],
            "type": "histogram2d"
           }
          ],
          "histogram2dcontour": [
           {
            "colorbar": {
             "outlinewidth": 0,
             "ticks": ""
            },
            "colorscale": [
             [
              0,
              "#0d0887"
             ],
             [
              0.1111111111111111,
              "#46039f"
             ],
             [
              0.2222222222222222,
              "#7201a8"
             ],
             [
              0.3333333333333333,
              "#9c179e"
             ],
             [
              0.4444444444444444,
              "#bd3786"
             ],
             [
              0.5555555555555556,
              "#d8576b"
             ],
             [
              0.6666666666666666,
              "#ed7953"
             ],
             [
              0.7777777777777778,
              "#fb9f3a"
             ],
             [
              0.8888888888888888,
              "#fdca26"
             ],
             [
              1,
              "#f0f921"
             ]
            ],
            "type": "histogram2dcontour"
           }
          ],
          "mesh3d": [
           {
            "colorbar": {
             "outlinewidth": 0,
             "ticks": ""
            },
            "type": "mesh3d"
           }
          ],
          "parcoords": [
           {
            "line": {
             "colorbar": {
              "outlinewidth": 0,
              "ticks": ""
             }
            },
            "type": "parcoords"
           }
          ],
          "pie": [
           {
            "automargin": true,
            "type": "pie"
           }
          ],
          "scatter": [
           {
            "fillpattern": {
             "fillmode": "overlay",
             "size": 10,
             "solidity": 0.2
            },
            "type": "scatter"
           }
          ],
          "scatter3d": [
           {
            "line": {
             "colorbar": {
              "outlinewidth": 0,
              "ticks": ""
             }
            },
            "marker": {
             "colorbar": {
              "outlinewidth": 0,
              "ticks": ""
             }
            },
            "type": "scatter3d"
           }
          ],
          "scattercarpet": [
           {
            "marker": {
             "colorbar": {
              "outlinewidth": 0,
              "ticks": ""
             }
            },
            "type": "scattercarpet"
           }
          ],
          "scattergeo": [
           {
            "marker": {
             "colorbar": {
              "outlinewidth": 0,
              "ticks": ""
             }
            },
            "type": "scattergeo"
           }
          ],
          "scattergl": [
           {
            "marker": {
             "colorbar": {
              "outlinewidth": 0,
              "ticks": ""
             }
            },
            "type": "scattergl"
           }
          ],
          "scattermapbox": [
           {
            "marker": {
             "colorbar": {
              "outlinewidth": 0,
              "ticks": ""
             }
            },
            "type": "scattermapbox"
           }
          ],
          "scatterpolar": [
           {
            "marker": {
             "colorbar": {
              "outlinewidth": 0,
              "ticks": ""
             }
            },
            "type": "scatterpolar"
           }
          ],
          "scatterpolargl": [
           {
            "marker": {
             "colorbar": {
              "outlinewidth": 0,
              "ticks": ""
             }
            },
            "type": "scatterpolargl"
           }
          ],
          "scatterternary": [
           {
            "marker": {
             "colorbar": {
              "outlinewidth": 0,
              "ticks": ""
             }
            },
            "type": "scatterternary"
           }
          ],
          "surface": [
           {
            "colorbar": {
             "outlinewidth": 0,
             "ticks": ""
            },
            "colorscale": [
             [
              0,
              "#0d0887"
             ],
             [
              0.1111111111111111,
              "#46039f"
             ],
             [
              0.2222222222222222,
              "#7201a8"
             ],
             [
              0.3333333333333333,
              "#9c179e"
             ],
             [
              0.4444444444444444,
              "#bd3786"
             ],
             [
              0.5555555555555556,
              "#d8576b"
             ],
             [
              0.6666666666666666,
              "#ed7953"
             ],
             [
              0.7777777777777778,
              "#fb9f3a"
             ],
             [
              0.8888888888888888,
              "#fdca26"
             ],
             [
              1,
              "#f0f921"
             ]
            ],
            "type": "surface"
           }
          ],
          "table": [
           {
            "cells": {
             "fill": {
              "color": "#EBF0F8"
             },
             "line": {
              "color": "white"
             }
            },
            "header": {
             "fill": {
              "color": "#C8D4E3"
             },
             "line": {
              "color": "white"
             }
            },
            "type": "table"
           }
          ]
         },
         "layout": {
          "annotationdefaults": {
           "arrowcolor": "#2a3f5f",
           "arrowhead": 0,
           "arrowwidth": 1
          },
          "autotypenumbers": "strict",
          "coloraxis": {
           "colorbar": {
            "outlinewidth": 0,
            "ticks": ""
           }
          },
          "colorscale": {
           "diverging": [
            [
             0,
             "#8e0152"
            ],
            [
             0.1,
             "#c51b7d"
            ],
            [
             0.2,
             "#de77ae"
            ],
            [
             0.3,
             "#f1b6da"
            ],
            [
             0.4,
             "#fde0ef"
            ],
            [
             0.5,
             "#f7f7f7"
            ],
            [
             0.6,
             "#e6f5d0"
            ],
            [
             0.7,
             "#b8e186"
            ],
            [
             0.8,
             "#7fbc41"
            ],
            [
             0.9,
             "#4d9221"
            ],
            [
             1,
             "#276419"
            ]
           ],
           "sequential": [
            [
             0,
             "#0d0887"
            ],
            [
             0.1111111111111111,
             "#46039f"
            ],
            [
             0.2222222222222222,
             "#7201a8"
            ],
            [
             0.3333333333333333,
             "#9c179e"
            ],
            [
             0.4444444444444444,
             "#bd3786"
            ],
            [
             0.5555555555555556,
             "#d8576b"
            ],
            [
             0.6666666666666666,
             "#ed7953"
            ],
            [
             0.7777777777777778,
             "#fb9f3a"
            ],
            [
             0.8888888888888888,
             "#fdca26"
            ],
            [
             1,
             "#f0f921"
            ]
           ],
           "sequentialminus": [
            [
             0,
             "#0d0887"
            ],
            [
             0.1111111111111111,
             "#46039f"
            ],
            [
             0.2222222222222222,
             "#7201a8"
            ],
            [
             0.3333333333333333,
             "#9c179e"
            ],
            [
             0.4444444444444444,
             "#bd3786"
            ],
            [
             0.5555555555555556,
             "#d8576b"
            ],
            [
             0.6666666666666666,
             "#ed7953"
            ],
            [
             0.7777777777777778,
             "#fb9f3a"
            ],
            [
             0.8888888888888888,
             "#fdca26"
            ],
            [
             1,
             "#f0f921"
            ]
           ]
          },
          "colorway": [
           "#636efa",
           "#EF553B",
           "#00cc96",
           "#ab63fa",
           "#FFA15A",
           "#19d3f3",
           "#FF6692",
           "#B6E880",
           "#FF97FF",
           "#FECB52"
          ],
          "font": {
           "color": "#2a3f5f"
          },
          "geo": {
           "bgcolor": "white",
           "lakecolor": "white",
           "landcolor": "#E5ECF6",
           "showlakes": true,
           "showland": true,
           "subunitcolor": "white"
          },
          "hoverlabel": {
           "align": "left"
          },
          "hovermode": "closest",
          "mapbox": {
           "style": "light"
          },
          "paper_bgcolor": "white",
          "plot_bgcolor": "#E5ECF6",
          "polar": {
           "angularaxis": {
            "gridcolor": "white",
            "linecolor": "white",
            "ticks": ""
           },
           "bgcolor": "#E5ECF6",
           "radialaxis": {
            "gridcolor": "white",
            "linecolor": "white",
            "ticks": ""
           }
          },
          "scene": {
           "xaxis": {
            "backgroundcolor": "#E5ECF6",
            "gridcolor": "white",
            "gridwidth": 2,
            "linecolor": "white",
            "showbackground": true,
            "ticks": "",
            "zerolinecolor": "white"
           },
           "yaxis": {
            "backgroundcolor": "#E5ECF6",
            "gridcolor": "white",
            "gridwidth": 2,
            "linecolor": "white",
            "showbackground": true,
            "ticks": "",
            "zerolinecolor": "white"
           },
           "zaxis": {
            "backgroundcolor": "#E5ECF6",
            "gridcolor": "white",
            "gridwidth": 2,
            "linecolor": "white",
            "showbackground": true,
            "ticks": "",
            "zerolinecolor": "white"
           }
          },
          "shapedefaults": {
           "line": {
            "color": "#2a3f5f"
           }
          },
          "ternary": {
           "aaxis": {
            "gridcolor": "white",
            "linecolor": "white",
            "ticks": ""
           },
           "baxis": {
            "gridcolor": "white",
            "linecolor": "white",
            "ticks": ""
           },
           "bgcolor": "#E5ECF6",
           "caxis": {
            "gridcolor": "white",
            "linecolor": "white",
            "ticks": ""
           }
          },
          "title": {
           "x": 0.05
          },
          "xaxis": {
           "automargin": true,
           "gridcolor": "white",
           "linecolor": "white",
           "ticks": "",
           "title": {
            "standoff": 15
           },
           "zerolinecolor": "white",
           "zerolinewidth": 2
          },
          "yaxis": {
           "automargin": true,
           "gridcolor": "white",
           "linecolor": "white",
           "ticks": "",
           "title": {
            "standoff": 15
           },
           "zerolinecolor": "white",
           "zerolinewidth": 2
          }
         }
        },
        "title": {
         "text": "Number of Passes vs Mean Defenders Passed on the Pass by Team",
         "x": 0.5
        },
        "width": 800,
        "xaxis": {
         "anchor": "y",
         "domain": [
          0,
          1
         ],
         "title": {
          "text": "Mean Defenders Passed"
         }
        },
        "yaxis": {
         "anchor": "x",
         "domain": [
          0,
          1
         ],
         "title": {
          "text": "Total Number of Passes"
         }
        }
       }
      }
     },
     "metadata": {},
     "output_type": "display_data"
    },
    {
     "data": {
      "application/vnd.plotly.v1+json": {
       "config": {
        "plotlyServerURL": "https://plot.ly"
       },
       "data": [
        {
         "hovertemplate": "x=%{x}<br>y=%{y}<br>text=%{text}<extra></extra>",
         "legendgroup": "",
         "marker": {
          "color": "#636efa",
          "symbol": "circle"
         },
         "mode": "markers+text",
         "name": "",
         "orientation": "v",
         "showlegend": false,
         "text": [
          "Boston Celtics",
          "Dallas Mavericks",
          "Golden State Warriors",
          "Miami Heat"
         ],
         "textposition": "top center",
         "type": "scatter",
         "x": [
          0.4701086956521739,
          0.46153846153846156,
          0.5554272517321016,
          0.6487025948103793
         ],
         "xaxis": "x",
         "y": [
          1104,
          390,
          866,
          501
         ],
         "yaxis": "y"
        }
       ],
       "layout": {
        "height": 500,
        "legend": {
         "tracegroupgap": 0
        },
        "margin": {
         "t": 60
        },
        "template": {
         "data": {
          "bar": [
           {
            "error_x": {
             "color": "#2a3f5f"
            },
            "error_y": {
             "color": "#2a3f5f"
            },
            "marker": {
             "line": {
              "color": "#E5ECF6",
              "width": 0.5
             },
             "pattern": {
              "fillmode": "overlay",
              "size": 10,
              "solidity": 0.2
             }
            },
            "type": "bar"
           }
          ],
          "barpolar": [
           {
            "marker": {
             "line": {
              "color": "#E5ECF6",
              "width": 0.5
             },
             "pattern": {
              "fillmode": "overlay",
              "size": 10,
              "solidity": 0.2
             }
            },
            "type": "barpolar"
           }
          ],
          "carpet": [
           {
            "aaxis": {
             "endlinecolor": "#2a3f5f",
             "gridcolor": "white",
             "linecolor": "white",
             "minorgridcolor": "white",
             "startlinecolor": "#2a3f5f"
            },
            "baxis": {
             "endlinecolor": "#2a3f5f",
             "gridcolor": "white",
             "linecolor": "white",
             "minorgridcolor": "white",
             "startlinecolor": "#2a3f5f"
            },
            "type": "carpet"
           }
          ],
          "choropleth": [
           {
            "colorbar": {
             "outlinewidth": 0,
             "ticks": ""
            },
            "type": "choropleth"
           }
          ],
          "contour": [
           {
            "colorbar": {
             "outlinewidth": 0,
             "ticks": ""
            },
            "colorscale": [
             [
              0,
              "#0d0887"
             ],
             [
              0.1111111111111111,
              "#46039f"
             ],
             [
              0.2222222222222222,
              "#7201a8"
             ],
             [
              0.3333333333333333,
              "#9c179e"
             ],
             [
              0.4444444444444444,
              "#bd3786"
             ],
             [
              0.5555555555555556,
              "#d8576b"
             ],
             [
              0.6666666666666666,
              "#ed7953"
             ],
             [
              0.7777777777777778,
              "#fb9f3a"
             ],
             [
              0.8888888888888888,
              "#fdca26"
             ],
             [
              1,
              "#f0f921"
             ]
            ],
            "type": "contour"
           }
          ],
          "contourcarpet": [
           {
            "colorbar": {
             "outlinewidth": 0,
             "ticks": ""
            },
            "type": "contourcarpet"
           }
          ],
          "heatmap": [
           {
            "colorbar": {
             "outlinewidth": 0,
             "ticks": ""
            },
            "colorscale": [
             [
              0,
              "#0d0887"
             ],
             [
              0.1111111111111111,
              "#46039f"
             ],
             [
              0.2222222222222222,
              "#7201a8"
             ],
             [
              0.3333333333333333,
              "#9c179e"
             ],
             [
              0.4444444444444444,
              "#bd3786"
             ],
             [
              0.5555555555555556,
              "#d8576b"
             ],
             [
              0.6666666666666666,
              "#ed7953"
             ],
             [
              0.7777777777777778,
              "#fb9f3a"
             ],
             [
              0.8888888888888888,
              "#fdca26"
             ],
             [
              1,
              "#f0f921"
             ]
            ],
            "type": "heatmap"
           }
          ],
          "heatmapgl": [
           {
            "colorbar": {
             "outlinewidth": 0,
             "ticks": ""
            },
            "colorscale": [
             [
              0,
              "#0d0887"
             ],
             [
              0.1111111111111111,
              "#46039f"
             ],
             [
              0.2222222222222222,
              "#7201a8"
             ],
             [
              0.3333333333333333,
              "#9c179e"
             ],
             [
              0.4444444444444444,
              "#bd3786"
             ],
             [
              0.5555555555555556,
              "#d8576b"
             ],
             [
              0.6666666666666666,
              "#ed7953"
             ],
             [
              0.7777777777777778,
              "#fb9f3a"
             ],
             [
              0.8888888888888888,
              "#fdca26"
             ],
             [
              1,
              "#f0f921"
             ]
            ],
            "type": "heatmapgl"
           }
          ],
          "histogram": [
           {
            "marker": {
             "pattern": {
              "fillmode": "overlay",
              "size": 10,
              "solidity": 0.2
             }
            },
            "type": "histogram"
           }
          ],
          "histogram2d": [
           {
            "colorbar": {
             "outlinewidth": 0,
             "ticks": ""
            },
            "colorscale": [
             [
              0,
              "#0d0887"
             ],
             [
              0.1111111111111111,
              "#46039f"
             ],
             [
              0.2222222222222222,
              "#7201a8"
             ],
             [
              0.3333333333333333,
              "#9c179e"
             ],
             [
              0.4444444444444444,
              "#bd3786"
             ],
             [
              0.5555555555555556,
              "#d8576b"
             ],
             [
              0.6666666666666666,
              "#ed7953"
             ],
             [
              0.7777777777777778,
              "#fb9f3a"
             ],
             [
              0.8888888888888888,
              "#fdca26"
             ],
             [
              1,
              "#f0f921"
             ]
            ],
            "type": "histogram2d"
           }
          ],
          "histogram2dcontour": [
           {
            "colorbar": {
             "outlinewidth": 0,
             "ticks": ""
            },
            "colorscale": [
             [
              0,
              "#0d0887"
             ],
             [
              0.1111111111111111,
              "#46039f"
             ],
             [
              0.2222222222222222,
              "#7201a8"
             ],
             [
              0.3333333333333333,
              "#9c179e"
             ],
             [
              0.4444444444444444,
              "#bd3786"
             ],
             [
              0.5555555555555556,
              "#d8576b"
             ],
             [
              0.6666666666666666,
              "#ed7953"
             ],
             [
              0.7777777777777778,
              "#fb9f3a"
             ],
             [
              0.8888888888888888,
              "#fdca26"
             ],
             [
              1,
              "#f0f921"
             ]
            ],
            "type": "histogram2dcontour"
           }
          ],
          "mesh3d": [
           {
            "colorbar": {
             "outlinewidth": 0,
             "ticks": ""
            },
            "type": "mesh3d"
           }
          ],
          "parcoords": [
           {
            "line": {
             "colorbar": {
              "outlinewidth": 0,
              "ticks": ""
             }
            },
            "type": "parcoords"
           }
          ],
          "pie": [
           {
            "automargin": true,
            "type": "pie"
           }
          ],
          "scatter": [
           {
            "fillpattern": {
             "fillmode": "overlay",
             "size": 10,
             "solidity": 0.2
            },
            "type": "scatter"
           }
          ],
          "scatter3d": [
           {
            "line": {
             "colorbar": {
              "outlinewidth": 0,
              "ticks": ""
             }
            },
            "marker": {
             "colorbar": {
              "outlinewidth": 0,
              "ticks": ""
             }
            },
            "type": "scatter3d"
           }
          ],
          "scattercarpet": [
           {
            "marker": {
             "colorbar": {
              "outlinewidth": 0,
              "ticks": ""
             }
            },
            "type": "scattercarpet"
           }
          ],
          "scattergeo": [
           {
            "marker": {
             "colorbar": {
              "outlinewidth": 0,
              "ticks": ""
             }
            },
            "type": "scattergeo"
           }
          ],
          "scattergl": [
           {
            "marker": {
             "colorbar": {
              "outlinewidth": 0,
              "ticks": ""
             }
            },
            "type": "scattergl"
           }
          ],
          "scattermapbox": [
           {
            "marker": {
             "colorbar": {
              "outlinewidth": 0,
              "ticks": ""
             }
            },
            "type": "scattermapbox"
           }
          ],
          "scatterpolar": [
           {
            "marker": {
             "colorbar": {
              "outlinewidth": 0,
              "ticks": ""
             }
            },
            "type": "scatterpolar"
           }
          ],
          "scatterpolargl": [
           {
            "marker": {
             "colorbar": {
              "outlinewidth": 0,
              "ticks": ""
             }
            },
            "type": "scatterpolargl"
           }
          ],
          "scatterternary": [
           {
            "marker": {
             "colorbar": {
              "outlinewidth": 0,
              "ticks": ""
             }
            },
            "type": "scatterternary"
           }
          ],
          "surface": [
           {
            "colorbar": {
             "outlinewidth": 0,
             "ticks": ""
            },
            "colorscale": [
             [
              0,
              "#0d0887"
             ],
             [
              0.1111111111111111,
              "#46039f"
             ],
             [
              0.2222222222222222,
              "#7201a8"
             ],
             [
              0.3333333333333333,
              "#9c179e"
             ],
             [
              0.4444444444444444,
              "#bd3786"
             ],
             [
              0.5555555555555556,
              "#d8576b"
             ],
             [
              0.6666666666666666,
              "#ed7953"
             ],
             [
              0.7777777777777778,
              "#fb9f3a"
             ],
             [
              0.8888888888888888,
              "#fdca26"
             ],
             [
              1,
              "#f0f921"
             ]
            ],
            "type": "surface"
           }
          ],
          "table": [
           {
            "cells": {
             "fill": {
              "color": "#EBF0F8"
             },
             "line": {
              "color": "white"
             }
            },
            "header": {
             "fill": {
              "color": "#C8D4E3"
             },
             "line": {
              "color": "white"
             }
            },
            "type": "table"
           }
          ]
         },
         "layout": {
          "annotationdefaults": {
           "arrowcolor": "#2a3f5f",
           "arrowhead": 0,
           "arrowwidth": 1
          },
          "autotypenumbers": "strict",
          "coloraxis": {
           "colorbar": {
            "outlinewidth": 0,
            "ticks": ""
           }
          },
          "colorscale": {
           "diverging": [
            [
             0,
             "#8e0152"
            ],
            [
             0.1,
             "#c51b7d"
            ],
            [
             0.2,
             "#de77ae"
            ],
            [
             0.3,
             "#f1b6da"
            ],
            [
             0.4,
             "#fde0ef"
            ],
            [
             0.5,
             "#f7f7f7"
            ],
            [
             0.6,
             "#e6f5d0"
            ],
            [
             0.7,
             "#b8e186"
            ],
            [
             0.8,
             "#7fbc41"
            ],
            [
             0.9,
             "#4d9221"
            ],
            [
             1,
             "#276419"
            ]
           ],
           "sequential": [
            [
             0,
             "#0d0887"
            ],
            [
             0.1111111111111111,
             "#46039f"
            ],
            [
             0.2222222222222222,
             "#7201a8"
            ],
            [
             0.3333333333333333,
             "#9c179e"
            ],
            [
             0.4444444444444444,
             "#bd3786"
            ],
            [
             0.5555555555555556,
             "#d8576b"
            ],
            [
             0.6666666666666666,
             "#ed7953"
            ],
            [
             0.7777777777777778,
             "#fb9f3a"
            ],
            [
             0.8888888888888888,
             "#fdca26"
            ],
            [
             1,
             "#f0f921"
            ]
           ],
           "sequentialminus": [
            [
             0,
             "#0d0887"
            ],
            [
             0.1111111111111111,
             "#46039f"
            ],
            [
             0.2222222222222222,
             "#7201a8"
            ],
            [
             0.3333333333333333,
             "#9c179e"
            ],
            [
             0.4444444444444444,
             "#bd3786"
            ],
            [
             0.5555555555555556,
             "#d8576b"
            ],
            [
             0.6666666666666666,
             "#ed7953"
            ],
            [
             0.7777777777777778,
             "#fb9f3a"
            ],
            [
             0.8888888888888888,
             "#fdca26"
            ],
            [
             1,
             "#f0f921"
            ]
           ]
          },
          "colorway": [
           "#636efa",
           "#EF553B",
           "#00cc96",
           "#ab63fa",
           "#FFA15A",
           "#19d3f3",
           "#FF6692",
           "#B6E880",
           "#FF97FF",
           "#FECB52"
          ],
          "font": {
           "color": "#2a3f5f"
          },
          "geo": {
           "bgcolor": "white",
           "lakecolor": "white",
           "landcolor": "#E5ECF6",
           "showlakes": true,
           "showland": true,
           "subunitcolor": "white"
          },
          "hoverlabel": {
           "align": "left"
          },
          "hovermode": "closest",
          "mapbox": {
           "style": "light"
          },
          "paper_bgcolor": "white",
          "plot_bgcolor": "#E5ECF6",
          "polar": {
           "angularaxis": {
            "gridcolor": "white",
            "linecolor": "white",
            "ticks": ""
           },
           "bgcolor": "#E5ECF6",
           "radialaxis": {
            "gridcolor": "white",
            "linecolor": "white",
            "ticks": ""
           }
          },
          "scene": {
           "xaxis": {
            "backgroundcolor": "#E5ECF6",
            "gridcolor": "white",
            "gridwidth": 2,
            "linecolor": "white",
            "showbackground": true,
            "ticks": "",
            "zerolinecolor": "white"
           },
           "yaxis": {
            "backgroundcolor": "#E5ECF6",
            "gridcolor": "white",
            "gridwidth": 2,
            "linecolor": "white",
            "showbackground": true,
            "ticks": "",
            "zerolinecolor": "white"
           },
           "zaxis": {
            "backgroundcolor": "#E5ECF6",
            "gridcolor": "white",
            "gridwidth": 2,
            "linecolor": "white",
            "showbackground": true,
            "ticks": "",
            "zerolinecolor": "white"
           }
          },
          "shapedefaults": {
           "line": {
            "color": "#2a3f5f"
           }
          },
          "ternary": {
           "aaxis": {
            "gridcolor": "white",
            "linecolor": "white",
            "ticks": ""
           },
           "baxis": {
            "gridcolor": "white",
            "linecolor": "white",
            "ticks": ""
           },
           "bgcolor": "#E5ECF6",
           "caxis": {
            "gridcolor": "white",
            "linecolor": "white",
            "ticks": ""
           }
          },
          "title": {
           "x": 0.05
          },
          "xaxis": {
           "automargin": true,
           "gridcolor": "white",
           "linecolor": "white",
           "ticks": "",
           "title": {
            "standoff": 15
           },
           "zerolinecolor": "white",
           "zerolinewidth": 2
          },
          "yaxis": {
           "automargin": true,
           "gridcolor": "white",
           "linecolor": "white",
           "ticks": "",
           "title": {
            "standoff": 15
           },
           "zerolinecolor": "white",
           "zerolinewidth": 2
          }
         }
        },
        "title": {
         "text": "Number of Drives vs Mean Defenders Passed on the Drive by Team",
         "x": 0.5
        },
        "width": 800,
        "xaxis": {
         "anchor": "y",
         "domain": [
          0,
          1
         ],
         "title": {
          "text": "Mean Defenders Passed"
         }
        },
        "yaxis": {
         "anchor": "x",
         "domain": [
          0,
          1
         ],
         "title": {
          "text": "Total Number of Drives"
         }
        }
       }
      }
     },
     "metadata": {},
     "output_type": "display_data"
    }
   ],
   "source": [
    "fig = px.scatter(x = def_passed_means_team.values, y = num_passes_team.values, text = def_passed_sums_team.index)\n",
    "fig.update_layout(width=800, height=500,  \n",
    "                  title='Number of Passes vs Mean Defenders Passed on the Pass by Team', title_x=0.5,\n",
    "                  xaxis_title=\"Mean Defenders Passed\", yaxis_title='Total Number of Passes') #template='plotly_dark',\n",
    "fig.update_traces(textposition='top center')\n",
    "#fig.update_traces(textfont_size=11, marker=dict(size=10), textposition=improve_text_position(df['reb']))\n",
    "fig.show()\n",
    "\n",
    "fig = px.scatter(x = def_drive_means_team.values, y = num_drive_team.values, text = def_drive_sums_team.index)\n",
    "fig.update_layout(width=800, height=500,  \n",
    "                  title='Number of Drives vs Mean Defenders Passed on the Drive by Team', title_x=0.5,\n",
    "                  xaxis_title=\"Mean Defenders Passed\", yaxis_title='Total Number of Drives') #template='plotly_dark',\n",
    "fig.update_traces(textposition='top center')\n",
    "#fig.update_traces(textfont_size=11, marker=dict(size=10), textposition=improve_text_position(df['reb']))\n",
    "fig.show()"
   ]
  },
  {
   "cell_type": "code",
   "execution_count": 32,
   "metadata": {},
   "outputs": [
    {
     "data": {
      "application/vnd.plotly.v1+json": {
       "config": {
        "plotlyServerURL": "https://plot.ly"
       },
       "data": [
        {
         "alignmentgroup": "True",
         "hovertemplate": "Passer=%{x}<br># Defenders Passed=%{y}<extra></extra>",
         "legendgroup": "",
         "marker": {
          "color": "#636efa"
         },
         "name": "",
         "notched": false,
         "offsetgroup": "",
         "orientation": "v",
         "showlegend": false,
         "type": "box",
         "x": [
          "Jayson Tatum",
          "Jaylen Brown",
          "Jayson Tatum",
          "Derrick White",
          "Jaylen Brown",
          "Derrick White",
          "Jayson Tatum",
          "Robert Williams III",
          "Jaylen Brown",
          "Jayson Tatum",
          "Marcus Smart",
          "Jayson Tatum",
          "Grant Williams",
          "Al Horford",
          "Derrick White",
          "Robert Williams III",
          "Jaylen Brown",
          "Marcus Smart",
          "Al Horford",
          "Marcus Smart",
          "Al Horford",
          "Jayson Tatum",
          "Robert Williams III",
          "Marcus Smart",
          "Jaylen Brown",
          "Jayson Tatum",
          "Grant Williams",
          "Marcus Smart",
          "Derrick White",
          "Marcus Smart",
          "Derrick White",
          "Robert Williams III",
          "Jayson Tatum",
          "Grant Williams",
          "Al Horford",
          "Jaylen Brown",
          "Grant Williams",
          "Marcus Smart",
          "Marcus Smart",
          "Marcus Smart",
          "Al Horford",
          "Jayson Tatum",
          "Robert Williams III",
          "Al Horford",
          "Jaylen Brown",
          "Robert Williams III",
          "Robert Williams III",
          "Al Horford",
          "Jayson Tatum",
          "Jaylen Brown",
          "Al Horford",
          "Al Horford",
          "Marcus Smart",
          "Derrick White",
          "Jaylen Brown",
          "Robert Williams III",
          "Jayson Tatum",
          "Marcus Smart",
          "Al Horford",
          "Al Horford",
          "Jayson Tatum",
          "Grant Williams",
          "Al Horford",
          "Jaylen Brown",
          "Grant Williams",
          "Al Horford",
          "Jayson Tatum",
          "Jayson Tatum",
          "Jaylen Brown",
          "Marcus Smart",
          "Derrick White",
          "Derrick White",
          "Derrick White",
          "Jayson Tatum",
          "Marcus Smart",
          "Al Horford",
          "Robert Williams III",
          "Marcus Smart",
          "Jaylen Brown",
          "Derrick White",
          "Marcus Smart",
          "Jayson Tatum",
          "Jaylen Brown",
          "Robert Williams III",
          "Derrick White",
          "Jaylen Brown",
          "Marcus Smart",
          "Jayson Tatum",
          "Al Horford",
          "Marcus Smart",
          "Jayson Tatum",
          "Jayson Tatum",
          "Al Horford",
          "Jaylen Brown",
          "Jaylen Brown",
          "Al Horford",
          "Al Horford",
          "Derrick White",
          "P.J. Tucker",
          "Kyle Lowry",
          "Jimmy Butler",
          "Jimmy Butler",
          "Victor Oladipo",
          "Jimmy Butler",
          "Gabe Vincent",
          "Jimmy Butler",
          "Max Strus",
          "Kyle Lowry",
          "Jimmy Butler",
          "Kyle Lowry",
          "Bam Adebayo",
          "Bam Adebayo",
          "Max Strus",
          "Max Strus",
          "Caleb Martin",
          "Gabe Vincent",
          "Duncan Robinson",
          "P.J. Tucker",
          "Jimmy Butler",
          "Jimmy Butler",
          "Kyle Lowry",
          "Caleb Martin",
          "Jimmy Butler",
          "Jimmy Butler",
          "Kyle Lowry",
          "Max Strus",
          "Jimmy Butler",
          "Kyle Lowry",
          "Kyle Lowry",
          "Jimmy Butler",
          "Kyle Lowry",
          "Bam Adebayo",
          "Jimmy Butler",
          "Max Strus",
          "Bam Adebayo",
          "Max Strus",
          "Max Strus",
          "Jimmy Butler",
          "Kyle Lowry",
          "Jimmy Butler",
          "Victor Oladipo",
          "Kyle Lowry",
          "Bam Adebayo",
          "Kyle Lowry",
          "Jimmy Butler",
          "Victor Oladipo",
          "Caleb Martin",
          "Bam Adebayo",
          "Jimmy Butler",
          "Kyle Lowry",
          "Bam Adebayo",
          "Kyle Lowry",
          "Bam Adebayo",
          "Victor Oladipo",
          "Max Strus",
          "Victor Oladipo",
          "Bam Adebayo",
          "Kyle Lowry",
          "Victor Oladipo",
          "Max Strus",
          "Tyler Herro",
          "P.J. Tucker",
          "Jimmy Butler",
          "P.J. Tucker",
          "Jimmy Butler",
          "Bam Adebayo",
          "Jimmy Butler",
          "Max Strus",
          "Gabe Vincent",
          "Bam Adebayo",
          "Gabe Vincent",
          "P.J. Tucker",
          "Dewayne Dedmon",
          "Victor Oladipo",
          "Max Strus",
          "Tyler Herro",
          "Max Strus",
          "Victor Oladipo",
          "Max Strus",
          "Bam Adebayo",
          "Tyler Herro",
          "Tyler Herro",
          "Tyler Herro",
          "Bam Adebayo",
          "Bam Adebayo",
          "Bam Adebayo",
          "Caleb Martin",
          "Tyler Herro",
          "P.J. Tucker",
          "Tyler Herro",
          "Victor Oladipo",
          "P.J. Tucker",
          "Jimmy Butler",
          "Max Strus",
          "P.J. Tucker",
          "Gabe Vincent",
          "Jimmy Butler",
          "P.J. Tucker",
          "P.J. Tucker",
          "Tyler Herro",
          "Jimmy Butler",
          "Caleb Martin",
          "Tyler Herro",
          "Bam Adebayo",
          "Bam Adebayo",
          "Gabe Vincent",
          "Gabe Vincent",
          "P.J. Tucker",
          "Jimmy Butler",
          "P.J. Tucker",
          "Tyler Herro",
          "Dewayne Dedmon",
          "Victor Oladipo",
          "Jimmy Butler",
          "Max Strus",
          "Max Strus",
          "P.J. Tucker",
          "Max Strus",
          "Max Strus",
          "Grant Williams",
          "Payton Pritchard",
          "Aaron Nesmith",
          "Robert Williams III",
          "Jaylen Brown",
          "Grant Williams",
          "Daniel Theis",
          "Jayson Tatum",
          "Jayson Tatum",
          "Robert Williams III",
          "Grant Williams",
          "Robert Williams III",
          "Grant Williams",
          "Jaylen Brown",
          "Jaylen Brown",
          "Jaylen Brown",
          "Jayson Tatum",
          "Jaylen Brown",
          "Robert Williams III",
          "Jaylen Brown",
          "Robert Williams III",
          "Payton Pritchard",
          "Daniel Theis",
          "Payton Pritchard",
          "Daniel Theis",
          "Jayson Tatum",
          "Daniel Theis",
          "Derrick White",
          "Grant Williams",
          "Jaylen Brown",
          "Payton Pritchard",
          "Grant Williams",
          "Jaylen Brown",
          "Grant Williams",
          "Robert Williams III",
          "Daniel Theis",
          "Aaron Nesmith",
          "Aaron Nesmith",
          "Daniel Theis",
          "Payton Pritchard",
          "Grant Williams",
          "Grant Williams",
          "Jaylen Brown",
          "Jaylen Brown",
          "Jaylen Brown",
          "Payton Pritchard",
          "Jaylen Brown",
          "Payton Pritchard",
          "Derrick White",
          "Derrick White",
          "Jayson Tatum",
          "Jayson Tatum",
          "Derrick White",
          "Robert Williams III",
          "Jayson Tatum",
          "Derrick White",
          "Daniel Theis",
          "Derrick White",
          "Jaylen Brown",
          "Payton Pritchard",
          "Jayson Tatum",
          "Payton Pritchard",
          "Jayson Tatum",
          "Payton Pritchard",
          "Robert Williams III",
          "Payton Pritchard",
          "Payton Pritchard",
          "Jayson Tatum",
          "Jaylen Brown",
          "Payton Pritchard",
          "Jaylen Brown",
          "Payton Pritchard",
          "Robert Williams III",
          "Grant Williams",
          "Grant Williams",
          "Jayson Tatum",
          "Robert Williams III",
          "Robert Williams III",
          "Jayson Tatum",
          "Payton Pritchard",
          "Robert Williams III",
          "Robert Williams III",
          "Jaylen Brown",
          "Daniel Theis",
          "Robert Williams III",
          "Robert Williams III",
          "Jayson Tatum",
          "Jaylen Brown",
          "Robert Williams III",
          "Payton Pritchard",
          "Payton Pritchard",
          "Derrick White",
          "Daniel Theis",
          "Jaylen Brown",
          "Payton Pritchard",
          "Daniel Theis",
          "Kyle Lowry",
          "Jimmy Butler",
          "Bam Adebayo",
          "Bam Adebayo",
          "Kyle Lowry",
          "Max Strus",
          "Bam Adebayo",
          "Max Strus",
          "Kyle Lowry",
          "Bam Adebayo",
          "Kyle Lowry",
          "Jimmy Butler",
          "Kyle Lowry",
          "Jimmy Butler",
          "Jimmy Butler",
          "Bam Adebayo",
          "Jimmy Butler",
          "Max Strus",
          "Kyle Lowry",
          "Victor Oladipo",
          "Victor Oladipo",
          "Bam Adebayo",
          "Tyler Herro",
          "Kyle Lowry",
          "Bam Adebayo",
          "Kyle Lowry",
          "P.J. Tucker",
          "Tyler Herro",
          "Jimmy Butler",
          "Kyle Lowry",
          "Bam Adebayo",
          "Victor Oladipo",
          "Jimmy Butler",
          "P.J. Tucker",
          "Jimmy Butler",
          "Max Strus",
          "Kyle Lowry",
          "Max Strus",
          "Jimmy Butler",
          "Victor Oladipo",
          "Kyle Lowry",
          "Bam Adebayo",
          "Victor Oladipo",
          "Victor Oladipo",
          "Kyle Lowry",
          "Bam Adebayo",
          "Victor Oladipo",
          "Victor Oladipo",
          "Kyle Lowry",
          "Bam Adebayo",
          "P.J. Tucker",
          "P.J. Tucker",
          "Victor Oladipo",
          "Jimmy Butler",
          "Max Strus",
          "Max Strus",
          "Victor Oladipo",
          "Max Strus",
          "Bam Adebayo",
          "Kyle Lowry",
          "Victor Oladipo",
          "Kyle Lowry",
          "Bam Adebayo",
          "Bam Adebayo",
          "Kyle Lowry",
          "Tyler Herro",
          "P.J. Tucker",
          "Kyle Lowry",
          "P.J. Tucker",
          "Gabe Vincent",
          "Max Strus",
          "Max Strus",
          "Kyle Lowry",
          "Jimmy Butler",
          "Max Strus",
          "Kyle Lowry",
          "Bam Adebayo",
          "Max Strus",
          "Max Strus",
          "Al Horford",
          "Marcus Smart",
          "Jaylen Brown",
          "Jaylen Brown",
          "Jaylen Brown",
          "Robert Williams III",
          "Jayson Tatum",
          "Robert Williams III",
          "Jayson Tatum",
          "Al Horford",
          "Al Horford",
          "Derrick White",
          "Jayson Tatum",
          "Al Horford",
          "Marcus Smart",
          "Jaylen Brown",
          "Al Horford",
          "Derrick White",
          "Jaylen Brown",
          "Robert Williams III",
          "Marcus Smart",
          "Al Horford",
          "Marcus Smart",
          "Jayson Tatum",
          "Al Horford",
          "Al Horford",
          "Jayson Tatum",
          "Marcus Smart",
          "Al Horford",
          "Al Horford",
          "Jayson Tatum",
          "Robert Williams III",
          "Al Horford",
          "Al Horford",
          "Al Horford",
          "Jayson Tatum",
          "Al Horford",
          "Jayson Tatum",
          "Marcus Smart",
          "Marcus Smart",
          "Jayson Tatum",
          "Al Horford",
          "Marcus Smart",
          "Jayson Tatum",
          "Al Horford",
          "Marcus Smart",
          "Jaylen Brown",
          "Jayson Tatum",
          "Derrick White",
          "Marcus Smart",
          "Jayson Tatum",
          "Derrick White",
          "Robert Williams III",
          "Al Horford",
          "Jayson Tatum",
          "Al Horford",
          "Marcus Smart",
          "Al Horford",
          "Derrick White",
          "Marcus Smart",
          "Al Horford",
          "Jayson Tatum",
          "Marcus Smart",
          "Al Horford",
          "Marcus Smart",
          "Jayson Tatum",
          "Jaylen Brown",
          "Al Horford",
          "Robert Williams III",
          "Marcus Smart",
          "Grant Williams",
          "Grant Williams",
          "Jaylen Brown",
          "Al Horford",
          "Al Horford",
          "Marcus Smart",
          "Al Horford",
          "Marcus Smart",
          "Al Horford",
          "Marcus Smart",
          "Jayson Tatum",
          "Derrick White",
          "Jayson Tatum",
          "Grant Williams",
          "Marcus Smart",
          "Al Horford",
          "Al Horford",
          "Grant Williams",
          "Al Horford",
          "Al Horford",
          "Jaylen Brown",
          "Jayson Tatum",
          "Jayson Tatum",
          "Marcus Smart",
          "Al Horford",
          "Al Horford",
          "Marcus Smart",
          "Marcus Smart",
          "Jaylen Brown",
          "Robert Williams III",
          "Jayson Tatum",
          "Jaylen Brown",
          "Jayson Tatum",
          "Jayson Tatum",
          "Robert Williams III",
          "Al Horford",
          "Robert Williams III",
          "Al Horford",
          "Al Horford",
          "Jayson Tatum",
          "Marcus Smart",
          "Jayson Tatum",
          "Robert Williams III",
          "Payton Pritchard",
          "Jayson Tatum",
          "Robert Williams III",
          "Payton Pritchard",
          "Grant Williams",
          "Payton Pritchard",
          "Al Horford",
          "Jaylen Brown",
          "Al Horford",
          "Robert Williams III",
          "Al Horford",
          "Jayson Tatum",
          "Robert Williams III",
          "Al Horford",
          "Jaylen Brown",
          "Robert Williams III",
          "Marcus Smart",
          "Marcus Smart",
          "Jaylen Brown",
          "Al Horford",
          "Al Horford",
          "Jaylen Brown",
          "Al Horford",
          "Al Horford",
          "Grant Williams",
          "Al Horford",
          "Jaylen Brown",
          "Al Horford",
          "Jayson Tatum",
          "Jaylen Brown",
          "Marcus Smart",
          "Al Horford",
          "Al Horford",
          "Jayson Tatum",
          "Jayson Tatum",
          "Jaylen Brown",
          "Marcus Smart",
          "Al Horford",
          "Robert Williams III",
          "Grant Williams",
          "Payton Pritchard",
          "Jaylen Brown",
          "Marcus Smart",
          "Al Horford",
          "Derrick White",
          "Al Horford",
          "Al Horford",
          "Marcus Smart",
          "Marcus Smart",
          "Robert Williams III",
          "Jaylen Brown",
          "Jayson Tatum",
          "Marcus Smart",
          "Al Horford",
          "Jaylen Brown",
          "Al Horford",
          "Jaylen Brown",
          "Al Horford",
          "Jayson Tatum",
          "Jaylen Brown",
          "Marcus Smart",
          "Jayson Tatum",
          "Al Horford",
          "Jayson Tatum",
          "Jaylen Brown",
          "Marcus Smart",
          "Jayson Tatum",
          "Al Horford",
          "Jaylen Brown",
          "Jayson Tatum",
          "Grant Williams",
          "Marcus Smart",
          "Grant Williams",
          "Marcus Smart",
          "Jaylen Brown",
          "Al Horford",
          "Jaylen Brown",
          "Al Horford",
          "Luke Kornet",
          "Draymond Green",
          "Gary Payton II",
          "Klay Thompson",
          "Jordan Poole",
          "Andrew Wiggins",
          "Kevon Looney",
          "Draymond Green",
          "Andrew Wiggins",
          "Draymond Green",
          "Gary Payton II",
          "Otto Porter Jr.",
          "Gary Payton II",
          "Jordan Poole",
          "Gary Payton II",
          "Stephen Curry",
          "Jordan Poole",
          "Draymond Green",
          "Draymond Green",
          "Jordan Poole",
          "Klay Thompson",
          "Andrew Wiggins",
          "Klay Thompson",
          "Draymond Green",
          "Stephen Curry",
          "Otto Porter Jr.",
          "Andrew Wiggins",
          "Draymond Green",
          "Draymond Green",
          "Stephen Curry",
          "Gary Payton II",
          "Andrew Wiggins",
          "Draymond Green",
          "Klay Thompson",
          "Draymond Green",
          "Draymond Green",
          "Kevon Looney",
          "Draymond Green",
          "Otto Porter Jr.",
          "Draymond Green",
          "Draymond Green",
          "Otto Porter Jr.",
          "Otto Porter Jr.",
          "Kevon Looney",
          "Andrew Wiggins",
          "Andrew Wiggins",
          "Gary Payton II",
          "Andrew Wiggins",
          "Draymond Green",
          "Stephen Curry",
          "Klay Thompson",
          "Draymond Green",
          "Draymond Green",
          "Stephen Curry",
          "Draymond Green",
          "Kevon Looney",
          "Andrew Wiggins",
          "Kevon Looney",
          "Klay Thompson",
          "Jordan Poole",
          "Jordan Poole",
          "Draymond Green",
          "Stephen Curry",
          "Gary Payton II",
          "Gary Payton II",
          "Klay Thompson",
          "Klay Thompson",
          "Draymond Green",
          "Draymond Green",
          "Draymond Green",
          "Draymond Green",
          "Stephen Curry",
          "Stephen Curry",
          "Gary Payton II",
          "Otto Porter Jr.",
          "Draymond Green",
          "Andrew Wiggins",
          "Draymond Green",
          "Draymond Green",
          "Klay Thompson",
          "Draymond Green",
          "Draymond Green",
          "Klay Thompson",
          "Stephen Curry",
          "Andrew Wiggins",
          "Stephen Curry",
          "Andrew Wiggins",
          "Klay Thompson",
          "Draymond Green",
          "Otto Porter Jr.",
          "Otto Porter Jr.",
          "Stephen Curry",
          "Otto Porter Jr.",
          "Jordan Poole",
          "Andrew Wiggins",
          "Kevon Looney",
          "Stephen Curry",
          "Stephen Curry",
          "Kevon Looney",
          "Stephen Curry",
          "Draymond Green",
          "Kevon Looney",
          "Draymond Green",
          "Stephen Curry",
          "Draymond Green",
          "Stephen Curry",
          "Jordan Poole",
          "Stephen Curry",
          "Stephen Curry",
          "Jordan Poole",
          "Draymond Green",
          "Stephen Curry",
          "Otto Porter Jr.",
          "Otto Porter Jr.",
          "Otto Porter Jr.",
          "Andrew Wiggins",
          "Kevon Looney",
          "Stephen Curry",
          "Otto Porter Jr.",
          "Kevon Looney",
          "Stephen Curry",
          "Kevon Looney",
          "Stephen Curry",
          "Draymond Green",
          "Kevon Looney",
          "Draymond Green",
          "Stephen Curry",
          "Andre Iguodala",
          "Draymond Green",
          "Draymond Green",
          "Draymond Green",
          "Draymond Green",
          "Draymond Green",
          "Otto Porter Jr.",
          "Andrew Wiggins",
          "Andrew Wiggins",
          "Draymond Green",
          "Draymond Green",
          "Stephen Curry",
          "Kevon Looney",
          "Draymond Green",
          "Stephen Curry",
          "Stephen Curry",
          "Otto Porter Jr.",
          "Stephen Curry",
          "Jordan Poole",
          "Otto Porter Jr.",
          "Draymond Green",
          "Jordan Poole",
          "Draymond Green",
          "Klay Thompson",
          "Andrew Wiggins",
          "Otto Porter Jr.",
          "Jordan Poole",
          "Stephen Curry",
          "Otto Porter Jr.",
          "Draymond Green",
          "Andrew Wiggins",
          "Draymond Green",
          "Draymond Green",
          "Kevon Looney",
          "Andrew Wiggins",
          "Kevon Looney",
          "Stephen Curry",
          "Otto Porter Jr.",
          "Jordan Poole",
          "Klay Thompson",
          "Klay Thompson",
          "Draymond Green",
          "Andrew Wiggins",
          "Stephen Curry",
          "Marcus Smart",
          "Robert Williams III",
          "Marcus Smart",
          "Jaylen Brown",
          "Robert Williams III",
          "Jayson Tatum",
          "Jaylen Brown",
          "Al Horford",
          "Derrick White",
          "Jayson Tatum",
          "Jaylen Brown",
          "Al Horford",
          "Jayson Tatum",
          "Marcus Smart",
          "Jaylen Brown",
          "Marcus Smart",
          "Robert Williams III",
          "Al Horford",
          "Al Horford",
          "Jayson Tatum",
          "Al Horford",
          "Al Horford",
          "Derrick White",
          "Al Horford",
          "Grant Williams",
          "Jayson Tatum",
          "Payton Pritchard",
          "Payton Pritchard",
          "Jaylen Brown",
          "Jayson Tatum",
          "Al Horford",
          "Marcus Smart",
          "Marcus Smart",
          "Robert Williams III",
          "Marcus Smart",
          "Al Horford",
          "Jayson Tatum",
          "Al Horford",
          "Jayson Tatum",
          "Jayson Tatum",
          "Al Horford",
          "Al Horford",
          "Derrick White",
          "Marcus Smart",
          "Al Horford",
          "Derrick White",
          "Payton Pritchard",
          "Jayson Tatum",
          "Payton Pritchard",
          "Derrick White",
          "Al Horford",
          "Al Horford",
          "Jayson Tatum",
          "Marcus Smart",
          "Grant Williams",
          "Derrick White",
          "Al Horford",
          "Marcus Smart",
          "Derrick White",
          "Grant Williams",
          "Grant Williams",
          "Derrick White",
          "Payton Pritchard",
          "Payton Pritchard",
          "Jayson Tatum",
          "Payton Pritchard",
          "Grant Williams",
          "Al Horford",
          "Robert Williams III",
          "Marcus Smart",
          "Marcus Smart",
          "Marcus Smart",
          "Jaylen Brown",
          "Al Horford",
          "Marcus Smart",
          "Jayson Tatum",
          "Al Horford",
          "Jayson Tatum",
          "Grant Williams",
          "Jaylen Brown",
          "Jayson Tatum",
          "Derrick White",
          "Robert Williams III",
          "Payton Pritchard",
          "Robert Williams III",
          "Jaylen Brown",
          "Payton Pritchard",
          "Jayson Tatum",
          "Payton Pritchard",
          "Jaylen Brown",
          "Payton Pritchard",
          "Jaylen Brown",
          "Jayson Tatum",
          "Derrick White",
          "Al Horford",
          "Payton Pritchard",
          "Jaylen Brown",
          "Jaylen Brown",
          "Marcus Smart",
          "Spencer Dinwiddie",
          "Frank Ntilikina",
          "Luka Doncic",
          "Spencer Dinwiddie",
          "Dwight Powell",
          "Reggie Bullock",
          "Dorian Finney-Smith",
          "Dwight Powell",
          "Dorian Finney-Smith",
          "Maxi Kleber",
          "Davis Bertans",
          "Jalen Brunson",
          "Davis Bertans",
          "Dorian Finney-Smith",
          "Davis Bertans",
          "Maxi Kleber",
          "Maxi Kleber",
          "Dorian Finney-Smith",
          "Luka Doncic",
          "Dwight Powell",
          "Dwight Powell",
          "Jalen Brunson",
          "Frank Ntilikina",
          "Reggie Bullock",
          "Luka Doncic",
          "Spencer Dinwiddie",
          "Maxi Kleber",
          "Reggie Bullock",
          "Luka Doncic",
          "Spencer Dinwiddie",
          "Jalen Brunson",
          "Spencer Dinwiddie",
          "Davis Bertans",
          "Frank Ntilikina",
          "Davis Bertans",
          "Spencer Dinwiddie",
          "Reggie Bullock",
          "Reggie Bullock",
          "Maxi Kleber",
          "Maxi Kleber",
          "Luka Doncic",
          "Maxi Kleber",
          "Luka Doncic",
          "Maxi Kleber",
          "Maxi Kleber",
          "Dorian Finney-Smith",
          "Luka Doncic",
          "Luka Doncic",
          "Dorian Finney-Smith",
          "Luka Doncic",
          "Jalen Brunson",
          "Reggie Bullock",
          "Reggie Bullock",
          "Dwight Powell",
          "Reggie Bullock",
          "Spencer Dinwiddie",
          "Frank Ntilikina",
          "Dorian Finney-Smith",
          "Maxi Kleber",
          "Frank Ntilikina",
          "Spencer Dinwiddie",
          "Dwight Powell",
          "Davis Bertans",
          "Jalen Brunson",
          "Davis Bertans",
          "Jalen Brunson",
          "Reggie Bullock",
          "Dorian Finney-Smith",
          "Jalen Brunson",
          "Davis Bertans",
          "Davis Bertans",
          "Jalen Brunson",
          "Luka Doncic",
          "Luka Doncic",
          "Jalen Brunson",
          "Maxi Kleber",
          "Jalen Brunson",
          "Jalen Brunson",
          "Jalen Brunson",
          "Dorian Finney-Smith",
          "Dorian Finney-Smith",
          "Dorian Finney-Smith",
          "Maxi Kleber",
          "Reggie Bullock",
          "Maxi Kleber",
          "Luka Doncic",
          "Spencer Dinwiddie",
          "Luka Doncic",
          "Maxi Kleber",
          "Luka Doncic",
          "Maxi Kleber",
          "Jalen Brunson",
          "Spencer Dinwiddie",
          "Maxi Kleber",
          "Luka Doncic",
          "Stephen Curry",
          "Klay Thompson",
          "Stephen Curry",
          "Moses Moody",
          "Moses Moody",
          "Jordan Poole",
          "Moses Moody",
          "Draymond Green",
          "Draymond Green",
          "Kevon Looney",
          "Draymond Green",
          "Draymond Green",
          "Andrew Wiggins",
          "Draymond Green",
          "Stephen Curry",
          "Draymond Green",
          "Kevon Looney",
          "Kevon Looney",
          "Kevon Looney",
          "Kevon Looney",
          "Klay Thompson",
          "Damion Lee",
          "Stephen Curry",
          "Damion Lee",
          "Stephen Curry",
          "Draymond Green",
          "Stephen Curry",
          "Draymond Green",
          "Kevon Looney",
          "Draymond Green",
          "Stephen Curry",
          "Draymond Green",
          "Draymond Green",
          "Jordan Poole",
          "Draymond Green",
          "Klay Thompson",
          "Draymond Green",
          "Draymond Green",
          "Draymond Green",
          "Damion Lee",
          "Damion Lee",
          "Nemanja Bjelica",
          "Nemanja Bjelica",
          "Nemanja Bjelica",
          "Jordan Poole",
          "Nemanja Bjelica",
          "Kevon Looney",
          "Draymond Green",
          "Stephen Curry",
          "Kevon Looney",
          "Stephen Curry",
          "Andrew Wiggins",
          "Draymond Green",
          "Draymond Green",
          "Andrew Wiggins",
          "Jonathan Kuminga",
          "Jonathan Kuminga",
          "Jordan Poole",
          "Klay Thompson",
          "Klay Thompson",
          "Jonathan Kuminga",
          "Jordan Poole",
          "Damion Lee",
          "Draymond Green",
          "Stephen Curry",
          "Kevon Looney",
          "Stephen Curry",
          "Stephen Curry",
          "Kevon Looney",
          "Draymond Green",
          "Jordan Poole",
          "Draymond Green",
          "Stephen Curry",
          "Klay Thompson",
          "Draymond Green",
          "Klay Thompson",
          "Draymond Green",
          "Damion Lee",
          "Stephen Curry",
          "Nemanja Bjelica",
          "Moses Moody",
          "Damion Lee",
          "Jordan Poole",
          "Nemanja Bjelica",
          "Nemanja Bjelica",
          "Moses Moody",
          "Nemanja Bjelica",
          "Jordan Poole",
          "Damion Lee",
          "Jonathan Kuminga",
          "Jordan Poole",
          "Nemanja Bjelica",
          "Moses Moody",
          "Nemanja Bjelica",
          "Reggie Bullock",
          "Jalen Brunson",
          "Reggie Bullock",
          "Davis Bertans",
          "Dorian Finney-Smith",
          "Luka Doncic",
          "Dwight Powell",
          "Dwight Powell",
          "Dwight Powell",
          "Jalen Brunson",
          "Luka Doncic",
          "Maxi Kleber",
          "Luka Doncic",
          "Maxi Kleber",
          "Frank Ntilikina",
          "Dorian Finney-Smith",
          "Frank Ntilikina",
          "Dorian Finney-Smith",
          "Jalen Brunson",
          "Jalen Brunson",
          "Dorian Finney-Smith",
          "Luka Doncic",
          "Luka Doncic",
          "Spencer Dinwiddie",
          "Maxi Kleber",
          "Spencer Dinwiddie",
          "Maxi Kleber",
          "Dwight Powell",
          "Jalen Brunson",
          "Maxi Kleber",
          "Jalen Brunson",
          "Maxi Kleber",
          "Maxi Kleber",
          "Davis Bertans",
          "Spencer Dinwiddie",
          "Dorian Finney-Smith",
          "Luka Doncic",
          "Davis Bertans",
          "Dorian Finney-Smith",
          "Spencer Dinwiddie",
          "Spencer Dinwiddie",
          "Luka Doncic",
          "Jalen Brunson",
          "Jalen Brunson",
          "Spencer Dinwiddie",
          "Luka Doncic",
          "Jalen Brunson",
          "Luka Doncic",
          "Dorian Finney-Smith",
          "Jalen Brunson",
          "Luka Doncic",
          "Dorian Finney-Smith",
          "Luka Doncic",
          "Maxi Kleber",
          "Luka Doncic",
          "Maxi Kleber",
          "Reggie Bullock",
          "Spencer Dinwiddie",
          "Reggie Bullock",
          "Reggie Bullock",
          "Spencer Dinwiddie",
          "Dwight Powell",
          "Luka Doncic",
          "Reggie Bullock",
          "Davis Bertans",
          "Maxi Kleber",
          "Luka Doncic",
          "Maxi Kleber",
          "Spencer Dinwiddie",
          "Luka Doncic",
          "Maxi Kleber",
          "Spencer Dinwiddie",
          "Jalen Brunson",
          "Reggie Bullock",
          "Jalen Brunson",
          "Luka Doncic",
          "Jalen Brunson",
          "Reggie Bullock",
          "Reggie Bullock",
          "Spencer Dinwiddie",
          "Kevon Looney",
          "Draymond Green",
          "Jordan Poole",
          "Stephen Curry",
          "Jordan Poole",
          "Draymond Green",
          "Jordan Poole",
          "Klay Thompson",
          "Kevon Looney",
          "Kevon Looney",
          "Draymond Green",
          "Draymond Green",
          "Andrew Wiggins",
          "Draymond Green",
          "Draymond Green",
          "Otto Porter Jr.",
          "Kevon Looney",
          "Otto Porter Jr.",
          "Kevon Looney",
          "Draymond Green",
          "Kevon Looney",
          "Klay Thompson",
          "Stephen Curry",
          "Draymond Green",
          "Draymond Green",
          "Klay Thompson",
          "Jordan Poole",
          "Jordan Poole",
          "Kevon Looney",
          "Kevon Looney",
          "Jordan Poole",
          "Andrew Wiggins",
          "Draymond Green",
          "Draymond Green",
          "Draymond Green",
          "Draymond Green",
          "Draymond Green",
          "Klay Thompson",
          "Draymond Green",
          "Andrew Wiggins",
          "Kevon Looney",
          "Andrew Wiggins",
          "Draymond Green",
          "Andrew Wiggins",
          "Stephen Curry",
          "Andrew Wiggins",
          "Stephen Curry",
          "Draymond Green",
          "Stephen Curry",
          "Klay Thompson",
          "Stephen Curry",
          "Draymond Green",
          "Kevon Looney",
          "Kevon Looney",
          "Stephen Curry",
          "Draymond Green",
          "Stephen Curry",
          "Andrew Wiggins",
          "Draymond Green",
          "Stephen Curry",
          "Draymond Green",
          "Otto Porter Jr.",
          "Stephen Curry",
          "Kevon Looney",
          "Jordan Poole",
          "Klay Thompson",
          "Klay Thompson",
          "Jordan Poole",
          "Juan Toscano-Anderson",
          "Jordan Poole",
          "Kevon Looney",
          "Andrew Wiggins",
          "Kevon Looney",
          "Klay Thompson",
          "Kevon Looney",
          "Draymond Green",
          "Stephen Curry",
          "Klay Thompson",
          "Kevon Looney",
          "Andrew Wiggins",
          "Andrew Wiggins",
          "Andrew Wiggins",
          "Jordan Poole",
          "Draymond Green",
          "Jordan Poole",
          "Jordan Poole",
          "Draymond Green",
          "Jordan Poole",
          "Otto Porter Jr.",
          "Kevon Looney",
          "Draymond Green",
          "Kevon Looney",
          "Stephen Curry",
          "Draymond Green",
          "Andrew Wiggins",
          "Kevon Looney",
          "Kevon Looney",
          "Stephen Curry",
          "Draymond Green",
          "Kevon Looney",
          "Otto Porter Jr.",
          "Draymond Green",
          "Kevon Looney",
          "Kevon Looney",
          "Otto Porter Jr.",
          "Draymond Green",
          "Klay Thompson",
          "Otto Porter Jr.",
          "Draymond Green",
          "Klay Thompson",
          "Draymond Green",
          "Kevon Looney",
          "Draymond Green",
          "Kevon Looney",
          "Draymond Green",
          "Kevon Looney",
          "Otto Porter Jr.",
          "Otto Porter Jr.",
          "Kevon Looney",
          "Otto Porter Jr.",
          "Draymond Green",
          "Andrew Wiggins",
          "Draymond Green",
          "Stephen Curry",
          "Kevon Looney",
          "Draymond Green",
          "Stephen Curry",
          "Draymond Green",
          "Jordan Poole",
          "Otto Porter Jr.",
          "Jordan Poole",
          "Otto Porter Jr.",
          "Kevon Looney",
          "Otto Porter Jr.",
          "Otto Porter Jr.",
          "Andrew Wiggins",
          "Stephen Curry",
          "Kevon Looney",
          "Stephen Curry",
          "Klay Thompson",
          "Draymond Green",
          "Klay Thompson",
          "Draymond Green",
          "Draymond Green",
          "Andrew Wiggins",
          "Draymond Green",
          "Kevon Looney",
          "Stephen Curry",
          "Andrew Wiggins",
          "Otto Porter Jr.",
          "Kevon Looney",
          "Otto Porter Jr.",
          "Moses Moody",
          "Kevon Looney",
          "Moses Moody",
          "Kevon Looney",
          "Luka Doncic",
          "Maxi Kleber",
          "Jalen Brunson",
          "Maxi Kleber",
          "Davis Bertans",
          "Jalen Brunson",
          "Luka Doncic",
          "Dorian Finney-Smith",
          "Luka Doncic",
          "Luka Doncic",
          "Jalen Brunson",
          "Reggie Bullock",
          "Luka Doncic",
          "Frank Ntilikina",
          "Maxi Kleber",
          "Spencer Dinwiddie",
          "Luka Doncic",
          "Luka Doncic",
          "Reggie Bullock",
          "Jalen Brunson",
          "Reggie Bullock",
          "Dorian Finney-Smith",
          "Dorian Finney-Smith",
          "Jalen Brunson",
          "Dorian Finney-Smith",
          "Maxi Kleber",
          "Maxi Kleber",
          "Maxi Kleber",
          "Maxi Kleber",
          "Luka Doncic",
          "Dwight Powell",
          "Dwight Powell",
          "Jalen Brunson",
          "Maxi Kleber",
          "Maxi Kleber",
          "Maxi Kleber",
          "Reggie Bullock",
          "Spencer Dinwiddie",
          "Maxi Kleber",
          "Dorian Finney-Smith",
          "Maxi Kleber",
          "Jalen Brunson",
          "Jalen Brunson",
          "Luka Doncic",
          "Maxi Kleber",
          "Reggie Bullock",
          "Luka Doncic",
          "Dwight Powell",
          "Reggie Bullock",
          "Jalen Brunson",
          "Reggie Bullock",
          "Dorian Finney-Smith",
          "Jalen Brunson",
          "Luka Doncic",
          "Dorian Finney-Smith",
          "Spencer Dinwiddie",
          "Maxi Kleber",
          "Reggie Bullock",
          "Dorian Finney-Smith",
          "Jalen Brunson",
          "Spencer Dinwiddie",
          "Spencer Dinwiddie",
          "Davis Bertans",
          "Josh Green",
          "Dorian Finney-Smith",
          "Jalen Brunson",
          "Jalen Brunson",
          "Jalen Brunson",
          "Luka Doncic",
          "Jalen Brunson",
          "Luka Doncic",
          "Reggie Bullock",
          "Maxi Kleber",
          "Luka Doncic",
          "Spencer Dinwiddie",
          "Dorian Finney-Smith",
          "Dorian Finney-Smith",
          "Jalen Brunson",
          "Jalen Brunson",
          "Stephen Curry",
          "Stephen Curry",
          "Stephen Curry",
          "Jordan Poole",
          "Klay Thompson",
          "Klay Thompson",
          "Draymond Green",
          "Draymond Green",
          "Stephen Curry",
          "Draymond Green",
          "Kevon Looney",
          "Andrew Wiggins",
          "Draymond Green",
          "Nemanja Bjelica",
          "Draymond Green",
          "Nemanja Bjelica",
          "Draymond Green",
          "Kevon Looney",
          "Klay Thompson",
          "Nemanja Bjelica",
          "Draymond Green",
          "Stephen Curry",
          "Jordan Poole",
          "Draymond Green",
          "Kevon Looney",
          "Draymond Green",
          "Jordan Poole",
          "Klay Thompson",
          "Kevon Looney",
          "Klay Thompson",
          "Nemanja Bjelica",
          "Jordan Poole",
          "Draymond Green",
          "Draymond Green",
          "Nemanja Bjelica",
          "Nemanja Bjelica",
          "Draymond Green",
          "Klay Thompson",
          "Draymond Green",
          "Stephen Curry",
          "Andrew Wiggins",
          "Draymond Green",
          "Kevon Looney",
          "Klay Thompson",
          "Kevon Looney",
          "Stephen Curry",
          "Jordan Poole",
          "Kevon Looney",
          "Stephen Curry",
          "Kevon Looney",
          "Draymond Green",
          "Jordan Poole",
          "Andrew Wiggins",
          "Nemanja Bjelica",
          "Draymond Green",
          "Nemanja Bjelica",
          "Jordan Poole",
          "Nemanja Bjelica",
          "Draymond Green",
          "Kevon Looney",
          "Moses Moody",
          "Nemanja Bjelica",
          "Moses Moody",
          "Stephen Curry",
          "Jordan Poole",
          "Draymond Green",
          "Stephen Curry",
          "Draymond Green",
          "Kevon Looney",
          "Draymond Green",
          "Draymond Green",
          "Draymond Green",
          "Jordan Poole",
          "Klay Thompson",
          "Kevon Looney",
          "Jordan Poole",
          "Andrew Wiggins",
          "Kevon Looney",
          "Kevon Looney",
          "Andrew Wiggins",
          "Maxi Kleber",
          "Frank Ntilikina",
          "Maxi Kleber",
          "Maxi Kleber",
          "Sterling Brown",
          "Jalen Brunson",
          "Dwight Powell",
          "Reggie Bullock",
          "Reggie Bullock",
          "Luka Doncic",
          "Dorian Finney-Smith",
          "Dorian Finney-Smith",
          "Maxi Kleber",
          "Frank Ntilikina",
          "Spencer Dinwiddie",
          "Frank Ntilikina",
          "Jalen Brunson",
          "Spencer Dinwiddie",
          "Spencer Dinwiddie",
          "Jalen Brunson",
          "Davis Bertans",
          "Jalen Brunson",
          "Spencer Dinwiddie",
          "Reggie Bullock",
          "Dorian Finney-Smith",
          "Maxi Kleber",
          "Luka Doncic",
          "Frank Ntilikina",
          "Luka Doncic",
          "Luka Doncic",
          "Luka Doncic",
          "Maxi Kleber",
          "Maxi Kleber",
          "Luka Doncic",
          "Maxi Kleber",
          "Dorian Finney-Smith",
          "Dorian Finney-Smith",
          "Dorian Finney-Smith",
          "Maxi Kleber",
          "Jalen Brunson",
          "Dorian Finney-Smith",
          "Jalen Brunson",
          "Luka Doncic",
          "Maxi Kleber",
          "Reggie Bullock",
          "Dorian Finney-Smith",
          "Spencer Dinwiddie",
          "Luka Doncic",
          "Luka Doncic",
          "Dwight Powell",
          "Jalen Brunson",
          "Dorian Finney-Smith",
          "Dorian Finney-Smith",
          "Luka Doncic",
          "Jalen Brunson",
          "Luka Doncic",
          "Maxi Kleber",
          "Maxi Kleber",
          "Spencer Dinwiddie",
          "Maxi Kleber",
          "Davis Bertans",
          "Jalen Brunson",
          "Dorian Finney-Smith",
          "Frank Ntilikina",
          "Maxi Kleber",
          "Maxi Kleber",
          "Luka Doncic",
          "Reggie Bullock",
          "Dorian Finney-Smith",
          "Luka Doncic",
          "Maxi Kleber",
          "Maxi Kleber",
          "Dorian Finney-Smith",
          "Reggie Bullock",
          "Luka Doncic",
          "Spencer Dinwiddie",
          "Reggie Bullock",
          "Luka Doncic",
          "Reggie Bullock",
          "Reggie Bullock",
          "Jalen Brunson",
          "Reggie Bullock",
          "Bam Adebayo",
          "P.J. Tucker",
          "Jimmy Butler",
          "Max Strus",
          "Victor Oladipo",
          "Tyler Herro",
          "Victor Oladipo",
          "Dewayne Dedmon",
          "P.J. Tucker",
          "Gabe Vincent",
          "Max Strus",
          "Bam Adebayo",
          "Gabe Vincent",
          "Bam Adebayo",
          "Jimmy Butler",
          "Max Strus",
          "Dewayne Dedmon",
          "Dewayne Dedmon",
          "Dewayne Dedmon",
          "Max Strus",
          "Max Strus",
          "Victor Oladipo",
          "Tyler Herro",
          "Max Strus",
          "Tyler Herro",
          "Tyler Herro",
          "Max Strus",
          "Bam Adebayo",
          "Jimmy Butler",
          "P.J. Tucker",
          "Bam Adebayo",
          "Max Strus",
          "Gabe Vincent",
          "Bam Adebayo",
          "Bam Adebayo",
          "Jimmy Butler",
          "Victor Oladipo",
          "Victor Oladipo",
          "Dewayne Dedmon",
          "Dewayne Dedmon",
          "Duncan Robinson",
          "Duncan Robinson",
          "Caleb Martin",
          "Tyler Herro",
          "Haywood Highsmith",
          "Omer Yurtseven",
          "Victor Oladipo",
          "Duncan Robinson",
          "P.J. Tucker",
          "Max Strus",
          "Jimmy Butler",
          "Max Strus",
          "P.J. Tucker",
          "Gabe Vincent",
          "Bam Adebayo",
          "Bam Adebayo",
          "Bam Adebayo",
          "Tyler Herro",
          "Gabe Vincent",
          "Max Strus",
          "Jimmy Butler",
          "P.J. Tucker",
          "Gabe Vincent",
          "Bam Adebayo",
          "Max Strus",
          "Gabe Vincent",
          "Victor Oladipo",
          "Max Strus",
          "Bam Adebayo",
          "Dewayne Dedmon",
          "Tyler Herro",
          "Dewayne Dedmon",
          "Omer Yurtseven",
          "Duncan Robinson",
          "Duncan Robinson",
          "Caleb Martin",
          "Omer Yurtseven",
          "Haywood Highsmith",
          "Duncan Robinson",
          "Omer Yurtseven",
          "Duncan Robinson",
          "Victor Oladipo",
          "Duncan Robinson",
          "Marcus Smart",
          "Grant Williams",
          "Jaylen Brown",
          "Jayson Tatum",
          "Robert Williams III",
          "Marcus Smart",
          "Marcus Smart",
          "Payton Pritchard",
          "Marcus Smart",
          "Payton Pritchard",
          "Payton Pritchard",
          "Robert Williams III",
          "Robert Williams III",
          "Jaylen Brown",
          "Al Horford",
          "Robert Williams III",
          "Jayson Tatum",
          "Al Horford",
          "Al Horford",
          "Marcus Smart",
          "Jayson Tatum",
          "Payton Pritchard",
          "Grant Williams",
          "Marcus Smart",
          "Payton Pritchard",
          "Robert Williams III",
          "Grant Williams",
          "Jaylen Brown",
          "Al Horford",
          "Al Horford",
          "Robert Williams III",
          "Jayson Tatum",
          "Al Horford",
          "Grant Williams",
          "Al Horford",
          "Jayson Tatum",
          "Payton Pritchard",
          "Grant Williams",
          "Marcus Smart",
          "Al Horford",
          "Al Horford",
          "Grant Williams",
          "Marcus Smart",
          "Payton Pritchard",
          "Nik Stauskas",
          "Aaron Nesmith",
          "Aaron Nesmith",
          "Aaron Nesmith",
          "Nik Stauskas",
          "Al Horford",
          "Marcus Smart",
          "Robert Williams III",
          "Jayson Tatum",
          "Marcus Smart",
          "Jayson Tatum",
          "Jaylen Brown",
          "Jaylen Brown",
          "Marcus Smart",
          "Jaylen Brown",
          "Grant Williams",
          "Grant Williams",
          "Marcus Smart",
          "Al Horford",
          "Al Horford",
          "Marcus Smart",
          "Grant Williams",
          "Marcus Smart",
          "Payton Pritchard",
          "Jaylen Brown",
          "Marcus Smart",
          "Jayson Tatum",
          "Marcus Smart",
          "Jayson Tatum",
          "Robert Williams III",
          "Al Horford",
          "Marcus Smart",
          "Grant Williams",
          "Robert Williams III",
          "Marcus Smart",
          "Marcus Smart",
          "Jaylen Brown",
          "Marcus Smart",
          "Al Horford",
          "Al Horford",
          "Payton Pritchard",
          "Al Horford",
          "Luke Kornet",
          "Nik Stauskas",
          "Daniel Theis",
          "Aaron Nesmith",
          "P.J. Tucker",
          "Jimmy Butler",
          "P.J. Tucker",
          "Max Strus",
          "Duncan Robinson",
          "Victor Oladipo",
          "Duncan Robinson",
          "Victor Oladipo",
          "Gabe Vincent",
          "Jimmy Butler",
          "Duncan Robinson",
          "Duncan Robinson",
          "Duncan Robinson",
          "Jimmy Butler",
          "P.J. Tucker",
          "Max Strus",
          "Kyle Lowry",
          "Bam Adebayo",
          "Max Strus",
          "Max Strus",
          "Kyle Lowry",
          "Jimmy Butler",
          "Victor Oladipo",
          "P.J. Tucker",
          "P.J. Tucker",
          "Kyle Lowry",
          "Max Strus",
          "Bam Adebayo",
          "P.J. Tucker",
          "Kyle Lowry",
          "Bam Adebayo",
          "Duncan Robinson",
          "Jimmy Butler",
          "Victor Oladipo",
          "Gabe Vincent",
          "Bam Adebayo",
          "Gabe Vincent",
          "Max Strus",
          "Gabe Vincent",
          "Duncan Robinson",
          "Kyle Lowry",
          "Jimmy Butler",
          "Jimmy Butler",
          "Jimmy Butler",
          "Max Strus",
          "Kyle Lowry",
          "P.J. Tucker",
          "Max Strus",
          "Kyle Lowry",
          "Kyle Lowry",
          "Jimmy Butler",
          "Kyle Lowry",
          "Caleb Martin",
          "Victor Oladipo",
          "Caleb Martin",
          "Kyle Lowry",
          "Duncan Robinson",
          "P.J. Tucker",
          "Bam Adebayo",
          "Max Strus",
          "Bam Adebayo",
          "Kyle Lowry",
          "Jimmy Butler",
          "Bam Adebayo",
          "P.J. Tucker",
          "Victor Oladipo",
          "Jimmy Butler",
          "Caleb Martin",
          "Duncan Robinson",
          "Kyle Lowry",
          "Bam Adebayo",
          "Jimmy Butler",
          "Duncan Robinson",
          "Gabe Vincent",
          "Gabe Vincent",
          "Haywood Highsmith",
          "Derrick White",
          "Payton Pritchard",
          "Derrick White",
          "Robert Williams III",
          "Al Horford",
          "Jaylen Brown",
          "Jayson Tatum",
          "Al Horford",
          "Jaylen Brown",
          "Al Horford",
          "Grant Williams",
          "Jayson Tatum",
          "Al Horford",
          "Grant Williams",
          "Marcus Smart",
          "Jayson Tatum",
          "Jaylen Brown",
          "Al Horford",
          "Robert Williams III",
          "Derrick White",
          "Jaylen Brown",
          "Al Horford",
          "Marcus Smart",
          "Jayson Tatum",
          "Robert Williams III",
          "Al Horford",
          "Jaylen Brown",
          "Al Horford",
          "Robert Williams III",
          "Al Horford",
          "Jaylen Brown",
          "Al Horford",
          "Al Horford",
          "Marcus Smart",
          "Al Horford",
          "Robert Williams III",
          "Jayson Tatum",
          "Al Horford",
          "Al Horford",
          "Marcus Smart",
          "Robert Williams III",
          "Jaylen Brown",
          "Jayson Tatum",
          "Jaylen Brown",
          "Derrick White",
          "Robert Williams III",
          "Jayson Tatum",
          "Al Horford",
          "Derrick White",
          "Grant Williams",
          "Grant Williams",
          "Payton Pritchard",
          "Marcus Smart",
          "Grant Williams",
          "Payton Pritchard",
          "Jayson Tatum",
          "Payton Pritchard",
          "Robert Williams III",
          "Jayson Tatum",
          "Marcus Smart",
          "Grant Williams",
          "Jayson Tatum",
          "Jaylen Brown",
          "Marcus Smart",
          "Jaylen Brown",
          "Robert Williams III",
          "Derrick White",
          "Marcus Smart",
          "Al Horford",
          "Jayson Tatum",
          "Marcus Smart",
          "Grant Williams",
          "Jaylen Brown",
          "Marcus Smart",
          "Marcus Smart",
          "Jayson Tatum",
          "Marcus Smart",
          "Jayson Tatum",
          "Jayson Tatum",
          "Derrick White",
          "Robert Williams III",
          "Derrick White",
          "Jayson Tatum",
          "Derrick White",
          "Al Horford",
          "Derrick White",
          "Robert Williams III",
          "Marcus Smart",
          "Jaylen Brown",
          "Al Horford",
          "Derrick White",
          "Jayson Tatum",
          "Al Horford",
          "Jayson Tatum",
          "Payton Pritchard",
          "Jayson Tatum",
          "Al Horford",
          "Jayson Tatum",
          "Al Horford",
          "Grant Williams",
          "Jayson Tatum",
          "Grant Williams",
          "Jayson Tatum",
          "Jayson Tatum",
          "Grant Williams",
          "Derrick White",
          "Grant Williams",
          "Grant Williams",
          "Al Horford",
          "Jaylen Brown",
          "Payton Pritchard",
          "Jayson Tatum",
          "Payton Pritchard",
          "Jayson Tatum",
          "Grant Williams",
          "Payton Pritchard",
          "Derrick White",
          "Derrick White",
          "Payton Pritchard",
          "Payton Pritchard",
          "Derrick White",
          "Grant Williams",
          "Grant Williams",
          "Aaron Nesmith",
          "Daniel Theis",
          "Aaron Nesmith",
          "Robert Williams III",
          "Jaylen Brown",
          "Jayson Tatum",
          "Al Horford",
          "Jaylen Brown",
          "Jaylen Brown",
          "Derrick White",
          "Robert Williams III",
          "Jayson Tatum",
          "Al Horford",
          "Derrick White",
          "Payton Pritchard",
          "Derrick White",
          "Al Horford",
          "Al Horford",
          "Derrick White",
          "Derrick White",
          "Al Horford",
          "Derrick White",
          "Jaylen Brown",
          "Derrick White",
          "Al Horford",
          "Grant Williams",
          "Derrick White",
          "Jaylen Brown",
          "Robert Williams III",
          "Jayson Tatum",
          "Derrick White",
          "Jayson Tatum",
          "Al Horford",
          "Derrick White",
          "Jayson Tatum",
          "Al Horford",
          "Al Horford",
          "Al Horford",
          "Derrick White",
          "Derrick White",
          "Derrick White",
          "Jaylen Brown",
          "Al Horford",
          "Payton Pritchard",
          "Al Horford",
          "Derrick White",
          "Al Horford",
          "Al Horford",
          "Grant Williams",
          "Grant Williams",
          "Payton Pritchard",
          "Daniel Theis",
          "Payton Pritchard",
          "Aaron Nesmith",
          "Payton Pritchard",
          "Grant Williams",
          "Payton Pritchard",
          "Aaron Nesmith",
          "Daniel Theis",
          "Aaron Nesmith",
          "Aaron Nesmith",
          "Aaron Nesmith",
          "Daniel Theis",
          "Dewayne Dedmon",
          "Dewayne Dedmon",
          "Gabe Vincent",
          "Dewayne Dedmon",
          "Caleb Martin",
          "Caleb Martin",
          "Gabe Vincent",
          "Duncan Robinson",
          "Bam Adebayo",
          "Kyle Lowry",
          "Jimmy Butler",
          "Bam Adebayo",
          "Kyle Lowry",
          "Bam Adebayo",
          "P.J. Tucker",
          "Kyle Lowry",
          "Bam Adebayo",
          "Jimmy Butler",
          "Bam Adebayo",
          "Dewayne Dedmon",
          "Duncan Robinson",
          "Duncan Robinson",
          "Gabe Vincent",
          "Bam Adebayo",
          "Duncan Robinson",
          "Max Strus",
          "Kyle Lowry",
          "Victor Oladipo",
          "Max Strus",
          "Jimmy Butler",
          "P.J. Tucker",
          "Kyle Lowry",
          "Kyle Lowry",
          "Victor Oladipo",
          "Gabe Vincent",
          "Caleb Martin",
          "Duncan Robinson",
          "Dewayne Dedmon",
          "Victor Oladipo",
          "Dewayne Dedmon",
          "Caleb Martin",
          "Caleb Martin",
          "Haywood Highsmith",
          "Kyle Lowry",
          "Kyle Lowry",
          "Duncan Robinson",
          "Victor Oladipo",
          "Gabe Vincent",
          "Caleb Martin",
          "Bam Adebayo",
          "Bam Adebayo",
          "Caleb Martin",
          "Bam Adebayo",
          "Kyle Lowry",
          "Victor Oladipo",
          "Jimmy Butler",
          "Bam Adebayo",
          "P.J. Tucker",
          "Caleb Martin",
          "Kyle Lowry",
          "Jimmy Butler",
          "P.J. Tucker",
          "Kyle Lowry",
          "Max Strus",
          "Jimmy Butler",
          "Victor Oladipo",
          "Kyle Lowry",
          "Kyle Lowry",
          "Jimmy Butler",
          "Caleb Martin",
          "Caleb Martin",
          "Gabe Vincent",
          "Duncan Robinson",
          "Victor Oladipo",
          "Bam Adebayo",
          "Victor Oladipo",
          "Dewayne Dedmon",
          "Gabe Vincent",
          "Duncan Robinson",
          "Victor Oladipo",
          "Omer Yurtseven",
          "Duncan Robinson",
          "Gabe Vincent",
          "Jaylen Brown",
          "Marcus Smart",
          "Derrick White",
          "Al Horford",
          "Grant Williams",
          "Jayson Tatum",
          "Marcus Smart",
          "Al Horford",
          "Jayson Tatum",
          "Daniel Theis",
          "Al Horford",
          "Marcus Smart",
          "Al Horford",
          "Daniel Theis",
          "Al Horford",
          "Al Horford",
          "Jaylen Brown",
          "Marcus Smart",
          "Marcus Smart",
          "Al Horford",
          "Daniel Theis",
          "Daniel Theis",
          "Marcus Smart",
          "Al Horford",
          "Payton Pritchard",
          "Al Horford",
          "Marcus Smart",
          "Jayson Tatum",
          "Marcus Smart",
          "Payton Pritchard",
          "Al Horford",
          "Jayson Tatum",
          "Al Horford",
          "Jayson Tatum",
          "Jayson Tatum",
          "Jaylen Brown",
          "Grant Williams",
          "Al Horford",
          "Payton Pritchard",
          "Jayson Tatum",
          "Al Horford",
          "Jaylen Brown",
          "Al Horford",
          "Grant Williams",
          "Al Horford",
          "Marcus Smart",
          "Jayson Tatum",
          "Jayson Tatum",
          "Al Horford",
          "Marcus Smart",
          "Jayson Tatum",
          "Al Horford",
          "Grant Williams",
          "Al Horford",
          "Marcus Smart",
          "Jaylen Brown",
          "Daniel Theis",
          "Marcus Smart",
          "Grant Williams",
          "Daniel Theis",
          "Jaylen Brown",
          "Grant Williams",
          "Al Horford",
          "Al Horford",
          "Payton Pritchard",
          "Al Horford",
          "Al Horford",
          "Al Horford",
          "Jaylen Brown",
          "Payton Pritchard",
          "Jaylen Brown",
          "Grant Williams",
          "Jaylen Brown",
          "Marcus Smart",
          "Jaylen Brown",
          "Marcus Smart",
          "Marcus Smart",
          "Al Horford",
          "Jayson Tatum",
          "Al Horford",
          "Grant Williams",
          "Jaylen Brown",
          "Jayson Tatum",
          "Jaylen Brown",
          "Payton Pritchard",
          "Jayson Tatum",
          "Jaylen Brown",
          "Jayson Tatum",
          "Jayson Tatum",
          "Jaylen Brown",
          "Al Horford",
          "Jaylen Brown",
          "Marcus Smart",
          "Grant Williams",
          "Jayson Tatum",
          "Jaylen Brown",
          "Al Horford",
          "Marcus Smart",
          "Grant Williams",
          "Marcus Smart",
          "Grant Williams",
          "Daniel Theis",
          "Marcus Smart",
          "Grant Williams",
          "Jaylen Brown",
          "Jayson Tatum",
          "Al Horford",
          "Derrick White",
          "Al Horford",
          "Al Horford",
          "Al Horford",
          "Marcus Smart",
          "Jayson Tatum",
          "Max Strus",
          "Max Strus",
          "Kyle Lowry",
          "Bam Adebayo",
          "Jimmy Butler",
          "Jimmy Butler",
          "Bam Adebayo",
          "Max Strus",
          "Gabe Vincent",
          "Bam Adebayo",
          "Gabe Vincent",
          "Jimmy Butler",
          "Caleb Martin",
          "Kyle Lowry",
          "Kyle Lowry",
          "Jimmy Butler",
          "P.J. Tucker",
          "Jimmy Butler",
          "Gabe Vincent",
          "Victor Oladipo",
          "P.J. Tucker",
          "Bam Adebayo",
          "Victor Oladipo",
          "Tyler Herro",
          "Victor Oladipo",
          "Kyle Lowry",
          "Bam Adebayo",
          "Bam Adebayo",
          "Kyle Lowry",
          "Jimmy Butler",
          "Gabe Vincent",
          "Tyler Herro",
          "Jimmy Butler",
          "Bam Adebayo",
          "Tyler Herro",
          "Duncan Robinson",
          "Kyle Lowry",
          "Jimmy Butler",
          "Kyle Lowry",
          "Kyle Lowry",
          "Max Strus",
          "Max Strus",
          "Max Strus",
          "Kyle Lowry",
          "Victor Oladipo",
          "Victor Oladipo",
          "Bam Adebayo",
          "Tyler Herro",
          "Kyle Lowry",
          "Bam Adebayo",
          "Gabe Vincent",
          "Gabe Vincent",
          "Victor Oladipo",
          "Max Strus",
          "Kyle Lowry",
          "Jimmy Butler",
          "P.J. Tucker",
          "Jimmy Butler",
          "Kyle Lowry",
          "Bam Adebayo",
          "Jimmy Butler",
          "Max Strus",
          "Gabe Vincent",
          "Dewayne Dedmon",
          "Dewayne Dedmon",
          "Gabe Vincent",
          "Gabe Vincent",
          "Tyler Herro",
          "Duncan Robinson",
          "Bam Adebayo",
          "P.J. Tucker",
          "Bam Adebayo",
          "P.J. Tucker",
          "Kyle Lowry",
          "Jimmy Butler",
          "Jimmy Butler",
          "P.J. Tucker",
          "Bam Adebayo",
          "Bam Adebayo",
          "Caleb Martin",
          "P.J. Tucker",
          "Bam Adebayo",
          "Marcus Smart",
          "Derrick White",
          "Jayson Tatum",
          "Derrick White",
          "Robert Williams III",
          "Al Horford",
          "Jayson Tatum",
          "Jaylen Brown",
          "Jayson Tatum",
          "Derrick White",
          "Al Horford",
          "Al Horford",
          "Jayson Tatum",
          "Jaylen Brown",
          "Al Horford",
          "Robert Williams III",
          "Robert Williams III",
          "Marcus Smart",
          "Marcus Smart",
          "Jayson Tatum",
          "Al Horford",
          "Robert Williams III",
          "Robert Williams III",
          "Al Horford",
          "Jayson Tatum",
          "Jayson Tatum",
          "Marcus Smart",
          "Jayson Tatum",
          "Robert Williams III",
          "Marcus Smart",
          "Marcus Smart",
          "Grant Williams",
          "Jaylen Brown",
          "Marcus Smart",
          "Al Horford",
          "Al Horford",
          "Jayson Tatum",
          "Robert Williams III",
          "Jayson Tatum",
          "Jayson Tatum",
          "Jayson Tatum",
          "Robert Williams III",
          "Jayson Tatum",
          "Jaylen Brown",
          "Robert Williams III",
          "Jaylen Brown",
          "Jayson Tatum",
          "Jayson Tatum",
          "Marcus Smart",
          "Robert Williams III",
          "Robert Williams III",
          "Al Horford",
          "Al Horford",
          "Jaylen Brown",
          "Jaylen Brown",
          "Al Horford",
          "Robert Williams III",
          "Jayson Tatum",
          "Grant Williams",
          "Robert Williams III",
          "Payton Pritchard",
          "Robert Williams III",
          "Jayson Tatum",
          "Robert Williams III",
          "Jayson Tatum",
          "Marcus Smart",
          "Jaylen Brown",
          "Jaylen Brown",
          "Robert Williams III",
          "Marcus Smart",
          "Payton Pritchard",
          "Al Horford",
          "Jayson Tatum",
          "Jayson Tatum",
          "Derrick White",
          "Al Horford",
          "Al Horford",
          "Marcus Smart",
          "Jayson Tatum",
          "Al Horford",
          "Marcus Smart",
          "Robert Williams III",
          "Marcus Smart",
          "Jayson Tatum",
          "Marcus Smart",
          "Al Horford",
          "Derrick White",
          "Marcus Smart",
          "Robert Williams III",
          "Jaylen Brown",
          "Jaylen Brown",
          "Marcus Smart",
          "Draymond Green",
          "Stephen Curry",
          "Andrew Wiggins",
          "Jordan Poole",
          "Nemanja Bjelica",
          "Draymond Green",
          "Gary Payton II",
          "Stephen Curry",
          "Kevon Looney",
          "Klay Thompson",
          "Draymond Green",
          "Otto Porter Jr.",
          "Stephen Curry",
          "Andrew Wiggins",
          "Draymond Green",
          "Otto Porter Jr.",
          "Draymond Green",
          "Draymond Green",
          "Draymond Green",
          "Kevon Looney",
          "Kevon Looney",
          "Jordan Poole",
          "Gary Payton II",
          "Draymond Green",
          "Jordan Poole",
          "Draymond Green",
          "Klay Thompson",
          "Draymond Green",
          "Klay Thompson",
          "Stephen Curry",
          "Kevon Looney",
          "Andrew Wiggins",
          "Otto Porter Jr.",
          "Stephen Curry",
          "Andrew Wiggins",
          "Andrew Wiggins",
          "Stephen Curry",
          "Draymond Green",
          "Kevon Looney",
          "Kevon Looney",
          "Jordan Poole",
          "Jordan Poole",
          "Draymond Green",
          "Nemanja Bjelica",
          "Nemanja Bjelica",
          "Stephen Curry",
          "Stephen Curry",
          "Draymond Green",
          "Stephen Curry",
          "Otto Porter Jr.",
          "Kevon Looney",
          "Draymond Green",
          "Kevon Looney",
          "Kevon Looney",
          "Kevon Looney",
          "Stephen Curry",
          "Andrew Wiggins",
          "Stephen Curry",
          "Andrew Wiggins",
          "Andrew Wiggins",
          "Draymond Green",
          "Nemanja Bjelica",
          "Jordan Poole",
          "Andrew Wiggins",
          "Jordan Poole",
          "Andrew Wiggins",
          "Kevon Looney",
          "Kevon Looney",
          "Stephen Curry",
          "Andrew Wiggins",
          "Klay Thompson",
          "Andrew Wiggins",
          "Andrew Wiggins",
          "Stephen Curry",
          "Otto Porter Jr.",
          "Draymond Green",
          "Andrew Wiggins",
          "Andrew Wiggins",
          "Kevon Looney",
          "Gary Payton II",
          "Andrew Wiggins",
          "Kevon Looney",
          "Jordan Poole",
          "Gary Payton II",
          "Gary Payton II",
          "Draymond Green",
          "Andrew Wiggins",
          "Andrew Wiggins",
          "Jordan Poole",
          "Stephen Curry",
          "Andrew Wiggins",
          "Stephen Curry",
          "Andrew Wiggins",
          "Klay Thompson",
          "Stephen Curry",
          "Derrick White",
          "Marcus Smart",
          "Jayson Tatum",
          "Al Horford",
          "Jayson Tatum",
          "Robert Williams III",
          "Robert Williams III",
          "Robert Williams III",
          "Payton Pritchard",
          "Jayson Tatum",
          "Grant Williams",
          "Robert Williams III",
          "Robert Williams III",
          "Marcus Smart",
          "Al Horford",
          "Derrick White",
          "Al Horford",
          "Robert Williams III",
          "Jaylen Brown",
          "Grant Williams",
          "Derrick White",
          "Grant Williams",
          "Jaylen Brown",
          "Payton Pritchard",
          "Payton Pritchard",
          "Al Horford",
          "Al Horford",
          "Derrick White",
          "Marcus Smart",
          "Al Horford",
          "Jayson Tatum",
          "Derrick White",
          "Marcus Smart",
          "Jaylen Brown",
          "Robert Williams III",
          "Robert Williams III",
          "Robert Williams III",
          "Derrick White",
          "Marcus Smart",
          "Al Horford",
          "Derrick White",
          "Al Horford",
          "Jaylen Brown",
          "Jayson Tatum",
          "Robert Williams III",
          "Jayson Tatum",
          "Robert Williams III",
          "Jaylen Brown",
          "Al Horford",
          "Al Horford",
          "Robert Williams III",
          "Al Horford",
          "Marcus Smart",
          "Jayson Tatum",
          "Jayson Tatum",
          "Jayson Tatum",
          "Marcus Smart",
          "Al Horford",
          "Jaylen Brown",
          "Grant Williams",
          "Marcus Smart",
          "Robert Williams III",
          "Al Horford",
          "Jaylen Brown",
          "Robert Williams III",
          "Jaylen Brown",
          "Marcus Smart",
          "Al Horford",
          "Jayson Tatum",
          "Al Horford",
          "Jaylen Brown",
          "Al Horford",
          "Robert Williams III",
          "Jayson Tatum",
          "Jayson Tatum",
          "Grant Williams",
          "Marcus Smart",
          "Robert Williams III",
          "Grant Williams",
          "Robert Williams III",
          "Jayson Tatum",
          "Marcus Smart",
          "Robert Williams III",
          "Al Horford",
          "Marcus Smart",
          "Gary Payton II",
          "Klay Thompson",
          "Stephen Curry",
          "Klay Thompson",
          "Andrew Wiggins",
          "Stephen Curry",
          "Stephen Curry",
          "Otto Porter Jr.",
          "Klay Thompson",
          "Klay Thompson",
          "Draymond Green",
          "Draymond Green",
          "Andrew Wiggins",
          "Andrew Wiggins",
          "Draymond Green",
          "Andrew Wiggins",
          "Stephen Curry",
          "Stephen Curry",
          "Draymond Green",
          "Stephen Curry",
          "Gary Payton II",
          "Stephen Curry",
          "Andrew Wiggins",
          "Draymond Green",
          "Stephen Curry",
          "Otto Porter Jr.",
          "Nemanja Bjelica",
          "Draymond Green",
          "Draymond Green",
          "Nemanja Bjelica",
          "Andrew Wiggins",
          "Draymond Green",
          "Draymond Green",
          "Kevon Looney",
          "Stephen Curry",
          "Kevon Looney",
          "Jordan Poole",
          "Kevon Looney",
          "Andrew Wiggins",
          "Stephen Curry",
          "Klay Thompson",
          "Draymond Green",
          "Kevon Looney",
          "Stephen Curry",
          "Draymond Green",
          "Stephen Curry",
          "Otto Porter Jr.",
          "Draymond Green",
          "Kevon Looney",
          "Draymond Green",
          "Draymond Green",
          "Draymond Green",
          "Otto Porter Jr.",
          "Jordan Poole",
          "Klay Thompson",
          "Gary Payton II",
          "Kevon Looney",
          "Kevon Looney",
          "Stephen Curry",
          "Draymond Green",
          "Draymond Green",
          "Andrew Wiggins",
          "Draymond Green",
          "Stephen Curry",
          "Klay Thompson",
          "Otto Porter Jr.",
          "Klay Thompson",
          "Andrew Wiggins",
          "Kevon Looney",
          "Draymond Green",
          "Stephen Curry",
          "Andrew Wiggins",
          "Otto Porter Jr.",
          "Draymond Green",
          "Stephen Curry",
          "Jonathan Kuminga",
          "Jordan Poole",
          "Jordan Poole",
          "Kevon Looney",
          "Kevon Looney",
          "Otto Porter Jr.",
          "Jordan Poole",
          "Gary Payton II",
          "Jordan Poole",
          "Kevon Looney",
          "Otto Porter Jr.",
          "Kevon Looney",
          "Otto Porter Jr.",
          "Stephen Curry",
          "Klay Thompson",
          "Draymond Green",
          "Stephen Curry",
          "Andrew Wiggins",
          "Otto Porter Jr.",
          "Gary Payton II",
          "Otto Porter Jr.",
          "Stephen Curry",
          "Otto Porter Jr.",
          "Nemanja Bjelica",
          "Klay Thompson",
          "Gary Payton II",
          "Draymond Green",
          "Klay Thompson",
          "Andrew Wiggins",
          "Stephen Curry",
          "Andrew Wiggins",
          "Kevon Looney",
          "Kevon Looney",
          "Kevon Looney",
          "Gary Payton II",
          "Jordan Poole",
          "Draymond Green",
          "Andrew Wiggins",
          "Klay Thompson",
          "Draymond Green",
          "Andrew Wiggins",
          "Draymond Green",
          "Otto Porter Jr.",
          "Draymond Green",
          "Kevon Looney",
          "Stephen Curry",
          "Otto Porter Jr.",
          "Gary Payton II",
          "Klay Thompson",
          "Nemanja Bjelica",
          "Jordan Poole",
          "Draymond Green",
          "Gary Payton II",
          "Juan Toscano-Anderson",
          "Jordan Poole",
          "Jonathan Kuminga",
          "Kevon Looney",
          "Klay Thompson",
          "Stephen Curry",
          "Kevon Looney",
          "Draymond Green",
          "Draymond Green",
          "Stephen Curry",
          "Otto Porter Jr.",
          "Nemanja Bjelica",
          "Jordan Poole",
          "Nemanja Bjelica",
          "Nemanja Bjelica",
          "Otto Porter Jr.",
          "Draymond Green",
          "Stephen Curry",
          "Andrew Wiggins",
          "Draymond Green",
          "Andrew Wiggins",
          "Stephen Curry",
          "Klay Thompson",
          "Klay Thompson",
          "Draymond Green",
          "Draymond Green",
          "Stephen Curry",
          "Klay Thompson",
          "Kevon Looney",
          "Kevon Looney",
          "Draymond Green",
          "Andrew Wiggins",
          "Klay Thompson",
          "Draymond Green",
          "Nemanja Bjelica",
          "Nemanja Bjelica",
          "Kevon Looney",
          "Moses Moody",
          "Gary Payton II",
          "Klay Thompson",
          "Moses Moody",
          "Juan Toscano-Anderson",
          "Juan Toscano-Anderson",
          "Derrick White",
          "Marcus Smart",
          "Payton Pritchard",
          "Aaron Nesmith",
          "Al Horford",
          "Marcus Smart",
          "Al Horford",
          "Al Horford",
          "Marcus Smart",
          "Al Horford",
          "Derrick White",
          "Al Horford",
          "Derrick White",
          "Marcus Smart",
          "Derrick White",
          "Jaylen Brown",
          "Al Horford",
          "Al Horford",
          "Jayson Tatum",
          "Al Horford",
          "Al Horford",
          "Jayson Tatum",
          "Marcus Smart",
          "Al Horford",
          "Al Horford",
          "Robert Williams III",
          "Jayson Tatum",
          "Jaylen Brown",
          "Jayson Tatum",
          "Al Horford",
          "Derrick White",
          "Payton Pritchard",
          "Daniel Theis",
          "Jaylen Brown",
          "Jaylen Brown",
          "Daniel Theis",
          "Payton Pritchard",
          "Aaron Nesmith",
          "Sam Hauser",
          "Nik Stauskas",
          "Luke Kornet",
          "Robert Williams III",
          "Jayson Tatum",
          "Robert Williams III",
          "Al Horford",
          "Jaylen Brown",
          "Jayson Tatum",
          "Al Horford",
          "Jaylen Brown",
          "Al Horford",
          "Grant Williams",
          "Jaylen Brown",
          "Marcus Smart",
          "Grant Williams",
          "Daniel Theis",
          "Jayson Tatum",
          "Daniel Theis",
          "Derrick White",
          "Daniel Theis",
          "Payton Pritchard",
          "Jayson Tatum",
          "Jaylen Brown",
          "Jayson Tatum",
          "Payton Pritchard",
          "Jayson Tatum",
          "Jaylen Brown",
          "Derrick White",
          "Jaylen Brown",
          "Derrick White",
          "Al Horford",
          "Derrick White",
          "Al Horford",
          "Marcus Smart",
          "Al Horford",
          "Marcus Smart",
          "Al Horford",
          "Marcus Smart",
          "Jayson Tatum",
          "Jaylen Brown",
          "Al Horford",
          "Al Horford",
          "Marcus Smart",
          "Aaron Nesmith",
          "Derrick White",
          "Aaron Nesmith",
          "Payton Pritchard",
          "Daniel Theis",
          "Payton Pritchard",
          "Nik Stauskas",
          "Nik Stauskas",
          "Stephen Curry",
          "Gary Payton II",
          "Stephen Curry",
          "Stephen Curry",
          "Draymond Green",
          "Andrew Wiggins",
          "Andrew Wiggins",
          "Klay Thompson",
          "Klay Thompson",
          "Andrew Wiggins",
          "Andrew Wiggins",
          "Draymond Green",
          "Kevon Looney",
          "Andre Iguodala",
          "Andre Iguodala",
          "Draymond Green",
          "Andrew Wiggins",
          "Gary Payton II",
          "Jordan Poole",
          "Gary Payton II",
          "Andrew Wiggins",
          "Andrew Wiggins",
          "Draymond Green",
          "Andrew Wiggins",
          "Andrew Wiggins",
          "Draymond Green",
          "Andrew Wiggins",
          "Draymond Green",
          "Gary Payton II",
          "Gary Payton II",
          "Draymond Green",
          "Stephen Curry",
          "Gary Payton II",
          "Draymond Green",
          "Gary Payton II",
          "Draymond Green",
          "Otto Porter Jr.",
          "Andrew Wiggins",
          "Klay Thompson",
          "Andrew Wiggins",
          "Draymond Green",
          "Andrew Wiggins",
          "Gary Payton II",
          "Draymond Green",
          "Andrew Wiggins",
          "Draymond Green",
          "Jordan Poole",
          "Nemanja Bjelica",
          "Nemanja Bjelica",
          "Gary Payton II",
          "Jordan Poole",
          "Andrew Wiggins",
          "Jordan Poole",
          "Klay Thompson",
          "Otto Porter Jr.",
          "Stephen Curry",
          "Draymond Green",
          "Andrew Wiggins",
          "Kevon Looney",
          "Stephen Curry",
          "Draymond Green",
          "Andrew Wiggins",
          "Andrew Wiggins",
          "Jordan Poole",
          "Kevon Looney",
          "Kevon Looney",
          "Andrew Wiggins",
          "Jordan Poole",
          "Gary Payton II",
          "Andrew Wiggins",
          "Draymond Green",
          "Derrick White",
          "Jayson Tatum",
          "Robert Williams III",
          "Jaylen Brown",
          "Marcus Smart",
          "Jayson Tatum",
          "Robert Williams III",
          "Al Horford",
          "Robert Williams III",
          "Jaylen Brown",
          "Derrick White",
          "Jaylen Brown",
          "Marcus Smart",
          "Robert Williams III",
          "Jayson Tatum",
          "Robert Williams III",
          "Al Horford",
          "Marcus Smart",
          "Marcus Smart",
          "Jaylen Brown",
          "Al Horford",
          "Al Horford",
          "Al Horford",
          "Marcus Smart",
          "Marcus Smart",
          "Robert Williams III",
          "Robert Williams III",
          "Marcus Smart",
          "Al Horford",
          "Derrick White",
          "Al Horford",
          "Robert Williams III",
          "Al Horford",
          "Robert Williams III",
          "Al Horford",
          "Marcus Smart",
          "Al Horford",
          "Derrick White",
          "Derrick White",
          "Al Horford",
          "Marcus Smart",
          "Jaylen Brown",
          "Jayson Tatum",
          "Al Horford",
          "Marcus Smart",
          "Grant Williams",
          "Derrick White",
          "Grant Williams",
          "Grant Williams",
          "Robert Williams III",
          "Derrick White",
          "Jayson Tatum",
          "Payton Pritchard",
          "Jayson Tatum",
          "Jayson Tatum",
          "Robert Williams III",
          "Derrick White",
          "Jaylen Brown",
          "Jayson Tatum",
          "Jayson Tatum",
          "Jaylen Brown",
          "Marcus Smart",
          "Jayson Tatum",
          "Jaylen Brown",
          "Al Horford",
          "Marcus Smart",
          "Al Horford",
          "Marcus Smart",
          "Jaylen Brown",
          "Al Horford",
          "Robert Williams III",
          "Al Horford",
          "Marcus Smart",
          "Jayson Tatum",
          "Marcus Smart",
          "Grant Williams",
          "Robert Williams III",
          "Marcus Smart",
          "Grant Williams",
          "Grant Williams",
          "Derrick White",
          "Jaylen Brown",
          "Jayson Tatum",
          "Al Horford",
          "Grant Williams",
          "Robert Williams III",
          "Marcus Smart",
          "Jayson Tatum",
          "Marcus Smart",
          "Al Horford",
          "Jayson Tatum",
          "Jaylen Brown",
          "Jaylen Brown",
          "Marcus Smart",
          "Robert Williams III",
          "Al Horford",
          "Luke Kornet",
          "Nik Stauskas",
          "Sam Hauser",
          "Juwan Morgan",
          "Nik Stauskas",
          "Sam Hauser",
          "Jordan Poole",
          "Damion Lee",
          "Otto Porter Jr.",
          "Kevon Looney",
          "Kevon Looney",
          "Draymond Green",
          "Kevon Looney",
          "Jordan Poole",
          "Juan Toscano-Anderson",
          "Moses Moody",
          "Andrew Wiggins",
          "Kevon Looney",
          "Kevon Looney",
          "Andrew Wiggins",
          "Stephen Curry",
          "Draymond Green",
          "Otto Porter Jr.",
          "Jordan Poole",
          "Stephen Curry",
          "Damion Lee",
          "Otto Porter Jr.",
          "Andrew Wiggins",
          "Draymond Green",
          "Draymond Green",
          "Kevon Looney",
          "Jordan Poole",
          "Jordan Poole",
          "Andrew Wiggins",
          "Draymond Green",
          "Draymond Green",
          "Klay Thompson",
          "Andrew Wiggins",
          "Draymond Green",
          "Stephen Curry",
          "Otto Porter Jr.",
          "Otto Porter Jr.",
          "Andrew Wiggins",
          "Draymond Green",
          "Damion Lee",
          "Andrew Wiggins",
          "Nemanja Bjelica",
          "Kevon Looney",
          "Stephen Curry",
          "Andrew Wiggins",
          "Draymond Green",
          "Draymond Green",
          "Klay Thompson",
          "Draymond Green",
          "Andrew Wiggins",
          "Otto Porter Jr.",
          "Draymond Green",
          "Jordan Poole",
          "Draymond Green",
          "Otto Porter Jr.",
          "Andrew Wiggins",
          "Otto Porter Jr.",
          "Draymond Green",
          "Kevon Looney",
          "Damion Lee",
          "Damion Lee",
          "Jordan Poole",
          "Draymond Green",
          "Stephen Curry",
          "Klay Thompson",
          "Klay Thompson",
          "Draymond Green",
          "Stephen Curry",
          "Andrew Wiggins",
          "Stephen Curry",
          "Draymond Green",
          "Kevon Looney",
          "Otto Porter Jr.",
          "Stephen Curry",
          "Klay Thompson",
          "Draymond Green",
          "Otto Porter Jr.",
          "Andrew Wiggins",
          "Otto Porter Jr.",
          "Draymond Green",
          "Otto Porter Jr.",
          "Draymond Green",
          "Otto Porter Jr.",
          "Jordan Poole",
          "Jonathan Kuminga",
          "Juan Toscano-Anderson",
          "Damion Lee",
          "Nemanja Bjelica",
          "Jonathan Kuminga",
          "Jalen Brunson",
          "Dwight Powell",
          "Reggie Bullock",
          "Jalen Brunson",
          "Sterling Brown",
          "Sterling Brown",
          "Davis Bertans",
          "Davis Bertans",
          "Trey Burke",
          "Jalen Brunson",
          "Dwight Powell",
          "Dorian Finney-Smith",
          "Jalen Brunson",
          "Dorian Finney-Smith",
          "Luka Doncic",
          "Jalen Brunson",
          "Jalen Brunson",
          "Dorian Finney-Smith",
          "Maxi Kleber",
          "Reggie Bullock",
          "Luka Doncic",
          "Luka Doncic",
          "Spencer Dinwiddie",
          "Luka Doncic",
          "Dorian Finney-Smith",
          "Dorian Finney-Smith",
          "Dorian Finney-Smith",
          "Spencer Dinwiddie",
          "Frank Ntilikina",
          "Spencer Dinwiddie",
          "Jalen Brunson",
          "Dorian Finney-Smith",
          "Dorian Finney-Smith",
          "Dwight Powell",
          "Luka Doncic",
          "Dwight Powell",
          "Reggie Bullock",
          "Dwight Powell",
          "Dwight Powell",
          "Dorian Finney-Smith",
          "Maxi Kleber",
          "Maxi Kleber",
          "Reggie Bullock",
          "Maxi Kleber",
          "Maxi Kleber",
          "Davis Bertans",
          "Reggie Bullock",
          "Luka Doncic",
          "Maxi Kleber",
          "Maxi Kleber",
          "Reggie Bullock",
          "Frank Ntilikina",
          "Maxi Kleber",
          "Reggie Bullock",
          "Luka Doncic",
          "Reggie Bullock",
          "Reggie Bullock",
          "Jalen Brunson",
          "Reggie Bullock",
          "Maxi Kleber",
          "Jalen Brunson",
          "Dwight Powell",
          "Luka Doncic",
          "Dwight Powell",
          "Jalen Brunson",
          "Maxi Kleber",
          "Jalen Brunson",
          "Davis Bertans",
          "Luka Doncic",
          "Spencer Dinwiddie",
          "Dorian Finney-Smith",
          "Spencer Dinwiddie",
          "Josh Green",
          "Spencer Dinwiddie",
          "Josh Green",
          "Sterling Brown",
          "Sterling Brown",
          "Trey Burke",
          "Sterling Brown"
         ],
         "x0": " ",
         "xaxis": "x",
         "y": [
          2,
          1,
          2,
          2,
          1,
          0,
          0,
          0,
          1,
          1,
          1,
          1,
          1,
          0,
          0,
          0,
          0,
          0,
          0,
          0,
          0,
          0,
          0,
          0,
          0,
          3,
          0,
          0,
          0,
          0,
          0,
          0,
          0,
          0,
          0,
          0,
          0,
          0,
          0,
          0,
          0,
          1,
          0,
          0,
          0,
          0,
          0,
          0,
          0,
          0,
          0,
          0,
          0,
          0,
          0,
          1,
          3,
          0,
          0,
          0,
          2,
          0,
          0,
          4,
          1,
          0,
          0,
          0,
          1,
          2,
          0,
          0,
          1,
          0,
          2,
          0,
          0,
          0,
          0,
          0,
          0,
          2,
          0,
          0,
          0,
          null,
          0,
          0,
          0,
          0,
          3,
          0,
          0,
          0,
          0,
          1,
          2,
          1,
          1,
          0,
          0,
          0,
          1,
          0,
          0,
          0,
          0,
          1,
          0,
          0,
          0,
          0,
          0,
          0,
          0,
          1,
          0,
          0,
          0,
          0,
          1,
          0,
          0,
          0,
          0,
          0,
          0,
          0,
          0,
          0,
          0,
          0,
          0,
          0,
          0,
          0,
          0,
          0,
          0,
          0,
          0,
          0,
          0,
          2,
          3,
          null,
          0,
          0,
          0,
          2,
          0,
          0,
          0,
          0,
          null,
          null,
          0,
          0,
          2,
          0,
          0,
          0,
          1,
          0,
          0,
          0,
          0,
          0,
          0,
          0,
          0,
          0,
          0,
          0,
          0,
          0,
          0,
          0,
          0,
          0,
          0,
          0,
          0,
          0,
          0,
          0,
          0,
          0,
          0,
          0,
          0,
          0,
          null,
          0,
          0,
          1,
          2,
          0,
          0,
          1,
          0,
          1,
          1,
          0,
          0,
          0,
          2,
          0,
          2,
          5,
          0,
          0,
          1,
          2,
          0,
          1,
          0,
          2,
          0,
          2,
          0,
          0,
          1,
          0,
          0,
          0,
          0,
          1,
          0,
          0,
          0,
          0,
          0,
          0,
          0,
          0,
          1,
          0,
          0,
          0,
          0,
          0,
          3,
          0,
          0,
          0,
          0,
          0,
          0,
          0,
          0,
          0,
          0,
          0,
          0,
          0,
          0,
          0,
          0,
          0,
          0,
          0,
          0,
          0,
          0,
          0,
          0,
          0,
          0,
          0,
          2,
          1,
          1,
          1,
          2,
          1,
          0,
          0,
          2,
          0,
          null,
          3,
          0,
          0,
          0,
          1,
          0,
          2,
          0,
          0,
          null,
          1,
          0,
          0,
          2,
          0,
          0,
          0,
          null,
          0,
          0,
          null,
          0,
          0,
          0,
          1,
          1,
          0,
          0,
          2,
          0,
          0,
          0,
          null,
          0,
          0,
          0,
          0,
          0,
          1,
          0,
          0,
          0,
          3,
          0,
          null,
          0,
          1,
          0,
          0,
          0,
          1,
          0,
          0,
          0,
          0,
          0,
          0,
          0,
          0,
          0,
          0,
          2,
          0,
          null,
          0,
          0,
          0,
          0,
          0,
          0,
          1,
          0,
          0,
          0,
          0,
          0,
          0,
          0,
          0,
          0,
          0,
          0,
          0,
          0,
          0,
          0,
          0,
          0,
          null,
          0,
          1,
          0,
          0,
          2,
          0,
          2,
          2,
          0,
          2,
          0,
          0,
          0,
          0,
          0,
          1,
          0,
          1,
          0,
          0,
          0,
          1,
          2,
          0,
          0,
          0,
          0,
          1,
          0,
          0,
          1,
          null,
          0,
          0,
          0,
          0,
          0,
          2,
          null,
          0,
          0,
          0,
          0,
          0,
          0,
          1,
          0,
          0,
          0,
          2,
          0,
          0,
          0,
          2,
          0,
          0,
          0,
          0,
          0,
          0,
          0,
          0,
          1,
          1,
          1,
          0,
          2,
          1,
          1,
          null,
          0,
          0,
          3,
          1,
          2,
          3,
          0,
          4,
          0,
          0,
          null,
          0,
          2,
          0,
          0,
          0,
          0,
          0,
          2,
          1,
          0,
          3,
          0,
          0,
          1,
          0,
          2,
          null,
          0,
          0,
          0,
          0,
          0,
          0,
          2,
          0,
          null,
          0,
          0,
          0,
          1,
          0,
          1,
          0,
          0,
          1,
          0,
          0,
          null,
          2,
          0,
          2,
          0,
          1,
          0,
          0,
          1,
          0,
          2,
          0,
          1,
          0,
          0,
          0,
          0,
          0,
          0,
          0,
          0,
          0,
          4,
          0,
          null,
          0,
          1,
          0,
          0,
          0,
          0,
          0,
          0,
          0,
          0,
          0,
          0,
          0,
          0,
          0,
          0,
          0,
          0,
          0,
          0,
          0,
          0,
          0,
          0,
          0,
          0,
          0,
          0,
          0,
          0,
          1,
          0,
          1,
          0,
          0,
          0,
          0,
          1,
          null,
          0,
          1,
          0,
          0,
          0,
          0,
          1,
          3,
          1,
          0,
          0,
          0,
          2,
          null,
          4,
          1,
          0,
          3,
          0,
          0,
          2,
          null,
          1,
          2,
          null,
          0,
          0,
          0,
          1,
          0,
          0,
          0,
          0,
          0,
          0,
          0,
          0,
          0,
          0,
          0,
          1,
          4,
          null,
          0,
          0,
          0,
          1,
          1,
          0,
          0,
          0,
          0,
          0,
          0,
          2,
          1,
          0,
          1,
          0,
          0,
          0,
          0,
          0,
          0,
          0,
          0,
          0,
          null,
          0,
          0,
          0,
          0,
          0,
          0,
          0,
          0,
          0,
          0,
          0,
          0,
          0,
          0,
          0,
          1,
          0,
          0,
          null,
          null,
          0,
          0,
          0,
          1,
          3,
          1,
          0,
          0,
          0,
          0,
          3,
          0,
          0,
          null,
          0,
          0,
          1,
          1,
          null,
          0,
          0,
          0,
          0,
          0,
          0,
          0,
          1,
          0,
          0,
          0,
          1,
          2,
          0,
          0,
          0,
          0,
          0,
          0,
          null,
          0,
          0,
          1,
          0,
          0,
          1,
          0,
          0,
          0,
          0,
          1,
          0,
          0,
          0,
          0,
          0,
          0,
          0,
          0,
          0,
          0,
          0,
          0,
          null,
          0,
          0,
          0,
          0,
          4,
          0,
          0,
          0,
          1,
          0,
          0,
          0,
          0,
          0,
          0,
          0,
          0,
          0,
          0,
          0,
          0,
          null,
          1,
          2,
          4,
          0,
          2,
          0,
          0,
          0,
          0,
          0,
          null,
          1,
          0,
          null,
          0,
          0,
          0,
          0,
          0,
          0,
          0,
          2,
          0,
          0,
          1,
          0,
          0,
          0,
          0,
          0,
          4,
          0,
          0,
          0,
          2,
          0,
          0,
          1,
          0,
          1,
          0,
          null,
          0,
          2,
          0,
          0,
          0,
          0,
          0,
          0,
          0,
          0,
          0,
          0,
          0,
          0,
          0,
          0,
          0,
          0,
          0,
          0,
          0,
          0,
          0,
          0,
          0,
          0,
          0,
          0,
          1,
          0,
          0,
          0,
          0,
          0,
          0,
          0,
          0,
          0,
          0,
          0,
          0,
          0,
          0,
          0,
          0,
          0,
          0,
          0,
          0,
          0,
          0,
          null,
          1,
          0,
          3,
          0,
          0,
          0,
          5,
          0,
          0,
          0,
          0,
          0,
          null,
          0,
          1,
          0,
          0,
          1,
          null,
          0,
          0,
          0,
          0,
          4,
          null,
          0,
          null,
          0,
          0,
          3,
          null,
          0,
          0,
          0,
          0,
          0,
          0,
          0,
          0,
          1,
          0,
          0,
          0,
          0,
          0,
          0,
          0,
          0,
          0,
          0,
          0,
          0,
          0,
          0,
          0,
          0,
          1,
          0,
          0,
          0,
          0,
          0,
          0,
          0,
          0,
          0,
          0,
          3,
          0,
          0,
          0,
          0,
          0,
          0,
          0,
          0,
          0,
          0,
          0,
          0,
          0,
          0,
          2,
          1,
          null,
          1,
          0,
          0,
          0,
          0,
          0,
          0,
          0,
          0,
          0,
          0,
          0,
          0,
          0,
          0,
          0,
          2,
          0,
          0,
          0,
          null,
          0,
          4,
          0,
          0,
          0,
          null,
          2,
          0,
          0,
          0,
          0,
          0,
          0,
          0,
          0,
          0,
          0,
          null,
          2,
          0,
          0,
          0,
          1,
          0,
          null,
          1,
          0,
          3,
          1,
          0,
          0,
          0,
          0,
          0,
          0,
          0,
          0,
          0,
          0,
          4,
          0,
          0,
          0,
          0,
          0,
          0,
          0,
          0,
          0,
          0,
          0,
          0,
          1,
          0,
          0,
          0,
          0,
          0,
          1,
          0,
          0,
          0,
          0,
          0,
          0,
          0,
          0,
          0,
          0,
          1,
          0,
          0,
          1,
          4,
          0,
          1,
          0,
          1,
          0,
          2,
          0,
          0,
          2,
          0,
          0,
          0,
          1,
          0,
          0,
          1,
          0,
          2,
          0,
          null,
          0,
          0,
          0,
          1,
          0,
          0,
          0,
          0,
          0,
          0,
          0,
          0,
          0,
          1,
          2,
          1,
          null,
          0,
          0,
          0,
          3,
          1,
          0,
          0,
          0,
          3,
          0,
          0,
          0,
          0,
          0,
          null,
          0,
          0,
          0,
          0,
          0,
          0,
          0,
          0,
          0,
          0,
          0,
          0,
          0,
          0,
          0,
          0,
          0,
          0,
          0,
          0,
          0,
          0,
          1,
          null,
          0,
          0,
          0,
          0,
          1,
          0,
          0,
          0,
          0,
          0,
          0,
          0,
          0,
          0,
          2,
          null,
          3,
          0,
          1,
          0,
          0,
          null,
          0,
          0,
          3,
          0,
          0,
          null,
          0,
          0,
          0,
          2,
          0,
          0,
          0,
          1,
          0,
          2,
          0,
          0,
          null,
          0,
          0,
          1,
          0,
          1,
          0,
          0,
          0,
          1,
          0,
          0,
          0,
          0,
          0,
          0,
          2,
          0,
          0,
          0,
          0,
          0,
          0,
          0,
          1,
          0,
          0,
          0,
          0,
          0,
          0,
          1,
          0,
          1,
          1,
          0,
          0,
          0,
          0,
          3,
          0,
          0,
          0,
          0,
          0,
          0,
          2,
          0,
          2,
          0,
          0,
          0,
          0,
          null,
          0,
          3,
          0,
          1,
          1,
          3,
          null,
          0,
          0,
          2,
          0,
          2,
          0,
          0,
          4,
          0,
          0,
          3,
          0,
          0,
          0,
          0,
          0,
          0,
          0,
          0,
          0,
          0,
          0,
          0,
          2,
          1,
          0,
          0,
          0,
          2,
          0,
          0,
          0,
          1,
          0,
          0,
          0,
          0,
          0,
          0,
          0,
          0,
          4,
          0,
          0,
          0,
          4,
          0,
          0,
          0,
          0,
          0,
          0,
          0,
          0,
          0,
          null,
          0,
          0,
          0,
          0,
          0,
          0,
          1,
          0,
          0,
          1,
          0,
          0,
          0,
          0,
          0,
          0,
          0,
          null,
          2,
          2,
          2,
          0,
          0,
          1,
          0,
          0,
          3,
          0,
          0,
          null,
          1,
          4,
          1,
          1,
          2,
          0,
          0,
          0,
          0,
          null,
          0,
          0,
          1,
          0,
          0,
          1,
          0,
          0,
          0,
          0,
          0,
          0,
          0,
          0,
          0,
          0,
          1,
          0,
          0,
          0,
          0,
          0,
          0,
          0,
          null,
          0,
          0,
          0,
          0,
          0,
          0,
          1,
          0,
          0,
          0,
          0,
          0,
          0,
          0,
          0,
          0,
          0,
          0,
          0,
          0,
          0,
          0,
          0,
          0,
          0,
          0,
          0,
          0,
          0,
          0,
          0,
          0,
          0,
          0,
          0,
          0,
          null,
          1,
          0,
          1,
          0,
          0,
          0,
          null,
          2,
          0,
          0,
          0,
          0,
          0,
          0,
          2,
          0,
          0,
          0,
          0,
          2,
          0,
          0,
          0,
          0,
          0,
          1,
          0,
          2,
          0,
          0,
          0,
          0,
          0,
          3,
          1,
          0,
          1,
          0,
          0,
          0,
          0,
          0,
          0,
          0,
          0,
          0,
          1,
          0,
          0,
          0,
          0,
          1,
          0,
          0,
          0,
          0,
          0,
          0,
          0,
          1,
          0,
          0,
          0,
          0,
          0,
          0,
          2,
          1,
          0,
          1,
          1,
          null,
          0,
          null,
          1,
          1,
          0,
          0,
          3,
          0,
          0,
          4,
          0,
          null,
          0,
          0,
          0,
          0,
          2,
          1,
          0,
          1,
          0,
          1,
          0,
          0,
          0,
          3,
          2,
          0,
          0,
          0,
          0,
          0,
          0,
          2,
          0,
          0,
          1,
          1,
          0,
          0,
          0,
          0,
          0,
          0,
          0,
          0,
          0,
          0,
          0,
          0,
          null,
          0,
          0,
          0,
          0,
          0,
          0,
          0,
          1,
          1,
          0,
          0,
          0,
          0,
          0,
          0,
          0,
          1,
          0,
          0,
          0,
          0,
          0,
          0,
          0,
          1,
          0,
          0,
          0,
          0,
          0,
          3,
          0,
          0,
          2,
          0,
          0,
          0,
          0,
          0,
          0,
          0,
          0,
          0,
          2,
          0,
          0,
          0,
          3,
          0,
          2,
          0,
          0,
          0,
          0,
          0,
          0,
          0,
          0,
          3,
          0,
          1,
          0,
          3,
          0,
          0,
          0,
          0,
          1,
          0,
          1,
          0,
          3,
          0,
          0,
          0,
          0,
          0,
          0,
          0,
          0,
          0,
          0,
          0,
          0,
          0,
          2,
          null,
          0,
          3,
          0,
          0,
          0,
          0,
          0,
          0,
          0,
          0,
          2,
          0,
          0,
          0,
          0,
          0,
          0,
          0,
          0,
          0,
          0,
          0,
          0,
          0,
          0,
          0,
          0,
          null,
          0,
          0,
          3,
          0,
          0,
          0,
          0,
          3,
          0,
          0,
          0,
          0,
          0,
          3,
          0,
          2,
          0,
          0,
          0,
          0,
          0,
          0,
          0,
          0,
          0,
          0,
          0,
          null,
          2,
          0,
          0,
          4,
          0,
          0,
          0,
          0,
          0,
          null,
          0,
          0,
          0,
          0,
          1,
          0,
          0,
          0,
          0,
          0,
          0,
          0,
          0,
          0,
          0,
          0,
          0,
          0,
          0,
          0,
          0,
          0,
          0,
          0,
          0,
          0,
          0,
          0,
          0,
          0,
          0,
          0,
          1,
          1,
          1,
          0,
          3,
          0,
          0,
          0,
          0,
          0,
          0,
          0,
          3,
          0,
          2,
          0,
          null,
          1,
          2,
          1,
          0,
          0,
          0,
          1,
          null,
          2,
          2,
          1,
          2,
          1,
          0,
          1,
          0,
          2,
          0,
          0,
          0,
          null,
          0,
          0,
          4,
          1,
          0,
          1,
          0,
          0,
          0,
          null,
          0,
          0,
          0,
          0,
          0,
          1,
          0,
          null,
          0,
          0,
          0,
          0,
          1,
          0,
          0,
          0,
          0,
          0,
          0,
          0,
          1,
          0,
          0,
          0,
          0,
          0,
          0,
          0,
          0,
          0,
          0,
          0,
          0,
          0,
          0,
          0,
          1,
          0,
          0,
          0,
          0,
          0,
          0,
          0,
          0,
          0,
          0,
          4,
          0,
          0,
          0,
          1,
          2,
          0,
          0,
          null,
          0,
          0,
          0,
          5,
          0,
          0,
          0,
          1,
          0,
          0,
          0,
          0,
          0,
          0,
          0,
          0,
          0,
          1,
          null,
          0,
          2,
          0,
          5,
          0,
          0,
          0,
          0,
          0,
          1,
          0,
          0,
          2,
          0,
          0,
          0,
          0,
          0,
          0,
          0,
          0,
          2,
          0,
          0,
          0,
          0,
          1,
          0,
          0,
          0,
          0,
          0,
          0,
          0,
          0,
          0,
          0,
          1,
          0,
          0,
          0,
          0,
          0,
          0,
          4,
          0,
          0,
          0,
          1,
          0,
          0,
          1,
          0,
          0,
          1,
          0,
          0,
          0,
          1,
          0,
          0,
          0,
          0,
          0,
          0,
          0,
          0,
          0,
          null,
          0,
          0,
          0,
          1,
          0,
          null,
          3,
          0,
          0,
          0,
          0,
          null,
          0,
          0,
          1,
          0,
          0,
          0,
          3,
          null,
          0,
          4,
          0,
          2,
          0,
          0,
          0,
          0,
          0,
          0,
          0,
          0,
          0,
          0,
          0,
          0,
          0,
          0,
          0,
          0,
          0,
          0,
          0,
          0,
          0,
          0,
          0,
          0,
          0,
          0,
          0,
          0,
          0,
          0,
          0,
          0,
          0,
          0,
          null,
          0,
          0,
          0,
          0,
          0,
          1,
          0,
          0,
          2,
          0,
          0,
          2,
          2,
          0,
          1,
          1,
          0,
          0,
          0,
          0,
          1,
          1,
          0,
          0,
          0,
          1,
          2,
          0,
          1,
          0,
          0,
          4,
          0,
          0,
          2,
          1,
          0,
          3,
          0,
          0,
          3,
          0,
          1,
          0,
          0,
          1,
          null,
          0,
          0,
          0,
          3,
          0,
          1,
          0,
          0,
          0,
          0,
          0,
          0,
          0,
          0,
          0,
          0,
          0,
          2,
          1,
          0,
          0,
          0,
          0,
          0,
          2,
          2,
          0,
          0,
          1,
          0,
          0,
          1,
          null,
          0,
          0,
          0,
          0,
          0,
          0,
          0,
          0,
          0,
          0,
          0,
          0,
          0,
          0,
          0,
          0,
          0,
          1,
          0,
          0,
          0,
          0,
          0,
          0,
          0,
          0,
          0,
          3,
          1,
          1,
          0,
          0,
          0,
          0,
          2,
          0,
          0,
          null,
          0,
          3,
          0,
          0,
          0,
          0,
          0,
          0,
          0,
          0,
          0,
          1,
          0,
          3,
          0,
          0,
          3,
          1,
          1,
          0,
          0,
          0,
          0,
          0,
          0,
          0,
          0,
          0,
          2,
          1,
          1,
          null,
          0,
          0,
          1,
          0,
          0,
          0,
          0,
          0,
          0,
          0,
          0,
          0,
          0,
          0,
          0,
          1,
          0,
          0,
          0,
          0,
          0,
          0,
          1,
          0,
          0,
          0,
          0,
          0,
          0,
          0,
          0,
          0,
          0,
          0,
          0,
          0,
          0,
          0,
          0,
          0,
          0,
          0,
          null,
          0,
          0,
          0,
          null,
          1,
          0,
          1,
          1,
          0,
          0,
          2,
          0,
          0,
          0,
          0,
          2,
          3,
          null,
          0,
          2,
          0,
          0,
          2,
          0,
          0,
          null,
          3,
          1,
          1,
          0,
          0,
          0,
          1,
          2,
          0,
          0,
          1,
          0,
          2,
          0,
          4,
          0,
          0,
          1,
          0,
          null,
          0,
          1,
          4,
          0,
          1,
          0,
          0,
          0,
          0,
          0,
          0,
          0,
          1,
          0,
          0,
          2,
          1,
          0,
          2,
          0,
          0,
          0,
          0,
          0,
          0,
          0,
          0,
          0,
          0,
          1,
          2,
          0,
          0,
          0,
          0,
          2,
          0,
          2,
          0,
          0,
          0,
          1,
          0,
          0,
          0,
          0,
          0,
          0,
          3,
          0,
          3,
          0,
          0,
          0,
          0,
          0,
          1,
          0,
          0,
          0,
          0,
          0,
          0,
          1,
          0,
          0,
          0,
          0,
          0,
          0,
          0,
          0,
          0,
          0,
          0,
          0,
          0,
          2,
          0,
          1,
          0,
          0,
          null,
          0,
          0,
          1,
          0,
          0,
          0,
          0,
          0,
          0,
          1,
          2,
          0,
          0,
          1,
          0,
          0,
          2,
          1,
          0,
          0,
          null,
          0,
          2,
          1,
          0,
          null,
          0,
          0,
          0,
          0,
          0,
          0,
          0,
          0,
          0,
          0,
          1,
          0,
          1,
          null,
          0,
          0,
          0,
          0,
          0,
          0,
          2,
          0,
          null,
          0,
          null,
          0,
          0,
          0,
          0,
          0,
          0,
          0,
          0,
          0,
          0,
          1,
          0,
          0,
          0,
          1,
          0,
          1,
          null,
          0,
          0,
          0,
          0,
          0,
          0,
          0,
          1,
          0,
          0,
          0,
          0,
          1,
          0,
          1,
          1,
          0,
          0,
          0,
          0,
          null,
          3,
          null,
          1,
          1,
          null,
          0,
          2,
          0,
          0,
          0,
          0,
          1,
          0,
          1,
          1,
          0,
          0,
          2,
          0,
          1,
          0,
          4,
          0,
          0,
          0,
          0,
          0,
          1,
          3,
          0,
          null,
          0,
          0,
          0,
          0,
          0,
          0,
          0,
          0,
          0,
          0,
          1,
          0,
          null,
          0,
          2,
          0,
          0,
          0,
          0,
          0,
          0,
          0,
          0,
          1,
          null,
          0,
          0,
          0,
          0,
          0,
          3,
          0,
          0,
          0,
          0,
          0,
          2,
          2,
          2,
          0,
          0,
          null,
          0,
          0,
          0,
          1,
          null,
          0,
          0,
          1,
          0,
          0,
          3,
          0,
          null,
          0,
          0,
          0,
          2,
          0,
          0,
          2,
          2,
          0,
          2,
          0,
          1,
          0,
          0,
          0,
          0,
          0,
          1,
          0,
          0,
          0,
          0,
          0,
          0,
          0,
          0,
          0,
          0,
          0,
          1,
          0,
          1,
          1,
          3,
          0,
          0,
          0,
          0,
          0,
          1,
          0,
          0,
          0,
          0,
          1,
          0,
          1,
          0,
          0,
          0,
          0,
          0,
          0,
          3,
          0,
          0,
          0,
          0,
          0,
          0,
          0,
          0,
          0,
          0,
          0,
          0,
          0,
          0,
          0,
          0,
          0,
          0,
          0,
          0,
          0,
          0,
          0,
          0,
          null,
          0,
          0,
          1,
          0,
          0,
          0,
          1,
          0,
          0,
          2,
          0,
          0,
          0,
          0,
          0,
          0,
          1,
          0,
          0,
          null,
          0,
          0,
          0,
          0,
          null,
          1,
          0,
          0,
          0,
          0,
          0,
          0,
          0,
          0,
          0,
          null,
          0,
          0,
          1,
          2,
          0,
          0,
          0,
          1,
          0,
          3,
          0,
          0,
          0,
          0,
          0,
          0,
          3,
          0,
          4,
          1,
          0,
          3,
          0,
          0,
          0,
          0,
          0,
          0,
          0,
          0,
          0,
          0,
          0,
          0,
          0,
          0,
          0,
          0,
          0,
          1,
          0,
          0,
          0,
          2,
          0,
          null,
          0,
          0,
          0,
          0,
          0,
          0,
          0,
          0,
          0,
          0,
          0,
          1,
          0,
          null,
          0,
          0,
          3,
          4,
          1,
          0,
          0,
          0,
          0,
          0,
          null,
          0,
          0,
          null,
          2,
          2,
          2,
          3,
          1,
          0,
          2,
          0,
          0,
          0,
          0,
          0,
          0,
          0,
          null,
          2,
          0,
          1,
          0,
          1,
          0,
          null,
          0,
          1,
          2,
          0,
          0,
          1,
          2,
          0,
          null,
          0,
          0,
          0,
          0,
          0,
          0,
          0,
          0,
          0,
          0,
          0,
          0,
          0,
          0,
          0,
          0,
          0,
          0,
          0,
          0,
          1,
          0,
          0,
          0,
          1,
          0,
          1,
          0,
          3,
          2,
          0,
          0,
          3,
          0,
          0,
          0,
          0,
          null,
          0,
          0,
          2,
          1,
          0,
          0,
          0,
          2,
          0,
          2,
          0,
          2,
          1,
          1,
          0,
          0,
          0,
          0,
          0,
          0,
          0,
          0,
          0,
          0,
          0,
          null,
          2,
          0,
          0,
          null,
          2,
          0,
          0,
          2,
          0,
          0,
          null,
          0,
          0,
          0,
          0,
          0,
          0,
          0,
          0,
          0,
          0,
          0,
          1,
          0,
          0,
          0,
          0,
          0,
          0,
          0,
          0,
          0,
          0,
          0,
          0,
          0,
          0,
          0,
          0,
          0,
          0,
          0,
          0,
          0,
          3,
          0,
          0,
          0,
          0,
          0,
          1,
          0,
          null,
          0,
          3,
          0,
          0,
          0,
          null,
          0,
          0,
          0,
          0,
          0,
          0,
          3,
          0,
          5,
          0,
          1,
          2,
          0,
          0,
          0,
          0,
          2,
          1,
          0,
          2,
          1,
          0,
          0,
          0,
          0,
          1,
          1,
          0,
          0,
          0,
          0,
          0,
          1,
          2,
          0,
          0,
          1,
          0,
          0,
          0,
          0,
          0,
          0,
          0,
          0,
          0,
          0,
          0,
          0,
          0,
          0,
          null,
          0,
          0,
          0,
          0,
          0,
          0,
          0,
          0,
          0,
          0,
          0,
          0,
          0,
          0,
          0,
          0,
          0,
          0,
          null,
          0,
          0,
          0,
          null,
          0,
          2,
          0,
          0,
          0,
          0,
          0,
          0,
          0,
          0,
          1,
          0,
          0,
          0,
          1,
          0,
          0,
          2,
          0,
          2,
          0,
          0,
          0,
          0,
          0,
          0,
          0,
          0,
          1,
          3,
          0,
          0,
          0,
          0,
          0,
          0,
          0,
          null,
          0,
          null,
          0,
          0,
          1,
          0,
          0,
          0,
          0,
          0,
          0,
          0,
          0,
          0,
          0,
          4,
          0,
          1,
          0,
          0,
          0,
          0,
          0,
          0,
          1,
          0,
          0,
          0,
          0,
          0,
          0,
          null,
          null,
          0,
          0,
          3,
          0,
          null,
          0,
          1,
          0,
          0,
          1,
          0,
          0,
          0,
          0,
          1,
          0,
          2,
          0,
          0,
          null,
          2,
          0,
          0,
          0,
          0,
          0,
          0,
          null,
          1,
          0,
          2,
          3,
          0,
          0,
          0,
          null,
          0,
          0,
          0,
          0,
          null,
          0,
          0,
          2,
          1,
          0,
          null,
          0,
          2,
          0,
          0,
          0,
          0,
          0,
          0,
          0,
          0,
          0,
          1,
          1,
          1,
          0,
          0,
          0,
          1,
          0,
          0,
          0,
          0,
          0,
          0,
          0,
          0,
          0,
          4,
          0,
          0,
          0,
          0,
          0,
          0,
          0,
          0,
          0,
          0,
          0,
          0,
          0,
          0,
          0,
          0,
          0,
          0,
          0,
          0,
          0,
          0,
          1,
          0,
          null,
          0,
          0,
          4,
          0,
          null,
          2,
          0,
          5,
          0,
          0,
          0,
          0,
          0,
          0,
          0,
          0,
          0,
          0,
          0,
          0,
          0,
          0,
          2,
          0,
          4,
          0,
          null,
          0,
          null,
          0,
          0,
          0,
          1,
          1,
          0,
          0,
          0,
          1,
          0,
          0,
          0,
          0,
          3,
          0,
          0,
          0,
          2,
          3,
          4,
          0,
          0,
          2,
          2,
          null,
          1,
          0,
          0,
          0,
          0,
          0,
          0,
          0,
          0,
          0,
          0,
          0,
          0,
          0,
          null,
          0,
          0,
          0,
          0,
          0,
          0,
          0,
          0,
          0,
          0,
          0,
          0,
          0,
          null,
          0,
          0,
          1,
          0,
          0,
          0,
          0,
          0,
          0,
          1,
          1,
          0,
          0,
          0,
          0,
          0,
          0,
          1,
          0,
          0,
          0,
          0,
          0,
          0,
          0,
          0,
          0,
          0,
          0,
          0,
          1,
          0,
          0,
          0,
          0,
          0,
          2,
          0,
          0,
          0,
          0,
          0,
          null,
          0
         ],
         "y0": " ",
         "yaxis": "y"
        }
       ],
       "layout": {
        "boxmode": "group",
        "legend": {
         "tracegroupgap": 0
        },
        "margin": {
         "t": 60
        },
        "template": {
         "data": {
          "bar": [
           {
            "error_x": {
             "color": "#2a3f5f"
            },
            "error_y": {
             "color": "#2a3f5f"
            },
            "marker": {
             "line": {
              "color": "#E5ECF6",
              "width": 0.5
             },
             "pattern": {
              "fillmode": "overlay",
              "size": 10,
              "solidity": 0.2
             }
            },
            "type": "bar"
           }
          ],
          "barpolar": [
           {
            "marker": {
             "line": {
              "color": "#E5ECF6",
              "width": 0.5
             },
             "pattern": {
              "fillmode": "overlay",
              "size": 10,
              "solidity": 0.2
             }
            },
            "type": "barpolar"
           }
          ],
          "carpet": [
           {
            "aaxis": {
             "endlinecolor": "#2a3f5f",
             "gridcolor": "white",
             "linecolor": "white",
             "minorgridcolor": "white",
             "startlinecolor": "#2a3f5f"
            },
            "baxis": {
             "endlinecolor": "#2a3f5f",
             "gridcolor": "white",
             "linecolor": "white",
             "minorgridcolor": "white",
             "startlinecolor": "#2a3f5f"
            },
            "type": "carpet"
           }
          ],
          "choropleth": [
           {
            "colorbar": {
             "outlinewidth": 0,
             "ticks": ""
            },
            "type": "choropleth"
           }
          ],
          "contour": [
           {
            "colorbar": {
             "outlinewidth": 0,
             "ticks": ""
            },
            "colorscale": [
             [
              0,
              "#0d0887"
             ],
             [
              0.1111111111111111,
              "#46039f"
             ],
             [
              0.2222222222222222,
              "#7201a8"
             ],
             [
              0.3333333333333333,
              "#9c179e"
             ],
             [
              0.4444444444444444,
              "#bd3786"
             ],
             [
              0.5555555555555556,
              "#d8576b"
             ],
             [
              0.6666666666666666,
              "#ed7953"
             ],
             [
              0.7777777777777778,
              "#fb9f3a"
             ],
             [
              0.8888888888888888,
              "#fdca26"
             ],
             [
              1,
              "#f0f921"
             ]
            ],
            "type": "contour"
           }
          ],
          "contourcarpet": [
           {
            "colorbar": {
             "outlinewidth": 0,
             "ticks": ""
            },
            "type": "contourcarpet"
           }
          ],
          "heatmap": [
           {
            "colorbar": {
             "outlinewidth": 0,
             "ticks": ""
            },
            "colorscale": [
             [
              0,
              "#0d0887"
             ],
             [
              0.1111111111111111,
              "#46039f"
             ],
             [
              0.2222222222222222,
              "#7201a8"
             ],
             [
              0.3333333333333333,
              "#9c179e"
             ],
             [
              0.4444444444444444,
              "#bd3786"
             ],
             [
              0.5555555555555556,
              "#d8576b"
             ],
             [
              0.6666666666666666,
              "#ed7953"
             ],
             [
              0.7777777777777778,
              "#fb9f3a"
             ],
             [
              0.8888888888888888,
              "#fdca26"
             ],
             [
              1,
              "#f0f921"
             ]
            ],
            "type": "heatmap"
           }
          ],
          "heatmapgl": [
           {
            "colorbar": {
             "outlinewidth": 0,
             "ticks": ""
            },
            "colorscale": [
             [
              0,
              "#0d0887"
             ],
             [
              0.1111111111111111,
              "#46039f"
             ],
             [
              0.2222222222222222,
              "#7201a8"
             ],
             [
              0.3333333333333333,
              "#9c179e"
             ],
             [
              0.4444444444444444,
              "#bd3786"
             ],
             [
              0.5555555555555556,
              "#d8576b"
             ],
             [
              0.6666666666666666,
              "#ed7953"
             ],
             [
              0.7777777777777778,
              "#fb9f3a"
             ],
             [
              0.8888888888888888,
              "#fdca26"
             ],
             [
              1,
              "#f0f921"
             ]
            ],
            "type": "heatmapgl"
           }
          ],
          "histogram": [
           {
            "marker": {
             "pattern": {
              "fillmode": "overlay",
              "size": 10,
              "solidity": 0.2
             }
            },
            "type": "histogram"
           }
          ],
          "histogram2d": [
           {
            "colorbar": {
             "outlinewidth": 0,
             "ticks": ""
            },
            "colorscale": [
             [
              0,
              "#0d0887"
             ],
             [
              0.1111111111111111,
              "#46039f"
             ],
             [
              0.2222222222222222,
              "#7201a8"
             ],
             [
              0.3333333333333333,
              "#9c179e"
             ],
             [
              0.4444444444444444,
              "#bd3786"
             ],
             [
              0.5555555555555556,
              "#d8576b"
             ],
             [
              0.6666666666666666,
              "#ed7953"
             ],
             [
              0.7777777777777778,
              "#fb9f3a"
             ],
             [
              0.8888888888888888,
              "#fdca26"
             ],
             [
              1,
              "#f0f921"
             ]
            ],
            "type": "histogram2d"
           }
          ],
          "histogram2dcontour": [
           {
            "colorbar": {
             "outlinewidth": 0,
             "ticks": ""
            },
            "colorscale": [
             [
              0,
              "#0d0887"
             ],
             [
              0.1111111111111111,
              "#46039f"
             ],
             [
              0.2222222222222222,
              "#7201a8"
             ],
             [
              0.3333333333333333,
              "#9c179e"
             ],
             [
              0.4444444444444444,
              "#bd3786"
             ],
             [
              0.5555555555555556,
              "#d8576b"
             ],
             [
              0.6666666666666666,
              "#ed7953"
             ],
             [
              0.7777777777777778,
              "#fb9f3a"
             ],
             [
              0.8888888888888888,
              "#fdca26"
             ],
             [
              1,
              "#f0f921"
             ]
            ],
            "type": "histogram2dcontour"
           }
          ],
          "mesh3d": [
           {
            "colorbar": {
             "outlinewidth": 0,
             "ticks": ""
            },
            "type": "mesh3d"
           }
          ],
          "parcoords": [
           {
            "line": {
             "colorbar": {
              "outlinewidth": 0,
              "ticks": ""
             }
            },
            "type": "parcoords"
           }
          ],
          "pie": [
           {
            "automargin": true,
            "type": "pie"
           }
          ],
          "scatter": [
           {
            "fillpattern": {
             "fillmode": "overlay",
             "size": 10,
             "solidity": 0.2
            },
            "type": "scatter"
           }
          ],
          "scatter3d": [
           {
            "line": {
             "colorbar": {
              "outlinewidth": 0,
              "ticks": ""
             }
            },
            "marker": {
             "colorbar": {
              "outlinewidth": 0,
              "ticks": ""
             }
            },
            "type": "scatter3d"
           }
          ],
          "scattercarpet": [
           {
            "marker": {
             "colorbar": {
              "outlinewidth": 0,
              "ticks": ""
             }
            },
            "type": "scattercarpet"
           }
          ],
          "scattergeo": [
           {
            "marker": {
             "colorbar": {
              "outlinewidth": 0,
              "ticks": ""
             }
            },
            "type": "scattergeo"
           }
          ],
          "scattergl": [
           {
            "marker": {
             "colorbar": {
              "outlinewidth": 0,
              "ticks": ""
             }
            },
            "type": "scattergl"
           }
          ],
          "scattermapbox": [
           {
            "marker": {
             "colorbar": {
              "outlinewidth": 0,
              "ticks": ""
             }
            },
            "type": "scattermapbox"
           }
          ],
          "scatterpolar": [
           {
            "marker": {
             "colorbar": {
              "outlinewidth": 0,
              "ticks": ""
             }
            },
            "type": "scatterpolar"
           }
          ],
          "scatterpolargl": [
           {
            "marker": {
             "colorbar": {
              "outlinewidth": 0,
              "ticks": ""
             }
            },
            "type": "scatterpolargl"
           }
          ],
          "scatterternary": [
           {
            "marker": {
             "colorbar": {
              "outlinewidth": 0,
              "ticks": ""
             }
            },
            "type": "scatterternary"
           }
          ],
          "surface": [
           {
            "colorbar": {
             "outlinewidth": 0,
             "ticks": ""
            },
            "colorscale": [
             [
              0,
              "#0d0887"
             ],
             [
              0.1111111111111111,
              "#46039f"
             ],
             [
              0.2222222222222222,
              "#7201a8"
             ],
             [
              0.3333333333333333,
              "#9c179e"
             ],
             [
              0.4444444444444444,
              "#bd3786"
             ],
             [
              0.5555555555555556,
              "#d8576b"
             ],
             [
              0.6666666666666666,
              "#ed7953"
             ],
             [
              0.7777777777777778,
              "#fb9f3a"
             ],
             [
              0.8888888888888888,
              "#fdca26"
             ],
             [
              1,
              "#f0f921"
             ]
            ],
            "type": "surface"
           }
          ],
          "table": [
           {
            "cells": {
             "fill": {
              "color": "#EBF0F8"
             },
             "line": {
              "color": "white"
             }
            },
            "header": {
             "fill": {
              "color": "#C8D4E3"
             },
             "line": {
              "color": "white"
             }
            },
            "type": "table"
           }
          ]
         },
         "layout": {
          "annotationdefaults": {
           "arrowcolor": "#2a3f5f",
           "arrowhead": 0,
           "arrowwidth": 1
          },
          "autotypenumbers": "strict",
          "coloraxis": {
           "colorbar": {
            "outlinewidth": 0,
            "ticks": ""
           }
          },
          "colorscale": {
           "diverging": [
            [
             0,
             "#8e0152"
            ],
            [
             0.1,
             "#c51b7d"
            ],
            [
             0.2,
             "#de77ae"
            ],
            [
             0.3,
             "#f1b6da"
            ],
            [
             0.4,
             "#fde0ef"
            ],
            [
             0.5,
             "#f7f7f7"
            ],
            [
             0.6,
             "#e6f5d0"
            ],
            [
             0.7,
             "#b8e186"
            ],
            [
             0.8,
             "#7fbc41"
            ],
            [
             0.9,
             "#4d9221"
            ],
            [
             1,
             "#276419"
            ]
           ],
           "sequential": [
            [
             0,
             "#0d0887"
            ],
            [
             0.1111111111111111,
             "#46039f"
            ],
            [
             0.2222222222222222,
             "#7201a8"
            ],
            [
             0.3333333333333333,
             "#9c179e"
            ],
            [
             0.4444444444444444,
             "#bd3786"
            ],
            [
             0.5555555555555556,
             "#d8576b"
            ],
            [
             0.6666666666666666,
             "#ed7953"
            ],
            [
             0.7777777777777778,
             "#fb9f3a"
            ],
            [
             0.8888888888888888,
             "#fdca26"
            ],
            [
             1,
             "#f0f921"
            ]
           ],
           "sequentialminus": [
            [
             0,
             "#0d0887"
            ],
            [
             0.1111111111111111,
             "#46039f"
            ],
            [
             0.2222222222222222,
             "#7201a8"
            ],
            [
             0.3333333333333333,
             "#9c179e"
            ],
            [
             0.4444444444444444,
             "#bd3786"
            ],
            [
             0.5555555555555556,
             "#d8576b"
            ],
            [
             0.6666666666666666,
             "#ed7953"
            ],
            [
             0.7777777777777778,
             "#fb9f3a"
            ],
            [
             0.8888888888888888,
             "#fdca26"
            ],
            [
             1,
             "#f0f921"
            ]
           ]
          },
          "colorway": [
           "#636efa",
           "#EF553B",
           "#00cc96",
           "#ab63fa",
           "#FFA15A",
           "#19d3f3",
           "#FF6692",
           "#B6E880",
           "#FF97FF",
           "#FECB52"
          ],
          "font": {
           "color": "#2a3f5f"
          },
          "geo": {
           "bgcolor": "white",
           "lakecolor": "white",
           "landcolor": "#E5ECF6",
           "showlakes": true,
           "showland": true,
           "subunitcolor": "white"
          },
          "hoverlabel": {
           "align": "left"
          },
          "hovermode": "closest",
          "mapbox": {
           "style": "light"
          },
          "paper_bgcolor": "white",
          "plot_bgcolor": "#E5ECF6",
          "polar": {
           "angularaxis": {
            "gridcolor": "white",
            "linecolor": "white",
            "ticks": ""
           },
           "bgcolor": "#E5ECF6",
           "radialaxis": {
            "gridcolor": "white",
            "linecolor": "white",
            "ticks": ""
           }
          },
          "scene": {
           "xaxis": {
            "backgroundcolor": "#E5ECF6",
            "gridcolor": "white",
            "gridwidth": 2,
            "linecolor": "white",
            "showbackground": true,
            "ticks": "",
            "zerolinecolor": "white"
           },
           "yaxis": {
            "backgroundcolor": "#E5ECF6",
            "gridcolor": "white",
            "gridwidth": 2,
            "linecolor": "white",
            "showbackground": true,
            "ticks": "",
            "zerolinecolor": "white"
           },
           "zaxis": {
            "backgroundcolor": "#E5ECF6",
            "gridcolor": "white",
            "gridwidth": 2,
            "linecolor": "white",
            "showbackground": true,
            "ticks": "",
            "zerolinecolor": "white"
           }
          },
          "shapedefaults": {
           "line": {
            "color": "#2a3f5f"
           }
          },
          "ternary": {
           "aaxis": {
            "gridcolor": "white",
            "linecolor": "white",
            "ticks": ""
           },
           "baxis": {
            "gridcolor": "white",
            "linecolor": "white",
            "ticks": ""
           },
           "bgcolor": "#E5ECF6",
           "caxis": {
            "gridcolor": "white",
            "linecolor": "white",
            "ticks": ""
           }
          },
          "title": {
           "x": 0.05
          },
          "xaxis": {
           "automargin": true,
           "gridcolor": "white",
           "linecolor": "white",
           "ticks": "",
           "title": {
            "standoff": 15
           },
           "zerolinecolor": "white",
           "zerolinewidth": 2
          },
          "yaxis": {
           "automargin": true,
           "gridcolor": "white",
           "linecolor": "white",
           "ticks": "",
           "title": {
            "standoff": 15
           },
           "zerolinecolor": "white",
           "zerolinewidth": 2
          }
         }
        },
        "xaxis": {
         "anchor": "y",
         "domain": [
          0,
          1
         ],
         "title": {
          "text": "Passer"
         }
        },
        "yaxis": {
         "anchor": "x",
         "domain": [
          0,
          1
         ],
         "title": {
          "text": "# Defenders Passed"
         }
        }
       }
      }
     },
     "metadata": {},
     "output_type": "display_data"
    },
    {
     "data": {
      "application/vnd.plotly.v1+json": {
       "config": {
        "plotlyServerURL": "https://plot.ly"
       },
       "data": [
        {
         "alignmentgroup": "True",
         "hovertemplate": "Driver=%{x}<br># Defenders Passed=%{y}<extra></extra>",
         "legendgroup": "",
         "marker": {
          "color": "#636efa"
         },
         "name": "",
         "notched": false,
         "offsetgroup": "",
         "orientation": "v",
         "showlegend": false,
         "type": "box",
         "x": [
          "Marcus Smart",
          "Jaylen Brown",
          "Jayson Tatum",
          "Jaylen Brown",
          "Derrick White",
          "Jaylen Brown",
          "Jayson Tatum",
          "Jaylen Brown",
          "Jaylen Brown",
          "Jaylen Brown",
          "Marcus Smart",
          "Jaylen Brown",
          "Grant Williams",
          "Al Horford",
          "Derrick White",
          "Jayson Tatum",
          "Marcus Smart",
          "Marcus Smart",
          "Marcus Smart",
          "Al Horford",
          "Marcus Smart",
          "Robert Williams III",
          "Jayson Tatum",
          "Jaylen Brown",
          "Marcus Smart",
          "Marcus Smart",
          "Jayson Tatum",
          "Derrick White",
          "Derrick White",
          "Marcus Smart",
          "Jaylen Brown",
          "Jayson Tatum",
          "Marcus Smart",
          "Jaylen Brown",
          "Marcus Smart",
          "Jayson Tatum",
          "Marcus Smart",
          "Marcus Smart",
          "Marcus Smart",
          "Derrick White",
          "Derrick White",
          "Derrick White",
          "Marcus Smart",
          "Derrick White",
          "Robert Williams III",
          "Marcus Smart",
          "Al Horford",
          "Jaylen Brown",
          "Grant Williams",
          "Jaylen Brown",
          "Derrick White",
          "Jaylen Brown",
          "Jaylen Brown",
          "Payton Pritchard",
          "Al Horford",
          "Derrick White",
          "Jayson Tatum",
          "Al Horford",
          "Jaylen Brown",
          "Marcus Smart",
          "Marcus Smart",
          "Jaylen Brown",
          "Derrick White",
          "Jayson Tatum",
          "Jayson Tatum",
          "Jaylen Brown",
          "Marcus Smart",
          "Jaylen Brown",
          "Al Horford",
          "Robert Williams III",
          "Jaylen Brown",
          "Jayson Tatum",
          "Marcus Smart",
          "Jayson Tatum",
          "Derrick White",
          "Jaylen Brown",
          "Marcus Smart",
          "Jayson Tatum",
          "Marcus Smart",
          "Jayson Tatum",
          "Jayson Tatum",
          "Jayson Tatum",
          "Derrick White",
          "Jaylen Brown",
          "Jaylen Brown",
          "Jaylen Brown",
          "Marcus Smart",
          "Derrick White",
          "Jaylen Brown",
          "P.J. Tucker",
          "Kyle Lowry",
          "P.J. Tucker",
          "Jimmy Butler",
          "Jimmy Butler",
          "Victor Oladipo",
          "Victor Oladipo",
          "Jimmy Butler",
          "Gabe Vincent",
          "Jimmy Butler",
          "Max Strus",
          "Kyle Lowry",
          "Kyle Lowry",
          "Bam Adebayo",
          "P.J. Tucker",
          "Bam Adebayo",
          "Bam Adebayo",
          "Kyle Lowry",
          "Gabe Vincent",
          "Bam Adebayo",
          "Kyle Lowry",
          "Kyle Lowry",
          "Kyle Lowry",
          "Kyle Lowry",
          "Bam Adebayo",
          "Kyle Lowry",
          "Kyle Lowry",
          "Kyle Lowry",
          "Jimmy Butler",
          "Kyle Lowry",
          "Bam Adebayo",
          "Kyle Lowry",
          "Bam Adebayo",
          "Victor Oladipo",
          "Gabe Vincent",
          "Gabe Vincent",
          "Kyle Lowry",
          "Kyle Lowry",
          "Kyle Lowry",
          "Kyle Lowry",
          "Kyle Lowry",
          "Bam Adebayo",
          "Jimmy Butler",
          "Jimmy Butler",
          "Caleb Martin",
          "Jimmy Butler",
          "Bam Adebayo",
          "Victor Oladipo",
          "Caleb Martin",
          "Gabe Vincent",
          "Bam Adebayo",
          "Kyle Lowry",
          "Jimmy Butler",
          "Jimmy Butler",
          "Jimmy Butler",
          "Kyle Lowry",
          "Kyle Lowry",
          "Bam Adebayo",
          "Kyle Lowry",
          "Victor Oladipo",
          "Kyle Lowry",
          "Bam Adebayo",
          "Gabe Vincent",
          "Kyle Lowry",
          "Victor Oladipo",
          "Victor Oladipo",
          "Tyler Herro",
          "Tyler Herro",
          "Gabe Vincent",
          "Max Strus",
          "Jimmy Butler",
          "Jimmy Butler",
          "Jimmy Butler",
          "Gabe Vincent",
          "Bam Adebayo",
          "Max Strus",
          "Bam Adebayo",
          "Gabe Vincent",
          "Jimmy Butler",
          "Gabe Vincent",
          "Tyler Herro",
          "Gabe Vincent",
          "Victor Oladipo",
          "Tyler Herro",
          "Victor Oladipo",
          "Victor Oladipo",
          "Victor Oladipo",
          "Tyler Herro",
          "Victor Oladipo",
          "Victor Oladipo",
          "Victor Oladipo",
          "Victor Oladipo",
          "Jimmy Butler",
          "Tyler Herro",
          "Gabe Vincent",
          "Gabe Vincent",
          "Bam Adebayo",
          "Gabe Vincent",
          "Gabe Vincent",
          "Tyler Herro",
          "Gabe Vincent",
          "Gabe Vincent",
          "Jimmy Butler",
          "Bam Adebayo",
          "Jimmy Butler",
          "Bam Adebayo",
          "Gabe Vincent",
          "Tyler Herro",
          "Tyler Herro",
          "Tyler Herro",
          "Jimmy Butler",
          "Caleb Martin",
          "Tyler Herro",
          "Tyler Herro",
          "Bam Adebayo",
          "Tyler Herro",
          "Bam Adebayo",
          "Gabe Vincent",
          "Bam Adebayo",
          "Gabe Vincent",
          "P.J. Tucker",
          "Jimmy Butler",
          "Jimmy Butler",
          "Tyler Herro",
          "Tyler Herro",
          "Tyler Herro",
          "Jimmy Butler",
          "Tyler Herro",
          "Tyler Herro",
          "Max Strus",
          "Jimmy Butler",
          "Jimmy Butler",
          "P.J. Tucker",
          "Jimmy Butler",
          "Max Strus",
          "Jimmy Butler",
          "Gabe Vincent",
          "Grant Williams",
          "Jayson Tatum",
          "Payton Pritchard",
          "Derrick White",
          "Jaylen Brown",
          "Jaylen Brown",
          "Jayson Tatum",
          "Jaylen Brown",
          "Jaylen Brown",
          "Jayson Tatum",
          "Derrick White",
          "Derrick White",
          "Jaylen Brown",
          "Derrick White",
          "Derrick White",
          "Payton Pritchard",
          "Derrick White",
          "Derrick White",
          "Payton Pritchard",
          "Payton Pritchard",
          "Jaylen Brown",
          "Payton Pritchard",
          "Grant Williams",
          "Jayson Tatum",
          "Payton Pritchard",
          "Jayson Tatum",
          "Payton Pritchard",
          "Jaylen Brown",
          "Jayson Tatum",
          "Payton Pritchard",
          "Jayson Tatum",
          "Grant Williams",
          "Derrick White",
          "Jayson Tatum",
          "Payton Pritchard",
          "Payton Pritchard",
          "Payton Pritchard",
          "Derrick White",
          "Payton Pritchard",
          "Derrick White",
          "Jaylen Brown",
          "Jaylen Brown",
          "Jayson Tatum",
          "Derrick White",
          "Grant Williams",
          "Derrick White",
          "Jayson Tatum",
          "Derrick White",
          "Daniel Theis",
          "Derrick White",
          "Jaylen Brown",
          "Jayson Tatum",
          "Payton Pritchard",
          "Jayson Tatum",
          "Jaylen Brown",
          "Payton Pritchard",
          "Jayson Tatum",
          "Jaylen Brown",
          "Jaylen Brown",
          "Payton Pritchard",
          "Payton Pritchard",
          "Jaylen Brown",
          "Derrick White",
          "Grant Williams",
          "Jayson Tatum",
          "Jaylen Brown",
          "Jayson Tatum",
          "Payton Pritchard",
          "Robert Williams III",
          "Jaylen Brown",
          "Jayson Tatum",
          "Daniel Theis",
          "Payton Pritchard",
          "Jaylen Brown",
          "Jaylen Brown",
          "Payton Pritchard",
          "Jaylen Brown",
          "Payton Pritchard",
          "Derrick White",
          "Daniel Theis",
          "Jaylen Brown",
          "Payton Pritchard",
          "Jayson Tatum",
          "Jimmy Butler",
          "Bam Adebayo",
          "Bam Adebayo",
          "Max Strus",
          "Max Strus",
          "Victor Oladipo",
          "Kyle Lowry",
          "Kyle Lowry",
          "Kyle Lowry",
          "Bam Adebayo",
          "Bam Adebayo",
          "Gabe Vincent",
          "Gabe Vincent",
          "Jimmy Butler",
          "Kyle Lowry",
          "Jimmy Butler",
          "Kyle Lowry",
          "Tyler Herro",
          "Kyle Lowry",
          "Tyler Herro",
          "Kyle Lowry",
          "Victor Oladipo",
          "Bam Adebayo",
          "Kyle Lowry",
          "Bam Adebayo",
          "Jimmy Butler",
          "Kyle Lowry",
          "Jimmy Butler",
          "Kyle Lowry",
          "Gabe Vincent",
          "Jimmy Butler",
          "Kyle Lowry",
          "Kyle Lowry",
          "Bam Adebayo",
          "Kyle Lowry",
          "Kyle Lowry",
          "P.J. Tucker",
          "Kyle Lowry",
          "Gabe Vincent",
          "Jimmy Butler",
          "Victor Oladipo",
          "Jimmy Butler",
          "Gabe Vincent",
          "Jimmy Butler",
          "Gabe Vincent",
          "Jimmy Butler",
          "Kyle Lowry",
          "Kyle Lowry",
          "Bam Adebayo",
          "Tyler Herro",
          "Jimmy Butler",
          "Gabe Vincent",
          "Bam Adebayo",
          "Max Strus",
          "Victor Oladipo",
          "Jimmy Butler",
          "Jimmy Butler",
          "Kyle Lowry",
          "Kyle Lowry",
          "Jimmy Butler",
          "Bam Adebayo",
          "Jimmy Butler",
          "Victor Oladipo",
          "Max Strus",
          "Jimmy Butler",
          "Jimmy Butler",
          "Kyle Lowry",
          "Bam Adebayo",
          "Jimmy Butler",
          "Victor Oladipo",
          "Bam Adebayo",
          "Kyle Lowry",
          "Jimmy Butler",
          "Al Horford",
          "Jaylen Brown",
          "Marcus Smart",
          "Jayson Tatum",
          "Jaylen Brown",
          "Jayson Tatum",
          "Jayson Tatum",
          "Jayson Tatum",
          "Marcus Smart",
          "Marcus Smart",
          "Derrick White",
          "Marcus Smart",
          "Marcus Smart",
          "Marcus Smart",
          "Derrick White",
          "Al Horford",
          "Marcus Smart",
          "Jayson Tatum",
          "Jaylen Brown",
          "Jayson Tatum",
          "Marcus Smart",
          "Marcus Smart",
          "Marcus Smart",
          "Jayson Tatum",
          "Marcus Smart",
          "Marcus Smart",
          "Jayson Tatum",
          "Marcus Smart",
          "Jaylen Brown",
          "Marcus Smart",
          "Al Horford",
          "Marcus Smart",
          "Marcus Smart",
          "Al Horford",
          "Marcus Smart",
          "Jaylen Brown",
          "Derrick White",
          "Jayson Tatum",
          "Al Horford",
          "Jayson Tatum",
          "Derrick White",
          "Grant Williams",
          "Payton Pritchard",
          "Jaylen Brown",
          "Jayson Tatum",
          "Marcus Smart",
          "Derrick White",
          "Jayson Tatum",
          "Marcus Smart",
          "Jaylen Brown",
          "Marcus Smart",
          "Jayson Tatum",
          "Jaylen Brown",
          "Jaylen Brown",
          "Marcus Smart",
          "Jaylen Brown",
          "Marcus Smart",
          "Marcus Smart",
          "Jayson Tatum",
          "Jayson Tatum",
          "Marcus Smart",
          "Al Horford",
          "Jayson Tatum",
          "Grant Williams",
          "Marcus Smart",
          "Jayson Tatum",
          "Marcus Smart",
          "Jayson Tatum",
          "Jaylen Brown",
          "Marcus Smart",
          "Jayson Tatum",
          "Marcus Smart",
          "Al Horford",
          "Jayson Tatum",
          "Al Horford",
          "Marcus Smart",
          "Jayson Tatum",
          "Marcus Smart",
          "Jaylen Brown",
          "Robert Williams III",
          "Derrick White",
          "Jaylen Brown",
          "Al Horford",
          "Jaylen Brown",
          "Jayson Tatum",
          "Al Horford",
          "Al Horford",
          "Marcus Smart",
          "Marcus Smart",
          "Marcus Smart",
          "Marcus Smart",
          "Derrick White",
          "Marcus Smart",
          "Payton Pritchard",
          "Payton Pritchard",
          "Derrick White",
          "Jaylen Brown",
          "Derrick White",
          "Derrick White",
          "Derrick White",
          "Jayson Tatum",
          "Payton Pritchard",
          "Marcus Smart",
          "Marcus Smart",
          "Marcus Smart",
          "Jayson Tatum",
          "Al Horford",
          "Marcus Smart",
          "Jaylen Brown",
          "Jaylen Brown",
          "Jayson Tatum",
          "Marcus Smart",
          "Jayson Tatum",
          "Marcus Smart",
          "Marcus Smart",
          "Marcus Smart",
          "Jayson Tatum",
          "Jaylen Brown",
          "Jaylen Brown",
          "Marcus Smart",
          "Marcus Smart",
          "Al Horford",
          "Al Horford",
          "Jaylen Brown",
          "Payton Pritchard",
          "Derrick White",
          "Jaylen Brown",
          "Derrick White",
          "Al Horford",
          "Jayson Tatum",
          "Al Horford",
          "Derrick White",
          "Marcus Smart",
          "Marcus Smart",
          "Jayson Tatum",
          "Jaylen Brown",
          "Jaylen Brown",
          "Jaylen Brown",
          "Jaylen Brown",
          "Jayson Tatum",
          "Marcus Smart",
          "Jaylen Brown",
          "Al Horford",
          "Marcus Smart",
          "Jayson Tatum",
          "Jaylen Brown",
          "Jaylen Brown",
          "Jaylen Brown",
          "Marcus Smart",
          "Jaylen Brown",
          "Marcus Smart",
          "Jaylen Brown",
          "Jaylen Brown",
          "Jaylen Brown",
          "Al Horford",
          "Jaylen Brown",
          "Luke Kornet",
          "Nik Stauskas",
          "Stephen Curry",
          "Gary Payton II",
          "Klay Thompson",
          "Jordan Poole",
          "Andrew Wiggins",
          "Draymond Green",
          "Klay Thompson",
          "Draymond Green",
          "Gary Payton II",
          "Klay Thompson",
          "Stephen Curry",
          "Draymond Green",
          "Jordan Poole",
          "Stephen Curry",
          "Andrew Wiggins",
          "Andrew Wiggins",
          "Klay Thompson",
          "Stephen Curry",
          "Otto Porter Jr.",
          "Andrew Wiggins",
          "Stephen Curry",
          "Stephen Curry",
          "Jordan Poole",
          "Jordan Poole",
          "Jordan Poole",
          "Draymond Green",
          "Stephen Curry",
          "Andrew Wiggins",
          "Stephen Curry",
          "Draymond Green",
          "Stephen Curry",
          "Stephen Curry",
          "Stephen Curry",
          "Stephen Curry",
          "Stephen Curry",
          "Stephen Curry",
          "Jordan Poole",
          "Stephen Curry",
          "Draymond Green",
          "Stephen Curry",
          "Draymond Green",
          "Kevon Looney",
          "Klay Thompson",
          "Andrew Wiggins",
          "Klay Thompson",
          "Gary Payton II",
          "Jordan Poole",
          "Draymond Green",
          "Stephen Curry",
          "Stephen Curry",
          "Gary Payton II",
          "Gary Payton II",
          "Jordan Poole",
          "Gary Payton II",
          "Klay Thompson",
          "Klay Thompson",
          "Draymond Green",
          "Stephen Curry",
          "Draymond Green",
          "Klay Thompson",
          "Stephen Curry",
          "Klay Thompson",
          "Stephen Curry",
          "Stephen Curry",
          "Klay Thompson",
          "Draymond Green",
          "Klay Thompson",
          "Draymond Green",
          "Klay Thompson",
          "Stephen Curry",
          "Jordan Poole",
          "Draymond Green",
          "Klay Thompson",
          "Stephen Curry",
          "Draymond Green",
          "Stephen Curry",
          "Stephen Curry",
          "Klay Thompson",
          "Stephen Curry",
          "Draymond Green",
          "Otto Porter Jr.",
          "Klay Thompson",
          "Otto Porter Jr.",
          "Jordan Poole",
          "Stephen Curry",
          "Kevon Looney",
          "Draymond Green",
          "Jordan Poole",
          "Andrew Wiggins",
          "Stephen Curry",
          "Stephen Curry",
          "Stephen Curry",
          "Draymond Green",
          "Stephen Curry",
          "Draymond Green",
          "Klay Thompson",
          "Stephen Curry",
          "Jordan Poole",
          "Jordan Poole",
          "Stephen Curry",
          "Stephen Curry",
          "Jordan Poole",
          "Jordan Poole",
          "Jordan Poole",
          "Jordan Poole",
          "Jordan Poole",
          "Stephen Curry",
          "Stephen Curry",
          "Klay Thompson",
          "Draymond Green",
          "Stephen Curry",
          "Stephen Curry",
          "Stephen Curry",
          "Andrew Wiggins",
          "Jordan Poole",
          "Stephen Curry",
          "Stephen Curry",
          "Stephen Curry",
          "Stephen Curry",
          "Stephen Curry",
          "Stephen Curry",
          "Stephen Curry",
          "Stephen Curry",
          "Stephen Curry",
          "Draymond Green",
          "Stephen Curry",
          "Andrew Wiggins",
          "Stephen Curry",
          "Draymond Green",
          "Jordan Poole",
          "Draymond Green",
          "Jordan Poole",
          "Draymond Green",
          "Klay Thompson",
          "Andrew Wiggins",
          "Klay Thompson",
          "Jordan Poole",
          "Stephen Curry",
          "Otto Porter Jr.",
          "Draymond Green",
          "Andrew Wiggins",
          "Draymond Green",
          "Draymond Green",
          "Jordan Poole",
          "Klay Thompson",
          "Draymond Green",
          "Draymond Green",
          "Andrew Wiggins",
          "Draymond Green",
          "Stephen Curry",
          "Jordan Poole",
          "Jordan Poole",
          "Jordan Poole",
          "Klay Thompson",
          "Draymond Green",
          "Draymond Green",
          "Andrew Wiggins",
          "Stephen Curry",
          "Robert Williams III",
          "Marcus Smart",
          "Marcus Smart",
          "Al Horford",
          "Jaylen Brown",
          "Marcus Smart",
          "Robert Williams III",
          "Jayson Tatum",
          "Jayson Tatum",
          "Jaylen Brown",
          "Jaylen Brown",
          "Derrick White",
          "Jayson Tatum",
          "Marcus Smart",
          "Marcus Smart",
          "Robert Williams III",
          "Marcus Smart",
          "Marcus Smart",
          "Jayson Tatum",
          "Marcus Smart",
          "Derrick White",
          "Al Horford",
          "Derrick White",
          "Payton Pritchard",
          "Derrick White",
          "Jayson Tatum",
          "Derrick White",
          "Jayson Tatum",
          "Derrick White",
          "Derrick White",
          "Marcus Smart",
          "Marcus Smart",
          "Marcus Smart",
          "Marcus Smart",
          "Al Horford",
          "Marcus Smart",
          "Jaylen Brown",
          "Derrick White",
          "Marcus Smart",
          "Marcus Smart",
          "Derrick White",
          "Jaylen Brown",
          "Jayson Tatum",
          "Jayson Tatum",
          "Derrick White",
          "Marcus Smart",
          "Jaylen Brown",
          "Marcus Smart",
          "Derrick White",
          "Jaylen Brown",
          "Al Horford",
          "Marcus Smart",
          "Derrick White",
          "Derrick White",
          "Payton Pritchard",
          "Payton Pritchard",
          "Jayson Tatum",
          "Grant Williams",
          "Marcus Smart",
          "Marcus Smart",
          "Jaylen Brown",
          "Jaylen Brown",
          "Marcus Smart",
          "Jaylen Brown",
          "Marcus Smart",
          "Jaylen Brown",
          "Marcus Smart",
          "Jayson Tatum",
          "Al Horford",
          "Jayson Tatum",
          "Derrick White",
          "Jaylen Brown",
          "Jayson Tatum",
          "Derrick White",
          "Payton Pritchard",
          "Jaylen Brown",
          "Jaylen Brown",
          "Payton Pritchard",
          "Jayson Tatum",
          "Jaylen Brown",
          "Jaylen Brown",
          "Derrick White",
          "Al Horford",
          "Payton Pritchard",
          "Derrick White",
          "Jayson Tatum",
          "Jayson Tatum",
          "Spencer Dinwiddie",
          "Luka Doncic",
          "Frank Ntilikina",
          "Spencer Dinwiddie",
          "Jalen Brunson",
          "Jalen Brunson",
          "Luka Doncic",
          "Luka Doncic",
          "Luka Doncic",
          "Frank Ntilikina",
          "Jalen Brunson",
          "Jalen Brunson",
          "Jalen Brunson",
          "Jalen Brunson",
          "Luka Doncic",
          "Luka Doncic",
          "Luka Doncic",
          "Luka Doncic",
          "Jalen Brunson",
          "Luka Doncic",
          "Jalen Brunson",
          "Luka Doncic",
          "Luka Doncic",
          "Luka Doncic",
          "Luka Doncic",
          "Luka Doncic",
          "Spencer Dinwiddie",
          "Frank Ntilikina",
          "Spencer Dinwiddie",
          "Jalen Brunson",
          "Jalen Brunson",
          "Jalen Brunson",
          "Spencer Dinwiddie",
          "Luka Doncic",
          "Spencer Dinwiddie",
          "Luka Doncic",
          "Luka Doncic",
          "Jalen Brunson",
          "Luka Doncic",
          "Jalen Brunson",
          "Luka Doncic",
          "Dorian Finney-Smith",
          "Luka Doncic",
          "Jalen Brunson",
          "Reggie Bullock",
          "Reggie Bullock",
          "Reggie Bullock",
          "Luka Doncic",
          "Spencer Dinwiddie",
          "Frank Ntilikina",
          "Dorian Finney-Smith",
          "Frank Ntilikina",
          "Luka Doncic",
          "Spencer Dinwiddie",
          "Luka Doncic",
          "Jalen Brunson",
          "Jalen Brunson",
          "Spencer Dinwiddie",
          "Jalen Brunson",
          "Reggie Bullock",
          "Davis Bertans",
          "Spencer Dinwiddie",
          "Jalen Brunson",
          "Spencer Dinwiddie",
          "Luka Doncic",
          "Luka Doncic",
          "Jalen Brunson",
          "Jalen Brunson",
          "Luka Doncic",
          "Luka Doncic",
          "Jalen Brunson",
          "Dorian Finney-Smith",
          "Jalen Brunson",
          "Luka Doncic",
          "Luka Doncic",
          "Jalen Brunson",
          "Luka Doncic",
          "Luka Doncic",
          "Luka Doncic",
          "Luka Doncic",
          "Luka Doncic",
          "Dorian Finney-Smith",
          "Luka Doncic",
          "Luka Doncic",
          "Jalen Brunson",
          "Spencer Dinwiddie",
          "Spencer Dinwiddie",
          "Luka Doncic",
          "Luka Doncic",
          "Jalen Brunson",
          "Stephen Curry",
          "Draymond Green",
          "Jordan Poole",
          "Moses Moody",
          "Damion Lee",
          "Jordan Poole",
          "Moses Moody",
          "Andrew Wiggins",
          "Draymond Green",
          "Andrew Wiggins",
          "Draymond Green",
          "Stephen Curry",
          "Jordan Poole",
          "Stephen Curry",
          "Jordan Poole",
          "Jordan Poole",
          "Jordan Poole",
          "Jordan Poole",
          "Stephen Curry",
          "Draymond Green",
          "Stephen Curry",
          "Klay Thompson",
          "Stephen Curry",
          "Stephen Curry",
          "Draymond Green",
          "Stephen Curry",
          "Stephen Curry",
          "Draymond Green",
          "Andrew Wiggins",
          "Klay Thompson",
          "Stephen Curry",
          "Stephen Curry",
          "Jordan Poole",
          "Jordan Poole",
          "Jordan Poole",
          "Jordan Poole",
          "Jonathan Kuminga",
          "Jordan Poole",
          "Stephen Curry",
          "Stephen Curry",
          "Draymond Green",
          "Andrew Wiggins",
          "Stephen Curry",
          "Andrew Wiggins",
          "Stephen Curry",
          "Andrew Wiggins",
          "Draymond Green",
          "Draymond Green",
          "Jordan Poole",
          "Andrew Wiggins",
          "Stephen Curry",
          "Jordan Poole",
          "Jordan Poole",
          "Jonathan Kuminga",
          "Klay Thompson",
          "Jordan Poole",
          "Jonathan Kuminga",
          "Jordan Poole",
          "Moses Moody",
          "Draymond Green",
          "Stephen Curry",
          "Stephen Curry",
          "Draymond Green",
          "Stephen Curry",
          "Stephen Curry",
          "Stephen Curry",
          "Jordan Poole",
          "Andrew Wiggins",
          "Draymond Green",
          "Stephen Curry",
          "Draymond Green",
          "Klay Thompson",
          "Draymond Green",
          "Stephen Curry",
          "Damion Lee",
          "Stephen Curry",
          "Nemanja Bjelica",
          "Jordan Poole",
          "Moses Moody",
          "Jordan Poole",
          "Damion Lee",
          "Jordan Poole",
          "Nemanja Bjelica",
          "Nemanja Bjelica",
          "Moses Moody",
          "Nemanja Bjelica",
          "Jordan Poole",
          "Jonathan Kuminga",
          "Jordan Poole",
          "Jonathan Kuminga",
          "Jonathan Kuminga",
          "Jonathan Kuminga",
          "Moses Moody",
          "Nemanja Bjelica",
          "Jalen Brunson",
          "Luka Doncic",
          "Reggie Bullock",
          "Spencer Dinwiddie",
          "Davis Bertans",
          "Jalen Brunson",
          "Luka Doncic",
          "Luka Doncic",
          "Luka Doncic",
          "Luka Doncic",
          "Luka Doncic",
          "Jalen Brunson",
          "Luka Doncic",
          "Spencer Dinwiddie",
          "Spencer Dinwiddie",
          "Jalen Brunson",
          "Reggie Bullock",
          "Spencer Dinwiddie",
          "Luka Doncic",
          "Spencer Dinwiddie",
          "Luka Doncic",
          "Luka Doncic",
          "Luka Doncic",
          "Luka Doncic",
          "Spencer Dinwiddie",
          "Spencer Dinwiddie",
          "Luka Doncic",
          "Spencer Dinwiddie",
          "Jalen Brunson",
          "Luka Doncic",
          "Spencer Dinwiddie",
          "Dorian Finney-Smith",
          "Luka Doncic",
          "Jalen Brunson",
          "Luka Doncic",
          "Jalen Brunson",
          "Luka Doncic",
          "Jalen Brunson",
          "Luka Doncic",
          "Luka Doncic",
          "Jalen Brunson",
          "Luka Doncic",
          "Jalen Brunson",
          "Jalen Brunson",
          "Luka Doncic",
          "Dorian Finney-Smith",
          "Luka Doncic",
          "Luka Doncic",
          "Spencer Dinwiddie",
          "Luka Doncic",
          "Luka Doncic",
          "Spencer Dinwiddie",
          "Reggie Bullock",
          "Spencer Dinwiddie",
          "Reggie Bullock",
          "Spencer Dinwiddie",
          "Luka Doncic",
          "Luka Doncic",
          "Jalen Brunson",
          "Luka Doncic",
          "Davis Bertans",
          "Davis Bertans",
          "Luka Doncic",
          "Luka Doncic",
          "Spencer Dinwiddie",
          "Luka Doncic",
          "Jalen Brunson",
          "Spencer Dinwiddie",
          "Luka Doncic",
          "Luka Doncic",
          "Jalen Brunson",
          "Luka Doncic",
          "Reggie Bullock",
          "Luka Doncic",
          "Stephen Curry",
          "Draymond Green",
          "Stephen Curry",
          "Jordan Poole",
          "Draymond Green",
          "Klay Thompson",
          "Stephen Curry",
          "Jordan Poole",
          "Klay Thompson",
          "Draymond Green",
          "Klay Thompson",
          "Stephen Curry",
          "Stephen Curry",
          "Jordan Poole",
          "Jordan Poole",
          "Jordan Poole",
          "Jordan Poole",
          "Stephen Curry",
          "Stephen Curry",
          "Stephen Curry",
          "Stephen Curry",
          "Andrew Wiggins",
          "Stephen Curry",
          "Stephen Curry",
          "Jordan Poole",
          "Jordan Poole",
          "Moses Moody",
          "Jordan Poole",
          "Jordan Poole",
          "Stephen Curry",
          "Stephen Curry",
          "Stephen Curry",
          "Stephen Curry",
          "Klay Thompson",
          "Draymond Green",
          "Stephen Curry",
          "Andrew Wiggins",
          "Klay Thompson",
          "Kevon Looney",
          "Andrew Wiggins",
          "Stephen Curry",
          "Stephen Curry",
          "Stephen Curry",
          "Klay Thompson",
          "Stephen Curry",
          "Klay Thompson",
          "Stephen Curry",
          "Kevon Looney",
          "Stephen Curry",
          "Draymond Green",
          "Stephen Curry",
          "Stephen Curry",
          "Draymond Green",
          "Stephen Curry",
          "Stephen Curry",
          "Jordan Poole",
          "Stephen Curry",
          "Klay Thompson",
          "Jordan Poole",
          "Jordan Poole",
          "Jordan Poole",
          "Klay Thompson",
          "Andrew Wiggins",
          "Stephen Curry",
          "Kevon Looney",
          "Stephen Curry",
          "Stephen Curry",
          "Draymond Green",
          "Klay Thompson",
          "Andrew Wiggins",
          "Andrew Wiggins",
          "Klay Thompson",
          "Stephen Curry",
          "Stephen Curry",
          "Stephen Curry",
          "Jordan Poole",
          "Stephen Curry",
          "Jordan Poole",
          "Jordan Poole",
          "Jordan Poole",
          "Jordan Poole",
          "Stephen Curry",
          "Kevon Looney",
          "Draymond Green",
          "Draymond Green",
          "Andrew Wiggins",
          "Stephen Curry",
          "Draymond Green",
          "Draymond Green",
          "Draymond Green",
          "Stephen Curry",
          "Jordan Poole",
          "Jordan Poole",
          "Jordan Poole",
          "Jordan Poole",
          "Jordan Poole",
          "Jordan Poole",
          "Stephen Curry",
          "Draymond Green",
          "Stephen Curry",
          "Draymond Green",
          "Andrew Wiggins",
          "Stephen Curry",
          "Stephen Curry",
          "Otto Porter Jr.",
          "Jordan Poole",
          "Stephen Curry",
          "Stephen Curry",
          "Stephen Curry",
          "Klay Thompson",
          "Draymond Green",
          "Stephen Curry",
          "Jordan Poole",
          "Andrew Wiggins",
          "Stephen Curry",
          "Stephen Curry",
          "Stephen Curry",
          "Stephen Curry",
          "Stephen Curry",
          "Otto Porter Jr.",
          "Andrew Wiggins",
          "Andrew Wiggins",
          "Draymond Green",
          "Andrew Wiggins",
          "Stephen Curry",
          "Stephen Curry",
          "Andrew Wiggins",
          "Stephen Curry",
          "Klay Thompson",
          "Draymond Green",
          "Klay Thompson",
          "Stephen Curry",
          "Draymond Green",
          "Stephen Curry",
          "Andrew Wiggins",
          "Klay Thompson",
          "Klay Thompson",
          "Stephen Curry",
          "Stephen Curry",
          "Jordan Poole",
          "Andrew Wiggins",
          "Otto Porter Jr.",
          "Jordan Poole",
          "Jordan Poole",
          "Moses Moody",
          "Jordan Poole",
          "Jordan Poole",
          "Jordan Poole",
          "Luka Doncic",
          "Luka Doncic",
          "Maxi Kleber",
          "Jalen Brunson",
          "Luka Doncic",
          "Luka Doncic",
          "Jalen Brunson",
          "Spencer Dinwiddie",
          "Luka Doncic",
          "Luka Doncic",
          "Jalen Brunson",
          "Jalen Brunson",
          "Luka Doncic",
          "Spencer Dinwiddie",
          "Luka Doncic",
          "Spencer Dinwiddie",
          "Jalen Brunson",
          "Jalen Brunson",
          "Jalen Brunson",
          "Reggie Bullock",
          "Spencer Dinwiddie",
          "Luka Doncic",
          "Jalen Brunson",
          "Luka Doncic",
          "Luka Doncic",
          "Luka Doncic",
          "Luka Doncic",
          "Luka Doncic",
          "Luka Doncic",
          "Luka Doncic",
          "Luka Doncic",
          "Jalen Brunson",
          "Davis Bertans",
          "Jalen Brunson",
          "Spencer Dinwiddie",
          "Luka Doncic",
          "Luka Doncic",
          "Jalen Brunson",
          "Luka Doncic",
          "Luka Doncic",
          "Luka Doncic",
          "Jalen Brunson",
          "Luka Doncic",
          "Reggie Bullock",
          "Reggie Bullock",
          "Dorian Finney-Smith",
          "Luka Doncic",
          "Luka Doncic",
          "Luka Doncic",
          "Spencer Dinwiddie",
          "Luka Doncic",
          "Dorian Finney-Smith",
          "Jalen Brunson",
          "Spencer Dinwiddie",
          "Jalen Brunson",
          "Jalen Brunson",
          "Dorian Finney-Smith",
          "Luka Doncic",
          "Jalen Brunson",
          "Luka Doncic",
          "Jalen Brunson",
          "Luka Doncic",
          "Luka Doncic",
          "Dorian Finney-Smith",
          "Luka Doncic",
          "Luka Doncic",
          "Spencer Dinwiddie",
          "Luka Doncic",
          "Jalen Brunson",
          "Spencer Dinwiddie",
          "Jalen Brunson",
          "Luka Doncic",
          "Stephen Curry",
          "Stephen Curry",
          "Stephen Curry",
          "Klay Thompson",
          "Andrew Wiggins",
          "Stephen Curry",
          "Andrew Wiggins",
          "Stephen Curry",
          "Jordan Poole",
          "Jordan Poole",
          "Jordan Poole",
          "Jordan Poole",
          "Jordan Poole",
          "Jordan Poole",
          "Nemanja Bjelica",
          "Jordan Poole",
          "Stephen Curry",
          "Jordan Poole",
          "Draymond Green",
          "Stephen Curry",
          "Stephen Curry",
          "Jordan Poole",
          "Stephen Curry",
          "Stephen Curry",
          "Stephen Curry",
          "Jordan Poole",
          "Stephen Curry",
          "Jordan Poole",
          "Jordan Poole",
          "Stephen Curry",
          "Klay Thompson",
          "Draymond Green",
          "Stephen Curry",
          "Stephen Curry",
          "Andrew Wiggins",
          "Draymond Green",
          "Klay Thompson",
          "Stephen Curry",
          "Jordan Poole",
          "Stephen Curry",
          "Klay Thompson",
          "Jordan Poole",
          "Draymond Green",
          "Jordan Poole",
          "Jordan Poole",
          "Nemanja Bjelica",
          "Draymond Green",
          "Jordan Poole",
          "Jordan Poole",
          "Nemanja Bjelica",
          "Moses Moody",
          "Stephen Curry",
          "Nemanja Bjelica",
          "Stephen Curry",
          "Stephen Curry",
          "Draymond Green",
          "Jordan Poole",
          "Stephen Curry",
          "Draymond Green",
          "Draymond Green",
          "Stephen Curry",
          "Jordan Poole",
          "Draymond Green",
          "Jordan Poole",
          "Stephen Curry",
          "Nemanja Bjelica",
          "Stephen Curry",
          "Stephen Curry",
          "Dorian Finney-Smith",
          "Jalen Brunson",
          "Frank Ntilikina",
          "Luka Doncic",
          "Sterling Brown",
          "Trey Burke",
          "Luka Doncic",
          "Jalen Brunson",
          "Luka Doncic",
          "Jalen Brunson",
          "Luka Doncic",
          "Jalen Brunson",
          "Luka Doncic",
          "Spencer Dinwiddie",
          "Luka Doncic",
          "Luka Doncic",
          "Spencer Dinwiddie",
          "Jalen Brunson",
          "Spencer Dinwiddie",
          "Jalen Brunson",
          "Spencer Dinwiddie",
          "Jalen Brunson",
          "Luka Doncic",
          "Jalen Brunson",
          "Spencer Dinwiddie",
          "Frank Ntilikina",
          "Spencer Dinwiddie",
          "Jalen Brunson",
          "Jalen Brunson",
          "Luka Doncic",
          "Luka Doncic",
          "Luka Doncic",
          "Luka Doncic",
          "Luka Doncic",
          "Luka Doncic",
          "Luka Doncic",
          "Luka Doncic",
          "Spencer Dinwiddie",
          "Luka Doncic",
          "Luka Doncic",
          "Luka Doncic",
          "Jalen Brunson",
          "Luka Doncic",
          "Luka Doncic",
          "Jalen Brunson",
          "Dorian Finney-Smith",
          "Luka Doncic",
          "Jalen Brunson",
          "Luka Doncic",
          "Luka Doncic",
          "Luka Doncic",
          "Maxi Kleber",
          "Spencer Dinwiddie",
          "Spencer Dinwiddie",
          "Luka Doncic",
          "Spencer Dinwiddie",
          "Dorian Finney-Smith",
          "Jalen Brunson",
          "Spencer Dinwiddie",
          "Spencer Dinwiddie",
          "Luka Doncic",
          "Jalen Brunson",
          "Dorian Finney-Smith",
          "Jalen Brunson",
          "Luka Doncic",
          "Luka Doncic",
          "Luka Doncic",
          "Luka Doncic",
          "Spencer Dinwiddie",
          "Luka Doncic",
          "Spencer Dinwiddie",
          "Luka Doncic",
          "Spencer Dinwiddie",
          "Jalen Brunson",
          "Luka Doncic",
          "Luka Doncic",
          "P.J. Tucker",
          "Jimmy Butler",
          "P.J. Tucker",
          "Max Strus",
          "Jimmy Butler",
          "Tyler Herro",
          "Victor Oladipo",
          "Dewayne Dedmon",
          "Caleb Martin",
          "Duncan Robinson",
          "Gabe Vincent",
          "Gabe Vincent",
          "Gabe Vincent",
          "Gabe Vincent",
          "Gabe Vincent",
          "Jimmy Butler",
          "Tyler Herro",
          "Jimmy Butler",
          "Tyler Herro",
          "Caleb Martin",
          "Tyler Herro",
          "Tyler Herro",
          "Tyler Herro",
          "Tyler Herro",
          "Jimmy Butler",
          "Gabe Vincent",
          "Bam Adebayo",
          "Bam Adebayo",
          "Max Strus",
          "Bam Adebayo",
          "Jimmy Butler",
          "Victor Oladipo",
          "Tyler Herro",
          "Tyler Herro",
          "Tyler Herro",
          "Victor Oladipo",
          "Victor Oladipo",
          "Victor Oladipo",
          "Victor Oladipo",
          "Victor Oladipo",
          "P.J. Tucker",
          "Jimmy Butler",
          "Jimmy Butler",
          "Max Strus",
          "Gabe Vincent",
          "P.J. Tucker",
          "Tyler Herro",
          "Bam Adebayo",
          "Caleb Martin",
          "Bam Adebayo",
          "Tyler Herro",
          "Caleb Martin",
          "Bam Adebayo",
          "Tyler Herro",
          "Jimmy Butler",
          "Gabe Vincent",
          "Jimmy Butler",
          "P.J. Tucker",
          "Gabe Vincent",
          "Gabe Vincent",
          "Jimmy Butler",
          "Jimmy Butler",
          "Max Strus",
          "Jimmy Butler",
          "Jimmy Butler",
          "Victor Oladipo",
          "Jimmy Butler",
          "Gabe Vincent",
          "Bam Adebayo",
          "Jimmy Butler",
          "Tyler Herro",
          "Tyler Herro",
          "Victor Oladipo",
          "Victor Oladipo",
          "Duncan Robinson",
          "Caleb Martin",
          "Haywood Highsmith",
          "Duncan Robinson",
          "Duncan Robinson",
          "Victor Oladipo",
          "Victor Oladipo",
          "Duncan Robinson",
          "Caleb Martin",
          "Marcus Smart",
          "Jayson Tatum",
          "Jaylen Brown",
          "Jayson Tatum",
          "Marcus Smart",
          "Robert Williams III",
          "Marcus Smart",
          "Marcus Smart",
          "Payton Pritchard",
          "Marcus Smart",
          "Grant Williams",
          "Payton Pritchard",
          "Jayson Tatum",
          "Marcus Smart",
          "Marcus Smart",
          "Marcus Smart",
          "Marcus Smart",
          "Al Horford",
          "Payton Pritchard",
          "Jayson Tatum",
          "Marcus Smart",
          "Marcus Smart",
          "Marcus Smart",
          "Marcus Smart",
          "Marcus Smart",
          "Marcus Smart",
          "Marcus Smart",
          "Marcus Smart",
          "Marcus Smart",
          "Marcus Smart",
          "Marcus Smart",
          "Marcus Smart",
          "Payton Pritchard",
          "Jaylen Brown",
          "Marcus Smart",
          "Nik Stauskas",
          "Nik Stauskas",
          "Nik Stauskas",
          "Aaron Nesmith",
          "Marcus Smart",
          "Jaylen Brown",
          "Jayson Tatum",
          "Marcus Smart",
          "Jayson Tatum",
          "Jaylen Brown",
          "Jaylen Brown",
          "Marcus Smart",
          "Al Horford",
          "Jaylen Brown",
          "Jaylen Brown",
          "Grant Williams",
          "Marcus Smart",
          "Al Horford",
          "Jaylen Brown",
          "Marcus Smart",
          "Marcus Smart",
          "Marcus Smart",
          "Grant Williams",
          "Payton Pritchard",
          "Marcus Smart",
          "Jayson Tatum",
          "Jayson Tatum",
          "Jayson Tatum",
          "Marcus Smart",
          "Grant Williams",
          "Marcus Smart",
          "Jayson Tatum",
          "Jayson Tatum",
          "Marcus Smart",
          "Marcus Smart",
          "Jaylen Brown",
          "Payton Pritchard",
          "Al Horford",
          "Marcus Smart",
          "Nik Stauskas",
          "Luke Kornet",
          "Payton Pritchard",
          "Aaron Nesmith",
          "Payton Pritchard",
          "Jimmy Butler",
          "Gabe Vincent",
          "Max Strus",
          "Duncan Robinson",
          "Caleb Martin",
          "Jimmy Butler",
          "Duncan Robinson",
          "Jimmy Butler",
          "Caleb Martin",
          "Kyle Lowry",
          "Jimmy Butler",
          "Kyle Lowry",
          "Jimmy Butler",
          "Gabe Vincent",
          "Gabe Vincent",
          "Kyle Lowry",
          "Kyle Lowry",
          "Bam Adebayo",
          "Kyle Lowry",
          "Kyle Lowry",
          "Bam Adebayo",
          "Max Strus",
          "Gabe Vincent",
          "Victor Oladipo",
          "Gabe Vincent",
          "Jimmy Butler",
          "Jimmy Butler",
          "Gabe Vincent",
          "Bam Adebayo",
          "Bam Adebayo",
          "Bam Adebayo",
          "Jimmy Butler",
          "Kyle Lowry",
          "P.J. Tucker",
          "Jimmy Butler",
          "Max Strus",
          "Kyle Lowry",
          "Kyle Lowry",
          "Victor Oladipo",
          "Victor Oladipo",
          "Victor Oladipo",
          "Caleb Martin",
          "Victor Oladipo",
          "Caleb Martin",
          "Caleb Martin",
          "Kyle Lowry",
          "Bam Adebayo",
          "Bam Adebayo",
          "Kyle Lowry",
          "Jimmy Butler",
          "Kyle Lowry",
          "Bam Adebayo",
          "Jimmy Butler",
          "Victor Oladipo",
          "Gabe Vincent",
          "Caleb Martin",
          "Bam Adebayo",
          "Kyle Lowry",
          "Bam Adebayo",
          "Jimmy Butler",
          "Duncan Robinson",
          "Gabe Vincent",
          "Gabe Vincent",
          "Gabe Vincent",
          "Omer Yurtseven",
          "Gabe Vincent",
          "Jaylen Brown",
          "Al Horford",
          "Derrick White",
          "Payton Pritchard",
          "Derrick White",
          "Al Horford",
          "Derrick White",
          "Marcus Smart",
          "Jaylen Brown",
          "Jayson Tatum",
          "Derrick White",
          "Derrick White",
          "Jayson Tatum",
          "Jaylen Brown",
          "Derrick White",
          "Marcus Smart",
          "Grant Williams",
          "Marcus Smart",
          "Marcus Smart",
          "Marcus Smart",
          "Jaylen Brown",
          "Al Horford",
          "Marcus Smart",
          "Marcus Smart",
          "Marcus Smart",
          "Grant Williams",
          "Derrick White",
          "Derrick White",
          "Jaylen Brown",
          "Jaylen Brown",
          "Marcus Smart",
          "Al Horford",
          "Marcus Smart",
          "Al Horford",
          "Marcus Smart",
          "Jaylen Brown",
          "Al Horford",
          "Jayson Tatum",
          "Jaylen Brown",
          "Jayson Tatum",
          "Derrick White",
          "Derrick White",
          "Jaylen Brown",
          "Grant Williams",
          "Payton Pritchard",
          "Jaylen Brown",
          "Payton Pritchard",
          "Marcus Smart",
          "Payton Pritchard",
          "Jayson Tatum",
          "Payton Pritchard",
          "Marcus Smart",
          "Jayson Tatum",
          "Marcus Smart",
          "Jayson Tatum",
          "Al Horford",
          "Marcus Smart",
          "Jayson Tatum",
          "Jayson Tatum",
          "Robert Williams III",
          "Derrick White",
          "Jaylen Brown",
          "Al Horford",
          "Jayson Tatum",
          "Marcus Smart",
          "Grant Williams",
          "Marcus Smart",
          "Al Horford",
          "Jayson Tatum",
          "Marcus Smart",
          "Jayson Tatum",
          "Jayson Tatum",
          "Jayson Tatum",
          "Marcus Smart",
          "Derrick White",
          "Jayson Tatum",
          "Derrick White",
          "Jayson Tatum",
          "Jaylen Brown",
          "Jayson Tatum",
          "Derrick White",
          "Al Horford",
          "Derrick White",
          "Jaylen Brown",
          "Jaylen Brown",
          "Jayson Tatum",
          "Derrick White",
          "Derrick White",
          "Jayson Tatum",
          "Jaylen Brown",
          "Payton Pritchard",
          "Jayson Tatum",
          "Jayson Tatum",
          "Derrick White",
          "Jaylen Brown",
          "Payton Pritchard",
          "Jaylen Brown",
          "Jayson Tatum",
          "Derrick White",
          "Derrick White",
          "Jayson Tatum",
          "Derrick White",
          "Derrick White",
          "Payton Pritchard",
          "Jaylen Brown",
          "Jayson Tatum",
          "Grant Williams",
          "Jayson Tatum",
          "Jayson Tatum",
          "Payton Pritchard",
          "Payton Pritchard",
          "Payton Pritchard",
          "Payton Pritchard",
          "Payton Pritchard",
          "Payton Pritchard",
          "Payton Pritchard",
          "Jaylen Brown",
          "Jayson Tatum",
          "Al Horford",
          "Jayson Tatum",
          "Jaylen Brown",
          "Derrick White",
          "Derrick White",
          "Jayson Tatum",
          "Jaylen Brown",
          "Jayson Tatum",
          "Derrick White",
          "Jayson Tatum",
          "Payton Pritchard",
          "Derrick White",
          "Jayson Tatum",
          "Al Horford",
          "Payton Pritchard",
          "Jayson Tatum",
          "Al Horford",
          "Payton Pritchard",
          "Jayson Tatum",
          "Derrick White",
          "Derrick White",
          "Payton Pritchard",
          "Jaylen Brown",
          "Al Horford",
          "Jaylen Brown",
          "Jayson Tatum",
          "Derrick White",
          "Jayson Tatum",
          "Jayson Tatum",
          "Jaylen Brown",
          "Jaylen Brown",
          "Derrick White",
          "Jayson Tatum",
          "Jaylen Brown",
          "Jayson Tatum",
          "Al Horford",
          "Al Horford",
          "Jayson Tatum",
          "Derrick White",
          "Derrick White",
          "Derrick White",
          "Jaylen Brown",
          "Al Horford",
          "Jaylen Brown",
          "Payton Pritchard",
          "Jaylen Brown",
          "Al Horford",
          "Derrick White",
          "Al Horford",
          "Al Horford",
          "Payton Pritchard",
          "Grant Williams",
          "Derrick White",
          "Grant Williams",
          "Payton Pritchard",
          "Payton Pritchard",
          "Derrick White",
          "Payton Pritchard",
          "Aaron Nesmith",
          "Payton Pritchard",
          "Daniel Theis",
          "Aaron Nesmith",
          "Derrick White",
          "Payton Pritchard",
          "Aaron Nesmith",
          "Nik Stauskas",
          "Nik Stauskas",
          "Gabe Vincent",
          "Dewayne Dedmon",
          "Victor Oladipo",
          "Caleb Martin",
          "Duncan Robinson",
          "Kyle Lowry",
          "Bam Adebayo",
          "Kyle Lowry",
          "Kyle Lowry",
          "Jimmy Butler",
          "Jimmy Butler",
          "Bam Adebayo",
          "Victor Oladipo",
          "Bam Adebayo",
          "Jimmy Butler",
          "Kyle Lowry",
          "Kyle Lowry",
          "Bam Adebayo",
          "Kyle Lowry",
          "Bam Adebayo",
          "Bam Adebayo",
          "Gabe Vincent",
          "Bam Adebayo",
          "Victor Oladipo",
          "Victor Oladipo",
          "Victor Oladipo",
          "Gabe Vincent",
          "Victor Oladipo",
          "Victor Oladipo",
          "Gabe Vincent",
          "Kyle Lowry",
          "Jimmy Butler",
          "Jimmy Butler",
          "Kyle Lowry",
          "P.J. Tucker",
          "Victor Oladipo",
          "Victor Oladipo",
          "Victor Oladipo",
          "Caleb Martin",
          "Victor Oladipo",
          "Bam Adebayo",
          "Bam Adebayo",
          "Bam Adebayo",
          "Kyle Lowry",
          "Kyle Lowry",
          "Victor Oladipo",
          "Bam Adebayo",
          "Kyle Lowry",
          "Jimmy Butler",
          "Max Strus",
          "Bam Adebayo",
          "Kyle Lowry",
          "Victor Oladipo",
          "Jimmy Butler",
          "Caleb Martin",
          "Caleb Martin",
          "Caleb Martin",
          "Victor Oladipo",
          "Bam Adebayo",
          "Victor Oladipo",
          "Gabe Vincent",
          "Victor Oladipo",
          "Caleb Martin",
          "Duncan Robinson",
          "Gabe Vincent",
          "Haywood Highsmith",
          "Jaylen Brown",
          "Derrick White",
          "Jaylen Brown",
          "Marcus Smart",
          "Jaylen Brown",
          "Marcus Smart",
          "Marcus Smart",
          "Marcus Smart",
          "Marcus Smart",
          "Marcus Smart",
          "Jayson Tatum",
          "Marcus Smart",
          "Marcus Smart",
          "Derrick White",
          "Jaylen Brown",
          "Jaylen Brown",
          "Marcus Smart",
          "Derrick White",
          "Jaylen Brown",
          "Marcus Smart",
          "Marcus Smart",
          "Jayson Tatum",
          "Derrick White",
          "Jaylen Brown",
          "Marcus Smart",
          "Marcus Smart",
          "Marcus Smart",
          "Jaylen Brown",
          "Jayson Tatum",
          "Payton Pritchard",
          "Al Horford",
          "Jayson Tatum",
          "Jayson Tatum",
          "Marcus Smart",
          "Marcus Smart",
          "Marcus Smart",
          "Al Horford",
          "Marcus Smart",
          "Derrick White",
          "Jaylen Brown",
          "Al Horford",
          "Marcus Smart",
          "Jaylen Brown",
          "Marcus Smart",
          "Derrick White",
          "Daniel Theis",
          "Marcus Smart",
          "Grant Williams",
          "Marcus Smart",
          "Jaylen Brown",
          "Jaylen Brown",
          "Payton Pritchard",
          "Payton Pritchard",
          "Jayson Tatum",
          "Jaylen Brown",
          "Al Horford",
          "Jaylen Brown",
          "Payton Pritchard",
          "Jaylen Brown",
          "Jaylen Brown",
          "Jaylen Brown",
          "Jayson Tatum",
          "Jaylen Brown",
          "Marcus Smart",
          "Al Horford",
          "Marcus Smart",
          "Jayson Tatum",
          "Jayson Tatum",
          "Marcus Smart",
          "Jaylen Brown",
          "Jayson Tatum",
          "Jaylen Brown",
          "Payton Pritchard",
          "Jaylen Brown",
          "Jaylen Brown",
          "Grant Williams",
          "Jayson Tatum",
          "Payton Pritchard",
          "Jaylen Brown",
          "Marcus Smart",
          "Jayson Tatum",
          "Jaylen Brown",
          "Al Horford",
          "Jaylen Brown",
          "Derrick White",
          "Marcus Smart",
          "Grant Williams",
          "Jaylen Brown",
          "Jayson Tatum",
          "Derrick White",
          "Derrick White",
          "Jayson Tatum",
          "Jaylen Brown",
          "Marcus Smart",
          "Marcus Smart",
          "Jayson Tatum",
          "Kyle Lowry",
          "Bam Adebayo",
          "Kyle Lowry",
          "Jimmy Butler",
          "Gabe Vincent",
          "Bam Adebayo",
          "Gabe Vincent",
          "Jimmy Butler",
          "Tyler Herro",
          "Kyle Lowry",
          "Tyler Herro",
          "Jimmy Butler",
          "Jimmy Butler",
          "Gabe Vincent",
          "Victor Oladipo",
          "Bam Adebayo",
          "P.J. Tucker",
          "Bam Adebayo",
          "Tyler Herro",
          "P.J. Tucker",
          "Bam Adebayo",
          "Caleb Martin",
          "Victor Oladipo",
          "Victor Oladipo",
          "Max Strus",
          "Kyle Lowry",
          "Kyle Lowry",
          "Jimmy Butler",
          "Gabe Vincent",
          "Bam Adebayo",
          "Bam Adebayo",
          "Bam Adebayo",
          "Jimmy Butler",
          "Kyle Lowry",
          "Jimmy Butler",
          "Kyle Lowry",
          "Victor Oladipo",
          "Kyle Lowry",
          "Kyle Lowry",
          "Kyle Lowry",
          "Tyler Herro",
          "Gabe Vincent",
          "Victor Oladipo",
          "Tyler Herro",
          "Victor Oladipo",
          "Kyle Lowry",
          "Jimmy Butler",
          "Bam Adebayo",
          "Kyle Lowry",
          "Kyle Lowry",
          "Jimmy Butler",
          "Bam Adebayo",
          "Bam Adebayo",
          "Gabe Vincent",
          "Dewayne Dedmon",
          "Gabe Vincent",
          "Gabe Vincent",
          "P.J. Tucker",
          "Jimmy Butler",
          "Tyler Herro",
          "Tyler Herro",
          "Bam Adebayo",
          "Kyle Lowry",
          "P.J. Tucker",
          "Jimmy Butler",
          "P.J. Tucker",
          "Kyle Lowry",
          "Bam Adebayo",
          "Tyler Herro",
          "Bam Adebayo",
          "Bam Adebayo",
          "Bam Adebayo",
          "Gabe Vincent",
          "P.J. Tucker",
          "Kyle Lowry",
          "Kyle Lowry",
          "Marcus Smart",
          "Derrick White",
          "Derrick White",
          "Al Horford",
          "Marcus Smart",
          "Payton Pritchard",
          "Jaylen Brown",
          "Jayson Tatum",
          "Jaylen Brown",
          "Derrick White",
          "Marcus Smart",
          "Derrick White",
          "Derrick White",
          "Marcus Smart",
          "Marcus Smart",
          "Jayson Tatum",
          "Jayson Tatum",
          "Robert Williams III",
          "Jayson Tatum",
          "Jayson Tatum",
          "Jayson Tatum",
          "Marcus Smart",
          "Jayson Tatum",
          "Marcus Smart",
          "Robert Williams III",
          "Derrick White",
          "Marcus Smart",
          "Jayson Tatum",
          "Derrick White",
          "Jaylen Brown",
          "Marcus Smart",
          "Marcus Smart",
          "Derrick White",
          "Jayson Tatum",
          "Jaylen Brown",
          "Marcus Smart",
          "Jayson Tatum",
          "Jaylen Brown",
          "Marcus Smart",
          "Jaylen Brown",
          "Al Horford",
          "Jayson Tatum",
          "Jaylen Brown",
          "Jayson Tatum",
          "Robert Williams III",
          "Payton Pritchard",
          "Derrick White",
          "Jayson Tatum",
          "Payton Pritchard",
          "Derrick White",
          "Marcus Smart",
          "Jaylen Brown",
          "Jaylen Brown",
          "Marcus Smart",
          "Marcus Smart",
          "Jayson Tatum",
          "Marcus Smart",
          "Jayson Tatum",
          "Derrick White",
          "Al Horford",
          "Derrick White",
          "Jayson Tatum",
          "Marcus Smart",
          "Al Horford",
          "Marcus Smart",
          "Marcus Smart",
          "Jayson Tatum",
          "Marcus Smart",
          "Derrick White",
          "Marcus Smart",
          "Robert Williams III",
          "Jaylen Brown",
          "Jayson Tatum",
          "Jaylen Brown",
          "Jayson Tatum",
          "Jaylen Brown",
          "Jaylen Brown",
          "Marcus Smart",
          "Stephen Curry",
          "Stephen Curry",
          "Jordan Poole",
          "Jordan Poole",
          "Jordan Poole",
          "Stephen Curry",
          "Klay Thompson",
          "Kevon Looney",
          "Klay Thompson",
          "Otto Porter Jr.",
          "Andrew Wiggins",
          "Jordan Poole",
          "Nemanja Bjelica",
          "Stephen Curry",
          "Stephen Curry",
          "Stephen Curry",
          "Stephen Curry",
          "Klay Thompson",
          "Jordan Poole",
          "Andrew Wiggins",
          "Draymond Green",
          "Stephen Curry",
          "Stephen Curry",
          "Stephen Curry",
          "Draymond Green",
          "Andrew Wiggins",
          "Stephen Curry",
          "Draymond Green",
          "Stephen Curry",
          "Stephen Curry",
          "Jordan Poole",
          "Stephen Curry",
          "Jordan Poole",
          "Draymond Green",
          "Stephen Curry",
          "Jordan Poole",
          "Stephen Curry",
          "Draymond Green",
          "Stephen Curry",
          "Kevon Looney",
          "Draymond Green",
          "Kevon Looney",
          "Stephen Curry",
          "Andrew Wiggins",
          "Stephen Curry",
          "Stephen Curry",
          "Jordan Poole",
          "Andrew Wiggins",
          "Andrew Wiggins",
          "Jordan Poole",
          "Jordan Poole",
          "Andrew Wiggins",
          "Jordan Poole",
          "Kevon Looney",
          "Andrew Wiggins",
          "Andrew Wiggins",
          "Andrew Wiggins",
          "Stephen Curry",
          "Andrew Wiggins",
          "Andrew Wiggins",
          "Stephen Curry",
          "Otto Porter Jr.",
          "Andrew Wiggins",
          "Andrew Wiggins",
          "Stephen Curry",
          "Stephen Curry",
          "Stephen Curry",
          "Jordan Poole",
          "Gary Payton II",
          "Jordan Poole",
          "Jordan Poole",
          "Draymond Green",
          "Andrew Wiggins",
          "Jordan Poole",
          "Jordan Poole",
          "Jordan Poole",
          "Stephen Curry",
          "Stephen Curry",
          "Stephen Curry",
          "Stephen Curry",
          "Draymond Green",
          "Andrew Wiggins",
          "Stephen Curry",
          "Marcus Smart",
          "Jayson Tatum",
          "Al Horford",
          "Jayson Tatum",
          "Robert Williams III",
          "Marcus Smart",
          "Payton Pritchard",
          "Jaylen Brown",
          "Jayson Tatum",
          "Marcus Smart",
          "Derrick White",
          "Derrick White",
          "Marcus Smart",
          "Marcus Smart",
          "Jaylen Brown",
          "Jayson Tatum",
          "Jayson Tatum",
          "Payton Pritchard",
          "Al Horford",
          "Jayson Tatum",
          "Jayson Tatum",
          "Jayson Tatum",
          "Marcus Smart",
          "Derrick White",
          "Derrick White",
          "Marcus Smart",
          "Marcus Smart",
          "Marcus Smart",
          "Marcus Smart",
          "Marcus Smart",
          "Derrick White",
          "Marcus Smart",
          "Marcus Smart",
          "Jayson Tatum",
          "Marcus Smart",
          "Jayson Tatum",
          "Marcus Smart",
          "Jayson Tatum",
          "Marcus Smart",
          "Jayson Tatum",
          "Jaylen Brown",
          "Al Horford",
          "Jaylen Brown",
          "Al Horford",
          "Jaylen Brown",
          "Derrick White",
          "Marcus Smart",
          "Marcus Smart",
          "Jayson Tatum",
          "Marcus Smart",
          "Jaylen Brown",
          "Al Horford",
          "Marcus Smart",
          "Jaylen Brown",
          "Marcus Smart",
          "Jaylen Brown",
          "Payton Pritchard",
          "Jayson Tatum",
          "Al Horford",
          "Jaylen Brown",
          "Jayson Tatum",
          "Jaylen Brown",
          "Al Horford",
          "Jayson Tatum",
          "Marcus Smart",
          "Jaylen Brown",
          "Jayson Tatum",
          "Jayson Tatum",
          "Grant Williams",
          "Marcus Smart",
          "Jayson Tatum",
          "Robert Williams III",
          "Grant Williams",
          "Marcus Smart",
          "Marcus Smart",
          "Jayson Tatum",
          "Jayson Tatum",
          "Al Horford",
          "Marcus Smart",
          "Aaron Nesmith",
          "Klay Thompson",
          "Andrew Wiggins",
          "Stephen Curry",
          "Andrew Wiggins",
          "Andrew Wiggins",
          "Draymond Green",
          "Otto Porter Jr.",
          "Jordan Poole",
          "Klay Thompson",
          "Stephen Curry",
          "Stephen Curry",
          "Draymond Green",
          "Draymond Green",
          "Klay Thompson",
          "Klay Thompson",
          "Draymond Green",
          "Otto Porter Jr.",
          "Stephen Curry",
          "Andrew Wiggins",
          "Stephen Curry",
          "Jordan Poole",
          "Jordan Poole",
          "Draymond Green",
          "Jordan Poole",
          "Jordan Poole",
          "Jordan Poole",
          "Draymond Green",
          "Stephen Curry",
          "Stephen Curry",
          "Jordan Poole",
          "Klay Thompson",
          "Jordan Poole",
          "Stephen Curry",
          "Stephen Curry",
          "Stephen Curry",
          "Klay Thompson",
          "Stephen Curry",
          "Stephen Curry",
          "Jordan Poole",
          "Stephen Curry",
          "Stephen Curry",
          "Stephen Curry",
          "Draymond Green",
          "Stephen Curry",
          "Klay Thompson",
          "Jordan Poole",
          "Jordan Poole",
          "Jordan Poole",
          "Stephen Curry",
          "Andrew Wiggins",
          "Draymond Green",
          "Draymond Green",
          "Draymond Green",
          "Stephen Curry",
          "Klay Thompson",
          "Stephen Curry",
          "Jordan Poole",
          "Jordan Poole",
          "Stephen Curry",
          "Draymond Green",
          "Stephen Curry",
          "Jordan Poole",
          "Jonathan Kuminga",
          "Jordan Poole",
          "Jordan Poole",
          "Kevon Looney",
          "Jordan Poole",
          "Stephen Curry",
          "Kevon Looney",
          "Stephen Curry",
          "Jordan Poole",
          "Stephen Curry",
          "Stephen Curry",
          "Klay Thompson",
          "Andrew Wiggins",
          "Stephen Curry",
          "Andrew Wiggins",
          "Otto Porter Jr.",
          "Gary Payton II",
          "Otto Porter Jr.",
          "Draymond Green",
          "Gary Payton II",
          "Klay Thompson",
          "Jordan Poole",
          "Andrew Wiggins",
          "Stephen Curry",
          "Stephen Curry",
          "Stephen Curry",
          "Stephen Curry",
          "Jordan Poole",
          "Stephen Curry",
          "Andrew Wiggins",
          "Stephen Curry",
          "Stephen Curry",
          "Stephen Curry",
          "Stephen Curry",
          "Stephen Curry",
          "Jordan Poole",
          "Jordan Poole",
          "Jordan Poole",
          "Jordan Poole",
          "Klay Thompson",
          "Stephen Curry",
          "Stephen Curry",
          "Andrew Wiggins",
          "Draymond Green",
          "Klay Thompson",
          "Gary Payton II",
          "Stephen Curry",
          "Nemanja Bjelica",
          "Andrew Wiggins",
          "Jordan Poole",
          "Klay Thompson",
          "Nemanja Bjelica",
          "Nemanja Bjelica",
          "Jordan Poole",
          "Andrew Wiggins",
          "Stephen Curry",
          "Andrew Wiggins",
          "Gary Payton II",
          "Stephen Curry",
          "Stephen Curry",
          "Draymond Green",
          "Klay Thompson",
          "Draymond Green",
          "Stephen Curry",
          "Stephen Curry",
          "Draymond Green",
          "Klay Thompson",
          "Stephen Curry",
          "Klay Thompson",
          "Kevon Looney",
          "Andrew Wiggins",
          "Draymond Green",
          "Stephen Curry",
          "Stephen Curry",
          "Andrew Wiggins",
          "Jordan Poole",
          "Draymond Green",
          "Jordan Poole",
          "Jordan Poole",
          "Jordan Poole",
          "Kevon Looney",
          "Moses Moody",
          "Juan Toscano-Anderson",
          "Jonathan Kuminga",
          "Damion Lee",
          "Jayson Tatum",
          "Derrick White",
          "Marcus Smart",
          "Payton Pritchard",
          "Derrick White",
          "Aaron Nesmith",
          "Nik Stauskas",
          "Marcus Smart",
          "Jayson Tatum",
          "Marcus Smart",
          "Jayson Tatum",
          "Derrick White",
          "Marcus Smart",
          "Al Horford",
          "Jayson Tatum",
          "Payton Pritchard",
          "Jayson Tatum",
          "Derrick White",
          "Derrick White",
          "Marcus Smart",
          "Derrick White",
          "Marcus Smart",
          "Marcus Smart",
          "Marcus Smart",
          "Marcus Smart",
          "Al Horford",
          "Jayson Tatum",
          "Derrick White",
          "Jayson Tatum",
          "Jayson Tatum",
          "Al Horford",
          "Payton Pritchard",
          "Aaron Nesmith",
          "Payton Pritchard",
          "Payton Pritchard",
          "Sam Hauser",
          "Nik Stauskas",
          "Jaylen Brown",
          "Jayson Tatum",
          "Jaylen Brown",
          "Jayson Tatum",
          "Al Horford",
          "Jaylen Brown",
          "Jaylen Brown",
          "Al Horford",
          "Grant Williams",
          "Marcus Smart",
          "Daniel Theis",
          "Jayson Tatum",
          "Derrick White",
          "Payton Pritchard",
          "Jaylen Brown",
          "Jayson Tatum",
          "Jaylen Brown",
          "Jayson Tatum",
          "Payton Pritchard",
          "Derrick White",
          "Jayson Tatum",
          "Jaylen Brown",
          "Jaylen Brown",
          "Jaylen Brown",
          "Derrick White",
          "Derrick White",
          "Marcus Smart",
          "Marcus Smart",
          "Jayson Tatum",
          "Marcus Smart",
          "Marcus Smart",
          "Jaylen Brown",
          "Jaylen Brown",
          "Jayson Tatum",
          "Jaylen Brown",
          "Al Horford",
          "Al Horford",
          "Marcus Smart",
          "Aaron Nesmith",
          "Derrick White",
          "Aaron Nesmith",
          "Payton Pritchard",
          "Grant Williams",
          "Derrick White",
          "Payton Pritchard",
          "Nik Stauskas",
          "Nik Stauskas",
          "Andrew Wiggins",
          "Gary Payton II",
          "Draymond Green",
          "Gary Payton II",
          "Stephen Curry",
          "Stephen Curry",
          "Draymond Green",
          "Klay Thompson",
          "Andrew Wiggins",
          "Klay Thompson",
          "Klay Thompson",
          "Klay Thompson",
          "Stephen Curry",
          "Stephen Curry",
          "Draymond Green",
          "Stephen Curry",
          "Stephen Curry",
          "Jordan Poole",
          "Jordan Poole",
          "Jordan Poole",
          "Stephen Curry",
          "Stephen Curry",
          "Andrew Wiggins",
          "Stephen Curry",
          "Stephen Curry",
          "Stephen Curry",
          "Stephen Curry",
          "Stephen Curry",
          "Stephen Curry",
          "Stephen Curry",
          "Stephen Curry",
          "Stephen Curry",
          "Jordan Poole",
          "Stephen Curry",
          "Stephen Curry",
          "Andrew Wiggins",
          "Stephen Curry",
          "Klay Thompson",
          "Andrew Wiggins",
          "Draymond Green",
          "Andrew Wiggins",
          "Andrew Wiggins",
          "Andrew Wiggins",
          "Stephen Curry",
          "Gary Payton II",
          "Draymond Green",
          "Otto Porter Jr.",
          "Andrew Wiggins",
          "Stephen Curry",
          "Jordan Poole",
          "Nemanja Bjelica",
          "Jordan Poole",
          "Jordan Poole",
          "Andrew Wiggins",
          "Jordan Poole",
          "Klay Thompson",
          "Draymond Green",
          "Otto Porter Jr.",
          "Stephen Curry",
          "Stephen Curry",
          "Draymond Green",
          "Andrew Wiggins",
          "Klay Thompson",
          "Stephen Curry",
          "Kevon Looney",
          "Stephen Curry",
          "Andrew Wiggins",
          "Draymond Green",
          "Andrew Wiggins",
          "Andrew Wiggins",
          "Jordan Poole",
          "Jordan Poole",
          "Draymond Green",
          "Jordan Poole",
          "Klay Thompson",
          "Stephen Curry",
          "Andrew Wiggins",
          "Draymond Green",
          "Draymond Green",
          "Derrick White",
          "Marcus Smart",
          "Jaylen Brown",
          "Jaylen Brown",
          "Jaylen Brown",
          "Jayson Tatum",
          "Jayson Tatum",
          "Jaylen Brown",
          "Al Horford",
          "Robert Williams III",
          "Derrick White",
          "Marcus Smart",
          "Derrick White",
          "Jayson Tatum",
          "Derrick White",
          "Jayson Tatum",
          "Derrick White",
          "Derrick White",
          "Jayson Tatum",
          "Marcus Smart",
          "Marcus Smart",
          "Jaylen Brown",
          "Jayson Tatum",
          "Jayson Tatum",
          "Marcus Smart",
          "Jaylen Brown",
          "Derrick White",
          "Derrick White",
          "Marcus Smart",
          "Marcus Smart",
          "Jaylen Brown",
          "Marcus Smart",
          "Jaylen Brown",
          "Marcus Smart",
          "Marcus Smart",
          "Jaylen Brown",
          "Jaylen Brown",
          "Derrick White",
          "Marcus Smart",
          "Jaylen Brown",
          "Payton Pritchard",
          "Derrick White",
          "Jayson Tatum",
          "Payton Pritchard",
          "Jayson Tatum",
          "Marcus Smart",
          "Marcus Smart",
          "Derrick White",
          "Jaylen Brown",
          "Jaylen Brown",
          "Jayson Tatum",
          "Jaylen Brown",
          "Marcus Smart",
          "Jayson Tatum",
          "Jaylen Brown",
          "Marcus Smart",
          "Jaylen Brown",
          "Jayson Tatum",
          "Marcus Smart",
          "Jaylen Brown",
          "Jayson Tatum",
          "Al Horford",
          "Marcus Smart",
          "Jayson Tatum",
          "Marcus Smart",
          "Marcus Smart",
          "Marcus Smart",
          "Grant Williams",
          "Jayson Tatum",
          "Derrick White",
          "Jaylen Brown",
          "Jayson Tatum",
          "Jayson Tatum",
          "Marcus Smart",
          "Jayson Tatum",
          "Marcus Smart",
          "Jaylen Brown",
          "Marcus Smart",
          "Marcus Smart",
          "Jayson Tatum",
          "Jayson Tatum",
          "Nik Stauskas",
          "Nik Stauskas",
          "Nik Stauskas",
          "Sam Hauser",
          "Draymond Green",
          "Damion Lee",
          "Stephen Curry",
          "Draymond Green",
          "Jordan Poole",
          "Jonathan Kuminga",
          "Juan Toscano-Anderson",
          "Jonathan Kuminga",
          "Kevon Looney",
          "Stephen Curry",
          "Stephen Curry",
          "Stephen Curry",
          "Klay Thompson",
          "Stephen Curry",
          "Draymond Green",
          "Jordan Poole",
          "Jordan Poole",
          "Jordan Poole",
          "Jordan Poole",
          "Stephen Curry",
          "Stephen Curry",
          "Stephen Curry",
          "Andrew Wiggins",
          "Draymond Green",
          "Draymond Green",
          "Stephen Curry",
          "Stephen Curry",
          "Jordan Poole",
          "Jordan Poole",
          "Juan Toscano-Anderson",
          "Stephen Curry",
          "Stephen Curry",
          "Andrew Wiggins",
          "Draymond Green",
          "Stephen Curry",
          "Klay Thompson",
          "Draymond Green",
          "Andrew Wiggins",
          "Stephen Curry",
          "Otto Porter Jr.",
          "Draymond Green",
          "Draymond Green",
          "Andrew Wiggins",
          "Stephen Curry",
          "Otto Porter Jr.",
          "Jordan Poole",
          "Andrew Wiggins",
          "Otto Porter Jr.",
          "Draymond Green",
          "Stephen Curry",
          "Stephen Curry",
          "Jordan Poole",
          "Klay Thompson",
          "Jordan Poole",
          "Klay Thompson",
          "Stephen Curry",
          "Draymond Green",
          "Stephen Curry",
          "Stephen Curry",
          "Jordan Poole",
          "Klay Thompson",
          "Stephen Curry",
          "Klay Thompson",
          "Stephen Curry",
          "Stephen Curry",
          "Draymond Green",
          "Stephen Curry",
          "Stephen Curry",
          "Otto Porter Jr.",
          "Stephen Curry",
          "Klay Thompson",
          "Jordan Poole",
          "Jordan Poole",
          "Jordan Poole",
          "Draymond Green",
          "Andrew Wiggins",
          "Jordan Poole",
          "Jordan Poole",
          "Draymond Green",
          "Otto Porter Jr.",
          "Jordan Poole",
          "Andrew Wiggins",
          "Juan Toscano-Anderson",
          "Nemanja Bjelica",
          "Damion Lee",
          "Damion Lee",
          "Jonathan Kuminga",
          "Nemanja Bjelica",
          "Damion Lee",
          "Luka Doncic",
          "Luka Doncic",
          "Dwight Powell",
          "Luka Doncic",
          "Luka Doncic",
          "Sterling Brown",
          "Davis Bertans",
          "Trey Burke",
          "Davis Bertans",
          "Trey Burke",
          "Jalen Brunson",
          "Luka Doncic",
          "Jalen Brunson",
          "Luka Doncic",
          "Dorian Finney-Smith",
          "Jalen Brunson",
          "Luka Doncic",
          "Luka Doncic",
          "Luka Doncic",
          "Spencer Dinwiddie",
          "Jalen Brunson",
          "Jalen Brunson",
          "Jalen Brunson",
          "Luka Doncic",
          "Luka Doncic",
          "Jalen Brunson",
          "Luka Doncic",
          "Luka Doncic",
          "Luka Doncic",
          "Reggie Bullock",
          "Luka Doncic",
          "Luka Doncic",
          "Jalen Brunson",
          "Luka Doncic",
          "Jalen Brunson",
          "Jalen Brunson",
          "Spencer Dinwiddie",
          "Jalen Brunson",
          "Spencer Dinwiddie",
          "Luka Doncic",
          "Reggie Bullock",
          "Spencer Dinwiddie",
          "Spencer Dinwiddie",
          "Spencer Dinwiddie",
          "Luka Doncic",
          "Luka Doncic",
          "Luka Doncic",
          "Luka Doncic",
          "Jalen Brunson",
          "Spencer Dinwiddie",
          "Reggie Bullock",
          "Reggie Bullock",
          "Jalen Brunson",
          "Jalen Brunson",
          "Jalen Brunson",
          "Luka Doncic",
          "Jalen Brunson",
          "Luka Doncic",
          "Luka Doncic",
          "Jalen Brunson",
          "Jalen Brunson",
          "Dorian Finney-Smith",
          "Spencer Dinwiddie",
          "Luka Doncic",
          "Frank Ntilikina",
          "Luka Doncic",
          "Dorian Finney-Smith",
          "Spencer Dinwiddie",
          "Josh Green",
          "Spencer Dinwiddie",
          "Josh Green",
          "Dorian Finney-Smith",
          "Sterling Brown",
          "Sterling Brown",
          "Trey Burke",
          "Trey Burke",
          "Sterling Brown",
          "Trey Burke"
         ],
         "x0": " ",
         "xaxis": "x",
         "y": [
          0,
          1,
          2,
          0,
          1,
          0,
          2,
          0,
          0,
          0,
          0,
          1,
          2,
          0,
          0,
          0,
          0,
          0,
          0,
          1,
          0,
          0,
          0,
          0,
          0,
          0,
          0,
          0,
          0,
          0,
          2,
          0,
          0,
          1,
          1,
          0,
          0,
          0,
          0,
          0,
          0,
          0,
          0,
          0,
          0,
          1,
          0,
          0,
          0,
          0,
          3,
          4,
          0,
          0,
          1,
          0,
          0,
          2,
          2,
          0,
          0,
          3,
          0,
          0,
          0,
          0,
          2,
          1,
          0,
          0,
          2,
          2,
          0,
          2,
          0,
          3,
          0,
          1,
          1,
          0,
          0,
          2,
          0,
          1,
          0,
          0,
          0,
          0,
          2,
          1,
          2,
          2,
          1,
          0,
          1,
          0,
          0,
          1,
          1,
          0,
          0,
          2,
          2,
          1,
          1,
          1,
          2,
          0,
          0,
          0,
          1,
          0,
          1,
          3,
          0,
          0,
          0,
          1,
          0,
          2,
          0,
          2,
          0,
          0,
          0,
          0,
          0,
          0,
          0,
          5,
          1,
          2,
          1,
          0,
          1,
          2,
          0,
          2,
          0,
          0,
          0,
          4,
          1,
          0,
          2,
          1,
          1,
          2,
          0,
          0,
          0,
          0,
          1,
          3,
          1,
          0,
          0,
          1,
          1,
          0,
          2,
          0,
          0,
          2,
          0,
          2,
          0,
          0,
          0,
          0,
          0,
          0,
          0,
          0,
          0,
          0,
          0,
          0,
          0,
          0,
          0,
          0,
          0,
          0,
          0,
          1,
          0,
          0,
          0,
          0,
          0,
          0,
          0,
          1,
          1,
          0,
          1,
          1,
          0,
          1,
          0,
          0,
          0,
          0,
          1,
          0,
          0,
          0,
          1,
          1,
          1,
          0,
          0,
          2,
          1,
          1,
          0,
          0,
          0,
          1,
          0,
          0,
          0,
          2,
          0,
          5,
          0,
          0,
          0,
          2,
          2,
          1,
          0,
          0,
          0,
          3,
          0,
          0,
          0,
          0,
          0,
          0,
          0,
          0,
          0,
          0,
          0,
          0,
          0,
          0,
          0,
          0,
          0,
          0,
          0,
          0,
          0,
          0,
          1,
          0,
          0,
          1,
          1,
          0,
          1,
          0,
          0,
          5,
          0,
          2,
          0,
          0,
          0,
          1,
          0,
          1,
          0,
          1,
          0,
          0,
          0,
          0,
          0,
          0,
          2,
          0,
          0,
          0,
          2,
          0,
          0,
          3,
          0,
          0,
          0,
          2,
          2,
          0,
          2,
          0,
          0,
          0,
          2,
          0,
          2,
          0,
          5,
          0,
          4,
          2,
          2,
          0,
          0,
          0,
          4,
          0,
          0,
          0,
          2,
          3,
          0,
          0,
          1,
          0,
          0,
          0,
          0,
          0,
          1,
          0,
          0,
          1,
          2,
          1,
          0,
          0,
          0,
          0,
          0,
          1,
          0,
          0,
          3,
          3,
          1,
          0,
          3,
          1,
          0,
          1,
          1,
          0,
          1,
          0,
          0,
          0,
          0,
          0,
          0,
          5,
          0,
          3,
          0,
          2,
          1,
          0,
          1,
          2,
          1,
          1,
          0,
          2,
          1,
          3,
          0,
          0,
          1,
          2,
          1,
          5,
          5,
          0,
          2,
          2,
          1,
          1,
          0,
          0,
          0,
          0,
          1,
          0,
          0,
          0,
          0,
          0,
          0,
          0,
          2,
          0,
          0,
          0,
          0,
          1,
          0,
          0,
          0,
          0,
          0,
          1,
          1,
          0,
          1,
          0,
          0,
          0,
          0,
          3,
          1,
          0,
          0,
          5,
          0,
          0,
          0,
          3,
          0,
          0,
          0,
          5,
          2,
          0,
          0,
          3,
          4,
          0,
          1,
          3,
          0,
          0,
          3,
          0,
          0,
          1,
          1,
          0,
          0,
          0,
          1,
          0,
          0,
          0,
          1,
          0,
          1,
          1,
          1,
          0,
          1,
          0,
          0,
          1,
          2,
          0,
          1,
          0,
          2,
          2,
          0,
          0,
          4,
          0,
          0,
          0,
          0,
          0,
          1,
          0,
          0,
          0,
          2,
          0,
          0,
          0,
          0,
          0,
          0,
          0,
          0,
          0,
          0,
          0,
          0,
          0,
          0,
          0,
          0,
          0,
          0,
          2,
          2,
          0,
          0,
          1,
          3,
          0,
          0,
          0,
          0,
          0,
          2,
          1,
          1,
          0,
          0,
          0,
          0,
          0,
          0,
          0,
          0,
          1,
          0,
          2,
          0,
          1,
          1,
          0,
          0,
          0,
          0,
          0,
          0,
          0,
          0,
          0,
          4,
          4,
          0,
          0,
          0,
          1,
          0,
          1,
          0,
          1,
          2,
          0,
          0,
          0,
          0,
          1,
          1,
          0,
          0,
          0,
          0,
          0,
          0,
          0,
          0,
          0,
          0,
          0,
          0,
          0,
          0,
          0,
          1,
          2,
          0,
          0,
          0,
          0,
          0,
          0,
          0,
          0,
          1,
          0,
          0,
          0,
          0,
          0,
          3,
          1,
          0,
          2,
          2,
          2,
          0,
          0,
          0,
          1,
          0,
          0,
          2,
          2,
          1,
          0,
          0,
          0,
          0,
          1,
          0,
          1,
          1,
          0,
          0,
          2,
          0,
          0,
          1,
          0,
          0,
          1,
          0,
          0,
          2,
          1,
          1,
          0,
          2,
          2,
          0,
          1,
          1,
          2,
          0,
          0,
          0,
          0,
          0,
          0,
          1,
          0,
          0,
          2,
          0,
          0,
          0,
          0,
          0,
          0,
          0,
          0,
          0,
          0,
          0,
          0,
          0,
          0,
          1,
          0,
          0,
          0,
          0,
          0,
          0,
          0,
          0,
          0,
          0,
          1,
          1,
          0,
          0,
          0,
          3,
          0,
          0,
          1,
          5,
          0,
          0,
          1,
          0,
          0,
          2,
          0,
          0,
          1,
          0,
          0,
          0,
          1,
          0,
          0,
          2,
          0,
          0,
          0,
          0,
          0,
          0,
          0,
          0,
          3,
          0,
          1,
          0,
          1,
          0,
          0,
          0,
          0,
          2,
          0,
          0,
          1,
          0,
          0,
          0,
          0,
          0,
          0,
          0,
          0,
          0,
          0,
          0,
          0,
          0,
          0,
          0,
          0,
          0,
          0,
          0,
          0,
          0,
          1,
          0,
          0,
          1,
          0,
          0,
          0,
          0,
          1,
          5,
          0,
          0,
          0,
          2,
          0,
          0,
          4,
          0,
          1,
          4,
          0,
          0,
          0,
          0,
          0,
          0,
          0,
          0,
          1,
          0,
          5,
          1,
          0,
          0,
          0,
          0,
          0,
          2,
          1,
          0,
          1,
          0,
          0,
          1,
          1,
          0,
          0,
          0,
          2,
          1,
          0,
          2,
          0,
          0,
          1,
          1,
          0,
          0,
          0,
          0,
          2,
          0,
          0,
          0,
          0,
          3,
          1,
          0,
          0,
          0,
          0,
          0,
          0,
          0,
          1,
          0,
          0,
          0,
          0,
          0,
          0,
          0,
          0,
          0,
          0,
          0,
          0,
          0,
          0,
          0,
          0,
          0,
          2,
          0,
          1,
          1,
          0,
          0,
          0,
          0,
          0,
          0,
          0,
          0,
          1,
          0,
          5,
          0,
          1,
          2,
          1,
          2,
          0,
          0,
          1,
          0,
          0,
          1,
          0,
          0,
          1,
          1,
          0,
          3,
          0,
          0,
          0,
          0,
          2,
          0,
          0,
          0,
          0,
          0,
          0,
          2,
          0,
          1,
          0,
          3,
          1,
          2,
          0,
          4,
          1,
          0,
          0,
          0,
          1,
          2,
          1,
          0,
          0,
          0,
          2,
          0,
          0,
          0,
          0,
          0,
          0,
          0,
          0,
          0,
          0,
          1,
          0,
          0,
          0,
          0,
          0,
          0,
          0,
          0,
          1,
          0,
          1,
          0,
          1,
          0,
          1,
          0,
          0,
          1,
          0,
          0,
          0,
          0,
          0,
          0,
          2,
          0,
          0,
          0,
          0,
          0,
          0,
          2,
          0,
          1,
          0,
          1,
          2,
          0,
          0,
          0,
          2,
          1,
          2,
          0,
          0,
          1,
          0,
          0,
          1,
          0,
          0,
          2,
          0,
          4,
          0,
          0,
          0,
          0,
          0,
          0,
          0,
          0,
          0,
          1,
          1,
          1,
          3,
          1,
          1,
          4,
          0,
          0,
          0,
          1,
          0,
          0,
          0,
          0,
          0,
          0,
          0,
          4,
          0,
          1,
          0,
          0,
          0,
          1,
          0,
          0,
          0,
          0,
          0,
          0,
          0,
          0,
          0,
          1,
          0,
          0,
          0,
          0,
          0,
          0,
          0,
          0,
          0,
          0,
          0,
          0,
          2,
          0,
          0,
          0,
          1,
          0,
          0,
          0,
          1,
          0,
          0,
          2,
          1,
          1,
          1,
          3,
          0,
          0,
          0,
          0,
          1,
          3,
          4,
          0,
          3,
          0,
          1,
          0,
          1,
          2,
          2,
          0,
          1,
          0,
          0,
          2,
          0,
          1,
          1,
          0,
          3,
          2,
          1,
          1,
          0,
          0,
          0,
          0,
          0,
          1,
          0,
          0,
          0,
          0,
          0,
          0,
          0,
          0,
          0,
          0,
          0,
          0,
          2,
          0,
          0,
          0,
          0,
          0,
          0,
          1,
          0,
          5,
          1,
          2,
          1,
          0,
          1,
          2,
          0,
          1,
          0,
          2,
          0,
          0,
          0,
          0,
          0,
          0,
          0,
          2,
          1,
          0,
          0,
          0,
          4,
          0,
          0,
          0,
          0,
          4,
          0,
          0,
          1,
          1,
          1,
          3,
          0,
          2,
          0,
          1,
          1,
          2,
          4,
          0,
          1,
          0,
          0,
          0,
          0,
          0,
          0,
          0,
          0,
          1,
          0,
          0,
          0,
          0,
          0,
          0,
          0,
          0,
          0,
          0,
          0,
          0,
          0,
          0,
          0,
          0,
          0,
          0,
          0,
          0,
          1,
          0,
          5,
          1,
          0,
          2,
          1,
          1,
          3,
          3,
          3,
          0,
          2,
          0,
          3,
          0,
          0,
          2,
          2,
          1,
          3,
          4,
          1,
          0,
          0,
          1,
          0,
          0,
          2,
          0,
          0,
          0,
          4,
          0,
          2,
          2,
          0,
          0,
          0,
          0,
          1,
          2,
          1,
          1,
          0,
          0,
          0,
          0,
          0,
          0,
          1,
          0,
          0,
          0,
          0,
          1,
          0,
          0,
          1,
          0,
          0,
          0,
          0,
          0,
          0,
          0,
          0,
          0,
          0,
          0,
          0,
          0,
          0,
          0,
          0,
          0,
          0,
          1,
          0,
          0,
          0,
          0,
          0,
          0,
          0,
          0,
          3,
          5,
          0,
          0,
          0,
          0,
          0,
          1,
          0,
          0,
          0,
          0,
          0,
          0,
          0,
          0,
          2,
          0,
          0,
          0,
          0,
          0,
          0,
          5,
          0,
          0,
          0,
          2,
          1,
          0,
          0,
          0,
          0,
          0,
          0,
          0,
          0,
          0,
          0,
          0,
          0,
          0,
          0,
          0,
          2,
          0,
          0,
          0,
          0,
          0,
          0,
          0,
          0,
          0,
          0,
          0,
          0,
          2,
          2,
          1,
          1,
          1,
          0,
          0,
          0,
          0,
          3,
          0,
          0,
          0,
          1,
          0,
          0,
          5,
          0,
          3,
          0,
          1,
          1,
          0,
          0,
          0,
          0,
          0,
          0,
          0,
          1,
          0,
          1,
          0,
          0,
          0,
          2,
          1,
          1,
          0,
          3,
          0,
          1,
          0,
          0,
          0,
          0,
          0,
          0,
          0,
          0,
          0,
          0,
          1,
          0,
          0,
          0,
          1,
          0,
          0,
          0,
          0,
          0,
          0,
          0,
          2,
          0,
          0,
          0,
          0,
          0,
          0,
          0,
          1,
          0,
          0,
          0,
          0,
          0,
          1,
          1,
          0,
          0,
          1,
          0,
          0,
          1,
          0,
          0,
          1,
          0,
          3,
          0,
          5,
          1,
          3,
          4,
          0,
          0,
          0,
          0,
          0,
          2,
          0,
          0,
          0,
          0,
          1,
          0,
          0,
          0,
          1,
          0,
          1,
          0,
          1,
          1,
          1,
          1,
          0,
          0,
          1,
          0,
          2,
          0,
          0,
          0,
          0,
          1,
          0,
          0,
          0,
          0,
          0,
          0,
          0,
          0,
          0,
          0,
          0,
          0,
          1,
          0,
          1,
          0,
          1,
          0,
          0,
          0,
          0,
          0,
          0,
          0,
          0,
          0,
          1,
          0,
          0,
          0,
          0,
          0,
          0,
          2,
          0,
          3,
          0,
          1,
          1,
          0,
          0,
          0,
          0,
          1,
          0,
          0,
          1,
          0,
          0,
          1,
          1,
          0,
          0,
          0,
          2,
          0,
          2,
          5,
          0,
          0,
          0,
          3,
          0,
          0,
          4,
          0,
          1,
          1,
          0,
          0,
          0,
          1,
          1,
          1,
          0,
          0,
          0,
          0,
          4,
          1,
          0,
          0,
          0,
          0,
          0,
          0,
          0,
          0,
          0,
          0,
          0,
          0,
          0,
          1,
          0,
          0,
          0,
          0,
          0,
          0,
          0,
          0,
          0,
          0,
          0,
          0,
          0,
          1,
          5,
          0,
          0,
          1,
          1,
          0,
          1,
          1,
          0,
          0,
          0,
          1,
          1,
          0,
          2,
          0,
          0,
          0,
          0,
          0,
          2,
          0,
          0,
          1,
          0,
          0,
          0,
          0,
          0,
          0,
          0,
          2,
          1,
          1,
          0,
          2,
          0,
          0,
          0,
          0,
          1,
          0,
          1,
          1,
          0,
          1,
          0,
          0,
          0,
          1,
          0,
          2,
          0,
          0,
          0,
          0,
          1,
          0,
          0,
          0,
          1,
          0,
          0,
          0,
          1,
          0,
          0,
          1,
          3,
          1,
          0,
          3,
          0,
          1,
          0,
          0,
          1,
          1,
          4,
          0,
          0,
          0,
          2,
          0,
          0,
          1,
          0,
          0,
          1,
          0,
          1,
          0,
          3,
          4,
          0,
          2,
          0,
          2,
          1,
          0,
          0,
          0,
          0,
          0,
          1,
          1,
          1,
          0,
          0,
          0,
          1,
          0,
          0,
          1,
          0,
          0,
          0,
          0,
          0,
          0,
          0,
          0,
          0,
          0,
          0,
          4,
          0,
          0,
          0,
          0,
          0,
          0,
          0,
          0,
          0,
          0,
          0,
          0,
          0,
          0,
          0,
          0,
          1,
          0,
          0,
          1,
          1,
          3,
          0,
          0,
          0,
          0,
          0,
          1,
          0,
          1,
          0,
          0,
          0,
          0,
          0,
          0,
          0,
          0,
          0,
          0,
          2,
          0,
          1,
          0,
          0,
          0,
          1,
          2,
          0,
          1,
          0,
          0,
          0,
          0,
          0,
          0,
          3,
          0,
          0,
          0,
          0,
          0,
          0,
          0,
          0,
          2,
          0,
          1,
          3,
          1,
          0,
          0,
          0,
          0,
          0,
          0,
          0,
          0,
          0,
          0,
          0,
          0,
          0,
          0,
          0,
          0,
          0,
          0,
          0,
          0,
          0,
          0,
          0,
          0,
          0,
          0,
          0,
          0,
          0,
          0,
          2,
          0,
          0,
          0,
          0,
          0,
          0,
          2,
          0,
          1,
          2,
          0,
          0,
          0,
          2,
          0,
          0,
          1,
          0,
          1,
          2,
          0,
          0,
          0,
          0,
          1,
          3,
          0,
          0,
          0,
          0,
          1,
          0,
          0,
          0,
          0,
          0,
          1,
          0,
          1,
          1,
          0,
          0,
          1,
          1,
          0,
          0,
          0,
          0,
          0,
          0,
          0,
          2,
          0,
          0,
          0,
          0,
          0,
          1,
          0,
          0,
          0,
          0,
          0,
          0,
          0,
          0,
          0,
          0,
          0,
          1,
          0,
          0,
          1,
          0,
          2,
          0,
          1,
          2,
          0,
          0,
          2,
          0,
          1,
          1,
          0,
          4,
          0,
          0,
          0,
          1,
          0,
          0,
          0,
          1,
          2,
          3,
          2,
          0,
          1,
          3,
          2,
          0,
          0,
          0,
          0,
          0,
          1,
          0,
          2,
          0,
          0,
          1,
          0,
          4,
          0,
          0,
          1,
          0,
          0,
          2,
          2,
          0,
          1,
          0,
          2,
          2,
          0,
          0,
          5,
          0,
          1,
          0,
          0,
          0,
          0,
          1,
          0,
          0,
          0,
          0,
          0,
          0,
          0,
          0,
          0,
          0,
          1,
          0,
          0,
          0,
          0,
          0,
          1,
          0,
          0,
          0,
          0,
          0,
          0,
          0,
          0,
          0,
          0,
          0,
          0,
          0,
          0,
          0,
          1,
          0,
          0,
          2,
          0,
          3,
          0,
          0,
          0,
          1,
          0,
          0,
          0,
          0,
          1,
          3,
          0,
          0,
          2,
          2,
          0,
          1,
          0,
          0,
          0,
          2,
          1,
          0,
          0,
          0,
          0,
          0,
          2,
          0,
          0,
          0,
          0,
          0,
          0,
          1,
          0,
          0,
          0,
          0,
          5,
          1,
          0,
          0,
          0,
          1,
          2,
          0,
          1,
          3,
          0,
          0,
          1,
          0,
          0,
          0,
          0,
          0,
          0,
          0,
          0,
          0,
          0,
          0,
          1,
          0,
          0,
          0,
          0,
          0,
          2,
          0,
          1,
          1,
          0,
          2,
          0,
          1,
          0,
          0,
          2,
          0,
          1,
          0,
          0,
          0,
          0,
          0,
          0,
          0,
          0,
          0,
          0,
          0,
          0,
          0,
          0,
          0,
          0,
          0,
          4,
          0,
          0,
          2,
          0,
          2,
          1,
          0,
          0,
          2,
          0,
          0,
          3,
          0,
          0,
          0,
          0,
          0,
          0,
          0,
          0,
          1,
          1,
          1,
          0,
          2,
          0,
          0,
          0,
          0,
          0,
          1,
          1,
          0,
          1,
          2,
          1,
          0,
          0,
          0,
          0,
          0,
          1,
          0,
          1,
          0,
          0,
          0,
          0,
          2,
          2,
          0,
          0,
          0,
          0,
          0,
          0,
          0,
          0,
          0,
          0,
          1,
          0,
          0,
          4,
          0,
          0,
          0,
          2,
          0,
          1,
          2,
          0,
          0,
          0,
          0,
          0,
          0,
          0,
          0,
          0,
          0,
          1,
          0,
          0,
          0,
          1,
          0,
          2,
          2,
          0,
          0,
          0,
          0,
          3,
          0,
          1,
          0,
          0,
          0,
          3,
          2,
          0,
          2,
          0,
          0,
          0,
          0,
          0,
          0,
          0,
          0,
          0,
          2,
          1,
          0,
          1,
          0,
          0,
          1,
          0,
          0,
          1,
          0,
          0,
          3,
          0,
          1,
          0,
          0,
          0,
          0,
          0,
          0,
          0,
          0,
          1,
          1,
          0,
          0,
          0,
          1,
          1,
          3,
          0,
          0,
          0,
          0,
          1,
          0,
          0,
          0,
          0,
          0,
          2,
          0,
          0,
          0,
          0,
          0,
          1,
          0,
          0,
          3,
          2,
          0,
          0,
          0,
          1,
          1,
          0,
          0,
          1,
          2,
          2,
          2,
          3,
          0,
          0,
          0,
          3,
          0,
          2,
          0,
          1,
          0,
          1,
          1,
          0,
          1,
          1,
          2,
          0,
          0,
          1,
          1,
          0,
          0,
          0,
          0,
          2,
          0,
          0,
          0,
          0,
          0,
          0,
          0,
          1,
          0,
          0,
          0,
          0,
          0,
          0,
          1,
          0,
          0,
          0,
          0,
          0,
          0,
          0,
          0,
          0,
          0,
          0,
          0,
          0,
          3,
          0,
          0,
          1,
          1,
          1,
          0,
          1,
          1,
          2,
          0,
          0,
          1,
          0,
          0,
          2,
          0,
          0,
          0,
          1,
          2,
          0,
          2,
          0,
          0,
          0,
          0,
          3,
          2,
          1,
          0,
          1,
          0,
          1,
          0,
          0,
          1,
          0,
          0,
          0,
          0,
          2,
          0,
          0,
          0,
          0,
          0,
          0,
          0,
          1,
          0,
          1,
          1,
          1,
          2,
          2,
          0,
          0,
          0,
          1,
          0,
          0,
          0,
          0,
          0,
          0,
          0,
          3,
          1,
          0,
          0,
          0,
          0,
          0,
          0,
          0,
          0,
          0,
          0,
          0,
          0,
          0,
          0,
          0,
          0,
          3,
          1,
          0,
          0,
          1,
          4,
          1,
          0,
          0,
          1,
          0,
          1,
          0,
          0,
          1,
          2,
          0,
          0,
          0,
          1,
          0,
          0,
          0,
          1,
          0,
          0,
          2,
          0,
          1,
          0,
          0,
          0,
          0,
          1,
          0,
          0,
          1,
          1,
          0,
          1,
          0,
          0,
          0,
          0,
          1,
          0,
          1,
          0,
          0,
          0,
          0,
          0,
          0,
          0,
          0,
          0,
          0,
          0,
          1,
          0,
          2,
          0,
          4,
          1,
          4,
          0,
          3,
          0,
          1,
          2,
          0,
          0,
          0,
          0,
          1,
          0,
          0,
          0,
          0,
          0,
          0,
          0,
          0,
          0,
          0,
          0,
          3,
          0,
          0,
          0,
          1,
          2,
          0,
          0,
          0,
          0,
          0,
          0,
          2,
          0,
          1,
          1,
          0,
          1,
          3,
          0,
          1,
          0,
          0,
          0,
          0,
          0,
          0,
          0,
          0,
          0,
          0,
          0,
          0,
          0,
          0,
          0,
          0,
          0,
          0,
          0,
          1,
          0,
          0,
          0,
          0,
          0,
          0,
          0,
          0,
          0,
          0,
          0,
          1,
          0,
          1,
          0,
          1,
          0,
          0,
          0,
          0,
          3,
          1,
          0,
          2,
          1,
          0,
          0,
          0,
          2,
          1,
          0,
          0,
          1,
          0,
          3,
          0,
          0,
          2,
          0,
          0,
          0,
          2,
          2,
          2,
          0,
          1,
          1,
          0,
          1,
          0,
          0,
          0,
          0,
          2,
          3,
          3,
          1,
          0,
          0,
          0,
          2,
          1,
          0,
          0,
          0,
          1,
          0,
          1,
          2,
          2,
          0,
          0,
          0,
          0,
          0,
          0,
          0,
          0,
          0,
          0,
          0,
          0,
          0,
          0,
          0,
          0,
          0,
          0,
          0,
          1,
          0,
          1,
          0,
          0,
          2,
          1,
          0,
          1,
          1,
          1,
          0,
          0,
          0,
          1,
          1,
          0,
          3,
          0,
          2,
          0,
          0,
          0,
          1,
          0,
          0,
          1,
          2,
          0,
          0,
          2,
          0,
          0,
          0,
          1,
          0,
          0,
          3,
          3,
          1,
          3,
          1,
          0,
          1,
          0,
          0,
          1,
          0,
          0,
          0,
          1,
          0,
          0,
          0,
          0,
          0,
          0,
          1,
          0,
          0,
          0,
          0,
          0,
          0,
          1,
          0,
          0,
          0,
          0,
          0,
          0,
          0,
          0,
          0,
          0,
          0,
          0,
          0,
          0,
          0,
          0,
          0,
          1,
          0,
          0,
          2,
          0,
          3,
          0,
          0,
          0,
          1,
          0,
          0,
          0,
          1,
          0,
          0,
          0,
          4,
          1,
          0,
          0,
          0,
          1,
          1,
          0,
          2,
          0,
          0,
          0,
          2,
          0,
          2,
          0,
          0,
          0,
          0,
          0,
          0,
          0,
          0,
          3,
          0,
          0,
          0,
          0,
          0,
          2,
          0,
          5,
          1,
          0,
          2,
          0,
          2,
          1,
          0,
          3,
          1,
          0,
          1,
          0,
          2,
          2,
          0,
          0,
          0,
          0,
          1,
          0,
          0,
          2,
          0,
          0,
          0,
          0,
          0,
          0,
          0,
          0,
          0,
          0,
          0,
          0,
          0,
          0,
          0,
          1,
          0,
          3,
          0,
          0,
          0,
          0,
          2,
          4,
          0,
          3,
          0,
          1,
          2,
          0,
          1,
          2,
          0,
          0,
          0,
          1,
          0,
          0,
          2,
          5,
          0,
          0,
          0,
          1,
          0,
          1,
          2,
          2,
          0,
          0,
          0,
          1,
          0,
          1,
          2,
          4,
          5,
          0,
          0,
          0,
          1,
          1,
          1,
          0,
          0,
          0,
          1,
          0,
          1,
          0,
          0,
          1,
          0,
          1,
          0,
          0,
          0,
          0,
          1,
          0,
          0,
          0,
          0,
          1,
          0,
          0,
          0,
          0,
          0,
          0,
          0,
          0,
          3,
          0,
          0,
          0,
          0,
          0,
          0,
          0,
          0,
          0,
          0,
          0,
          0,
          0,
          0,
          3,
          0,
          0,
          0,
          1,
          0,
          0,
          0,
          2,
          0,
          0,
          0,
          0,
          2,
          1,
          0,
          0,
          0,
          0,
          0,
          0,
          0,
          0,
          2,
          0,
          0,
          0,
          0,
          3,
          2,
          0,
          0,
          2,
          0,
          3,
          0,
          1,
          0,
          1,
          2,
          0,
          0
         ],
         "y0": " ",
         "yaxis": "y"
        }
       ],
       "layout": {
        "boxmode": "group",
        "legend": {
         "tracegroupgap": 0
        },
        "margin": {
         "t": 60
        },
        "template": {
         "data": {
          "bar": [
           {
            "error_x": {
             "color": "#2a3f5f"
            },
            "error_y": {
             "color": "#2a3f5f"
            },
            "marker": {
             "line": {
              "color": "#E5ECF6",
              "width": 0.5
             },
             "pattern": {
              "fillmode": "overlay",
              "size": 10,
              "solidity": 0.2
             }
            },
            "type": "bar"
           }
          ],
          "barpolar": [
           {
            "marker": {
             "line": {
              "color": "#E5ECF6",
              "width": 0.5
             },
             "pattern": {
              "fillmode": "overlay",
              "size": 10,
              "solidity": 0.2
             }
            },
            "type": "barpolar"
           }
          ],
          "carpet": [
           {
            "aaxis": {
             "endlinecolor": "#2a3f5f",
             "gridcolor": "white",
             "linecolor": "white",
             "minorgridcolor": "white",
             "startlinecolor": "#2a3f5f"
            },
            "baxis": {
             "endlinecolor": "#2a3f5f",
             "gridcolor": "white",
             "linecolor": "white",
             "minorgridcolor": "white",
             "startlinecolor": "#2a3f5f"
            },
            "type": "carpet"
           }
          ],
          "choropleth": [
           {
            "colorbar": {
             "outlinewidth": 0,
             "ticks": ""
            },
            "type": "choropleth"
           }
          ],
          "contour": [
           {
            "colorbar": {
             "outlinewidth": 0,
             "ticks": ""
            },
            "colorscale": [
             [
              0,
              "#0d0887"
             ],
             [
              0.1111111111111111,
              "#46039f"
             ],
             [
              0.2222222222222222,
              "#7201a8"
             ],
             [
              0.3333333333333333,
              "#9c179e"
             ],
             [
              0.4444444444444444,
              "#bd3786"
             ],
             [
              0.5555555555555556,
              "#d8576b"
             ],
             [
              0.6666666666666666,
              "#ed7953"
             ],
             [
              0.7777777777777778,
              "#fb9f3a"
             ],
             [
              0.8888888888888888,
              "#fdca26"
             ],
             [
              1,
              "#f0f921"
             ]
            ],
            "type": "contour"
           }
          ],
          "contourcarpet": [
           {
            "colorbar": {
             "outlinewidth": 0,
             "ticks": ""
            },
            "type": "contourcarpet"
           }
          ],
          "heatmap": [
           {
            "colorbar": {
             "outlinewidth": 0,
             "ticks": ""
            },
            "colorscale": [
             [
              0,
              "#0d0887"
             ],
             [
              0.1111111111111111,
              "#46039f"
             ],
             [
              0.2222222222222222,
              "#7201a8"
             ],
             [
              0.3333333333333333,
              "#9c179e"
             ],
             [
              0.4444444444444444,
              "#bd3786"
             ],
             [
              0.5555555555555556,
              "#d8576b"
             ],
             [
              0.6666666666666666,
              "#ed7953"
             ],
             [
              0.7777777777777778,
              "#fb9f3a"
             ],
             [
              0.8888888888888888,
              "#fdca26"
             ],
             [
              1,
              "#f0f921"
             ]
            ],
            "type": "heatmap"
           }
          ],
          "heatmapgl": [
           {
            "colorbar": {
             "outlinewidth": 0,
             "ticks": ""
            },
            "colorscale": [
             [
              0,
              "#0d0887"
             ],
             [
              0.1111111111111111,
              "#46039f"
             ],
             [
              0.2222222222222222,
              "#7201a8"
             ],
             [
              0.3333333333333333,
              "#9c179e"
             ],
             [
              0.4444444444444444,
              "#bd3786"
             ],
             [
              0.5555555555555556,
              "#d8576b"
             ],
             [
              0.6666666666666666,
              "#ed7953"
             ],
             [
              0.7777777777777778,
              "#fb9f3a"
             ],
             [
              0.8888888888888888,
              "#fdca26"
             ],
             [
              1,
              "#f0f921"
             ]
            ],
            "type": "heatmapgl"
           }
          ],
          "histogram": [
           {
            "marker": {
             "pattern": {
              "fillmode": "overlay",
              "size": 10,
              "solidity": 0.2
             }
            },
            "type": "histogram"
           }
          ],
          "histogram2d": [
           {
            "colorbar": {
             "outlinewidth": 0,
             "ticks": ""
            },
            "colorscale": [
             [
              0,
              "#0d0887"
             ],
             [
              0.1111111111111111,
              "#46039f"
             ],
             [
              0.2222222222222222,
              "#7201a8"
             ],
             [
              0.3333333333333333,
              "#9c179e"
             ],
             [
              0.4444444444444444,
              "#bd3786"
             ],
             [
              0.5555555555555556,
              "#d8576b"
             ],
             [
              0.6666666666666666,
              "#ed7953"
             ],
             [
              0.7777777777777778,
              "#fb9f3a"
             ],
             [
              0.8888888888888888,
              "#fdca26"
             ],
             [
              1,
              "#f0f921"
             ]
            ],
            "type": "histogram2d"
           }
          ],
          "histogram2dcontour": [
           {
            "colorbar": {
             "outlinewidth": 0,
             "ticks": ""
            },
            "colorscale": [
             [
              0,
              "#0d0887"
             ],
             [
              0.1111111111111111,
              "#46039f"
             ],
             [
              0.2222222222222222,
              "#7201a8"
             ],
             [
              0.3333333333333333,
              "#9c179e"
             ],
             [
              0.4444444444444444,
              "#bd3786"
             ],
             [
              0.5555555555555556,
              "#d8576b"
             ],
             [
              0.6666666666666666,
              "#ed7953"
             ],
             [
              0.7777777777777778,
              "#fb9f3a"
             ],
             [
              0.8888888888888888,
              "#fdca26"
             ],
             [
              1,
              "#f0f921"
             ]
            ],
            "type": "histogram2dcontour"
           }
          ],
          "mesh3d": [
           {
            "colorbar": {
             "outlinewidth": 0,
             "ticks": ""
            },
            "type": "mesh3d"
           }
          ],
          "parcoords": [
           {
            "line": {
             "colorbar": {
              "outlinewidth": 0,
              "ticks": ""
             }
            },
            "type": "parcoords"
           }
          ],
          "pie": [
           {
            "automargin": true,
            "type": "pie"
           }
          ],
          "scatter": [
           {
            "fillpattern": {
             "fillmode": "overlay",
             "size": 10,
             "solidity": 0.2
            },
            "type": "scatter"
           }
          ],
          "scatter3d": [
           {
            "line": {
             "colorbar": {
              "outlinewidth": 0,
              "ticks": ""
             }
            },
            "marker": {
             "colorbar": {
              "outlinewidth": 0,
              "ticks": ""
             }
            },
            "type": "scatter3d"
           }
          ],
          "scattercarpet": [
           {
            "marker": {
             "colorbar": {
              "outlinewidth": 0,
              "ticks": ""
             }
            },
            "type": "scattercarpet"
           }
          ],
          "scattergeo": [
           {
            "marker": {
             "colorbar": {
              "outlinewidth": 0,
              "ticks": ""
             }
            },
            "type": "scattergeo"
           }
          ],
          "scattergl": [
           {
            "marker": {
             "colorbar": {
              "outlinewidth": 0,
              "ticks": ""
             }
            },
            "type": "scattergl"
           }
          ],
          "scattermapbox": [
           {
            "marker": {
             "colorbar": {
              "outlinewidth": 0,
              "ticks": ""
             }
            },
            "type": "scattermapbox"
           }
          ],
          "scatterpolar": [
           {
            "marker": {
             "colorbar": {
              "outlinewidth": 0,
              "ticks": ""
             }
            },
            "type": "scatterpolar"
           }
          ],
          "scatterpolargl": [
           {
            "marker": {
             "colorbar": {
              "outlinewidth": 0,
              "ticks": ""
             }
            },
            "type": "scatterpolargl"
           }
          ],
          "scatterternary": [
           {
            "marker": {
             "colorbar": {
              "outlinewidth": 0,
              "ticks": ""
             }
            },
            "type": "scatterternary"
           }
          ],
          "surface": [
           {
            "colorbar": {
             "outlinewidth": 0,
             "ticks": ""
            },
            "colorscale": [
             [
              0,
              "#0d0887"
             ],
             [
              0.1111111111111111,
              "#46039f"
             ],
             [
              0.2222222222222222,
              "#7201a8"
             ],
             [
              0.3333333333333333,
              "#9c179e"
             ],
             [
              0.4444444444444444,
              "#bd3786"
             ],
             [
              0.5555555555555556,
              "#d8576b"
             ],
             [
              0.6666666666666666,
              "#ed7953"
             ],
             [
              0.7777777777777778,
              "#fb9f3a"
             ],
             [
              0.8888888888888888,
              "#fdca26"
             ],
             [
              1,
              "#f0f921"
             ]
            ],
            "type": "surface"
           }
          ],
          "table": [
           {
            "cells": {
             "fill": {
              "color": "#EBF0F8"
             },
             "line": {
              "color": "white"
             }
            },
            "header": {
             "fill": {
              "color": "#C8D4E3"
             },
             "line": {
              "color": "white"
             }
            },
            "type": "table"
           }
          ]
         },
         "layout": {
          "annotationdefaults": {
           "arrowcolor": "#2a3f5f",
           "arrowhead": 0,
           "arrowwidth": 1
          },
          "autotypenumbers": "strict",
          "coloraxis": {
           "colorbar": {
            "outlinewidth": 0,
            "ticks": ""
           }
          },
          "colorscale": {
           "diverging": [
            [
             0,
             "#8e0152"
            ],
            [
             0.1,
             "#c51b7d"
            ],
            [
             0.2,
             "#de77ae"
            ],
            [
             0.3,
             "#f1b6da"
            ],
            [
             0.4,
             "#fde0ef"
            ],
            [
             0.5,
             "#f7f7f7"
            ],
            [
             0.6,
             "#e6f5d0"
            ],
            [
             0.7,
             "#b8e186"
            ],
            [
             0.8,
             "#7fbc41"
            ],
            [
             0.9,
             "#4d9221"
            ],
            [
             1,
             "#276419"
            ]
           ],
           "sequential": [
            [
             0,
             "#0d0887"
            ],
            [
             0.1111111111111111,
             "#46039f"
            ],
            [
             0.2222222222222222,
             "#7201a8"
            ],
            [
             0.3333333333333333,
             "#9c179e"
            ],
            [
             0.4444444444444444,
             "#bd3786"
            ],
            [
             0.5555555555555556,
             "#d8576b"
            ],
            [
             0.6666666666666666,
             "#ed7953"
            ],
            [
             0.7777777777777778,
             "#fb9f3a"
            ],
            [
             0.8888888888888888,
             "#fdca26"
            ],
            [
             1,
             "#f0f921"
            ]
           ],
           "sequentialminus": [
            [
             0,
             "#0d0887"
            ],
            [
             0.1111111111111111,
             "#46039f"
            ],
            [
             0.2222222222222222,
             "#7201a8"
            ],
            [
             0.3333333333333333,
             "#9c179e"
            ],
            [
             0.4444444444444444,
             "#bd3786"
            ],
            [
             0.5555555555555556,
             "#d8576b"
            ],
            [
             0.6666666666666666,
             "#ed7953"
            ],
            [
             0.7777777777777778,
             "#fb9f3a"
            ],
            [
             0.8888888888888888,
             "#fdca26"
            ],
            [
             1,
             "#f0f921"
            ]
           ]
          },
          "colorway": [
           "#636efa",
           "#EF553B",
           "#00cc96",
           "#ab63fa",
           "#FFA15A",
           "#19d3f3",
           "#FF6692",
           "#B6E880",
           "#FF97FF",
           "#FECB52"
          ],
          "font": {
           "color": "#2a3f5f"
          },
          "geo": {
           "bgcolor": "white",
           "lakecolor": "white",
           "landcolor": "#E5ECF6",
           "showlakes": true,
           "showland": true,
           "subunitcolor": "white"
          },
          "hoverlabel": {
           "align": "left"
          },
          "hovermode": "closest",
          "mapbox": {
           "style": "light"
          },
          "paper_bgcolor": "white",
          "plot_bgcolor": "#E5ECF6",
          "polar": {
           "angularaxis": {
            "gridcolor": "white",
            "linecolor": "white",
            "ticks": ""
           },
           "bgcolor": "#E5ECF6",
           "radialaxis": {
            "gridcolor": "white",
            "linecolor": "white",
            "ticks": ""
           }
          },
          "scene": {
           "xaxis": {
            "backgroundcolor": "#E5ECF6",
            "gridcolor": "white",
            "gridwidth": 2,
            "linecolor": "white",
            "showbackground": true,
            "ticks": "",
            "zerolinecolor": "white"
           },
           "yaxis": {
            "backgroundcolor": "#E5ECF6",
            "gridcolor": "white",
            "gridwidth": 2,
            "linecolor": "white",
            "showbackground": true,
            "ticks": "",
            "zerolinecolor": "white"
           },
           "zaxis": {
            "backgroundcolor": "#E5ECF6",
            "gridcolor": "white",
            "gridwidth": 2,
            "linecolor": "white",
            "showbackground": true,
            "ticks": "",
            "zerolinecolor": "white"
           }
          },
          "shapedefaults": {
           "line": {
            "color": "#2a3f5f"
           }
          },
          "ternary": {
           "aaxis": {
            "gridcolor": "white",
            "linecolor": "white",
            "ticks": ""
           },
           "baxis": {
            "gridcolor": "white",
            "linecolor": "white",
            "ticks": ""
           },
           "bgcolor": "#E5ECF6",
           "caxis": {
            "gridcolor": "white",
            "linecolor": "white",
            "ticks": ""
           }
          },
          "title": {
           "x": 0.05
          },
          "xaxis": {
           "automargin": true,
           "gridcolor": "white",
           "linecolor": "white",
           "ticks": "",
           "title": {
            "standoff": 15
           },
           "zerolinecolor": "white",
           "zerolinewidth": 2
          },
          "yaxis": {
           "automargin": true,
           "gridcolor": "white",
           "linecolor": "white",
           "ticks": "",
           "title": {
            "standoff": 15
           },
           "zerolinecolor": "white",
           "zerolinewidth": 2
          }
         }
        },
        "xaxis": {
         "anchor": "y",
         "domain": [
          0,
          1
         ],
         "title": {
          "text": "Driver"
         }
        },
        "yaxis": {
         "anchor": "x",
         "domain": [
          0,
          1
         ],
         "title": {
          "text": "# Defenders Passed"
         }
        }
       }
      }
     },
     "metadata": {},
     "output_type": "display_data"
    }
   ],
   "source": [
    "f2 = px.box(pass_df, x='Passer', y='# Defenders Passed')\n",
    "fig.update_layout(width=1200, height=500, title='On the Pass') #template='plotly_dark',\n",
    "#plt.xticks(rotation=90)\n",
    "f2.show()\n",
    "\n",
    "f3 = px.box(drive_df, x='Driver', y='# Defenders Passed')\n",
    "fig.update_layout(width=1200, height=500, title='On the Drive') \n",
    "#plt.xticks(rotation=90)\n",
    "f3.show()"
   ]
  },
  {
   "cell_type": "code",
   "execution_count": null,
   "metadata": {},
   "outputs": [],
   "source": []
  },
  {
   "cell_type": "markdown",
   "metadata": {},
   "source": [
    "Look at stats by team based on the transition trigger"
   ]
  },
  {
   "cell_type": "code",
   "execution_count": 57,
   "metadata": {},
   "outputs": [
    {
     "data": {
      "text/plain": [
       "<Axes: xlabel='Team Name'>"
      ]
     },
     "execution_count": 57,
     "metadata": {},
     "output_type": "execute_result"
    },
    {
     "data": {
      "image/png": "[encoded data removed]",
      "text/plain": [
       "<Figure size 640x480 with 1 Axes>"
      ]
     },
     "metadata": {},
     "output_type": "display_data"
    }
   ],
   "source": [
    "pass_df.groupby(['Team Name','Transition Trigger'])['# Defenders Passed'].count().unstack('Transition Trigger').plot.bar()"
   ]
  },
  {
   "cell_type": "code",
   "execution_count": 56,
   "metadata": {},
   "outputs": [
    {
     "data": {
      "text/plain": [
       "<Axes: xlabel='Team Name'>"
      ]
     },
     "execution_count": 56,
     "metadata": {},
     "output_type": "execute_result"
    },
    {
     "data": {
      "image/png": "[encoded data removed]",
      "text/plain": [
       "<Figure size 640x480 with 1 Axes>"
      ]
     },
     "metadata": {},
     "output_type": "display_data"
    },
    {
     "data": {
      "image/png": "[encoded data removed]",
      "text/plain": [
       "<Figure size 640x480 with 1 Axes>"
      ]
     },
     "metadata": {},
     "output_type": "display_data"
    }
   ],
   "source": [
    "pass_df.groupby(['Team Name', 'Outcome'])['# Defenders Passed'].count().unstack('Outcome').plot.bar()\n",
    "drive_df.groupby(['Team Name', 'Outcome'])['# Defenders Passed'].count().unstack('Outcome').plot.bar()"
   ]
  },
  {
   "cell_type": "code",
   "execution_count": 51,
   "metadata": {},
   "outputs": [
    {
     "data": {
      "text/plain": [
       "<Axes: xlabel='Team Name,Transition Trigger'>"
      ]
     },
     "execution_count": 51,
     "metadata": {},
     "output_type": "execute_result"
    },
    {
     "data": {
      "image/png": "[encoded data removed]",
      "text/plain": [
       "<Figure size 640x480 with 1 Axes>"
      ]
     },
     "metadata": {},
     "output_type": "display_data"
    }
   ],
   "source": [
    "def_passed_means_team.plot(x='Team Name', kind='bar')"
   ]
  },
  {
   "cell_type": "code",
   "execution_count": 37,
   "metadata": {},
   "outputs": [
    {
     "ename": "TypeError",
     "evalue": "Argument 'x' is a pandas MultiIndex. pandas MultiIndex is not supported by plotly express at the moment.",
     "output_type": "error",
     "traceback": [
      "\u001b[0;31m---------------------------------------------------------------------------\u001b[0m",
      "\u001b[0;31mTypeError\u001b[0m                                 Traceback (most recent call last)",
      "Cell \u001b[0;32mIn[37], line 1\u001b[0m\n\u001b[0;32m----> 1\u001b[0m fig \u001b[39m=\u001b[39m px\u001b[39m.\u001b[39;49mscatter(x \u001b[39m=\u001b[39;49m def_passed_means_team\u001b[39m.\u001b[39;49mindex, y \u001b[39m=\u001b[39;49m def_passed_means_team\u001b[39m.\u001b[39;49mvalues)\n\u001b[1;32m      2\u001b[0m fig\u001b[39m.\u001b[39mupdate_layout(width\u001b[39m=\u001b[39m\u001b[39m800\u001b[39m, height\u001b[39m=\u001b[39m\u001b[39m600\u001b[39m,  \n\u001b[1;32m      3\u001b[0m                   title\u001b[39m=\u001b[39m\u001b[39m'\u001b[39m\u001b[39mMean Defenders Passed On the Pass by Team\u001b[39m\u001b[39m'\u001b[39m, title_x\u001b[39m=\u001b[39m\u001b[39m0.5\u001b[39m,\n\u001b[1;32m      4\u001b[0m                   xaxis_title\u001b[39m=\u001b[39m\u001b[39m\"\u001b[39m\u001b[39mTeam\u001b[39m\u001b[39m\"\u001b[39m) \u001b[39m#template='plotly_dark',\u001b[39;00m\n\u001b[1;32m      5\u001b[0m \u001b[39m#fig.update_traces(textfont_size=11, marker=dict(size=10), textposition=improve_text_position(df['reb']))\u001b[39;00m\n",
      "File \u001b[0;32m~/Documents/basketball_research/wisd-hackathon/.venv/lib/python3.8/site-packages/plotly/express/_chart_types.py:66\u001b[0m, in \u001b[0;36mscatter\u001b[0;34m(data_frame, x, y, color, symbol, size, hover_name, hover_data, custom_data, text, facet_row, facet_col, facet_col_wrap, facet_row_spacing, facet_col_spacing, error_x, error_x_minus, error_y, error_y_minus, animation_frame, animation_group, category_orders, labels, orientation, color_discrete_sequence, color_discrete_map, color_continuous_scale, range_color, color_continuous_midpoint, symbol_sequence, symbol_map, opacity, size_max, marginal_x, marginal_y, trendline, trendline_options, trendline_color_override, trendline_scope, log_x, log_y, range_x, range_y, render_mode, title, template, width, height)\u001b[0m\n\u001b[1;32m     12\u001b[0m \u001b[39mdef\u001b[39;00m \u001b[39mscatter\u001b[39m(\n\u001b[1;32m     13\u001b[0m     data_frame\u001b[39m=\u001b[39m\u001b[39mNone\u001b[39;00m,\n\u001b[1;32m     14\u001b[0m     x\u001b[39m=\u001b[39m\u001b[39mNone\u001b[39;00m,\n\u001b[0;32m   (...)\u001b[0m\n\u001b[1;32m     60\u001b[0m     height\u001b[39m=\u001b[39m\u001b[39mNone\u001b[39;00m,\n\u001b[1;32m     61\u001b[0m ) \u001b[39m-\u001b[39m\u001b[39m>\u001b[39m go\u001b[39m.\u001b[39mFigure:\n\u001b[1;32m     62\u001b[0m \u001b[39m    \u001b[39m\u001b[39m\"\"\"\u001b[39;00m\n\u001b[1;32m     63\u001b[0m \u001b[39m    In a scatter plot, each row of `data_frame` is represented by a symbol\u001b[39;00m\n\u001b[1;32m     64\u001b[0m \u001b[39m    mark in 2D space.\u001b[39;00m\n\u001b[1;32m     65\u001b[0m \u001b[39m    \"\"\"\u001b[39;00m\n\u001b[0;32m---> 66\u001b[0m     \u001b[39mreturn\u001b[39;00m make_figure(args\u001b[39m=\u001b[39;49m\u001b[39mlocals\u001b[39;49m(), constructor\u001b[39m=\u001b[39;49mgo\u001b[39m.\u001b[39;49mScatter)\n",
      "File \u001b[0;32m~/Documents/basketball_research/wisd-hackathon/.venv/lib/python3.8/site-packages/plotly/express/_core.py:2003\u001b[0m, in \u001b[0;36mmake_figure\u001b[0;34m(args, constructor, trace_patch, layout_patch)\u001b[0m\n\u001b[1;32m   2000\u001b[0m layout_patch \u001b[39m=\u001b[39m layout_patch \u001b[39mor\u001b[39;00m {}\n\u001b[1;32m   2001\u001b[0m apply_default_cascade(args)\n\u001b[0;32m-> 2003\u001b[0m args \u001b[39m=\u001b[39m build_dataframe(args, constructor)\n\u001b[1;32m   2004\u001b[0m \u001b[39mif\u001b[39;00m constructor \u001b[39min\u001b[39;00m [go\u001b[39m.\u001b[39mTreemap, go\u001b[39m.\u001b[39mSunburst, go\u001b[39m.\u001b[39mIcicle] \u001b[39mand\u001b[39;00m args[\u001b[39m\"\u001b[39m\u001b[39mpath\u001b[39m\u001b[39m\"\u001b[39m] \u001b[39mis\u001b[39;00m \u001b[39mnot\u001b[39;00m \u001b[39mNone\u001b[39;00m:\n\u001b[1;32m   2005\u001b[0m     args \u001b[39m=\u001b[39m process_dataframe_hierarchy(args)\n",
      "File \u001b[0;32m~/Documents/basketball_research/wisd-hackathon/.venv/lib/python3.8/site-packages/plotly/express/_core.py:1412\u001b[0m, in \u001b[0;36mbuild_dataframe\u001b[0;34m(args, constructor)\u001b[0m\n\u001b[1;32m   1409\u001b[0m     args[\u001b[39m\"\u001b[39m\u001b[39mcolor\u001b[39m\u001b[39m\"\u001b[39m] \u001b[39m=\u001b[39m \u001b[39mNone\u001b[39;00m\n\u001b[1;32m   1410\u001b[0m \u001b[39m# now that things have been prepped, we do the systematic rewriting of `args`\u001b[39;00m\n\u001b[0;32m-> 1412\u001b[0m df_output, wide_id_vars \u001b[39m=\u001b[39m process_args_into_dataframe(\n\u001b[1;32m   1413\u001b[0m     args, wide_mode, var_name, value_name\n\u001b[1;32m   1414\u001b[0m )\n\u001b[1;32m   1416\u001b[0m \u001b[39m# now that `df_output` exists and `args` contains only references, we complete\u001b[39;00m\n\u001b[1;32m   1417\u001b[0m \u001b[39m# the special-case and wide-mode handling by further rewriting args and/or mutating\u001b[39;00m\n\u001b[1;32m   1418\u001b[0m \u001b[39m# df_output\u001b[39;00m\n\u001b[1;32m   1420\u001b[0m count_name \u001b[39m=\u001b[39m _escape_col_name(df_output, \u001b[39m\"\u001b[39m\u001b[39mcount\u001b[39m\u001b[39m\"\u001b[39m, [var_name, value_name])\n",
      "File \u001b[0;32m~/Documents/basketball_research/wisd-hackathon/.venv/lib/python3.8/site-packages/plotly/express/_core.py:1149\u001b[0m, in \u001b[0;36mprocess_args_into_dataframe\u001b[0;34m(args, wide_mode, var_name, value_name)\u001b[0m\n\u001b[1;32m   1147\u001b[0m \u001b[39m# Case of multiindex\u001b[39;00m\n\u001b[1;32m   1148\u001b[0m \u001b[39mif\u001b[39;00m \u001b[39misinstance\u001b[39m(argument, pd\u001b[39m.\u001b[39mMultiIndex):\n\u001b[0;32m-> 1149\u001b[0m     \u001b[39mraise\u001b[39;00m \u001b[39mTypeError\u001b[39;00m(\n\u001b[1;32m   1150\u001b[0m         \u001b[39m\"\u001b[39m\u001b[39mArgument \u001b[39m\u001b[39m'\u001b[39m\u001b[39m%s\u001b[39;00m\u001b[39m'\u001b[39m\u001b[39m is a pandas MultiIndex. \u001b[39m\u001b[39m\"\u001b[39m\n\u001b[1;32m   1151\u001b[0m         \u001b[39m\"\u001b[39m\u001b[39mpandas MultiIndex is not supported by plotly express \u001b[39m\u001b[39m\"\u001b[39m\n\u001b[1;32m   1152\u001b[0m         \u001b[39m\"\u001b[39m\u001b[39mat the moment.\u001b[39m\u001b[39m\"\u001b[39m \u001b[39m%\u001b[39m field\n\u001b[1;32m   1153\u001b[0m     )\n\u001b[1;32m   1154\u001b[0m \u001b[39m# ----------------- argument is a special value ----------------------\u001b[39;00m\n\u001b[1;32m   1155\u001b[0m \u001b[39mif\u001b[39;00m \u001b[39misinstance\u001b[39m(argument, Constant) \u001b[39mor\u001b[39;00m \u001b[39misinstance\u001b[39m(argument, Range):\n",
      "\u001b[0;31mTypeError\u001b[0m: Argument 'x' is a pandas MultiIndex. pandas MultiIndex is not supported by plotly express at the moment."
     ]
    }
   ],
   "source": [
    "fig = px.scatter(x = def_passed_means_team.index, y = def_passed_means_team.values)\n",
    "fig.update_layout(width=800, height=600,  \n",
    "                  title='Mean Defenders Passed On the Pass by Team', title_x=0.5,\n",
    "                  xaxis_title=\"Team\") #template='plotly_dark',\n",
    "#fig.update_traces(textfont_size=11, marker=dict(size=10), textposition=improve_text_position(df['reb']))\n",
    "fig.show()\n",
    "\n",
    "# fig = px.scatter(x = def_drive_means_team.index, y = def_drive_means_team.values)\n",
    "# fig.update_layout(width=800, height=600,  \n",
    "#                   title='Mean Defenders Passed On the Drive by Team', title_x=0.5,\n",
    "#                   xaxis_title=\"Team\") #template='plotly_dark',\n",
    "# #fig.update_traces(textfont_size=11, marker=dict(size=10), textposition=improve_text_position(df['reb']))\n",
    "# fig.show()"
   ]
  },
  {
   "cell_type": "code",
   "execution_count": null,
   "metadata": {},
   "outputs": [],
   "source": []
  }
 ],
 "metadata": {
  "kernelspec": {
   "display_name": ".venv",
   "language": "python",
   "name": "python3"
  },
  "language_info": {
   "codemirror_mode": {
    "name": "ipython",
    "version": 3
   },
   "file_extension": ".py",
   "mimetype": "text/x-python",
   "name": "python",
   "nbconvert_exporter": "python",
   "pygments_lexer": "ipython3",
   "version": "3.8.5"
  },
  "orig_nbformat": 4
 },
 "nbformat": 4,
 "nbformat_minor": 2
}
